{
 "cells": [
  {
   "cell_type": "markdown",
   "metadata": {},
   "source": [
    "# Hilfe zur Selbsthilfe\n",
    "\n",
    "## Links zur Python Documentation\n",
    "\n",
    "[https://www.python.org/doc/](https://www.python.org/doc/)\n",
    "\n",
    "[https://docs.python.org/release/3.10.4/](https://docs.python.org/release/3.10.4/)\n",
    "\n",
    "### Übersicht built-in Functions\n",
    "\n",
    "[https://docs.python.org/3/library/functions.html](https://docs.python.org/3/library/functions.html)\n",
    "\n",
    "### General Index und Glossar\n",
    "\n",
    "[https://docs.python.org/3/genindex.html](https://docs.python.org/3/genindex.html)\n",
    "\n",
    "[https://docs.python.org/3/glossary.html](https://docs.python.org/3/glossary.html)\n",
    "\n",
    "## PEP Python Enhancement Proposals\n",
    "\n",
    "[https://peps.python.org/](https://peps.python.org/)\n",
    "\n",
    "[PEP 8 – Style Guide for Python Code](https://peps.python.org/pep-0008/)\n",
    "\n",
    "## Links Python Community\n",
    "\n",
    "[https://www.python.org/community/](https://www.python.org/community/)\n",
    "\n",
    "[https://www.python-forum.de/](https://www.python-forum.de/)\n",
    "\n",
    "[https://stackoverflow.com/](https://stackoverflow.com/)\n",
    "\n",
    "## Tutorials\n",
    "\n",
    "[learnpython.org](https://www.learnpython.org/)\n",
    "\n",
    "[https://realpython.com/](https://realpython.com/)\n",
    "\n",
    "[https://docs.python.org/3/tutorial/](https://docs.python.org/3/tutorial/)\n",
    "\n",
    "[https://www.python-kurs.eu/](https://www.python-kurs.eu/)\n",
    "\n",
    "[https://programminghistorian.org/lessons/?topic=python](https://programminghistorian.org/lessons/?topic=python)"
   ]
  },
  {
   "cell_type": "markdown",
   "metadata": {},
   "source": [
    "## Help-Function"
   ]
  },
  {
   "cell_type": "code",
   "execution_count": 1,
   "metadata": {},
   "outputs": [
    {
     "name": "stdout",
     "output_type": "stream",
     "text": [
      "Help on built-in function len in module builtins:\n",
      "\n",
      "len(obj, /)\n",
      "    Return the number of items in a container.\n",
      "\n"
     ]
    }
   ],
   "source": [
    "help(len)"
   ]
  },
  {
   "cell_type": "code",
   "execution_count": 2,
   "metadata": {},
   "outputs": [
    {
     "name": "stdout",
     "output_type": "stream",
     "text": [
      "Help on built-in function sum in module builtins:\n",
      "\n",
      "sum(iterable, /, start=0)\n",
      "    Return the sum of a 'start' value (default: 0) plus an iterable of numbers\n",
      "    \n",
      "    When the iterable is empty, return the start value.\n",
      "    This function is intended specifically for use with numeric values and may\n",
      "    reject non-numeric types.\n",
      "\n"
     ]
    }
   ],
   "source": [
    "help(sum)"
   ]
  },
  {
   "cell_type": "markdown",
   "metadata": {},
   "source": [
    "## Autovervollständigung\n",
    "\n",
    "Viele Editoren bieten einen Autorvervollständigung: Wenn Sie z.B. den Punkt tippen, der eine Methode einleitet, werden verschiedene mögliche Methoden eingeblendet. Mit Hilfe der Pfeiltasten, kann dann die gewünschte Methode ausgewählt werden."
   ]
  },
  {
   "cell_type": "code",
   "execution_count": 4,
   "metadata": {},
   "outputs": [],
   "source": [
    "x = 'Text'"
   ]
  },
  {
   "cell_type": "code",
   "execution_count": 5,
   "metadata": {},
   "outputs": [
    {
     "data": {
      "text/plain": [
       "'text'"
      ]
     },
     "execution_count": 5,
     "metadata": {},
     "output_type": "execute_result"
    }
   ],
   "source": [
    "x.lower()"
   ]
  },
  {
   "cell_type": "code",
   "execution_count": null,
   "metadata": {},
   "outputs": [],
   "source": []
  }
 ],
 "metadata": {
  "interpreter": {
   "hash": "88af0ede569fe5c04062aeb490d0f03883bc9347bee31fbe08a2787a335dbcd5"
  },
  "kernelspec": {
   "display_name": "Python 3.8.12 ('base')",
   "language": "python",
   "name": "python3"
  },
  "language_info": {
   "codemirror_mode": {
    "name": "ipython",
    "version": 3
   },
   "file_extension": ".py",
   "mimetype": "text/x-python",
   "name": "python",
   "nbconvert_exporter": "python",
   "pygments_lexer": "ipython3",
   "version": "3.8.12"
  },
  "orig_nbformat": 4
 },
 "nbformat": 4,
 "nbformat_minor": 2
}
