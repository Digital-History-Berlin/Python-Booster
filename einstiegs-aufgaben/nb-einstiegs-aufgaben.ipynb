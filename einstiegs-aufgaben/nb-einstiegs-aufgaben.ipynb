{
 "cells": [
  {
   "cell_type": "markdown",
   "metadata": {
    "id": "yk_k1jI5oZmW"
   },
   "source": [
    "# Einstiegsaufgaben\n",
    "\n",
    "Hier finden Sie ein paar Aufgaben, mit denen Sie Ihren Kenntnisstand zur Programmierung mit Python prüfen können. Arbeiten Sie die Aufgaben *nacheinander* durch (einige Aufgaben bauen aufeinander auf) und schauen Sie, wie weit Sie in der vorgegebenen Zeit kommen (etwa 60 Minuten).\n",
    "\n",
    "Zur Bearbeitung der Aufgaben können Sie gerne weitere Text- oder Codeblöcke hinzufügen. Sollte Ihnen hier und da eine Funktion nicht mehr einfallen, ist es überhaupt nicht schlimm, wenn Sie die entsprechende Dokumentation oder bspw. [Stack Overflow](https://stackoverflow.com/) konsultieren."
   ]
  },
  {
   "cell_type": "markdown",
   "metadata": {},
   "source": [
    "## Block 1"
   ]
  },
  {
   "cell_type": "markdown",
   "metadata": {
    "id": "ulqP-RBuSXqz"
   },
   "source": [
    "1. Erstellen Sie eine Variable und weisen Sie ihr den Integerwert 42 zu."
   ]
  },
  {
   "cell_type": "code",
   "execution_count": null,
   "metadata": {},
   "outputs": [],
   "source": []
  },
  {
   "cell_type": "markdown",
   "metadata": {
    "id": "OHUDMP7e36ke"
   },
   "source": [
    "2. Wandeln Sie den in der Variable gespeicherten Integerwert in einen String um."
   ]
  },
  {
   "cell_type": "code",
   "execution_count": null,
   "metadata": {},
   "outputs": [],
   "source": []
  },
  {
   "cell_type": "markdown",
   "metadata": {
    "id": "lvkTKDCgoUnU"
   },
   "source": [
    "3. Erstellen Sie eine beliebige Liste, die auch Duplikate enthalten kann. Wandeln Sie diese Liste in ein Set um."
   ]
  },
  {
   "cell_type": "code",
   "execution_count": null,
   "metadata": {},
   "outputs": [],
   "source": []
  },
  {
   "cell_type": "markdown",
   "metadata": {
    "id": "26QZsbEd4BhK"
   },
   "source": [
    "4. Erstellen Sie eine leere Liste und fügen Sie dann Objekte des Datentyps string, float, integer und list ein."
   ]
  },
  {
   "cell_type": "code",
   "execution_count": null,
   "metadata": {},
   "outputs": [],
   "source": []
  },
  {
   "cell_type": "markdown",
   "metadata": {
    "id": "tSnZn2En4UkT"
   },
   "source": [
    "5. Erstellen Sie eine Liste, die alle Zahlen von 1 bis 100 umfasst."
   ]
  },
  {
   "cell_type": "code",
   "execution_count": null,
   "metadata": {},
   "outputs": [],
   "source": []
  },
  {
   "cell_type": "markdown",
   "metadata": {
    "id": "7dBcWmwd4icR"
   },
   "source": [
    "6. Geben Sie von der list mit den Zahlen zwischen 1 und 100, mit Hilfe einer \n",
    "for-Schleife alle Zahlen aus, die durch 4 teilbar sind."
   ]
  },
  {
   "cell_type": "code",
   "execution_count": null,
   "metadata": {},
   "outputs": [],
   "source": []
  },
  {
   "cell_type": "markdown",
   "metadata": {},
   "source": [
    "## Block 2"
   ]
  },
  {
   "cell_type": "markdown",
   "metadata": {
    "id": "Avt6TPyG4vg2"
   },
   "source": [
    "7. Fügen Sie den Wert einer Variable in einen String mit Hilfe der f-string \n",
    "Methode ein. Wenn Sie nicht wissen, was ein f-String ist, konsultieren Sie gerne die Dokumentation von Python."
   ]
  },
  {
   "cell_type": "code",
   "execution_count": null,
   "metadata": {},
   "outputs": [],
   "source": []
  },
  {
   "cell_type": "markdown",
   "metadata": {
    "id": "tYWTuzAa48KQ"
   },
   "source": [
    "8. Weisen Sie einer Variablen einen längeren Text ihrer Wahl mit mehr als zehn Wörtern zu.\n",
    "Geben Sie mit Hilfe einer for-Schleife alle Vokale, die in dem Text enthalten\n",
    "sind, aus."
   ]
  },
  {
   "cell_type": "code",
   "execution_count": null,
   "metadata": {},
   "outputs": [],
   "source": []
  },
  {
   "cell_type": "markdown",
   "metadata": {
    "id": "l27WOOXJ5URj"
   },
   "source": [
    "9. Teilen Sie den Text an den Leerzeichen auf (Stichwort: Tokenisierung)."
   ]
  },
  {
   "cell_type": "code",
   "execution_count": null,
   "metadata": {},
   "outputs": [],
   "source": []
  },
  {
   "cell_type": "markdown",
   "metadata": {
    "id": "fb6RWTTD5fCZ"
   },
   "source": [
    "10. Fügen Sie den Text wieder zu einem String zusammen."
   ]
  },
  {
   "cell_type": "code",
   "execution_count": null,
   "metadata": {},
   "outputs": [],
   "source": []
  },
  {
   "cell_type": "markdown",
   "metadata": {
    "id": "AnQQOfPj5iaw"
   },
   "source": [
    "11. Bestimmen Sie die Länge des Texts nach Anzahl der Buchstaben und nach Anzahl der Wörter."
   ]
  },
  {
   "cell_type": "code",
   "execution_count": null,
   "metadata": {},
   "outputs": [],
   "source": []
  },
  {
   "cell_type": "markdown",
   "metadata": {
    "id": "jkBYd-Y_6dsX"
   },
   "source": [
    "12. Speichern Sie den Text in einer txt-Datei."
   ]
  },
  {
   "cell_type": "code",
   "execution_count": null,
   "metadata": {},
   "outputs": [],
   "source": []
  },
  {
   "cell_type": "markdown",
   "metadata": {
    "id": "kvwG4Dbx6iXH"
   },
   "source": [
    "13. Laden Sie den Text aus der txt-Datei."
   ]
  },
  {
   "cell_type": "code",
   "execution_count": null,
   "metadata": {},
   "outputs": [],
   "source": []
  },
  {
   "cell_type": "markdown",
   "metadata": {
    "id": "ehDzuci75mQz"
   },
   "source": [
    "14. Zählen Sie die Länge aller Wörter in einem Text, speichern Sie jeweils das \n",
    "Wort und den ermittelten Wert als key-value-Paare in einem Dictionary. "
   ]
  },
  {
   "cell_type": "code",
   "execution_count": null,
   "metadata": {},
   "outputs": [],
   "source": []
  },
  {
   "cell_type": "markdown",
   "metadata": {},
   "source": [
    "## Block 3"
   ]
  },
  {
   "cell_type": "markdown",
   "metadata": {
    "id": "DqwmM5h45wyh"
   },
   "source": [
    "15. Entschlüsseln Sie den folgenden 'secret'-String:\n",
    "Schaffen Sie das in drei Zeilen Code?\n",
    "Oder sogar nur mit einer Zeile Code?"
   ]
  },
  {
   "cell_type": "code",
   "execution_count": null,
   "metadata": {},
   "outputs": [],
   "source": [
    "secret = 'xDCivgFirtEaWlh DHkiwsztTourQyl Mivsctz Pcroiosln!'\n"
   ]
  },
  {
   "cell_type": "markdown",
   "metadata": {
    "id": "Lice6rWBKDAW"
   },
   "source": [
    "16. Slicing:\n",
    "\n",
    "a) Slicen Sie so über den String im nachfolgenden Codeblock, dass jeder zweite Buchstabe ausgegeben wird. \n",
    "\n",
    "b) Slicen Sie so über den String, dass die Zeichenfolge \"clean your bathroom\" ausgegeben wird."
   ]
  },
  {
   "cell_type": "code",
   "execution_count": null,
   "metadata": {
    "colab": {
     "base_uri": "https://localhost:8080/"
    },
    "id": "gaASiNkPKDYz",
    "outputId": "a6547511-dd10-40c5-ffc4-9b67bd924e22"
   },
   "outputs": [],
   "source": [
    "quote = \"Commenting your code is like cleaning your bathroom — you never want to do it, but it really does create a more pleasant experience for you and your guests.\"\n"
   ]
  },
  {
   "cell_type": "markdown",
   "metadata": {
    "id": "sLpA_PugH4qs"
   },
   "source": [
    "17. Konzipieren Sie eine Funktion, die für einen gegebenen Text folgende Satzzeichen entfernt: .,!?;:\"(). Wichtig: Am Ende sollten keine doppelten Leerzeichen im Ausgabestring übrig bleiben.\n",
    "\n"
   ]
  },
  {
   "cell_type": "code",
   "execution_count": null,
   "metadata": {
    "colab": {
     "base_uri": "https://localhost:8080/"
    },
    "id": "iYooVYvPH5Ho",
    "outputId": "0eccc927-a102-4e5a-9b3c-760dfb6cdcd5"
   },
   "outputs": [],
   "source": [
    "example_text = 'Das? ist ei;n \"Beispieltext\" mit: völlig, sinnlosen (!) Satzzeichen.'\n"
   ]
  },
  {
   "cell_type": "markdown",
   "metadata": {
    "id": "nvYoJ1A9FJAe"
   },
   "source": [
    "18. Konzipieren Sie eine Funktion, die für zwei gegebene Integer das Produkt der Multiplikation zurückgibt, wenn das Produkt 1200 übersteigt, andernfalls soll die Summe der Integer zurückgegeben werden. "
   ]
  },
  {
   "cell_type": "code",
   "execution_count": null,
   "metadata": {
    "colab": {
     "base_uri": "https://localhost:8080/"
    },
    "id": "S8xcalEgA4Yx",
    "outputId": "67eca8e1-1773-4af4-c3ed-676154a9181c"
   },
   "outputs": [],
   "source": []
  },
  {
   "cell_type": "markdown",
   "metadata": {
    "id": "dwmopniUEw_O"
   },
   "source": [
    "19. Aufgabe:\n",
    "\n",
    "Programmieren Sie ein kleines Ratespiel - eine beliebte Aufgabenstellung in Programmiereinführungen.\n",
    "\n",
    "- Das Programm soll eine zufällige Zahl zwischen 7 und 42 generieren (inkl. 7 und 42!). Dazu benötigen Sie die Funktion randint aus dem [Modul random](https://docs.python.org/3/library/random.html)\n",
    "- Bitten Sie eine:n Nutzer:in, die korrekte Zahl zu erraten.\n",
    "- Teilen Sie der:dem Nutzer:in mit, ob die Zahl zu hoch, zu niedrig oder genau richtig ist.\n",
    "- War die Eingabe korrekt, soll das Programm beendet werden.\n",
    "- War die Eingabe nicht korrekt, soll der:die Nutzer:in die Möglichkeit erhalten, einen weiteren Tipp abzugeben (in diesem Fall läuft das Programm nahtlos weiter) oder das Programm durch die Eingabe eines Exit-Befehls zu beenden.\n"
   ]
  },
  {
   "cell_type": "code",
   "execution_count": null,
   "metadata": {
    "colab": {
     "base_uri": "https://localhost:8080/"
    },
    "id": "84wFdL8EGw3v",
    "outputId": "d560e940-9e8b-481f-a06a-d2a21c0210af"
   },
   "outputs": [],
   "source": []
  }
 ],
 "metadata": {
  "colab": {
   "collapsed_sections": [],
   "name": "SoSe2022_Python-Booster_Einstieg.ipynb",
   "provenance": []
  },
  "kernelspec": {
   "display_name": "Python 3 (ipykernel)",
   "language": "python",
   "name": "python3"
  },
  "language_info": {
   "codemirror_mode": {
    "name": "ipython",
    "version": 3
   },
   "file_extension": ".py",
   "mimetype": "text/x-python",
   "name": "python",
   "nbconvert_exporter": "python",
   "pygments_lexer": "ipython3",
   "version": "3.8.13"
  },
  "vscode": {
   "interpreter": {
    "hash": "d8ff96dea341ee72ca23c8178965f9d630cc0b5c89ad1533e00213c86e18b93c"
   }
  }
 },
 "nbformat": 4,
 "nbformat_minor": 4
}
