{
 "cells": [
  {
   "cell_type": "markdown",
   "metadata": {},
   "source": [
    "# Daten strukturiert speichern\n",
    "\n",
    "## Aufgabe:\n",
    "\n",
    "### Variante 1: CSV mit Listen\n",
    "\n",
    "Sie planen eine Feier mit einem Buffet. Dafür möchten Sie eine strukturierte Auflistung der Teilnehmer:innen erstellen unter Angabe von Allergien und Ernährungsweisen (omnivor, vegetarisch, vegan, kein Schweinefleisch, ...), damit sie die Informationen entsprechend an das Cateringunternehmen weitergeben können.\n",
    "\n",
    "Sie können frei wählen, ob Sie die Informationen als JSON oder CSV-Datei abspeichern möchten. Strukturieren Sie die Informationen beispielhaft für drei Teilnehmer:innen entweder als Dictionaries oder Listen und speichern die Informationen in eine Datei. \n"
   ]
  },
  {
   "cell_type": "code",
   "execution_count": 4,
   "metadata": {},
   "outputs": [],
   "source": [
    "import csv\n",
    "\n",
    "header = [\"Nachname\", \"Vorname\", \"Ernährungsform\", \"Allergie\"]\n",
    "\n",
    "guests = [[\"Meier\", \"Tim\", \"vegetarisch\", \"keine\"],\n",
    "    [\"Wilson\", \"Anna\", \"omnivor\", \"Nuss\"],\n",
    "    [\"Schmidt\", \"Bernd\", \"vegan\", \"keine\"]]\n",
    "\n",
    "with open(\"data\\guests.csv\", \"w\", newline=\"\", encoding=\"UTF-8\") as csv_file:\n",
    "    writer = csv.writer(csv_file)\n",
    "\n",
    "    writer.writerow(header)\n",
    "\n",
    "    for guest in guests:\n",
    "        writer.writerow(guest)"
   ]
  },
  {
   "cell_type": "markdown",
   "metadata": {},
   "source": [
    "Es hat sich noch ein:e Teilnehmer:in gemeldet. Öffnen Sie die von Ihnen gespeicherte Datei und fügen Sie einen weiteren Eintrag hinzu. Speichern Sie die aktualisierte Datei."
   ]
  },
  {
   "cell_type": "code",
   "execution_count": 5,
   "metadata": {},
   "outputs": [],
   "source": [
    "with open(\"data\\guests.csv\", \"a\", newline=\"\", encoding=\"UTF-8\") as csv_file:\n",
    "    writer = csv.writer(csv_file)\n",
    "\n",
    "    writer.writerow([\"Roth\", \"Martina\", \"vegetarisch\", \"Gluten\"])"
   ]
  },
  {
   "cell_type": "markdown",
   "metadata": {},
   "source": [
    "### Variante 1: JSON mit Dictionary\n",
    "\n",
    "Sie planen eine Feier mit einem Buffet. Dafür möchten Sie eine strukturierte Auflistung der Teilnehmer:innen erstellen unter Angabe von Allergien und Ernährungsweisen (omnivor, vegetarisch, vegan, kein Schweinefleisch, ...), damit sie die Informationen entsprechend an das Cateringunternehmen weitergeben können.\n",
    "\n",
    "Sie können frei wählen, ob Sie die Informationen als JSON oder CSV-Datei abspeichern möchten. Strukturieren Sie die Informationen beispielhaft für drei Teilnehmer:innen entweder als Dictionaries oder Listen und speichern die Informationen in eine Datei. "
   ]
  },
  {
   "cell_type": "code",
   "execution_count": 11,
   "metadata": {},
   "outputs": [],
   "source": [
    "import json\n",
    "\n",
    "guests = {\"label\" : \"Gästeliste\",\n",
    "    \"owner\" : \"Melanie Althage\",\n",
    "    \"guests\" : [{\"Nachname\" : \"Meier\",\n",
    "    \"Vorname\" : \"Tim\",\n",
    "    \"Ernährungsform\" : \"vegetarisch\",\n",
    "    \"Allergie\" : \"keine\"}, \n",
    "    {\"Nachname\" : \"Wilson\",\n",
    "    \"Vorname\" : \"Anna\",\n",
    "    \"Ernährungsform\" : \"omnivor\",\n",
    "    \"Allergie\" : \"Nuss\"},\n",
    "    {\"Nachname\" : \"Schmidt\",\n",
    "    \"Vorname\" : \"Bernd\",\n",
    "    \"Ernährungsform\" : \"vegan\",\n",
    "    \"Allergie\" : \"keine\"}\n",
    "    ]}\n",
    "\n",
    "with open(\"data\\guests.json\", \"w\", encoding=\"utf8\") as json_file:\n",
    "    json.dump(guests, json_file, ensure_ascii=False, indent=4)"
   ]
  },
  {
   "cell_type": "markdown",
   "metadata": {},
   "source": [
    "Es hat sich noch ein:e Teilnehmer:in gemeldet. Öffnen Sie die von Ihnen gespeicherte Datei und fügen Sie einen weiteren Eintrag hinzu. Speichern Sie die aktualisierte Datei."
   ]
  },
  {
   "cell_type": "code",
   "execution_count": 14,
   "metadata": {},
   "outputs": [],
   "source": [
    "with open(\"data\\guests.json\", \"r\") as json_file:\n",
    "    content = json.load(json_file)\n",
    "\n",
    "    content[\"guests\"].append(\n",
    "        {\"Nachname\" : \"Roth\",\n",
    "        \"Vorname\" : \"Martina\",\n",
    "        \"Ernährungsform\" : \"vegetarisch\",\n",
    "        \"Allergie\" : \"Gluten\"})\n",
    "\n",
    "with open(\"data\\guests.json\", \"w\", encoding=\"utf8\") as json_file:\n",
    "    json.dump(content, json_file, ensure_ascii=False, indent=4)"
   ]
  }
 ],
 "metadata": {
  "interpreter": {
   "hash": "2734f2fc44272d2cd4c87fbccf417592fb487f452878e0dc4340be904040778f"
  },
  "kernelspec": {
   "display_name": "Python 3.8.3 ('base')",
   "language": "python",
   "name": "python3"
  },
  "language_info": {
   "codemirror_mode": {
    "name": "ipython",
    "version": 3
   },
   "file_extension": ".py",
   "mimetype": "text/x-python",
   "name": "python",
   "nbconvert_exporter": "python",
   "pygments_lexer": "ipython3",
   "version": "3.8.3"
  },
  "orig_nbformat": 4
 },
 "nbformat": 4,
 "nbformat_minor": 2
}
