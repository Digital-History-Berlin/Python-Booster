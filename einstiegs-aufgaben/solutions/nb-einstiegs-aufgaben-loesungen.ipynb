{
  "cells": [
    {
      "cell_type": "markdown",
      "metadata": {
        "id": "yk_k1jI5oZmW"
      },
      "source": [
        "# Einstiegsaufgaben\n",
        "\n",
        "Hier finden Sie ein paar Aufgaben, mit denen Sie Ihren Kenntnisstand zur Programmierung mit Python prüfen können. Arbeiten Sie die Aufgaben *nacheinander* durch (einige Aufgaben bauen aufeinander auf) und schauen Sie, wie weit Sie in der vorgegebenen Zeit kommen (etwa 60 Minuten).\n",
        "\n",
        "Zur Bearbeitung der Aufgaben können Sie gerne weitere Text- oder Codeblöcke hinzufügen. Sollte Ihnen hier und da eine Funktion nicht mehr einfallen, ist es überhaupt nicht schlimm, wenn Sie die entsprechende Dokumentation oder bspw. [Stack Overflow](https://stackoverflow.com/) konsultieren.\n"
      ]
    },
    {
      "cell_type": "markdown",
      "metadata": {
        "id": "ulqP-RBuSXqz"
      },
      "source": [
        "1. Erstellen Sie eine Variable und weisen Sie ihr den Integerwert 42 zu."
      ]
    },
    {
      "cell_type": "code",
      "execution_count": null,
      "metadata": {},
      "outputs": [],
      "source": [
        "x = 42"
      ]
    },
    {
      "cell_type": "markdown",
      "metadata": {},
      "source": [
        "2. Wandeln Sie den in der Variable gespeicherten Integerwert in einen String um."
      ]
    },
    {
      "cell_type": "code",
      "execution_count": null,
      "metadata": {},
      "outputs": [],
      "source": [
        "z = str(x)\n",
        "print(z)\n",
        "type(z)\n",
        "\n",
        "str(3)"
      ]
    },
    {
      "cell_type": "markdown",
      "metadata": {
        "id": "lvkTKDCgoUnU"
      },
      "source": [
        "3. Erstellen Sie eine beliebige Liste, die auch Duplikate enthalten kann. Wandeln Sie diese Liste in ein Set um."
      ]
    },
    {
      "cell_type": "code",
      "execution_count": null,
      "metadata": {},
      "outputs": [],
      "source": [
        "obst_liste = ['Apfel', 'Banane', 'Birne', 'Apfel']\n",
        "obst_set = set(obst_liste)\n",
        "type(obst_set)\n",
        "obst_set"
      ]
    },
    {
      "cell_type": "markdown",
      "metadata": {
        "id": "26QZsbEd4BhK"
      },
      "source": [
        "4. Erstellen Sie eine leere Liste und fügen Sie dann Objekte des Datentyps string, float, integer und list ein."
      ]
    },
    {
      "cell_type": "code",
      "execution_count": null,
      "metadata": {},
      "outputs": [],
      "source": [
        "empty_list = []\n",
        "\n",
        "empty_list.append('String')\n",
        "empty_list.append(5.7)\n",
        "empty_list.append(42)\n",
        "empty_list.append([obst_liste])\n",
        "\n",
        "empty_list\n"
      ]
    },
    {
      "cell_type": "markdown",
      "metadata": {
        "id": "tSnZn2En4UkT"
      },
      "source": [
        "5. Erstellen Sie eine list, die alle Zahlen von 1 bis 100 umfasst."
      ]
    },
    {
      "cell_type": "code",
      "execution_count": null,
      "metadata": {},
      "outputs": [],
      "source": [
        "numbers = list(range(1, 101))\n",
        "\n",
        "print(numbers)"
      ]
    },
    {
      "cell_type": "markdown",
      "metadata": {
        "id": "7dBcWmwd4icR"
      },
      "source": [
        "6. Geben Sie von der list mit den Zahlen zwischen 1 und 100 (inklusive) mit Hilfe einer \n",
        "for-Schleife jede vierte Zahl aus."
      ]
    },
    {
      "cell_type": "code",
      "execution_count": null,
      "metadata": {},
      "outputs": [],
      "source": [
        "for x in numbers:\n",
        "    if x % 4 == 0:\n",
        "        print(x, end=' ')"
      ]
    },
    {
      "cell_type": "markdown",
      "metadata": {
        "id": "Avt6TPyG4vg2"
      },
      "source": [
        "7. Fügen Sie den Wert einer Variable in einen String mit Hilfe der f-string \n",
        "Methode ein. Wenn Sie nicht wissen, was ein f-String ist, konsultieren Sie gerne die Dokumentation von Python."
      ]
    },
    {
      "cell_type": "code",
      "execution_count": null,
      "metadata": {},
      "outputs": [],
      "source": [
        "x = 42\n",
        "print(f'Die Antwort auf alle Fragen ist {x}.')"
      ]
    },
    {
      "cell_type": "markdown",
      "metadata": {
        "id": "tYWTuzAa48KQ"
      },
      "source": [
        "8. Weisen Sie einer Variablen einen längeren Text ihrer Wahl mit mehr als zehn Wörtern zu.\n",
        "Geben Sie mit Hilfe einer for-Schleife alle Vokale, die in dem Text enthalten\n",
        "sind aus."
      ]
    },
    {
      "cell_type": "code",
      "execution_count": null,
      "metadata": {},
      "outputs": [],
      "source": [
        "text = 'Heute ist der 11. November 2022 und es scheint sehr schön die Sonne.'\n",
        "\n",
        "for c in text:\n",
        "    if c in ['a', 'e', 'i', 'o', 'u']:\n",
        "        print(c, end=' ')"
      ]
    },
    {
      "cell_type": "markdown",
      "metadata": {
        "id": "l27WOOXJ5URj"
      },
      "source": [
        "9. Teilen Sie den Text an den Leerzeichen auf (Stichwort: Tokenisierung)."
      ]
    },
    {
      "cell_type": "code",
      "execution_count": null,
      "metadata": {},
      "outputs": [],
      "source": [
        "text_split = text.split(' ')\n",
        "print(type(text_split))\n",
        "print(text_split, end=' ')"
      ]
    },
    {
      "cell_type": "markdown",
      "metadata": {
        "id": "fb6RWTTD5fCZ"
      },
      "source": [
        "10. Fügen Sie den Text wieder zu einem String zusammen."
      ]
    },
    {
      "cell_type": "code",
      "execution_count": null,
      "metadata": {},
      "outputs": [],
      "source": [
        "text_join = ' '.join(text_split)\n",
        "print(type(text_join))\n",
        "text_join"
      ]
    },
    {
      "cell_type": "markdown",
      "metadata": {
        "id": "AnQQOfPj5iaw"
      },
      "source": [
        "11. Bestimmen Sie die Länge des Texts nach Anzahl der Buchstaben und nach Anzahl der Wörter."
      ]
    },
    {
      "cell_type": "code",
      "execution_count": null,
      "metadata": {},
      "outputs": [],
      "source": [
        "print(len(text))\n",
        "print(len(text.split()))"
      ]
    },
    {
      "cell_type": "markdown",
      "metadata": {
        "id": "jkBYd-Y_6dsX"
      },
      "source": [
        "12. Speichern Sie den Text in einer txt-Datei."
      ]
    },
    {
      "cell_type": "code",
      "execution_count": null,
      "metadata": {},
      "outputs": [],
      "source": [
        "with open('text-file.txt', 'w', encoding='utf8') as f:\n",
        "    f.write(text)"
      ]
    },
    {
      "cell_type": "markdown",
      "metadata": {
        "id": "kvwG4Dbx6iXH"
      },
      "source": [
        "13. Laden Sie den Text aus der txt-Datei."
      ]
    },
    {
      "cell_type": "code",
      "execution_count": null,
      "metadata": {},
      "outputs": [],
      "source": [
        "with open('text-file.txt', 'r', encoding='utf8') as f:\n",
        "    text_from_file = f.read()\n",
        "print(text_from_file)"
      ]
    },
    {
      "cell_type": "markdown",
      "metadata": {
        "id": "ehDzuci75mQz"
      },
      "source": [
        "14. Zählen Sie die Länge aller Wörter in einem Text, speichern Sie jeweils das \n",
        "Wort und den ermittelten Wert als key-value-Paare in einem Dictionary. "
      ]
    },
    {
      "cell_type": "code",
      "execution_count": null,
      "metadata": {},
      "outputs": [],
      "source": [
        "text = 'Heute ist der 11. November 2022 und es scheint sehr schön die Sonne.'\n",
        "\n",
        "text = text.split()\n",
        "\n",
        "text_dict = dict()\n",
        "\n",
        "for w in text:\n",
        "    text_dict[w] = len(w)\n",
        "\n",
        "text_dict"
      ]
    },
    {
      "cell_type": "markdown",
      "metadata": {
        "id": "DqwmM5h45wyh"
      },
      "source": [
        "15. Entschlüsseln Sie den folgenden 'secret'-String:\n",
        "Schaffen Sie das in drei Zeilen Code?\n",
        "Oder sogar nur mit einer Zeile Code?"
      ]
    },
    {
      "cell_type": "code",
      "execution_count": null,
      "metadata": {
        "colab": {
          "base_uri": "https://localhost:8080/"
        },
        "id": "4A3Rcmr27jEu",
        "outputId": "1db4dcd2-bf13-409c-b74f-4b312fd0c580"
      },
      "outputs": [],
      "source": [
        "secret = 'xDCivgFirtEaWlh DHkiwsztTourQyl Mivsctz Pcroiosln!'\n",
        "\n",
        "for i, c in enumerate(secret):\n",
        "    if i % 2 != 0:\n",
        "        print(c, end='')"
      ]
    },
    {
      "cell_type": "code",
      "execution_count": null,
      "metadata": {
        "colab": {
          "base_uri": "https://localhost:8080/"
        },
        "id": "zFykSSsx71cR",
        "outputId": "5a5bace6-5027-44b6-bd50-6f8505af3c16"
      },
      "outputs": [],
      "source": [
        "print(''.join([ c for i, c in enumerate(secret) if i % 2 != 0 ]))"
      ]
    },
    {
      "cell_type": "code",
      "execution_count": null,
      "metadata": {
        "colab": {
          "base_uri": "https://localhost:8080/"
        },
        "id": "w0aX69XmL2Jv",
        "outputId": "f9d2c781-23df-4571-f70d-a2bb013c2bec"
      },
      "outputs": [],
      "source": [
        "print(secret[1::2])"
      ]
    },
    {
      "cell_type": "markdown",
      "metadata": {
        "id": "Lice6rWBKDAW"
      },
      "source": [
        "16. Slicing:\n",
        "\n",
        "a) Slicen Sie so über den String im nachfolgenden Codeblock, dass jeder zweite Buchstabe ausgegeben wird. \n",
        "\n",
        "b) Slicen Sie so über den String, dass die Zeichenfolge \"clean your bathroom\" ausgegeben wird."
      ]
    },
    {
      "cell_type": "code",
      "execution_count": null,
      "metadata": {
        "colab": {
          "base_uri": "https://localhost:8080/"
        },
        "id": "gaASiNkPKDYz",
        "outputId": "a6547511-dd10-40c5-ffc4-9b67bd924e22"
      },
      "outputs": [],
      "source": [
        "quote = \"Commenting your code is like cleaning your bathroom — you never want to do it, but it really does create a more pleasant experience for you and your guests.\"\n",
        "\n",
        "print(quote[1::2])\n",
        "print(quote[29:34] + quote[37:51])"
      ]
    },
    {
      "cell_type": "code",
      "execution_count": null,
      "metadata": {},
      "outputs": [],
      "source": [
        "print(quote[1::2])\n",
        "print(quote[29:34] + quote[37:51])"
      ]
    },
    {
      "cell_type": "markdown",
      "metadata": {
        "id": "sLpA_PugH4qs"
      },
      "source": [
        "17. Konzipieren Sie eine Funktion, die für einen gegebenen Text folgende Satzzeichen entfernt: .,!?;:\"(). Wichtig: Am Ende sollten keine doppelten Leerzeichen im Ausgabestring übrig bleiben.\n",
        "\n"
      ]
    },
    {
      "cell_type": "code",
      "execution_count": null,
      "metadata": {
        "colab": {
          "base_uri": "https://localhost:8080/"
        },
        "id": "iYooVYvPH5Ho",
        "outputId": "0eccc927-a102-4e5a-9b3c-760dfb6cdcd5"
      },
      "outputs": [],
      "source": [
        "example_text = 'Das? ist ei;n \"Beispieltext\" mit: völlig, sinnlosen (!) Satzzeichen.'\n",
        "\n",
        "def del_interpunct(text):\n",
        "  interpunct = \".,!?;:\\\"()\" \n",
        "\n",
        "  for i in interpunct:\n",
        "    if i in text:\n",
        "      text = text.replace(i, \"\")\n",
        "\n",
        "  if \"  \" in text:\n",
        "    text = text.replace(\"  \", \" \")\n",
        "  return text\n",
        "\n",
        "processed_text = del_interpunct(example_text)\n",
        "print(processed_text)"
      ]
    },
    {
      "cell_type": "markdown",
      "metadata": {
        "id": "nvYoJ1A9FJAe"
      },
      "source": [
        "18. Konzipieren Sie eine Funktion, die für zwei gegebene Integer das Produkt der Multiplikation zurückgibt, wenn das Produkt 1200 übersteigt, andernfalls soll die Summe der Integer zurückgegeben werden. "
      ]
    },
    {
      "cell_type": "code",
      "execution_count": null,
      "metadata": {
        "colab": {
          "base_uri": "https://localhost:8080/"
        },
        "id": "S8xcalEgA4Yx",
        "outputId": "67eca8e1-1773-4af4-c3ed-676154a9181c"
      },
      "outputs": [],
      "source": [
        "def either_or(int1, int2):\n",
        "  product = int1 * int2\n",
        "  if product > 1200:\n",
        "    return product\n",
        "  else:\n",
        "    return int1 + int2\n",
        "\n",
        "# Test\n",
        "first_result = either_or(50, 60)\n",
        "print(\"Das Ergebnis ist\", first_result)\n",
        "\n",
        "second_result = either_or(42, 5)\n",
        "print(\"Das Ergebnis ist\", second_result)"
      ]
    },
    {
      "cell_type": "markdown",
      "metadata": {
        "id": "dwmopniUEw_O"
      },
      "source": [
        "19. Aufgabe:\n",
        "\n",
        "Programmieren Sie ein kleines Ratespiel - eine beliebte Aufgabenstellung in Programmiereinführungen.\n",
        "\n",
        "- Das Programm soll eine zufällige Zahl zwischen 7 und 42 generieren (inkl. 7 und 42!). Dazu benötigen Sie die Funktion randint aus dem [Modul random](https://docs.python.org/3/library/random.html)\n",
        "- Bitten Sie eine:n Nutzer:in, die korrekte Zahl zu erraten.\n",
        "- Teilen Sie der:dem Nutzer:in mit, ob die Zahl zu hoch, zu niedrig oder genau richtig ist.\n",
        "- War die Eingabe korrekt, soll das Programm beendet werden.\n",
        "- War die Eingabe nicht korrekt, soll der:die Nutzer:in die Möglichkeit erhalten, einen weiteren Tipp abzugeben (in diesem Fall läuft das Programm nahtlos weiter) oder das Programm durch die Eingabe eines Exit-Befehls zu beenden.\n"
      ]
    },
    {
      "cell_type": "code",
      "execution_count": null,
      "metadata": {
        "colab": {
          "base_uri": "https://localhost:8080/"
        },
        "id": "84wFdL8EGw3v",
        "outputId": "d560e940-9e8b-481f-a06a-d2a21c0210af"
      },
      "outputs": [],
      "source": [
        "import random\n",
        "\n",
        "random_number = random.randint(7, 42)\n",
        "user_input = input(\"Möchten Sie eine zufällige Zahl zwischen 7 und 42 erraten? (J = Ja, N = Nein\").lower()\n",
        "\n",
        "while user_input == \"j\":\n",
        "    user_guess = int(input(\"Geben Sie eine Zahl zwischen 7 und 42 ein (inkl. 7 und 42):\"))\n",
        "\n",
        "    if user_guess == random_number:\n",
        "        print(f\"Herzlichen Glückwunsch! Sie haben richtig geraten! {random_number} war die gesuchte Zufallszahl.\")\n",
        "        user_input = \"exit\" # abbruchbedingung\n",
        "    elif user_guess < random_number:\n",
        "        user_input = input(\"Schade, die Zufallszahl ist größer als Ihr Tipp. Möchten Sie es noch mal versuchen? (J = Ja, N = Nein)\").lower()\n",
        "    elif user_guess > random_number:\n",
        "        user_input = input(\"Schade, die Zufallszahl ist kleiner als Ihr Tipp. Möchten Sie es noch mal versuchen? (J = Ja, N = Nein)\").lower()\n",
        "\n",
        "print(\"Das Ratespiel ist beendet.\")"
      ]
    }
  ],
  "metadata": {
    "colab": {
      "collapsed_sections": [],
      "name": "SoSe2022_Python-Booster_Einstieg.ipynb",
      "provenance": []
    },
    "kernelspec": {
      "display_name": "Python 3.9.7 ('base')",
      "language": "python",
      "name": "python3"
    },
    "language_info": {
      "codemirror_mode": {
        "name": "ipython",
        "version": 3
      },
      "file_extension": ".py",
      "mimetype": "text/x-python",
      "name": "python",
      "nbconvert_exporter": "python",
      "pygments_lexer": "ipython3",
      "version": "3.9.7"
    },
    "vscode": {
      "interpreter": {
        "hash": "4cab2e3c59f82d31ef33573b56569893ba7388f3e17b6676d60d91498ea89ea5"
      }
    }
  },
  "nbformat": 4,
  "nbformat_minor": 0
}
