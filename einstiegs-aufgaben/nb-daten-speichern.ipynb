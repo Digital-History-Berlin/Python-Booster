{
 "cells": [
  {
   "cell_type": "markdown",
   "metadata": {},
   "source": [
    "# Daten strukturiert speichern\n",
    "\n",
    "In diesem Notebook werden die zentralen Schritte zum Speichern strukturierter Daten in JSON- und CSV-Dateien skizziert."
   ]
  },
  {
   "cell_type": "markdown",
   "metadata": {},
   "source": [
    "## Daten in eine CSV-Datei speichern\n",
    "\n",
    "Mit CSV-Dateien wollen wir tabellarisch strukturierte Daten verarbeiten.\n",
    "\n",
    "In Python gibt es verschiedene Wege, mit CSV-Dateien zu arbeiten:\n",
    "- Standardweg: [CSV-Modul](https://docs.python.org/3/library/csv.html)\n",
    "- Alternative: [Pandas](https://pandas.pydata.org/docs/) "
   ]
  },
  {
   "cell_type": "markdown",
   "metadata": {},
   "source": [
    "### Aufbau\n",
    "\n",
    "**Darstellung als Tabelle**\n",
    "\n",
    "| ID | Titel | Autor:in | Erscheinungsjahr |\n",
    "|:---|-------|-------|-----------------:|\n",
    "| 1 | Der Prozess | Franz Kafka  | 1935 |\n",
    "| 2 | Half of a Yellow Sun | Chimanda Ngozi Adichie  | 2006 |\n",
    "| 3 | Network Effect | Martha Wells  | 2020 |\n",
    "\n",
    "**Darstellung als CSV**\n",
    "```\n",
    "ID,Titel,Autor:in,Erscheinungsjahr\n",
    "1,Der Prozess,Franz Kafka,1935\n",
    "2,Half of a Yellow Sun,Chimanda Ngozi Adichie,2006\n",
    "3,Network Effect,Martha Wells,2020\n",
    "```"
   ]
  },
  {
   "cell_type": "markdown",
   "metadata": {},
   "source": [
    "### CSV-Datei schreiben"
   ]
  },
  {
   "cell_type": "code",
   "execution_count": null,
   "metadata": {},
   "outputs": [],
   "source": [
    "import csv\n",
    "\n",
    "book_list = [\n",
    "    [\"ID\", \"Titel\", \"Autor:in\", \"Erscheinungsjahr\"],\n",
    "    [1, \"Der Prozess\", \"Franz Kafka\", 1935],\n",
    "    [2, \"Half of a Yellow Sun\", \"Chimanda Ngozi Adichie\", 2006],\n",
    "    [3, \"Network Effec\", \"Martha Wells\", 2020]\n",
    "]\n",
    "\n",
    "with open(\"data/books.csv\", \"w\", newline=\"\") as csv_file: # newline v.a. bei Windowsrechnern relevant\n",
    "    writer = csv.writer(csv_file)\n",
    "\n",
    "    for book in book_list:\n",
    "        writer.writerow(book)"
   ]
  },
  {
   "cell_type": "markdown",
   "metadata": {},
   "source": [
    "### CSV-Datei einlesen und erweitern"
   ]
  },
  {
   "cell_type": "code",
   "execution_count": null,
   "metadata": {},
   "outputs": [],
   "source": [
    "with open(\"data/books.csv\", \"a\", newline=\"\") as csv_file: # modus \"a\" - append: CSV-Datei öffnen oder erstellen und Daten anhängen\n",
    "    writer = csv.writer(csv_file)\n",
    "\n",
    "    writer.writerow([4, \"Das Haus - House of Leaves\", \"Mark Z. Danielewski\", 2000])"
   ]
  },
  {
   "cell_type": "markdown",
   "metadata": {},
   "source": [
    "### CSV-Dateien einlesen"
   ]
  },
  {
   "cell_type": "code",
   "execution_count": null,
   "metadata": {},
   "outputs": [],
   "source": [
    "# option 1: lists\n",
    "\n",
    "with open(\"data/books.csv\", \"r\", newline=\"\") as csv_file: # modus \"r\" - read\n",
    "    reader = csv.reader(csv_file, delimiter=\",\") # delimitier per default comma\n",
    "    \n",
    "    for row in reader:\n",
    "        print(row) "
   ]
  },
  {
   "cell_type": "code",
   "execution_count": null,
   "metadata": {},
   "outputs": [],
   "source": [
    "#option 2: dictionary\n",
    "\n",
    "# option 1: lists\n",
    "\n",
    "with open(\"data/books.csv\", \"r\", newline=\"\") as csv_file: # modus \"r\" - read\n",
    "    reader = csv.DictReader(csv_file, delimiter=\",\") # delimitier per default comma\n",
    "    \n",
    "    for row in reader:\n",
    "        print(row)"
   ]
  },
  {
   "cell_type": "markdown",
   "metadata": {},
   "source": [
    "## Daten in eine JSON-Datei speichern"
   ]
  },
  {
   "cell_type": "code",
   "execution_count": null,
   "metadata": {},
   "outputs": [],
   "source": [
    "# Aufbau einer JSON (kein ausführbarer Code)\n",
    "\n",
    "{\n",
    "    \"label\": \"My Library\",\n",
    "    \"books available\": true,\n",
    "    \"owner\": \"Melanie Althage\",\n",
    "    \"books\": [\n",
    "        {\n",
    "            \"title\": \"Der Prozess\",\n",
    "            \"author\": \"Franz Kafka\",\n",
    "            \"year\": 1935,\n",
    "            \"editions\": [\n",
    "                1935,\n",
    "                1946,\n",
    "                1963,\n",
    "                1990,\n",
    "                2011,\n",
    "                2012\n",
    "            ]\n",
    "        },\n",
    "        {\n",
    "            \"title\": \"Half of a Yellow Sun\",\n",
    "            \"author\": \"Chimamanda Ngozi Adichie\",\n",
    "            \"year\": 2006,\n",
    "            \"editions\": [\n",
    "                2006,\n",
    "                2007,\n",
    "                2017\n",
    "            ]\n",
    "        },\n",
    "        {\n",
    "            \"title\": \"Network Effect\",\n",
    "            \"author\": \"Martha Wells\",\n",
    "            \"year\": 2020,\n",
    "            \"editions\": [\n",
    "                2020\n",
    "            ]\n",
    "        }\n",
    "    ]\n",
    "}"
   ]
  },
  {
   "cell_type": "markdown",
   "metadata": {},
   "source": [
    "### JSON-Datei einlesen, erweitern und speichern"
   ]
  },
  {
   "cell_type": "code",
   "execution_count": null,
   "metadata": {},
   "outputs": [],
   "source": [
    "import json\n",
    "\n",
    "with open(\"data/books.json\", \"r\") as json_file:\n",
    "    library_content = json.load(json_file)\n",
    "\n",
    "print(type(library_content))\n",
    "print(library_content)"
   ]
  },
  {
   "cell_type": "code",
   "execution_count": 7,
   "metadata": {},
   "outputs": [],
   "source": [
    "library_content[\"books\"].append(\n",
    "    {\"title\": \"Das Haus - House of Leaves\",\n",
    "            \"author\": \"Mark Z. Danielewski\",\n",
    "            \"year\": 2000,\n",
    "            \"editions\": [\n",
    "                2000]})\n",
    "\n",
    "with open(\"data/books_v2.json\", \"a\") as json_file:\n",
    "    json.dump(library_content, json_file, ensure_ascii=False, indent=4)  # per default wird die mit dump erzeugte JSON in einer Zeile geschrieben (ressourcenschonend), über die Konfiguration des Parameters indent wird die Datei besser lesbar         "
   ]
  },
  {
   "cell_type": "markdown",
   "metadata": {},
   "source": [
    "## Aufgabe:\n",
    "\n",
    "Sie planen eine Feier mit einem Buffet. Dafür möchten Sie eine strukturierte Auflistung der Teilnehmer:innen erstellen unter Angabe von Allergien und Ernährungsweisen (omnivor, vegetarisch, vegan, kein Schweinefleisch, ...), damit sie die Informationen entsprechend an das Cateringunternehmen weitergeben können.\n",
    "\n",
    "Sie können frei wählen, ob Sie die Informationen als JSON oder CSV-Datei abspeichern möchten. Strukturieren Sie die Informationen beispielhaft für drei Teilnehmer:innen entweder als Dictionaries oder Listen und speichern die Informationen in eine Datei. Ihre JSON- oder CSV-Datei sollte die Informationen mindestens wie folgt strukturieren: Nachname, Vorname, Ernährungsform, Allergie."
   ]
  },
  {
   "cell_type": "code",
   "execution_count": null,
   "metadata": {},
   "outputs": [],
   "source": []
  },
  {
   "cell_type": "markdown",
   "metadata": {},
   "source": [
    "Es hat sich noch ein:e Teilnehmer:in gemeldet. Öffnen Sie die von Ihnen gespeicherte Datei und fügen Sie einen weiteren Eintrag hinzu. Speichern Sie die aktualisierte Datei."
   ]
  },
  {
   "cell_type": "code",
   "execution_count": null,
   "metadata": {},
   "outputs": [],
   "source": []
  },
  {
   "cell_type": "markdown",
   "metadata": {},
   "source": [
    "Wenn Sie das Thema \"Dateien verarbeiten\" noch mal etwas intensiver bearbeiten möchten, empfehlen wir Ihnen das entsprechende Kapitel im Jupyter Book [Python für Historiker:innen - Ein anwendungsorientierter und interaktiver Einstieg](https://digital-history-berlin.github.io/Python-fuer-Historiker-innen/ch04-dateien-verarbeiten/01-dateien-verarbeiten.html)."
   ]
  }
 ],
 "metadata": {
  "kernelspec": {
   "display_name": "Python 3.9.7 ('base')",
   "language": "python",
   "name": "python3"
  },
  "language_info": {
   "codemirror_mode": {
    "name": "ipython",
    "version": 3
   },
   "file_extension": ".py",
   "mimetype": "text/x-python",
   "name": "python",
   "nbconvert_exporter": "python",
   "pygments_lexer": "ipython3",
   "version": "3.9.7"
  },
  "orig_nbformat": 4,
  "vscode": {
   "interpreter": {
    "hash": "4cab2e3c59f82d31ef33573b56569893ba7388f3e17b6676d60d91498ea89ea5"
   }
  }
 },
 "nbformat": 4,
 "nbformat_minor": 2
}
