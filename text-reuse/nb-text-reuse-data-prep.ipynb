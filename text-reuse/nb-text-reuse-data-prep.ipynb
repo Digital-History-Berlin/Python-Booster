{
 "cells": [
  {
   "cell_type": "markdown",
   "metadata": {},
   "source": [
    "# Übung zur Datenvorbereitung\n",
    "\n",
    "## Ziel\n",
    "\n",
    "* Dateien umbenennen\n",
    "\n",
    "* csv schreiben\n",
    "\n",
    "**Darstellung als Tabelle**\n",
    "\n",
    "| ID   | Titel     | Autor  | Jahr | Text |\n",
    "|:-----|-----------|--------|------|------|\n",
    "| 0001 | Psalm_156 | Bravus | 1135 | text |\n",
    "| 0002 | Psalm_134 | Carlus | 1246 | text |\n",
    "| 0003 | Psalm_112 | Deltus | 1357 | text |\n",
    "\n",
    "**Darstellung als CSV**\n",
    "```\n",
    "ID,Titel,Autor,Jahr,Text\n",
    "0001,Psalm_156,Bravus,1135,text\n",
    "0002,Psalm_134,Carlus,1246,text\n",
    "0003,Psalm_112,Deltus,1357,text\n",
    "```\n",
    "\n",
    "**Darstellung als JSON**\n",
    "\n",
    "```json\n",
    "{\n",
    "  \"a.xml\": {\n",
    "    \"author\": \"Author A\",\n",
    "    \"title\": \"Title A\",\n",
    "    \"year\": 1751\n",
    "  },\n",
    "  \"b.xml\": {\n",
    "    \"author\": \"Author B\",\n",
    "    \"title\": \"Title B\",\n",
    "    \"year\": 1753\n",
    "  }\n",
    "}\n",
    "```"
   ]
  },
  {
   "cell_type": "markdown",
   "metadata": {},
   "source": [
    "## Import"
   ]
  },
  {
   "cell_type": "code",
   "execution_count": 34,
   "metadata": {},
   "outputs": [],
   "source": [
    "import os\n",
    "import csv\n",
    "import json"
   ]
  },
  {
   "cell_type": "markdown",
   "metadata": {},
   "source": [
    "### os-Modul"
   ]
  },
  {
   "cell_type": "code",
   "execution_count": 35,
   "metadata": {},
   "outputs": [
    {
     "data": {
      "text/plain": [
       "['001f1a10-1483-4c22-8e0d-c6a0f06d58f2_156_Bravus_1135.txt',\n",
       " '01ac6f89-7315-4a2f-b0f7-465090835c45_134_Carlus_1246.txt',\n",
       " '02dc1722-5c15-471f-9cf7-a3521b83d240_112_Deltus_1357.txt',\n",
       " '0be07365-bef9-4533-81cc-3f6248f58663_213_Alphus_1012.txt',\n",
       " '0ff7e099-588f-4557-b733-00688c02d748_202_Alphus_1024.txt',\n",
       " '2a0f18df-cc5b-4d73-b132-9764fb6600ef_101_Echus_1468.txt']"
      ]
     },
     "execution_count": 35,
     "metadata": {},
     "output_type": "execute_result"
    }
   ],
   "source": [
    "os.listdir('data_tr')"
   ]
  },
  {
   "cell_type": "code",
   "execution_count": 36,
   "metadata": {},
   "outputs": [
    {
     "data": {
      "text/plain": [
       "['001f1a10-1483-4c22-8e0d-c6a0f06d58f2_156_Bravus_1135.txt',\n",
       " '01ac6f89-7315-4a2f-b0f7-465090835c45_134_Carlus_1246.txt',\n",
       " '02dc1722-5c15-471f-9cf7-a3521b83d240_112_Deltus_1357.txt',\n",
       " '0be07365-bef9-4533-81cc-3f6248f58663_213_Alphus_1012.txt',\n",
       " '0ff7e099-588f-4557-b733-00688c02d748_202_Alphus_1024.txt',\n",
       " '2a0f18df-cc5b-4d73-b132-9764fb6600ef_101_Echus_1468.txt']"
      ]
     },
     "execution_count": 36,
     "metadata": {},
     "output_type": "execute_result"
    }
   ],
   "source": [
    "file_list = os.listdir('data_tr')\n",
    "file_list"
   ]
  },
  {
   "cell_type": "markdown",
   "metadata": {},
   "source": [
    "### Split"
   ]
  },
  {
   "cell_type": "code",
   "execution_count": 37,
   "metadata": {},
   "outputs": [
    {
     "name": "stdout",
     "output_type": "stream",
     "text": [
      "['001f1a10-1483-4c22-8e0d-c6a0f06d58f2', '156', 'Bravus', '1135.txt']\n",
      "['01ac6f89-7315-4a2f-b0f7-465090835c45', '134', 'Carlus', '1246.txt']\n",
      "['02dc1722-5c15-471f-9cf7-a3521b83d240', '112', 'Deltus', '1357.txt']\n",
      "['0be07365-bef9-4533-81cc-3f6248f58663', '213', 'Alphus', '1012.txt']\n",
      "['0ff7e099-588f-4557-b733-00688c02d748', '202', 'Alphus', '1024.txt']\n",
      "['2a0f18df-cc5b-4d73-b132-9764fb6600ef', '101', 'Echus', '1468.txt']\n"
     ]
    }
   ],
   "source": [
    "for file in file_list:\n",
    "    print(file.split('_'))"
   ]
  },
  {
   "cell_type": "code",
   "execution_count": 38,
   "metadata": {},
   "outputs": [
    {
     "name": "stdout",
     "output_type": "stream",
     "text": [
      "\n",
      "###\n",
      "001f1a10-1483-4c22-8e0d-c6a0f06d58f2_156_Bravus_1135.txt\n",
      "['001f1a10-1483-4c22-8e0d-c6a0f06d58f2', '156', 'Bravus', '1135.txt']\n",
      "ID:  0001\n",
      "Psalm-Nummer:  156\n",
      "Autor:  Bravus\n",
      "Jahr:  1135\n",
      "0001_Psalm_156_Bravus_1135.txt\n",
      "\n",
      "###\n",
      "01ac6f89-7315-4a2f-b0f7-465090835c45_134_Carlus_1246.txt\n",
      "['01ac6f89-7315-4a2f-b0f7-465090835c45', '134', 'Carlus', '1246.txt']\n",
      "ID:  0002\n",
      "Psalm-Nummer:  134\n",
      "Autor:  Carlus\n",
      "Jahr:  1246\n",
      "0002_Psalm_134_Carlus_1246.txt\n",
      "\n",
      "###\n",
      "02dc1722-5c15-471f-9cf7-a3521b83d240_112_Deltus_1357.txt\n",
      "['02dc1722-5c15-471f-9cf7-a3521b83d240', '112', 'Deltus', '1357.txt']\n",
      "ID:  0003\n",
      "Psalm-Nummer:  112\n",
      "Autor:  Deltus\n",
      "Jahr:  1357\n",
      "0003_Psalm_112_Deltus_1357.txt\n",
      "\n",
      "###\n",
      "0be07365-bef9-4533-81cc-3f6248f58663_213_Alphus_1012.txt\n",
      "['0be07365-bef9-4533-81cc-3f6248f58663', '213', 'Alphus', '1012.txt']\n",
      "ID:  0004\n",
      "Psalm-Nummer:  213\n",
      "Autor:  Alphus\n",
      "Jahr:  1012\n",
      "0004_Psalm_213_Alphus_1012.txt\n",
      "\n",
      "###\n",
      "0ff7e099-588f-4557-b733-00688c02d748_202_Alphus_1024.txt\n",
      "['0ff7e099-588f-4557-b733-00688c02d748', '202', 'Alphus', '1024.txt']\n",
      "ID:  0005\n",
      "Psalm-Nummer:  202\n",
      "Autor:  Alphus\n",
      "Jahr:  1024\n",
      "0005_Psalm_202_Alphus_1024.txt\n",
      "\n",
      "###\n",
      "2a0f18df-cc5b-4d73-b132-9764fb6600ef_101_Echus_1468.txt\n",
      "['2a0f18df-cc5b-4d73-b132-9764fb6600ef', '101', 'Echus', '1468.txt']\n",
      "ID:  0006\n",
      "Psalm-Nummer:  101\n",
      "Autor:  Echus\n",
      "Jahr:  1468\n",
      "0006_Psalm_101_Echus_1468.txt\n"
     ]
    }
   ],
   "source": [
    "# create new filename with print-statements\n",
    "\n",
    "for x, file in enumerate(file_list):\n",
    "\n",
    "    print('\\n###')\n",
    "    print(file)\n",
    "\n",
    "    file = file.split('_')\n",
    "    print(file)\n",
    "\n",
    "    id = str(x + 1).zfill(4)\n",
    "    print('ID: ', id)\n",
    "\n",
    "    psalm_nr = file[1]\n",
    "    print('Psalm-Nummer: ', psalm_nr)\n",
    "\n",
    "    author = file[2]\n",
    "    print('Autor: ', author)\n",
    "\n",
    "    year = file[3].split('.')[0]\n",
    "    print('Jahr: ', year)\n",
    "\n",
    "    filename = f'{id}_Psalm_{psalm_nr}_{author}_{year}.txt'\n",
    "    print(filename)  "
   ]
  },
  {
   "cell_type": "code",
   "execution_count": 39,
   "metadata": {},
   "outputs": [],
   "source": [
    "# create new directory\n",
    "\n",
    "os.mkdir('data_new')"
   ]
  },
  {
   "cell_type": "code",
   "execution_count": 40,
   "metadata": {},
   "outputs": [
    {
     "data": {
      "text/plain": [
       "['001f1a10-1483-4c22-8e0d-c6a0f06d58f2_156_Bravus_1135.txt',\n",
       " '01ac6f89-7315-4a2f-b0f7-465090835c45_134_Carlus_1246.txt',\n",
       " '02dc1722-5c15-471f-9cf7-a3521b83d240_112_Deltus_1357.txt',\n",
       " '0be07365-bef9-4533-81cc-3f6248f58663_213_Alphus_1012.txt',\n",
       " '0ff7e099-588f-4557-b733-00688c02d748_202_Alphus_1024.txt',\n",
       " '2a0f18df-cc5b-4d73-b132-9764fb6600ef_101_Echus_1468.txt']"
      ]
     },
     "execution_count": 40,
     "metadata": {},
     "output_type": "execute_result"
    }
   ],
   "source": [
    "# directory to list\n",
    "\n",
    "file_list = os.listdir('data_tr')\n",
    "file_list"
   ]
  },
  {
   "cell_type": "code",
   "execution_count": 41,
   "metadata": {},
   "outputs": [],
   "source": [
    "# create new filenames\n",
    "\n",
    "for x, filename in enumerate(file_list):\n",
    "\n",
    "    file = filename.split('_')\n",
    "\n",
    "    id = str(x + 1).zfill(4)\n",
    "    psalm_nr = file[1]\n",
    "    author = file[2]\n",
    "    year = file[3].split('.')[0]\n",
    "\n",
    "    filename_new = f'{id}_Psalm_{psalm_nr}_{author}_{year}.txt'\n",
    "\n",
    "    with open(f'data_tr/{filename}', 'r', encoding='utf8') as f:\n",
    "        content = f.read()\n",
    "\n",
    "    with open(f'data_new/{filename_new}', 'w', encoding='utf8') as f:\n",
    "        f.write(content)    "
   ]
  },
  {
   "cell_type": "markdown",
   "metadata": {},
   "source": [
    "### csv"
   ]
  },
  {
   "cell_type": "code",
   "execution_count": 42,
   "metadata": {},
   "outputs": [],
   "source": [
    "# create header\n",
    "\n",
    "header = ['ID', 'Titel', 'Autor', 'Jahr', 'Text']"
   ]
  },
  {
   "cell_type": "code",
   "execution_count": 45,
   "metadata": {},
   "outputs": [],
   "source": [
    "# create csv-file with header\n",
    "\n",
    "with open(\"data_new/psalm_table.csv\", \"w\", newline=\"\") as f: \n",
    "    writer = csv.writer(f)\n",
    "    writer.writerow(header)"
   ]
  },
  {
   "cell_type": "code",
   "execution_count": 47,
   "metadata": {},
   "outputs": [],
   "source": [
    "# create new files in new directory with new filenames\n",
    "\n",
    "with open(\"data_new/psalm_table.csv\", \"w\", newline=\"\") as f: \n",
    "    writer = csv.writer(f)\n",
    "    writer.writerow(header)\n",
    "\n",
    "    for x, filename in enumerate(file_list):\n",
    "\n",
    "        file = filename.split('_')\n",
    "\n",
    "        id = str(x + 1).zfill(4)\n",
    "        psalm_nr = file[1]\n",
    "        author = file[2]\n",
    "        year = file[3].split('.')[0]\n",
    "        title = f'Psalm{psalm_nr}'\n",
    "\n",
    "        filename_new = f'{id}_Psalm_{psalm_nr}_{author}_{year}.txt'\n",
    "\n",
    "        with open(f'data_tr/{filename}', 'r', encoding='utf8') as f:\n",
    "            content = f.read()\n",
    "\n",
    "        with open(f'data_new/{filename_new}', 'w', encoding='utf8') as f:\n",
    "            f.write(content)\n",
    "        \n",
    "        writer.writerow([id, title, author, year, content])\n",
    "\n",
    "                 "
   ]
  },
  {
   "cell_type": "markdown",
   "metadata": {},
   "source": [
    "### JSON"
   ]
  },
  {
   "cell_type": "code",
   "execution_count": 28,
   "metadata": {},
   "outputs": [],
   "source": [
    "# create empty dictionary\n",
    "\n",
    "file_dict = dict()\n",
    "\n",
    "# use for-loop to fill dictionary\n",
    "\n",
    "for x, filename in enumerate(file_list):\n",
    "\n",
    "    file = filename.split('_')\n",
    "\n",
    "    id = str(x + 1).zfill(4)\n",
    "    psalm_nr = file[1]\n",
    "    author = file[2]\n",
    "    year = file[3].split('.')[0]\n",
    "    title = f'Psalm{psalm_nr}'\n",
    "\n",
    "    filename_new = f'{id}_Psalm_{psalm_nr}_{author}_{year}.txt'\n",
    "\n",
    "    file_dict[filename_new] = {\n",
    "                            \"author\": author,\n",
    "                            \"title\": title,\n",
    "                            \"year\": year\n",
    "                            }\n"
   ]
  },
  {
   "cell_type": "code",
   "execution_count": 29,
   "metadata": {},
   "outputs": [
    {
     "data": {
      "text/plain": [
       "{'0001_Psalm_156_Bravus_1135.txt': {'author': 'Bravus',\n",
       "  'title': 'Psalm156',\n",
       "  'year': '1135'},\n",
       " '0002_Psalm_134_Carlus_1246.txt': {'author': 'Carlus',\n",
       "  'title': 'Psalm134',\n",
       "  'year': '1246'},\n",
       " '0003_Psalm_112_Deltus_1357.txt': {'author': 'Deltus',\n",
       "  'title': 'Psalm112',\n",
       "  'year': '1357'},\n",
       " '0004_Psalm_213_Alphus_1012.txt': {'author': 'Alphus',\n",
       "  'title': 'Psalm213',\n",
       "  'year': '1012'},\n",
       " '0005_Psalm_202_Alphus_1024.txt': {'author': 'Alphus',\n",
       "  'title': 'Psalm202',\n",
       "  'year': '1024'},\n",
       " '0006_Psalm_101_Echus_1468.txt': {'author': 'Echus',\n",
       "  'title': 'Psalm101',\n",
       "  'year': '1468'}}"
      ]
     },
     "execution_count": 29,
     "metadata": {},
     "output_type": "execute_result"
    }
   ],
   "source": [
    "# check dict\n",
    "\n",
    "file_dict"
   ]
  },
  {
   "cell_type": "code",
   "execution_count": 33,
   "metadata": {},
   "outputs": [],
   "source": [
    "# save dict as json-file\n",
    "\n",
    "with open(\"data_new/test.json\", \"w\") as f:\n",
    "    json.dump(file_dict, f, ensure_ascii=False, indent=4)"
   ]
  },
  {
   "cell_type": "markdown",
   "metadata": {},
   "source": [
    "### Zusammenfassung"
   ]
  },
  {
   "cell_type": "code",
   "execution_count": 32,
   "metadata": {},
   "outputs": [],
   "source": [
    "# create filenames, table, json\n",
    "\n",
    "file_dict = dict()\n",
    "\n",
    "with open(\"data_new/psalm_table.csv\", \"w\", newline=\"\") as f: \n",
    "    writer = csv.writer(f)\n",
    "    writer.writerow(header)\n",
    "\n",
    "    for x, filename in enumerate(file_list):\n",
    "\n",
    "        file = filename.split('_')\n",
    "\n",
    "        id = str(x + 1).zfill(4)\n",
    "        psalm_nr = file[1]\n",
    "        author = file[2]\n",
    "        year = file[3].split('.')[0]\n",
    "        title = f'Psalm{psalm_nr}'\n",
    "\n",
    "        filename_new = f'{id}_{title}_{author}_{year}.txt'\n",
    "\n",
    "        with open(f'data_tr/{filename}', 'r', encoding='utf8') as f:\n",
    "            content = f.read()\n",
    "\n",
    "        with open(f'data_new/{filename_new}', 'w', encoding='utf8') as f:\n",
    "            f.write(content)\n",
    "        \n",
    "        writer.writerow([id, title, author, year])\n",
    "\n",
    "        file_dict[filename_new] = {\n",
    "                            \"author\": author,\n",
    "                            \"title\": title,\n",
    "                            \"year\": year\n",
    "                            }\n",
    "\n",
    "with open(\"data_new/psalm-metadata.json\", \"w\") as f:\n",
    "    json.dump(file_dict, f, ensure_ascii=False, indent=4)"
   ]
  },
  {
   "cell_type": "code",
   "execution_count": null,
   "metadata": {},
   "outputs": [],
   "source": []
  }
 ],
 "metadata": {
  "kernelspec": {
   "display_name": "Python 3.9.7 ('base')",
   "language": "python",
   "name": "python3"
  },
  "language_info": {
   "codemirror_mode": {
    "name": "ipython",
    "version": 3
   },
   "file_extension": ".py",
   "mimetype": "text/x-python",
   "name": "python",
   "nbconvert_exporter": "python",
   "pygments_lexer": "ipython3",
   "version": "3.9.7"
  },
  "orig_nbformat": 4,
  "vscode": {
   "interpreter": {
    "hash": "4cab2e3c59f82d31ef33573b56569893ba7388f3e17b6676d60d91498ea89ea5"
   }
  }
 },
 "nbformat": 4,
 "nbformat_minor": 2
}
