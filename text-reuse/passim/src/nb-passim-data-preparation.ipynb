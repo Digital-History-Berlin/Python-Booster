{
 "cells": [
  {
   "cell_type": "markdown",
   "metadata": {},
   "source": [
    "# Vorbereitung der Input-Daten für passim\n",
    "\n",
    "https://github.com/dasmiq/passim\n",
    "\n",
    "https://programminghistorian.org/en/lessons/detecting-text-reuse-with-passim#installing-passim\n",
    "\n",
    "https://jsonlines.org/\n",
    "\n",
    "https://www.json.org/json-en.html\n",
    "\n",
    "https://github.com/dasmiq/passim#structuring-the-input\n",
    "\n",
    "https://github.com/impresso/PH-passim-tutorial\n",
    "\n",
    "https://github.com/impresso/PH-passim-tutorial/tree/master/eebo\n",
    "\n",
    "gewünschtes Format\n",
    "* JSON\n",
    "* JSON-Objekt auf einer Zeile\n",
    "\n",
    "```json\n",
    "{\"id\": \"d1\", \"series\": \"abc\", \"text\": \"This is text.\"}\n",
    "````\n",
    "\n",
    "Beim Schlüssel \"id\" werden einzelne Dokument als Werte hinterlegt:\n",
    "* Zeitungsausgabe eines Jahrgangs\n",
    "* Zeitungsartikel einer Ausgabe\n",
    "* Buchkapitel\n",
    "* Buchseiten\n",
    "\n",
    "Dokumente, die in der gleichen \"series\" hinterlegt sind, werden nicht miteinander verglichen.\n",
    "\n",
    "Beim Schlüssel \"series\" werden der übergeordnete Einheiten zusammenhängender Dokumente hinterlegt:\n",
    "* Bücher\n",
    "* Zeitungen\n",
    "* Werke eines Autors\n",
    "\n"
   ]
  },
  {
   "cell_type": "code",
   "execution_count": 19,
   "metadata": {},
   "outputs": [],
   "source": [
    "import os\n",
    "import json"
   ]
  },
  {
   "cell_type": "code",
   "execution_count": 13,
   "metadata": {},
   "outputs": [],
   "source": [
    "DATA_PATH = '../data/'"
   ]
  },
  {
   "cell_type": "code",
   "execution_count": 14,
   "metadata": {},
   "outputs": [
    {
     "data": {
      "text/plain": [
       "['book_a', 'book_b', 'book_c']"
      ]
     },
     "execution_count": 14,
     "metadata": {},
     "output_type": "execute_result"
    }
   ],
   "source": [
    "data_dir = os.listdir(DATA_PATH)\n",
    "data_dir"
   ]
  },
  {
   "cell_type": "code",
   "execution_count": 41,
   "metadata": {},
   "outputs": [
    {
     "name": "stdout",
     "output_type": "stream",
     "text": [
      "['ch_1a.txt', 'ch_2a.txt']\n",
      "book_a\n",
      "ch_1a\n",
      "Text von Book A Chapter 1\n",
      "{'id': 'ch_1a', 'series': 'book_a', 'text': 'Text von Book A Chapter 1'}\n",
      "ch_2a\n",
      "Text von Book A Chapter 2\n",
      "{'id': 'ch_2a', 'series': 'book_a', 'text': 'Text von Book A Chapter 2'}\n",
      "['ch_1b.txt', 'ch_2b.txt']\n",
      "book_b\n",
      "ch_1b\n",
      "Text von Book B Chapter 1\n",
      "{'id': 'ch_1b', 'series': 'book_b', 'text': 'Text von Book B Chapter 1'}\n",
      "ch_2b\n",
      "Text von Book B Chapter 2\n",
      "{'id': 'ch_2b', 'series': 'book_b', 'text': 'Text von Book B Chapter 2'}\n",
      "['ch_1c.txt', 'ch_2c.txt']\n",
      "book_c\n",
      "ch_1c\n",
      "Text von Book C Chapter 1\n",
      "{'id': 'ch_1c', 'series': 'book_c', 'text': 'Text von Book C Chapter 1'}\n",
      "ch_2c\n",
      "Text von Book C Chapter 2\n",
      "{'id': 'ch_2c', 'series': 'book_c', 'text': 'Text von Book C Chapter 2'}\n"
     ]
    }
   ],
   "source": [
    "# create json for passim with print-statements\n",
    "\n",
    "for dir in data_dir:\n",
    "\n",
    "    files = os.listdir(os.path.join(DATA_PATH, dir))\n",
    "    print(files)\n",
    "    series = dir\n",
    "    print(series)\n",
    "\n",
    "    for file in files:\n",
    "        id = file.split('.')[0]\n",
    "        print(id)\n",
    "\n",
    "        with open(os.path.join(DATA_PATH, dir, file)) as f:\n",
    "            content = f.read()\n",
    "        \n",
    "        print(content)\n",
    "\n",
    "        json_line_output = {\"id\": id, \"series\": series, \"text\": content}\n",
    "        print(json_line_output)\n",
    "\n"
   ]
  },
  {
   "cell_type": "code",
   "execution_count": 93,
   "metadata": {},
   "outputs": [],
   "source": [
    "# create json for passim\n",
    "\n",
    "for dir in data_dir:\n",
    "\n",
    "    files = os.listdir(os.path.join(DATA_PATH, dir))    \n",
    "    series = dir    \n",
    "\n",
    "    for file in files:\n",
    "        id = file.split('.')[0]\n",
    "\n",
    "        with open(os.path.join(DATA_PATH, dir, file)) as f:\n",
    "            content = f.read()\n",
    "\n",
    "        json_line_output = {\"id\": id, \"series\": series, \"text\": content}\n",
    "        \n",
    "        with open('output.json', 'a') as json_file:\n",
    "            json.dump(json_line_output, json_file, ensure_ascii=False)\n",
    "            json_file.write('\\n')"
   ]
  },
  {
   "cell_type": "code",
   "execution_count": 96,
   "metadata": {},
   "outputs": [
    {
     "ename": "JSONDecodeError",
     "evalue": "Extra data: line 2 column 1 (char 73)",
     "output_type": "error",
     "traceback": [
      "\u001b[1;31m---------------------------------------------------------------------------\u001b[0m",
      "\u001b[1;31mJSONDecodeError\u001b[0m                           Traceback (most recent call last)",
      "\u001b[1;32m~\\AppData\\Local\\Temp/ipykernel_26580/2516458180.py\u001b[0m in \u001b[0;36m<module>\u001b[1;34m\u001b[0m\n\u001b[0;32m      1\u001b[0m \u001b[1;32mwith\u001b[0m \u001b[0mopen\u001b[0m\u001b[1;33m(\u001b[0m\u001b[1;34m'output.json'\u001b[0m\u001b[1;33m,\u001b[0m \u001b[1;34m'r'\u001b[0m\u001b[1;33m)\u001b[0m \u001b[1;32mas\u001b[0m \u001b[0mjson_file\u001b[0m\u001b[1;33m:\u001b[0m\u001b[1;33m\u001b[0m\u001b[1;33m\u001b[0m\u001b[0m\n\u001b[1;32m----> 2\u001b[1;33m     \u001b[0moutput\u001b[0m \u001b[1;33m=\u001b[0m \u001b[0mjson\u001b[0m\u001b[1;33m.\u001b[0m\u001b[0mload\u001b[0m\u001b[1;33m(\u001b[0m\u001b[0mjson_file\u001b[0m\u001b[1;33m)\u001b[0m\u001b[1;33m\u001b[0m\u001b[1;33m\u001b[0m\u001b[0m\n\u001b[0m",
      "\u001b[1;32mc:\\Users\\nitra\\anaconda3\\lib\\json\\__init__.py\u001b[0m in \u001b[0;36mload\u001b[1;34m(fp, cls, object_hook, parse_float, parse_int, parse_constant, object_pairs_hook, **kw)\u001b[0m\n\u001b[0;32m    291\u001b[0m     \u001b[0mkwarg\u001b[0m\u001b[1;33m;\u001b[0m \u001b[0motherwise\u001b[0m\u001b[0;31m \u001b[0m\u001b[0;31m`\u001b[0m\u001b[0;31m`\u001b[0m\u001b[0mJSONDecoder\u001b[0m\u001b[0;31m`\u001b[0m\u001b[0;31m`\u001b[0m \u001b[1;32mis\u001b[0m \u001b[0mused\u001b[0m\u001b[1;33m.\u001b[0m\u001b[1;33m\u001b[0m\u001b[1;33m\u001b[0m\u001b[0m\n\u001b[0;32m    292\u001b[0m     \"\"\"\n\u001b[1;32m--> 293\u001b[1;33m     return loads(fp.read(),\n\u001b[0m\u001b[0;32m    294\u001b[0m         \u001b[0mcls\u001b[0m\u001b[1;33m=\u001b[0m\u001b[0mcls\u001b[0m\u001b[1;33m,\u001b[0m \u001b[0mobject_hook\u001b[0m\u001b[1;33m=\u001b[0m\u001b[0mobject_hook\u001b[0m\u001b[1;33m,\u001b[0m\u001b[1;33m\u001b[0m\u001b[1;33m\u001b[0m\u001b[0m\n\u001b[0;32m    295\u001b[0m         \u001b[0mparse_float\u001b[0m\u001b[1;33m=\u001b[0m\u001b[0mparse_float\u001b[0m\u001b[1;33m,\u001b[0m \u001b[0mparse_int\u001b[0m\u001b[1;33m=\u001b[0m\u001b[0mparse_int\u001b[0m\u001b[1;33m,\u001b[0m\u001b[1;33m\u001b[0m\u001b[1;33m\u001b[0m\u001b[0m\n",
      "\u001b[1;32mc:\\Users\\nitra\\anaconda3\\lib\\json\\__init__.py\u001b[0m in \u001b[0;36mloads\u001b[1;34m(s, cls, object_hook, parse_float, parse_int, parse_constant, object_pairs_hook, **kw)\u001b[0m\n\u001b[0;32m    344\u001b[0m             \u001b[0mparse_int\u001b[0m \u001b[1;32mis\u001b[0m \u001b[1;32mNone\u001b[0m \u001b[1;32mand\u001b[0m \u001b[0mparse_float\u001b[0m \u001b[1;32mis\u001b[0m \u001b[1;32mNone\u001b[0m \u001b[1;32mand\u001b[0m\u001b[1;33m\u001b[0m\u001b[1;33m\u001b[0m\u001b[0m\n\u001b[0;32m    345\u001b[0m             parse_constant is None and object_pairs_hook is None and not kw):\n\u001b[1;32m--> 346\u001b[1;33m         \u001b[1;32mreturn\u001b[0m \u001b[0m_default_decoder\u001b[0m\u001b[1;33m.\u001b[0m\u001b[0mdecode\u001b[0m\u001b[1;33m(\u001b[0m\u001b[0ms\u001b[0m\u001b[1;33m)\u001b[0m\u001b[1;33m\u001b[0m\u001b[1;33m\u001b[0m\u001b[0m\n\u001b[0m\u001b[0;32m    347\u001b[0m     \u001b[1;32mif\u001b[0m \u001b[0mcls\u001b[0m \u001b[1;32mis\u001b[0m \u001b[1;32mNone\u001b[0m\u001b[1;33m:\u001b[0m\u001b[1;33m\u001b[0m\u001b[1;33m\u001b[0m\u001b[0m\n\u001b[0;32m    348\u001b[0m         \u001b[0mcls\u001b[0m \u001b[1;33m=\u001b[0m \u001b[0mJSONDecoder\u001b[0m\u001b[1;33m\u001b[0m\u001b[1;33m\u001b[0m\u001b[0m\n",
      "\u001b[1;32mc:\\Users\\nitra\\anaconda3\\lib\\json\\decoder.py\u001b[0m in \u001b[0;36mdecode\u001b[1;34m(self, s, _w)\u001b[0m\n\u001b[0;32m    338\u001b[0m         \u001b[0mend\u001b[0m \u001b[1;33m=\u001b[0m \u001b[0m_w\u001b[0m\u001b[1;33m(\u001b[0m\u001b[0ms\u001b[0m\u001b[1;33m,\u001b[0m \u001b[0mend\u001b[0m\u001b[1;33m)\u001b[0m\u001b[1;33m.\u001b[0m\u001b[0mend\u001b[0m\u001b[1;33m(\u001b[0m\u001b[1;33m)\u001b[0m\u001b[1;33m\u001b[0m\u001b[1;33m\u001b[0m\u001b[0m\n\u001b[0;32m    339\u001b[0m         \u001b[1;32mif\u001b[0m \u001b[0mend\u001b[0m \u001b[1;33m!=\u001b[0m \u001b[0mlen\u001b[0m\u001b[1;33m(\u001b[0m\u001b[0ms\u001b[0m\u001b[1;33m)\u001b[0m\u001b[1;33m:\u001b[0m\u001b[1;33m\u001b[0m\u001b[1;33m\u001b[0m\u001b[0m\n\u001b[1;32m--> 340\u001b[1;33m             \u001b[1;32mraise\u001b[0m \u001b[0mJSONDecodeError\u001b[0m\u001b[1;33m(\u001b[0m\u001b[1;34m\"Extra data\"\u001b[0m\u001b[1;33m,\u001b[0m \u001b[0ms\u001b[0m\u001b[1;33m,\u001b[0m \u001b[0mend\u001b[0m\u001b[1;33m)\u001b[0m\u001b[1;33m\u001b[0m\u001b[1;33m\u001b[0m\u001b[0m\n\u001b[0m\u001b[0;32m    341\u001b[0m         \u001b[1;32mreturn\u001b[0m \u001b[0mobj\u001b[0m\u001b[1;33m\u001b[0m\u001b[1;33m\u001b[0m\u001b[0m\n\u001b[0;32m    342\u001b[0m \u001b[1;33m\u001b[0m\u001b[0m\n",
      "\u001b[1;31mJSONDecodeError\u001b[0m: Extra data: line 2 column 1 (char 73)"
     ]
    }
   ],
   "source": [
    "# seems not to be correct json that could be load with json.load()\n",
    "\n",
    "with open('output.json', 'r') as json_file:\n",
    "    output = json.load(json_file)"
   ]
  },
  {
   "cell_type": "code",
   "execution_count": 94,
   "metadata": {},
   "outputs": [],
   "source": [
    "with open('output.json', 'r') as f:\n",
    "    output = f.read().splitlines()"
   ]
  },
  {
   "cell_type": "code",
   "execution_count": 95,
   "metadata": {},
   "outputs": [
    {
     "data": {
      "text/plain": [
       "['{\"id\": \"ch_1a\", \"series\": \"book_a\", \"text\": \"Text von Book A Chapter 1\"}',\n",
       " '{\"id\": \"ch_2a\", \"series\": \"book_a\", \"text\": \"Text von Book A Chapter 2\"}',\n",
       " '{\"id\": \"ch_1b\", \"series\": \"book_b\", \"text\": \"Text von Book B Chapter 1\"}',\n",
       " '{\"id\": \"ch_2b\", \"series\": \"book_b\", \"text\": \"Text von Book B Chapter 2\"}',\n",
       " '{\"id\": \"ch_1c\", \"series\": \"book_c\", \"text\": \"Text von Book C Chapter 1\"}',\n",
       " '{\"id\": \"ch_2c\", \"series\": \"book_c\", \"text\": \"Text von Book C Chapter 2\"}']"
      ]
     },
     "execution_count": 95,
     "metadata": {},
     "output_type": "execute_result"
    }
   ],
   "source": [
    "output"
   ]
  }
 ],
 "metadata": {
  "kernelspec": {
   "display_name": "Python 3.9.7 ('base')",
   "language": "python",
   "name": "python3"
  },
  "language_info": {
   "codemirror_mode": {
    "name": "ipython",
    "version": 3
   },
   "file_extension": ".py",
   "mimetype": "text/x-python",
   "name": "python",
   "nbconvert_exporter": "python",
   "pygments_lexer": "ipython3",
   "version": "3.9.7"
  },
  "orig_nbformat": 4,
  "vscode": {
   "interpreter": {
    "hash": "4cab2e3c59f82d31ef33573b56569893ba7388f3e17b6676d60d91498ea89ea5"
   }
  }
 },
 "nbformat": 4,
 "nbformat_minor": 2
}
