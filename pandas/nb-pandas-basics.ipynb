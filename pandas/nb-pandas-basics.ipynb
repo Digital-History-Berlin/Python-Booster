{
 "cells": [
  {
   "cell_type": "markdown",
   "metadata": {},
   "source": [
    "# Pandas: Erste Schritte\n",
    "\n",
    "[Pandas](https://pandas.pydata.org/) ist eine sehr weit verbreitete Python-Bibliothek zur Verarbeitung von tabellarischen Daten. Der Name kommt vom englischen Begriff *panel data*. \n",
    "\n",
    "Eine sehr gute und ausführliche Einführung in Pandas bietet ein eigenes Kapitel aus dem Data Science Handbook von Jake VanderPlas: [Data Manipulation with Pandas](https://jakevdp.github.io/PythonDataScienceHandbook/03.00-introduction-to-pandas.html). (Jake VanderPlas, Python Data Science Handbook. Essential Tools for Working with Data, https://jakevdp.github.io/PythonDataScienceHandbook/) \n"
   ]
  },
  {
   "cell_type": "markdown",
   "metadata": {},
   "source": [
    "## Import"
   ]
  },
  {
   "cell_type": "code",
   "execution_count": 72,
   "metadata": {},
   "outputs": [],
   "source": [
    "import pandas as pd"
   ]
  },
  {
   "cell_type": "markdown",
   "metadata": {},
   "source": [
    "## Einlesen der Daten\n",
    "\n",
    "Dataframes und Series sind die Datenstrukturen, mit denen am meisten gearbeitet wird. Daher werden die Daten, die in einer csv-Datei vorliegen, einen Dataframe eingelesen. Es gibt weitere Möglichkeiten, Daten aus einer list, einem dictionary oder aus anderen Dateiformaten wie json oder xml einzulesen. Der beim Einlesen übergebene Parameter *parse_dates* wandelt diese Datenspalte in ein datetime-Objekt um - auf diese Weise können leichter datumspezifische Operationen durchgeführt werden, was insbesondere für Historiker:innen relevant ist."
   ]
  },
  {
   "cell_type": "code",
   "execution_count": 172,
   "metadata": {},
   "outputs": [],
   "source": [
    "df = pd.read_csv('reden-bundesregierung.csv', parse_dates=['date'])"
   ]
  },
  {
   "cell_type": "markdown",
   "metadata": {},
   "source": [
    "## Anzeigen der Daten"
   ]
  },
  {
   "cell_type": "code",
   "execution_count": 173,
   "metadata": {},
   "outputs": [
    {
     "name": "stdout",
     "output_type": "stream",
     "text": [
      "(2983, 6)\n",
      "Der Dataframe hat 2983 Zeilen.\n",
      "Der Dataframe hat 6 Spalten.\n"
     ]
    }
   ],
   "source": [
    "print(df.shape)\n",
    "print(f'Der Dataframe hat {df.shape[0]} Zeilen.')\n",
    "print(f'Der Dataframe hat {df.shape[1]} Spalten.')"
   ]
  },
  {
   "cell_type": "code",
   "execution_count": 75,
   "metadata": {},
   "outputs": [
    {
     "data": {
      "text/html": [
       "<div>\n",
       "<style scoped>\n",
       "    .dataframe tbody tr th:only-of-type {\n",
       "        vertical-align: middle;\n",
       "    }\n",
       "\n",
       "    .dataframe tbody tr th {\n",
       "        vertical-align: top;\n",
       "    }\n",
       "\n",
       "    .dataframe thead th {\n",
       "        text-align: right;\n",
       "    }\n",
       "</style>\n",
       "<table border=\"1\" class=\"dataframe\">\n",
       "  <thead>\n",
       "    <tr style=\"text-align: right;\">\n",
       "      <th></th>\n",
       "      <th>person</th>\n",
       "      <th>title</th>\n",
       "      <th>date</th>\n",
       "      <th>text</th>\n",
       "      <th>tokens</th>\n",
       "      <th>ntokens</th>\n",
       "    </tr>\n",
       "  </thead>\n",
       "  <tbody>\n",
       "    <tr>\n",
       "      <th>0</th>\n",
       "      <td>Gerhard Schröder</td>\n",
       "      <td>Rede des Bundeskanzlers zur Eröffnung der 52. ...</td>\n",
       "      <td>2002-02-06</td>\n",
       "      <td>es ist angekündigt worden, man sollte im Beruf...</td>\n",
       "      <td>['es', 'ist', 'angekündigt', 'worden', 'man', ...</td>\n",
       "      <td>1911</td>\n",
       "    </tr>\n",
       "    <tr>\n",
       "      <th>1</th>\n",
       "      <td>Julian Nida-Rümelin</td>\n",
       "      <td>Redebeitrag von Staatsminister Nida-Rümelin in...</td>\n",
       "      <td>2002-02-01</td>\n",
       "      <td>Frau Präsidentin!  An Sie gerichtet, Herr Börn...</td>\n",
       "      <td>['Frau', 'Präsidentin', ' ', 'An', 'Sie', 'ger...</td>\n",
       "      <td>1319</td>\n",
       "    </tr>\n",
       "    <tr>\n",
       "      <th>2</th>\n",
       "      <td>Gerhard Schröder</td>\n",
       "      <td>Interview mit Bundeskanzler Schröder in 'Berli...</td>\n",
       "      <td>2002-04-14</td>\n",
       "      <td>Frage (Peter Hahne): Bevor wir uns über den Au...</td>\n",
       "      <td>['Frage', 'Peter', 'Hahne', 'Bevor', 'wir', 'u...</td>\n",
       "      <td>1512</td>\n",
       "    </tr>\n",
       "    <tr>\n",
       "      <th>3</th>\n",
       "      <td>Gerhard Schröder</td>\n",
       "      <td>Rede von Bundeskanzler Gerhard Schröder bei de...</td>\n",
       "      <td>2005-03-08</td>\n",
       "      <td>Einen Satz von Ihnen, Herr Dr. Bernotat, habe ...</td>\n",
       "      <td>['Einen', 'Satz', 'von', 'Ihnen', 'Herr', 'Dr....</td>\n",
       "      <td>2515</td>\n",
       "    </tr>\n",
       "    <tr>\n",
       "      <th>4</th>\n",
       "      <td>Gerhard Schröder</td>\n",
       "      <td>Rede von Bundeskanzler Gerhard Schröder auf de...</td>\n",
       "      <td>2000-05-04</td>\n",
       "      <td>diese Jahresversammlung der Hochschulrektorenk...</td>\n",
       "      <td>['diese', 'Jahresversammlung', 'der', 'Hochsch...</td>\n",
       "      <td>768</td>\n",
       "    </tr>\n",
       "  </tbody>\n",
       "</table>\n",
       "</div>"
      ],
      "text/plain": [
       "                person                                              title  \\\n",
       "0     Gerhard Schröder  Rede des Bundeskanzlers zur Eröffnung der 52. ...   \n",
       "1  Julian Nida-Rümelin  Redebeitrag von Staatsminister Nida-Rümelin in...   \n",
       "2     Gerhard Schröder  Interview mit Bundeskanzler Schröder in 'Berli...   \n",
       "3     Gerhard Schröder  Rede von Bundeskanzler Gerhard Schröder bei de...   \n",
       "4     Gerhard Schröder  Rede von Bundeskanzler Gerhard Schröder auf de...   \n",
       "\n",
       "        date                                               text  \\\n",
       "0 2002-02-06  es ist angekündigt worden, man sollte im Beruf...   \n",
       "1 2002-02-01  Frau Präsidentin!  An Sie gerichtet, Herr Börn...   \n",
       "2 2002-04-14  Frage (Peter Hahne): Bevor wir uns über den Au...   \n",
       "3 2005-03-08  Einen Satz von Ihnen, Herr Dr. Bernotat, habe ...   \n",
       "4 2000-05-04  diese Jahresversammlung der Hochschulrektorenk...   \n",
       "\n",
       "                                              tokens  ntokens  \n",
       "0  ['es', 'ist', 'angekündigt', 'worden', 'man', ...     1911  \n",
       "1  ['Frau', 'Präsidentin', ' ', 'An', 'Sie', 'ger...     1319  \n",
       "2  ['Frage', 'Peter', 'Hahne', 'Bevor', 'wir', 'u...     1512  \n",
       "3  ['Einen', 'Satz', 'von', 'Ihnen', 'Herr', 'Dr....     2515  \n",
       "4  ['diese', 'Jahresversammlung', 'der', 'Hochsch...      768  "
      ]
     },
     "execution_count": 75,
     "metadata": {},
     "output_type": "execute_result"
    }
   ],
   "source": [
    "df.head()"
   ]
  },
  {
   "cell_type": "code",
   "execution_count": 76,
   "metadata": {},
   "outputs": [
    {
     "data": {
      "text/plain": [
       "Index(['person', 'title', 'date', 'text', 'tokens', 'ntokens'], dtype='object')"
      ]
     },
     "execution_count": 76,
     "metadata": {},
     "output_type": "execute_result"
    }
   ],
   "source": [
    "df.columns"
   ]
  },
  {
   "cell_type": "code",
   "execution_count": 77,
   "metadata": {},
   "outputs": [
    {
     "name": "stdout",
     "output_type": "stream",
     "text": [
      "<class 'pandas.core.frame.DataFrame'>\n",
      "RangeIndex: 2983 entries, 0 to 2982\n",
      "Data columns (total 6 columns):\n",
      " #   Column   Non-Null Count  Dtype         \n",
      "---  ------   --------------  -----         \n",
      " 0   person   2983 non-null   object        \n",
      " 1   title    2982 non-null   object        \n",
      " 2   date     2983 non-null   datetime64[ns]\n",
      " 3   text     2983 non-null   object        \n",
      " 4   tokens   2983 non-null   object        \n",
      " 5   ntokens  2983 non-null   int64         \n",
      "dtypes: datetime64[ns](1), int64(1), object(4)\n",
      "memory usage: 140.0+ KB\n"
     ]
    }
   ],
   "source": [
    "df.info()"
   ]
  },
  {
   "cell_type": "code",
   "execution_count": 78,
   "metadata": {},
   "outputs": [
    {
     "data": {
      "text/html": [
       "<div>\n",
       "<style scoped>\n",
       "    .dataframe tbody tr th:only-of-type {\n",
       "        vertical-align: middle;\n",
       "    }\n",
       "\n",
       "    .dataframe tbody tr th {\n",
       "        vertical-align: top;\n",
       "    }\n",
       "\n",
       "    .dataframe thead th {\n",
       "        text-align: right;\n",
       "    }\n",
       "</style>\n",
       "<table border=\"1\" class=\"dataframe\">\n",
       "  <thead>\n",
       "    <tr style=\"text-align: right;\">\n",
       "      <th></th>\n",
       "      <th>ntokens</th>\n",
       "    </tr>\n",
       "  </thead>\n",
       "  <tbody>\n",
       "    <tr>\n",
       "      <th>count</th>\n",
       "      <td>2983.000000</td>\n",
       "    </tr>\n",
       "    <tr>\n",
       "      <th>mean</th>\n",
       "      <td>1939.533691</td>\n",
       "    </tr>\n",
       "    <tr>\n",
       "      <th>std</th>\n",
       "      <td>1285.096751</td>\n",
       "    </tr>\n",
       "    <tr>\n",
       "      <th>min</th>\n",
       "      <td>6.000000</td>\n",
       "    </tr>\n",
       "    <tr>\n",
       "      <th>25%</th>\n",
       "      <td>963.500000</td>\n",
       "    </tr>\n",
       "    <tr>\n",
       "      <th>50%</th>\n",
       "      <td>1599.000000</td>\n",
       "    </tr>\n",
       "    <tr>\n",
       "      <th>75%</th>\n",
       "      <td>2605.000000</td>\n",
       "    </tr>\n",
       "    <tr>\n",
       "      <th>max</th>\n",
       "      <td>10459.000000</td>\n",
       "    </tr>\n",
       "  </tbody>\n",
       "</table>\n",
       "</div>"
      ],
      "text/plain": [
       "            ntokens\n",
       "count   2983.000000\n",
       "mean    1939.533691\n",
       "std     1285.096751\n",
       "min        6.000000\n",
       "25%      963.500000\n",
       "50%     1599.000000\n",
       "75%     2605.000000\n",
       "max    10459.000000"
      ]
     },
     "execution_count": 78,
     "metadata": {},
     "output_type": "execute_result"
    }
   ],
   "source": [
    "df.describe()"
   ]
  },
  {
   "cell_type": "code",
   "execution_count": 79,
   "metadata": {},
   "outputs": [
    {
     "data": {
      "text/plain": [
       "person     0\n",
       "title      1\n",
       "date       0\n",
       "text       0\n",
       "tokens     0\n",
       "ntokens    0\n",
       "dtype: int64"
      ]
     },
     "execution_count": 79,
     "metadata": {},
     "output_type": "execute_result"
    }
   ],
   "source": [
    "df.isna().sum()"
   ]
  },
  {
   "cell_type": "markdown",
   "metadata": {},
   "source": [
    "### Auswählen einer Spalte\n",
    "\n",
    "Eine einzelne Spalte eines Dataframes wird bei Pandas als Series bezeichnet. Auf Series kann man eigene spezifische Methoden anwenden. Es gibt verschiedene Schreibweisen, um eine Spalte auszuwählen. Die beste Option ist die als letztes angeführte expliziteste Schreibweise, um  Komplikationen bei einer möglichen Doppelbenennung von Spaltennamen und Python-Keywords zu verhindern. "
   ]
  },
  {
   "cell_type": "code",
   "execution_count": 80,
   "metadata": {},
   "outputs": [
    {
     "data": {
      "text/plain": [
       "0          Gerhard Schröder\n",
       "1       Julian Nida-Rümelin\n",
       "2          Gerhard Schröder\n",
       "3          Gerhard Schröder\n",
       "4          Gerhard Schröder\n",
       "               ...         \n",
       "2978            Helmut Kohl\n",
       "2979            Helmut Kohl\n",
       "2980            Helmut Kohl\n",
       "2981            Helmut Kohl\n",
       "2982            Helmut Kohl\n",
       "Name: person, Length: 2983, dtype: object"
      ]
     },
     "execution_count": 80,
     "metadata": {},
     "output_type": "execute_result"
    }
   ],
   "source": [
    "df['person']"
   ]
  },
  {
   "cell_type": "code",
   "execution_count": 81,
   "metadata": {},
   "outputs": [
    {
     "data": {
      "text/plain": [
       "0          Gerhard Schröder\n",
       "1       Julian Nida-Rümelin\n",
       "2          Gerhard Schröder\n",
       "3          Gerhard Schröder\n",
       "4          Gerhard Schröder\n",
       "               ...         \n",
       "2978            Helmut Kohl\n",
       "2979            Helmut Kohl\n",
       "2980            Helmut Kohl\n",
       "2981            Helmut Kohl\n",
       "2982            Helmut Kohl\n",
       "Name: person, Length: 2983, dtype: object"
      ]
     },
     "execution_count": 81,
     "metadata": {},
     "output_type": "execute_result"
    }
   ],
   "source": [
    "df.person"
   ]
  },
  {
   "cell_type": "code",
   "execution_count": 82,
   "metadata": {},
   "outputs": [
    {
     "data": {
      "text/plain": [
       "0          Gerhard Schröder\n",
       "1       Julian Nida-Rümelin\n",
       "2          Gerhard Schröder\n",
       "3          Gerhard Schröder\n",
       "4          Gerhard Schröder\n",
       "               ...         \n",
       "2978            Helmut Kohl\n",
       "2979            Helmut Kohl\n",
       "2980            Helmut Kohl\n",
       "2981            Helmut Kohl\n",
       "2982            Helmut Kohl\n",
       "Name: person, Length: 2983, dtype: object"
      ]
     },
     "execution_count": 82,
     "metadata": {},
     "output_type": "execute_result"
    }
   ],
   "source": [
    "df.iloc[:, 0]"
   ]
  },
  {
   "cell_type": "code",
   "execution_count": 83,
   "metadata": {},
   "outputs": [
    {
     "data": {
      "text/plain": [
       "0          Gerhard Schröder\n",
       "1       Julian Nida-Rümelin\n",
       "2          Gerhard Schröder\n",
       "3          Gerhard Schröder\n",
       "4          Gerhard Schröder\n",
       "               ...         \n",
       "2978            Helmut Kohl\n",
       "2979            Helmut Kohl\n",
       "2980            Helmut Kohl\n",
       "2981            Helmut Kohl\n",
       "2982            Helmut Kohl\n",
       "Name: person, Length: 2983, dtype: object"
      ]
     },
     "execution_count": 83,
     "metadata": {},
     "output_type": "execute_result"
    }
   ],
   "source": [
    "df.loc[:, 'person']"
   ]
  },
  {
   "cell_type": "markdown",
   "metadata": {},
   "source": [
    "### Auswählen einer Zelle"
   ]
  },
  {
   "cell_type": "code",
   "execution_count": 84,
   "metadata": {},
   "outputs": [
    {
     "data": {
      "text/plain": [
       "'Gerhard Schröder'"
      ]
     },
     "execution_count": 84,
     "metadata": {},
     "output_type": "execute_result"
    }
   ],
   "source": [
    "df.loc[0, 'person']"
   ]
  },
  {
   "cell_type": "code",
   "execution_count": 85,
   "metadata": {},
   "outputs": [
    {
     "data": {
      "text/plain": [
       "'Gerhard Schröder'"
      ]
     },
     "execution_count": 85,
     "metadata": {},
     "output_type": "execute_result"
    }
   ],
   "source": [
    "df.iloc[0,0]"
   ]
  },
  {
   "cell_type": "code",
   "execution_count": 86,
   "metadata": {},
   "outputs": [
    {
     "data": {
      "text/plain": [
       "0       Gerhard Schröder\n",
       "1    Julian Nida-Rümelin\n",
       "2       Gerhard Schröder\n",
       "3       Gerhard Schröder\n",
       "4       Gerhard Schröder\n",
       "5        Christina Weiss\n",
       "Name: person, dtype: object"
      ]
     },
     "execution_count": 86,
     "metadata": {},
     "output_type": "execute_result"
    }
   ],
   "source": [
    "df.loc[0:5, 'person']"
   ]
  },
  {
   "cell_type": "code",
   "execution_count": 87,
   "metadata": {},
   "outputs": [
    {
     "data": {
      "text/plain": [
       "0       Gerhard Schröder\n",
       "1    Julian Nida-Rümelin\n",
       "2       Gerhard Schröder\n",
       "3       Gerhard Schröder\n",
       "4       Gerhard Schröder\n",
       "Name: person, dtype: object"
      ]
     },
     "execution_count": 87,
     "metadata": {},
     "output_type": "execute_result"
    }
   ],
   "source": [
    "df.iloc[0:5, 0]"
   ]
  },
  {
   "cell_type": "markdown",
   "metadata": {},
   "source": [
    "### Auswählen von Zeilen"
   ]
  },
  {
   "cell_type": "code",
   "execution_count": 88,
   "metadata": {},
   "outputs": [
    {
     "data": {
      "text/plain": [
       "person                                      Gerhard Schröder\n",
       "title      Rede des Bundeskanzlers zur Eröffnung der 52. ...\n",
       "date                                     2002-02-06 00:00:00\n",
       "text       es ist angekündigt worden, man sollte im Beruf...\n",
       "tokens     ['es', 'ist', 'angekündigt', 'worden', 'man', ...\n",
       "ntokens                                                 1911\n",
       "Name: 0, dtype: object"
      ]
     },
     "execution_count": 88,
     "metadata": {},
     "output_type": "execute_result"
    }
   ],
   "source": [
    "df.loc[0, :]"
   ]
  },
  {
   "cell_type": "code",
   "execution_count": 89,
   "metadata": {},
   "outputs": [
    {
     "data": {
      "text/html": [
       "<div>\n",
       "<style scoped>\n",
       "    .dataframe tbody tr th:only-of-type {\n",
       "        vertical-align: middle;\n",
       "    }\n",
       "\n",
       "    .dataframe tbody tr th {\n",
       "        vertical-align: top;\n",
       "    }\n",
       "\n",
       "    .dataframe thead th {\n",
       "        text-align: right;\n",
       "    }\n",
       "</style>\n",
       "<table border=\"1\" class=\"dataframe\">\n",
       "  <thead>\n",
       "    <tr style=\"text-align: right;\">\n",
       "      <th></th>\n",
       "      <th>person</th>\n",
       "      <th>title</th>\n",
       "      <th>date</th>\n",
       "      <th>text</th>\n",
       "      <th>tokens</th>\n",
       "      <th>ntokens</th>\n",
       "    </tr>\n",
       "  </thead>\n",
       "  <tbody>\n",
       "    <tr>\n",
       "      <th>7</th>\n",
       "      <td>Michael Naumann</td>\n",
       "      <td>Interview von Staatsminister Dr. Michael Nauma...</td>\n",
       "      <td>1999-02-24</td>\n",
       "      <td>Frage: Erstmals in der demokratischen Geschich...</td>\n",
       "      <td>['Frage', 'Erstmals', 'in', 'der', 'demokratis...</td>\n",
       "      <td>3797</td>\n",
       "    </tr>\n",
       "    <tr>\n",
       "      <th>8</th>\n",
       "      <td>Hans Martin Bury</td>\n",
       "      <td>&amp;quot;Neue Politik und Neue Ökonomie&amp;quot; - R...</td>\n",
       "      <td>2001-03-14</td>\n",
       "      <td>Sperrfrist Redebeginn!\\nSehr geehrter Herr Pot...</td>\n",
       "      <td>['Sperrfrist', 'Redebeginn', '\\n', 'Sehr', 'ge...</td>\n",
       "      <td>2106</td>\n",
       "    </tr>\n",
       "    <tr>\n",
       "      <th>9</th>\n",
       "      <td>Christina Weiss</td>\n",
       "      <td>Kulturstaatsministerin Christina Weiss eröffne...</td>\n",
       "      <td>2004-04-14</td>\n",
       "      <td>am 19. April 1944 - fast auf den Tag genau vor...</td>\n",
       "      <td>['am', '19.', 'April', '1944', 'fast', 'auf', ...</td>\n",
       "      <td>1035</td>\n",
       "    </tr>\n",
       "    <tr>\n",
       "      <th>10</th>\n",
       "      <td>Christina Weiss</td>\n",
       "      <td>Eröffnung der Ausstellung &amp;quot;Der Krieg begl...</td>\n",
       "      <td>2005-04-21</td>\n",
       "      <td>\"Nie wieder Krieg\" - dieser wohl berühmteste A...</td>\n",
       "      <td>['Nie', 'wieder', 'Krieg', 'dieser', 'wohl', '...</td>\n",
       "      <td>677</td>\n",
       "    </tr>\n",
       "  </tbody>\n",
       "</table>\n",
       "</div>"
      ],
      "text/plain": [
       "              person                                              title  \\\n",
       "7    Michael Naumann  Interview von Staatsminister Dr. Michael Nauma...   \n",
       "8   Hans Martin Bury  &quot;Neue Politik und Neue Ökonomie&quot; - R...   \n",
       "9    Christina Weiss  Kulturstaatsministerin Christina Weiss eröffne...   \n",
       "10   Christina Weiss  Eröffnung der Ausstellung &quot;Der Krieg begl...   \n",
       "\n",
       "         date                                               text  \\\n",
       "7  1999-02-24  Frage: Erstmals in der demokratischen Geschich...   \n",
       "8  2001-03-14  Sperrfrist Redebeginn!\\nSehr geehrter Herr Pot...   \n",
       "9  2004-04-14  am 19. April 1944 - fast auf den Tag genau vor...   \n",
       "10 2005-04-21  \"Nie wieder Krieg\" - dieser wohl berühmteste A...   \n",
       "\n",
       "                                               tokens  ntokens  \n",
       "7   ['Frage', 'Erstmals', 'in', 'der', 'demokratis...     3797  \n",
       "8   ['Sperrfrist', 'Redebeginn', '\\n', 'Sehr', 'ge...     2106  \n",
       "9   ['am', '19.', 'April', '1944', 'fast', 'auf', ...     1035  \n",
       "10  ['Nie', 'wieder', 'Krieg', 'dieser', 'wohl', '...      677  "
      ]
     },
     "execution_count": 89,
     "metadata": {},
     "output_type": "execute_result"
    }
   ],
   "source": [
    "df.loc[7:10, :]"
   ]
  },
  {
   "cell_type": "code",
   "execution_count": 90,
   "metadata": {},
   "outputs": [
    {
     "data": {
      "text/html": [
       "<div>\n",
       "<style scoped>\n",
       "    .dataframe tbody tr th:only-of-type {\n",
       "        vertical-align: middle;\n",
       "    }\n",
       "\n",
       "    .dataframe tbody tr th {\n",
       "        vertical-align: top;\n",
       "    }\n",
       "\n",
       "    .dataframe thead th {\n",
       "        text-align: right;\n",
       "    }\n",
       "</style>\n",
       "<table border=\"1\" class=\"dataframe\">\n",
       "  <thead>\n",
       "    <tr style=\"text-align: right;\">\n",
       "      <th></th>\n",
       "      <th>person</th>\n",
       "      <th>title</th>\n",
       "      <th>date</th>\n",
       "      <th>text</th>\n",
       "      <th>tokens</th>\n",
       "      <th>ntokens</th>\n",
       "    </tr>\n",
       "  </thead>\n",
       "  <tbody>\n",
       "    <tr>\n",
       "      <th>7</th>\n",
       "      <td>Michael Naumann</td>\n",
       "      <td>Interview von Staatsminister Dr. Michael Nauma...</td>\n",
       "      <td>1999-02-24</td>\n",
       "      <td>Frage: Erstmals in der demokratischen Geschich...</td>\n",
       "      <td>['Frage', 'Erstmals', 'in', 'der', 'demokratis...</td>\n",
       "      <td>3797</td>\n",
       "    </tr>\n",
       "    <tr>\n",
       "      <th>8</th>\n",
       "      <td>Hans Martin Bury</td>\n",
       "      <td>&amp;quot;Neue Politik und Neue Ökonomie&amp;quot; - R...</td>\n",
       "      <td>2001-03-14</td>\n",
       "      <td>Sperrfrist Redebeginn!\\nSehr geehrter Herr Pot...</td>\n",
       "      <td>['Sperrfrist', 'Redebeginn', '\\n', 'Sehr', 'ge...</td>\n",
       "      <td>2106</td>\n",
       "    </tr>\n",
       "    <tr>\n",
       "      <th>9</th>\n",
       "      <td>Christina Weiss</td>\n",
       "      <td>Kulturstaatsministerin Christina Weiss eröffne...</td>\n",
       "      <td>2004-04-14</td>\n",
       "      <td>am 19. April 1944 - fast auf den Tag genau vor...</td>\n",
       "      <td>['am', '19.', 'April', '1944', 'fast', 'auf', ...</td>\n",
       "      <td>1035</td>\n",
       "    </tr>\n",
       "  </tbody>\n",
       "</table>\n",
       "</div>"
      ],
      "text/plain": [
       "             person                                              title  \\\n",
       "7   Michael Naumann  Interview von Staatsminister Dr. Michael Nauma...   \n",
       "8  Hans Martin Bury  &quot;Neue Politik und Neue Ökonomie&quot; - R...   \n",
       "9   Christina Weiss  Kulturstaatsministerin Christina Weiss eröffne...   \n",
       "\n",
       "        date                                               text  \\\n",
       "7 1999-02-24  Frage: Erstmals in der demokratischen Geschich...   \n",
       "8 2001-03-14  Sperrfrist Redebeginn!\\nSehr geehrter Herr Pot...   \n",
       "9 2004-04-14  am 19. April 1944 - fast auf den Tag genau vor...   \n",
       "\n",
       "                                              tokens  ntokens  \n",
       "7  ['Frage', 'Erstmals', 'in', 'der', 'demokratis...     3797  \n",
       "8  ['Sperrfrist', 'Redebeginn', '\\n', 'Sehr', 'ge...     2106  \n",
       "9  ['am', '19.', 'April', '1944', 'fast', 'auf', ...     1035  "
      ]
     },
     "execution_count": 90,
     "metadata": {},
     "output_type": "execute_result"
    }
   ],
   "source": [
    "df.iloc[7:10, :]"
   ]
  },
  {
   "cell_type": "markdown",
   "metadata": {},
   "source": [
    "## Maximum und Minimum einer Spalte anzeigen"
   ]
  },
  {
   "cell_type": "code",
   "execution_count": 174,
   "metadata": {},
   "outputs": [
    {
     "data": {
      "text/plain": [
       "person                                           Helmut Kohl\n",
       "title      Rede vor dem Deutschen Bundestag anlässlich de...\n",
       "date                                     1998-09-03 00:00:00\n",
       "text       Frau Präsidentin,\\nmeine Damen und Herren,\\nic...\n",
       "tokens     ['Frau', 'Präsidentin', '\\n', 'meine', 'Damen'...\n",
       "ntokens                                                10459\n",
       "Name: 2727, dtype: object"
      ]
     },
     "execution_count": 174,
     "metadata": {},
     "output_type": "execute_result"
    }
   ],
   "source": [
    "df.loc[df.loc[:, 'ntokens'].idxmax(),:]"
   ]
  },
  {
   "cell_type": "code",
   "execution_count": 175,
   "metadata": {},
   "outputs": [
    {
     "data": {
      "text/plain": [
       "person                                          Michael Glos\n",
       "title      Anforderungen an ein zukunftsfähiges Energiepr...\n",
       "date                                     2006-01-17 00:00:00\n",
       "text                                 >> Die Rede im Wortlaut\n",
       "tokens           ['>', '>', 'Die', 'Rede', 'im', 'Wortlaut']\n",
       "ntokens                                                    6\n",
       "Name: 881, dtype: object"
      ]
     },
     "execution_count": 175,
     "metadata": {},
     "output_type": "execute_result"
    }
   ],
   "source": [
    "df.loc[df.loc[:, 'ntokens'].idxmin(),:]"
   ]
  },
  {
   "cell_type": "markdown",
   "metadata": {},
   "source": [
    "## Kategorische Daten"
   ]
  },
  {
   "cell_type": "code",
   "execution_count": 91,
   "metadata": {},
   "outputs": [
    {
     "data": {
      "text/plain": [
       "46"
      ]
     },
     "execution_count": 91,
     "metadata": {},
     "output_type": "execute_result"
    }
   ],
   "source": [
    "df.loc[:, 'person'].nunique()"
   ]
  },
  {
   "cell_type": "code",
   "execution_count": 92,
   "metadata": {},
   "outputs": [
    {
     "data": {
      "text/plain": [
       "array(['Gerhard Schröder', 'Julian Nida-Rümelin', 'Christina Weiss',\n",
       "       'Frank-Walter Steinmeier', 'Michael Naumann', 'Hans Martin Bury',\n",
       "       'Otto Graf Lambsdorff', 'Peter Struck', 'Joschka Fischer',\n",
       "       'Rolf Schwanitz', 'Waldemar Ritter', 'Edelgard Bulmahn',\n",
       "       'Jürgen Trittin', 'k.A.', 'Friedrich Merz', 'Rudolf Scharping',\n",
       "       'Renate Schmidt', 'Brigitte Zypries', 'Christine Bergmann',\n",
       "       'Brigitte Sauzay', 'Heidemarie Wieczorek-Zeul',\n",
       "       'Matthias Platzeck', 'Béla Anda', 'Werner Müller',\n",
       "       'Herta Däubler-Gmelin', 'Angela Merkel', 'Bernd Neumann',\n",
       "       'Ursula von der Leyen', 'Thomas de Maizière', 'Peer Steinbrück',\n",
       "       'Michael Glos', 'Maria Böhmer', 'Franz Müntefering',\n",
       "       'Wolfgang Schäuble', 'Franz Josef Jung', 'Sigmar Gabriel',\n",
       "       'Hans Bernhard Beus', 'Hildegard Müller', 'Hermann Gröhe',\n",
       "       'Ronald Pofalla', 'Joachim Gauck', 'Roman Herzog', 'Ilse Aigner',\n",
       "       'Monika Grütters', 'Aydan Özoğuz', 'Helmut Kohl'], dtype=object)"
      ]
     },
     "execution_count": 92,
     "metadata": {},
     "output_type": "execute_result"
    }
   ],
   "source": [
    "df.loc[:, 'person'].unique()"
   ]
  },
  {
   "cell_type": "code",
   "execution_count": 93,
   "metadata": {},
   "outputs": [
    {
     "data": {
      "text/plain": [
       "count              2983\n",
       "unique               46\n",
       "top       Angela Merkel\n",
       "freq               1128\n",
       "Name: person, dtype: object"
      ]
     },
     "execution_count": 93,
     "metadata": {},
     "output_type": "execute_result"
    }
   ],
   "source": [
    "df.loc[:, 'person'].describe()"
   ]
  },
  {
   "cell_type": "markdown",
   "metadata": {},
   "source": [
    "## Erstellen einer neuen Spalte"
   ]
  },
  {
   "cell_type": "code",
   "execution_count": 94,
   "metadata": {},
   "outputs": [
    {
     "ename": "TypeError",
     "evalue": "object of type 'float' has no len()",
     "output_type": "error",
     "traceback": [
      "\u001b[1;31m---------------------------------------------------------------------------\u001b[0m",
      "\u001b[1;31mTypeError\u001b[0m                                 Traceback (most recent call last)",
      "\u001b[1;32m~\\AppData\\Local\\Temp/ipykernel_18612/820053430.py\u001b[0m in \u001b[0;36m<module>\u001b[1;34m\u001b[0m\n\u001b[1;32m----> 1\u001b[1;33m \u001b[0mdf\u001b[0m\u001b[1;33m.\u001b[0m\u001b[0mloc\u001b[0m\u001b[1;33m[\u001b[0m\u001b[1;33m:\u001b[0m\u001b[1;33m,\u001b[0m \u001b[1;34m'len_title'\u001b[0m\u001b[1;33m]\u001b[0m \u001b[1;33m=\u001b[0m \u001b[0mdf\u001b[0m\u001b[1;33m.\u001b[0m\u001b[0mloc\u001b[0m\u001b[1;33m[\u001b[0m\u001b[1;33m:\u001b[0m\u001b[1;33m,\u001b[0m \u001b[1;34m'title'\u001b[0m\u001b[1;33m]\u001b[0m\u001b[1;33m.\u001b[0m\u001b[0mapply\u001b[0m\u001b[1;33m(\u001b[0m\u001b[0mlen\u001b[0m\u001b[1;33m)\u001b[0m\u001b[1;33m\u001b[0m\u001b[1;33m\u001b[0m\u001b[0m\n\u001b[0m",
      "\u001b[1;32mC:\\JupyterLab\\resources\\jlab_server\\envs\\base2exp\\lib\\site-packages\\pandas\\core\\series.py\u001b[0m in \u001b[0;36mapply\u001b[1;34m(self, func, convert_dtype, args, **kwargs)\u001b[0m\n\u001b[0;32m   4355\u001b[0m         \u001b[0mdtype\u001b[0m\u001b[1;33m:\u001b[0m \u001b[0mfloat64\u001b[0m\u001b[1;33m\u001b[0m\u001b[1;33m\u001b[0m\u001b[0m\n\u001b[0;32m   4356\u001b[0m         \"\"\"\n\u001b[1;32m-> 4357\u001b[1;33m         \u001b[1;32mreturn\u001b[0m \u001b[0mSeriesApply\u001b[0m\u001b[1;33m(\u001b[0m\u001b[0mself\u001b[0m\u001b[1;33m,\u001b[0m \u001b[0mfunc\u001b[0m\u001b[1;33m,\u001b[0m \u001b[0mconvert_dtype\u001b[0m\u001b[1;33m,\u001b[0m \u001b[0margs\u001b[0m\u001b[1;33m,\u001b[0m \u001b[0mkwargs\u001b[0m\u001b[1;33m)\u001b[0m\u001b[1;33m.\u001b[0m\u001b[0mapply\u001b[0m\u001b[1;33m(\u001b[0m\u001b[1;33m)\u001b[0m\u001b[1;33m\u001b[0m\u001b[1;33m\u001b[0m\u001b[0m\n\u001b[0m\u001b[0;32m   4358\u001b[0m \u001b[1;33m\u001b[0m\u001b[0m\n\u001b[0;32m   4359\u001b[0m     def _reduce(\n",
      "\u001b[1;32mC:\\JupyterLab\\resources\\jlab_server\\envs\\base2exp\\lib\\site-packages\\pandas\\core\\apply.py\u001b[0m in \u001b[0;36mapply\u001b[1;34m(self)\u001b[0m\n\u001b[0;32m   1041\u001b[0m             \u001b[1;32mreturn\u001b[0m \u001b[0mself\u001b[0m\u001b[1;33m.\u001b[0m\u001b[0mapply_str\u001b[0m\u001b[1;33m(\u001b[0m\u001b[1;33m)\u001b[0m\u001b[1;33m\u001b[0m\u001b[1;33m\u001b[0m\u001b[0m\n\u001b[0;32m   1042\u001b[0m \u001b[1;33m\u001b[0m\u001b[0m\n\u001b[1;32m-> 1043\u001b[1;33m         \u001b[1;32mreturn\u001b[0m \u001b[0mself\u001b[0m\u001b[1;33m.\u001b[0m\u001b[0mapply_standard\u001b[0m\u001b[1;33m(\u001b[0m\u001b[1;33m)\u001b[0m\u001b[1;33m\u001b[0m\u001b[1;33m\u001b[0m\u001b[0m\n\u001b[0m\u001b[0;32m   1044\u001b[0m \u001b[1;33m\u001b[0m\u001b[0m\n\u001b[0;32m   1045\u001b[0m     \u001b[1;32mdef\u001b[0m \u001b[0magg\u001b[0m\u001b[1;33m(\u001b[0m\u001b[0mself\u001b[0m\u001b[1;33m)\u001b[0m\u001b[1;33m:\u001b[0m\u001b[1;33m\u001b[0m\u001b[1;33m\u001b[0m\u001b[0m\n",
      "\u001b[1;32mC:\\JupyterLab\\resources\\jlab_server\\envs\\base2exp\\lib\\site-packages\\pandas\\core\\apply.py\u001b[0m in \u001b[0;36mapply_standard\u001b[1;34m(self)\u001b[0m\n\u001b[0;32m   1096\u001b[0m                 \u001b[1;31m# List[Union[Callable[..., Any], str]]]]]\"; expected\u001b[0m\u001b[1;33m\u001b[0m\u001b[1;33m\u001b[0m\u001b[1;33m\u001b[0m\u001b[0m\n\u001b[0;32m   1097\u001b[0m                 \u001b[1;31m# \"Callable[[Any], Any]\"\u001b[0m\u001b[1;33m\u001b[0m\u001b[1;33m\u001b[0m\u001b[1;33m\u001b[0m\u001b[0m\n\u001b[1;32m-> 1098\u001b[1;33m                 mapped = lib.map_infer(\n\u001b[0m\u001b[0;32m   1099\u001b[0m                     \u001b[0mvalues\u001b[0m\u001b[1;33m,\u001b[0m\u001b[1;33m\u001b[0m\u001b[1;33m\u001b[0m\u001b[0m\n\u001b[0;32m   1100\u001b[0m                     \u001b[0mf\u001b[0m\u001b[1;33m,\u001b[0m  \u001b[1;31m# type: ignore[arg-type]\u001b[0m\u001b[1;33m\u001b[0m\u001b[1;33m\u001b[0m\u001b[0m\n",
      "\u001b[1;32mC:\\JupyterLab\\resources\\jlab_server\\envs\\base2exp\\lib\\site-packages\\pandas\\_libs\\lib.pyx\u001b[0m in \u001b[0;36mpandas._libs.lib.map_infer\u001b[1;34m()\u001b[0m\n",
      "\u001b[1;31mTypeError\u001b[0m: object of type 'float' has no len()"
     ]
    }
   ],
   "source": [
    "df.loc[:, 'len_title'] = df.loc[:, 'title'].apply(len)"
   ]
  },
  {
   "cell_type": "code",
   "execution_count": 95,
   "metadata": {},
   "outputs": [],
   "source": [
    "# Ersetzung von NaN-Values, die im df als float hinterlegt werden\n",
    "df = df.replace(pd.NA, 'NaN')"
   ]
  },
  {
   "cell_type": "code",
   "execution_count": 98,
   "metadata": {},
   "outputs": [
    {
     "data": {
      "text/plain": [
       "person       0\n",
       "title        0\n",
       "date         0\n",
       "text         0\n",
       "tokens       0\n",
       "ntokens      0\n",
       "len_title    0\n",
       "dtype: int64"
      ]
     },
     "execution_count": 98,
     "metadata": {},
     "output_type": "execute_result"
    }
   ],
   "source": [
    "df.isna().sum()"
   ]
  },
  {
   "cell_type": "code",
   "execution_count": 96,
   "metadata": {},
   "outputs": [],
   "source": [
    "# Erstellen mit apply\n",
    "df.loc[:, 'len_title'] = df.loc[:, 'title'].apply(len)"
   ]
  },
  {
   "cell_type": "code",
   "execution_count": 97,
   "metadata": {},
   "outputs": [
    {
     "data": {
      "text/html": [
       "<div>\n",
       "<style scoped>\n",
       "    .dataframe tbody tr th:only-of-type {\n",
       "        vertical-align: middle;\n",
       "    }\n",
       "\n",
       "    .dataframe tbody tr th {\n",
       "        vertical-align: top;\n",
       "    }\n",
       "\n",
       "    .dataframe thead th {\n",
       "        text-align: right;\n",
       "    }\n",
       "</style>\n",
       "<table border=\"1\" class=\"dataframe\">\n",
       "  <thead>\n",
       "    <tr style=\"text-align: right;\">\n",
       "      <th></th>\n",
       "      <th>person</th>\n",
       "      <th>title</th>\n",
       "      <th>date</th>\n",
       "      <th>text</th>\n",
       "      <th>tokens</th>\n",
       "      <th>ntokens</th>\n",
       "      <th>len_title</th>\n",
       "    </tr>\n",
       "  </thead>\n",
       "  <tbody>\n",
       "    <tr>\n",
       "      <th>0</th>\n",
       "      <td>Gerhard Schröder</td>\n",
       "      <td>Rede des Bundeskanzlers zur Eröffnung der 52. ...</td>\n",
       "      <td>2002-02-06</td>\n",
       "      <td>es ist angekündigt worden, man sollte im Beruf...</td>\n",
       "      <td>['es', 'ist', 'angekündigt', 'worden', 'man', ...</td>\n",
       "      <td>1911</td>\n",
       "      <td>86</td>\n",
       "    </tr>\n",
       "    <tr>\n",
       "      <th>1</th>\n",
       "      <td>Julian Nida-Rümelin</td>\n",
       "      <td>Redebeitrag von Staatsminister Nida-Rümelin in...</td>\n",
       "      <td>2002-02-01</td>\n",
       "      <td>Frau Präsidentin!  An Sie gerichtet, Herr Börn...</td>\n",
       "      <td>['Frau', 'Präsidentin', ' ', 'An', 'Sie', 'ger...</td>\n",
       "      <td>1319</td>\n",
       "      <td>102</td>\n",
       "    </tr>\n",
       "    <tr>\n",
       "      <th>2</th>\n",
       "      <td>Gerhard Schröder</td>\n",
       "      <td>Interview mit Bundeskanzler Schröder in 'Berli...</td>\n",
       "      <td>2002-04-14</td>\n",
       "      <td>Frage (Peter Hahne): Bevor wir uns über den Au...</td>\n",
       "      <td>['Frage', 'Peter', 'Hahne', 'Bevor', 'wir', 'u...</td>\n",
       "      <td>1512</td>\n",
       "      <td>87</td>\n",
       "    </tr>\n",
       "    <tr>\n",
       "      <th>3</th>\n",
       "      <td>Gerhard Schröder</td>\n",
       "      <td>Rede von Bundeskanzler Gerhard Schröder bei de...</td>\n",
       "      <td>2005-03-08</td>\n",
       "      <td>Einen Satz von Ihnen, Herr Dr. Bernotat, habe ...</td>\n",
       "      <td>['Einen', 'Satz', 'von', 'Ihnen', 'Herr', 'Dr....</td>\n",
       "      <td>2515</td>\n",
       "      <td>71</td>\n",
       "    </tr>\n",
       "    <tr>\n",
       "      <th>4</th>\n",
       "      <td>Gerhard Schröder</td>\n",
       "      <td>Rede von Bundeskanzler Gerhard Schröder auf de...</td>\n",
       "      <td>2000-05-04</td>\n",
       "      <td>diese Jahresversammlung der Hochschulrektorenk...</td>\n",
       "      <td>['diese', 'Jahresversammlung', 'der', 'Hochsch...</td>\n",
       "      <td>768</td>\n",
       "      <td>178</td>\n",
       "    </tr>\n",
       "  </tbody>\n",
       "</table>\n",
       "</div>"
      ],
      "text/plain": [
       "                person                                              title  \\\n",
       "0     Gerhard Schröder  Rede des Bundeskanzlers zur Eröffnung der 52. ...   \n",
       "1  Julian Nida-Rümelin  Redebeitrag von Staatsminister Nida-Rümelin in...   \n",
       "2     Gerhard Schröder  Interview mit Bundeskanzler Schröder in 'Berli...   \n",
       "3     Gerhard Schröder  Rede von Bundeskanzler Gerhard Schröder bei de...   \n",
       "4     Gerhard Schröder  Rede von Bundeskanzler Gerhard Schröder auf de...   \n",
       "\n",
       "        date                                               text  \\\n",
       "0 2002-02-06  es ist angekündigt worden, man sollte im Beruf...   \n",
       "1 2002-02-01  Frau Präsidentin!  An Sie gerichtet, Herr Börn...   \n",
       "2 2002-04-14  Frage (Peter Hahne): Bevor wir uns über den Au...   \n",
       "3 2005-03-08  Einen Satz von Ihnen, Herr Dr. Bernotat, habe ...   \n",
       "4 2000-05-04  diese Jahresversammlung der Hochschulrektorenk...   \n",
       "\n",
       "                                              tokens  ntokens  len_title  \n",
       "0  ['es', 'ist', 'angekündigt', 'worden', 'man', ...     1911         86  \n",
       "1  ['Frau', 'Präsidentin', ' ', 'An', 'Sie', 'ger...     1319        102  \n",
       "2  ['Frage', 'Peter', 'Hahne', 'Bevor', 'wir', 'u...     1512         87  \n",
       "3  ['Einen', 'Satz', 'von', 'Ihnen', 'Herr', 'Dr....     2515         71  \n",
       "4  ['diese', 'Jahresversammlung', 'der', 'Hochsch...      768        178  "
      ]
     },
     "execution_count": 97,
     "metadata": {},
     "output_type": "execute_result"
    }
   ],
   "source": [
    "df.head()"
   ]
  },
  {
   "cell_type": "code",
   "execution_count": 99,
   "metadata": {},
   "outputs": [],
   "source": [
    "# Erstellen über arithmetische Operation\n",
    "df.loc[:, 'proportion_tokens_title'] = df.loc[:, 'ntokens'] / df.loc[:, 'len_title']"
   ]
  },
  {
   "cell_type": "code",
   "execution_count": 100,
   "metadata": {},
   "outputs": [
    {
     "data": {
      "text/html": [
       "<div>\n",
       "<style scoped>\n",
       "    .dataframe tbody tr th:only-of-type {\n",
       "        vertical-align: middle;\n",
       "    }\n",
       "\n",
       "    .dataframe tbody tr th {\n",
       "        vertical-align: top;\n",
       "    }\n",
       "\n",
       "    .dataframe thead th {\n",
       "        text-align: right;\n",
       "    }\n",
       "</style>\n",
       "<table border=\"1\" class=\"dataframe\">\n",
       "  <thead>\n",
       "    <tr style=\"text-align: right;\">\n",
       "      <th></th>\n",
       "      <th>person</th>\n",
       "      <th>title</th>\n",
       "      <th>date</th>\n",
       "      <th>text</th>\n",
       "      <th>tokens</th>\n",
       "      <th>ntokens</th>\n",
       "      <th>len_title</th>\n",
       "      <th>proportion_tokens_title</th>\n",
       "    </tr>\n",
       "  </thead>\n",
       "  <tbody>\n",
       "    <tr>\n",
       "      <th>0</th>\n",
       "      <td>Gerhard Schröder</td>\n",
       "      <td>Rede des Bundeskanzlers zur Eröffnung der 52. ...</td>\n",
       "      <td>2002-02-06</td>\n",
       "      <td>es ist angekündigt worden, man sollte im Beruf...</td>\n",
       "      <td>['es', 'ist', 'angekündigt', 'worden', 'man', ...</td>\n",
       "      <td>1911</td>\n",
       "      <td>86</td>\n",
       "      <td>22.220930</td>\n",
       "    </tr>\n",
       "    <tr>\n",
       "      <th>1</th>\n",
       "      <td>Julian Nida-Rümelin</td>\n",
       "      <td>Redebeitrag von Staatsminister Nida-Rümelin in...</td>\n",
       "      <td>2002-02-01</td>\n",
       "      <td>Frau Präsidentin!  An Sie gerichtet, Herr Börn...</td>\n",
       "      <td>['Frau', 'Präsidentin', ' ', 'An', 'Sie', 'ger...</td>\n",
       "      <td>1319</td>\n",
       "      <td>102</td>\n",
       "      <td>12.931373</td>\n",
       "    </tr>\n",
       "    <tr>\n",
       "      <th>2</th>\n",
       "      <td>Gerhard Schröder</td>\n",
       "      <td>Interview mit Bundeskanzler Schröder in 'Berli...</td>\n",
       "      <td>2002-04-14</td>\n",
       "      <td>Frage (Peter Hahne): Bevor wir uns über den Au...</td>\n",
       "      <td>['Frage', 'Peter', 'Hahne', 'Bevor', 'wir', 'u...</td>\n",
       "      <td>1512</td>\n",
       "      <td>87</td>\n",
       "      <td>17.379310</td>\n",
       "    </tr>\n",
       "    <tr>\n",
       "      <th>3</th>\n",
       "      <td>Gerhard Schröder</td>\n",
       "      <td>Rede von Bundeskanzler Gerhard Schröder bei de...</td>\n",
       "      <td>2005-03-08</td>\n",
       "      <td>Einen Satz von Ihnen, Herr Dr. Bernotat, habe ...</td>\n",
       "      <td>['Einen', 'Satz', 'von', 'Ihnen', 'Herr', 'Dr....</td>\n",
       "      <td>2515</td>\n",
       "      <td>71</td>\n",
       "      <td>35.422535</td>\n",
       "    </tr>\n",
       "    <tr>\n",
       "      <th>4</th>\n",
       "      <td>Gerhard Schröder</td>\n",
       "      <td>Rede von Bundeskanzler Gerhard Schröder auf de...</td>\n",
       "      <td>2000-05-04</td>\n",
       "      <td>diese Jahresversammlung der Hochschulrektorenk...</td>\n",
       "      <td>['diese', 'Jahresversammlung', 'der', 'Hochsch...</td>\n",
       "      <td>768</td>\n",
       "      <td>178</td>\n",
       "      <td>4.314607</td>\n",
       "    </tr>\n",
       "  </tbody>\n",
       "</table>\n",
       "</div>"
      ],
      "text/plain": [
       "                person                                              title  \\\n",
       "0     Gerhard Schröder  Rede des Bundeskanzlers zur Eröffnung der 52. ...   \n",
       "1  Julian Nida-Rümelin  Redebeitrag von Staatsminister Nida-Rümelin in...   \n",
       "2     Gerhard Schröder  Interview mit Bundeskanzler Schröder in 'Berli...   \n",
       "3     Gerhard Schröder  Rede von Bundeskanzler Gerhard Schröder bei de...   \n",
       "4     Gerhard Schröder  Rede von Bundeskanzler Gerhard Schröder auf de...   \n",
       "\n",
       "        date                                               text  \\\n",
       "0 2002-02-06  es ist angekündigt worden, man sollte im Beruf...   \n",
       "1 2002-02-01  Frau Präsidentin!  An Sie gerichtet, Herr Börn...   \n",
       "2 2002-04-14  Frage (Peter Hahne): Bevor wir uns über den Au...   \n",
       "3 2005-03-08  Einen Satz von Ihnen, Herr Dr. Bernotat, habe ...   \n",
       "4 2000-05-04  diese Jahresversammlung der Hochschulrektorenk...   \n",
       "\n",
       "                                              tokens  ntokens  len_title  \\\n",
       "0  ['es', 'ist', 'angekündigt', 'worden', 'man', ...     1911         86   \n",
       "1  ['Frau', 'Präsidentin', ' ', 'An', 'Sie', 'ger...     1319        102   \n",
       "2  ['Frage', 'Peter', 'Hahne', 'Bevor', 'wir', 'u...     1512         87   \n",
       "3  ['Einen', 'Satz', 'von', 'Ihnen', 'Herr', 'Dr....     2515         71   \n",
       "4  ['diese', 'Jahresversammlung', 'der', 'Hochsch...      768        178   \n",
       "\n",
       "   proportion_tokens_title  \n",
       "0                22.220930  \n",
       "1                12.931373  \n",
       "2                17.379310  \n",
       "3                35.422535  \n",
       "4                 4.314607  "
      ]
     },
     "execution_count": 100,
     "metadata": {},
     "output_type": "execute_result"
    }
   ],
   "source": [
    "df.head()"
   ]
  },
  {
   "cell_type": "code",
   "execution_count": 101,
   "metadata": {},
   "outputs": [
    {
     "data": {
      "text/html": [
       "<div>\n",
       "<style scoped>\n",
       "    .dataframe tbody tr th:only-of-type {\n",
       "        vertical-align: middle;\n",
       "    }\n",
       "\n",
       "    .dataframe tbody tr th {\n",
       "        vertical-align: top;\n",
       "    }\n",
       "\n",
       "    .dataframe thead th {\n",
       "        text-align: right;\n",
       "    }\n",
       "</style>\n",
       "<table border=\"1\" class=\"dataframe\">\n",
       "  <thead>\n",
       "    <tr style=\"text-align: right;\">\n",
       "      <th></th>\n",
       "      <th>ntokens</th>\n",
       "      <th>len_title</th>\n",
       "      <th>proportion_tokens_title</th>\n",
       "    </tr>\n",
       "  </thead>\n",
       "  <tbody>\n",
       "    <tr>\n",
       "      <th>count</th>\n",
       "      <td>2983.000000</td>\n",
       "      <td>2983.000000</td>\n",
       "      <td>2983.000000</td>\n",
       "    </tr>\n",
       "    <tr>\n",
       "      <th>mean</th>\n",
       "      <td>1939.533691</td>\n",
       "      <td>103.892390</td>\n",
       "      <td>21.987532</td>\n",
       "    </tr>\n",
       "    <tr>\n",
       "      <th>std</th>\n",
       "      <td>1285.096751</td>\n",
       "      <td>34.907872</td>\n",
       "      <td>20.266699</td>\n",
       "    </tr>\n",
       "    <tr>\n",
       "      <th>min</th>\n",
       "      <td>6.000000</td>\n",
       "      <td>3.000000</td>\n",
       "      <td>0.115385</td>\n",
       "    </tr>\n",
       "    <tr>\n",
       "      <th>25%</th>\n",
       "      <td>963.500000</td>\n",
       "      <td>81.000000</td>\n",
       "      <td>9.273252</td>\n",
       "    </tr>\n",
       "    <tr>\n",
       "      <th>50%</th>\n",
       "      <td>1599.000000</td>\n",
       "      <td>101.000000</td>\n",
       "      <td>15.732558</td>\n",
       "    </tr>\n",
       "    <tr>\n",
       "      <th>75%</th>\n",
       "      <td>2605.000000</td>\n",
       "      <td>123.000000</td>\n",
       "      <td>27.962153</td>\n",
       "    </tr>\n",
       "    <tr>\n",
       "      <th>max</th>\n",
       "      <td>10459.000000</td>\n",
       "      <td>280.000000</td>\n",
       "      <td>250.333333</td>\n",
       "    </tr>\n",
       "  </tbody>\n",
       "</table>\n",
       "</div>"
      ],
      "text/plain": [
       "            ntokens    len_title  proportion_tokens_title\n",
       "count   2983.000000  2983.000000              2983.000000\n",
       "mean    1939.533691   103.892390                21.987532\n",
       "std     1285.096751    34.907872                20.266699\n",
       "min        6.000000     3.000000                 0.115385\n",
       "25%      963.500000    81.000000                 9.273252\n",
       "50%     1599.000000   101.000000                15.732558\n",
       "75%     2605.000000   123.000000                27.962153\n",
       "max    10459.000000   280.000000               250.333333"
      ]
     },
     "execution_count": 101,
     "metadata": {},
     "output_type": "execute_result"
    }
   ],
   "source": [
    "df.describe()"
   ]
  },
  {
   "cell_type": "code",
   "execution_count": 103,
   "metadata": {},
   "outputs": [
    {
     "data": {
      "text/plain": [
       "0    es ist angekündigt worden, man sollte im beruf...\n",
       "1    frau präsidentin!  an sie gerichtet, herr börn...\n",
       "2    frage (peter hahne): bevor wir uns über den au...\n",
       "3    einen satz von ihnen, herr dr. bernotat, habe ...\n",
       "4    diese jahresversammlung der hochschulrektorenk...\n",
       "Name: text_lower, dtype: object"
      ]
     },
     "execution_count": 103,
     "metadata": {},
     "output_type": "execute_result"
    }
   ],
   "source": [
    "# Erstellen mit str-Methoden\n",
    "df.loc[:, 'text_lower'] = df.loc[:, 'text'].str.lower()\n",
    "df.loc[:, 'text_lower'].head()"
   ]
  },
  {
   "cell_type": "code",
   "execution_count": 104,
   "metadata": {},
   "outputs": [
    {
     "data": {
      "text/plain": [
       "0    ES IST ANGEKÜNDIGT WORDEN, MAN SOLLTE IM BERUF...\n",
       "1    FRAU PRÄSIDENTIN!  AN SIE GERICHTET, HERR BÖRN...\n",
       "2    FRAGE (PETER HAHNE): BEVOR WIR UNS ÜBER DEN AU...\n",
       "3    EINEN SATZ VON IHNEN, HERR DR. BERNOTAT, HABE ...\n",
       "4    DIESE JAHRESVERSAMMLUNG DER HOCHSCHULREKTORENK...\n",
       "Name: text_upper, dtype: object"
      ]
     },
     "execution_count": 104,
     "metadata": {},
     "output_type": "execute_result"
    }
   ],
   "source": [
    "df.loc[:, 'text_upper'] = df.loc[:, 'text'].str.upper()\n",
    "df.loc[:, 'text_upper'].head()"
   ]
  },
  {
   "cell_type": "code",
   "execution_count": 105,
   "metadata": {},
   "outputs": [
    {
     "data": {
      "text/html": [
       "<div>\n",
       "<style scoped>\n",
       "    .dataframe tbody tr th:only-of-type {\n",
       "        vertical-align: middle;\n",
       "    }\n",
       "\n",
       "    .dataframe tbody tr th {\n",
       "        vertical-align: top;\n",
       "    }\n",
       "\n",
       "    .dataframe thead th {\n",
       "        text-align: right;\n",
       "    }\n",
       "</style>\n",
       "<table border=\"1\" class=\"dataframe\">\n",
       "  <thead>\n",
       "    <tr style=\"text-align: right;\">\n",
       "      <th></th>\n",
       "      <th>person</th>\n",
       "      <th>title</th>\n",
       "      <th>date</th>\n",
       "      <th>text</th>\n",
       "      <th>tokens</th>\n",
       "      <th>ntokens</th>\n",
       "      <th>len_title</th>\n",
       "      <th>proportion_tokens_title</th>\n",
       "      <th>text_lower</th>\n",
       "      <th>text_upper</th>\n",
       "    </tr>\n",
       "  </thead>\n",
       "  <tbody>\n",
       "    <tr>\n",
       "      <th>0</th>\n",
       "      <td>Gerhard Schröder</td>\n",
       "      <td>Rede des Bundeskanzlers zur Eröffnung der 52. ...</td>\n",
       "      <td>2002-02-06</td>\n",
       "      <td>es ist angekündigt worden, man sollte im Beruf...</td>\n",
       "      <td>['es', 'ist', 'angekündigt', 'worden', 'man', ...</td>\n",
       "      <td>1911</td>\n",
       "      <td>86</td>\n",
       "      <td>22.220930</td>\n",
       "      <td>es ist angekündigt worden, man sollte im beruf...</td>\n",
       "      <td>ES IST ANGEKÜNDIGT WORDEN, MAN SOLLTE IM BERUF...</td>\n",
       "    </tr>\n",
       "    <tr>\n",
       "      <th>1</th>\n",
       "      <td>Julian Nida-Rümelin</td>\n",
       "      <td>Redebeitrag von Staatsminister Nida-Rümelin in...</td>\n",
       "      <td>2002-02-01</td>\n",
       "      <td>Frau Präsidentin!  An Sie gerichtet, Herr Börn...</td>\n",
       "      <td>['Frau', 'Präsidentin', ' ', 'An', 'Sie', 'ger...</td>\n",
       "      <td>1319</td>\n",
       "      <td>102</td>\n",
       "      <td>12.931373</td>\n",
       "      <td>frau präsidentin!  an sie gerichtet, herr börn...</td>\n",
       "      <td>FRAU PRÄSIDENTIN!  AN SIE GERICHTET, HERR BÖRN...</td>\n",
       "    </tr>\n",
       "    <tr>\n",
       "      <th>2</th>\n",
       "      <td>Gerhard Schröder</td>\n",
       "      <td>Interview mit Bundeskanzler Schröder in 'Berli...</td>\n",
       "      <td>2002-04-14</td>\n",
       "      <td>Frage (Peter Hahne): Bevor wir uns über den Au...</td>\n",
       "      <td>['Frage', 'Peter', 'Hahne', 'Bevor', 'wir', 'u...</td>\n",
       "      <td>1512</td>\n",
       "      <td>87</td>\n",
       "      <td>17.379310</td>\n",
       "      <td>frage (peter hahne): bevor wir uns über den au...</td>\n",
       "      <td>FRAGE (PETER HAHNE): BEVOR WIR UNS ÜBER DEN AU...</td>\n",
       "    </tr>\n",
       "    <tr>\n",
       "      <th>3</th>\n",
       "      <td>Gerhard Schröder</td>\n",
       "      <td>Rede von Bundeskanzler Gerhard Schröder bei de...</td>\n",
       "      <td>2005-03-08</td>\n",
       "      <td>Einen Satz von Ihnen, Herr Dr. Bernotat, habe ...</td>\n",
       "      <td>['Einen', 'Satz', 'von', 'Ihnen', 'Herr', 'Dr....</td>\n",
       "      <td>2515</td>\n",
       "      <td>71</td>\n",
       "      <td>35.422535</td>\n",
       "      <td>einen satz von ihnen, herr dr. bernotat, habe ...</td>\n",
       "      <td>EINEN SATZ VON IHNEN, HERR DR. BERNOTAT, HABE ...</td>\n",
       "    </tr>\n",
       "    <tr>\n",
       "      <th>4</th>\n",
       "      <td>Gerhard Schröder</td>\n",
       "      <td>Rede von Bundeskanzler Gerhard Schröder auf de...</td>\n",
       "      <td>2000-05-04</td>\n",
       "      <td>diese Jahresversammlung der Hochschulrektorenk...</td>\n",
       "      <td>['diese', 'Jahresversammlung', 'der', 'Hochsch...</td>\n",
       "      <td>768</td>\n",
       "      <td>178</td>\n",
       "      <td>4.314607</td>\n",
       "      <td>diese jahresversammlung der hochschulrektorenk...</td>\n",
       "      <td>DIESE JAHRESVERSAMMLUNG DER HOCHSCHULREKTORENK...</td>\n",
       "    </tr>\n",
       "  </tbody>\n",
       "</table>\n",
       "</div>"
      ],
      "text/plain": [
       "                person                                              title  \\\n",
       "0     Gerhard Schröder  Rede des Bundeskanzlers zur Eröffnung der 52. ...   \n",
       "1  Julian Nida-Rümelin  Redebeitrag von Staatsminister Nida-Rümelin in...   \n",
       "2     Gerhard Schröder  Interview mit Bundeskanzler Schröder in 'Berli...   \n",
       "3     Gerhard Schröder  Rede von Bundeskanzler Gerhard Schröder bei de...   \n",
       "4     Gerhard Schröder  Rede von Bundeskanzler Gerhard Schröder auf de...   \n",
       "\n",
       "        date                                               text  \\\n",
       "0 2002-02-06  es ist angekündigt worden, man sollte im Beruf...   \n",
       "1 2002-02-01  Frau Präsidentin!  An Sie gerichtet, Herr Börn...   \n",
       "2 2002-04-14  Frage (Peter Hahne): Bevor wir uns über den Au...   \n",
       "3 2005-03-08  Einen Satz von Ihnen, Herr Dr. Bernotat, habe ...   \n",
       "4 2000-05-04  diese Jahresversammlung der Hochschulrektorenk...   \n",
       "\n",
       "                                              tokens  ntokens  len_title  \\\n",
       "0  ['es', 'ist', 'angekündigt', 'worden', 'man', ...     1911         86   \n",
       "1  ['Frau', 'Präsidentin', ' ', 'An', 'Sie', 'ger...     1319        102   \n",
       "2  ['Frage', 'Peter', 'Hahne', 'Bevor', 'wir', 'u...     1512         87   \n",
       "3  ['Einen', 'Satz', 'von', 'Ihnen', 'Herr', 'Dr....     2515         71   \n",
       "4  ['diese', 'Jahresversammlung', 'der', 'Hochsch...      768        178   \n",
       "\n",
       "   proportion_tokens_title                                         text_lower  \\\n",
       "0                22.220930  es ist angekündigt worden, man sollte im beruf...   \n",
       "1                12.931373  frau präsidentin!  an sie gerichtet, herr börn...   \n",
       "2                17.379310  frage (peter hahne): bevor wir uns über den au...   \n",
       "3                35.422535  einen satz von ihnen, herr dr. bernotat, habe ...   \n",
       "4                 4.314607  diese jahresversammlung der hochschulrektorenk...   \n",
       "\n",
       "                                          text_upper  \n",
       "0  ES IST ANGEKÜNDIGT WORDEN, MAN SOLLTE IM BERUF...  \n",
       "1  FRAU PRÄSIDENTIN!  AN SIE GERICHTET, HERR BÖRN...  \n",
       "2  FRAGE (PETER HAHNE): BEVOR WIR UNS ÜBER DEN AU...  \n",
       "3  EINEN SATZ VON IHNEN, HERR DR. BERNOTAT, HABE ...  \n",
       "4  DIESE JAHRESVERSAMMLUNG DER HOCHSCHULREKTORENK...  "
      ]
     },
     "execution_count": 105,
     "metadata": {},
     "output_type": "execute_result"
    }
   ],
   "source": [
    "df.head()"
   ]
  },
  {
   "cell_type": "markdown",
   "metadata": {},
   "source": [
    "## Speichern eines Dataframe\n",
    "\n",
    "Das zweckmäßigste Dateiformat zum Speichern eines Dataframes ist das json-Format. Die Dateistrukturen bleiben erhalten: Wenn z.B. eine Spalte aus Zellen mit list-Objekten besteht, bleiben diese erhalten. Anders verhält es sich beim Speichern als csv-Datei: Hier werden alle nicht numerischen Dateitypen in strings umgewandelt, können aber später auch wieder in ihr ursprüngliches Dateiformat gebracht werden."
   ]
  },
  {
   "cell_type": "code",
   "execution_count": 171,
   "metadata": {},
   "outputs": [],
   "source": [
    "# df.to_json('reden-bundesregierung-bearbeitet.json)\n",
    "df.to_csv('reden-bundesregierung-bearbeitet.csv', index=False)"
   ]
  },
  {
   "cell_type": "markdown",
   "metadata": {},
   "source": [
    "## Abfragen mit bool'scher Maske"
   ]
  },
  {
   "cell_type": "code",
   "execution_count": 107,
   "metadata": {},
   "outputs": [
    {
     "data": {
      "text/plain": [
       "185"
      ]
     },
     "execution_count": 107,
     "metadata": {},
     "output_type": "execute_result"
    }
   ],
   "source": [
    "query = df.loc[:, 'text'].str.contains('Ukraine').sum()\n",
    "query"
   ]
  },
  {
   "cell_type": "code",
   "execution_count": 111,
   "metadata": {},
   "outputs": [
    {
     "data": {
      "text/plain": [
       "0        True\n",
       "1       False\n",
       "2        True\n",
       "3        True\n",
       "4        True\n",
       "        ...  \n",
       "2978    False\n",
       "2979    False\n",
       "2980    False\n",
       "2981    False\n",
       "2982    False\n",
       "Name: person, Length: 2983, dtype: bool"
      ]
     },
     "execution_count": 111,
     "metadata": {},
     "output_type": "execute_result"
    }
   ],
   "source": [
    "mask = df.loc[:, 'person'] == 'Gerhard Schröder'\n",
    "mask"
   ]
  },
  {
   "cell_type": "code",
   "execution_count": 113,
   "metadata": {},
   "outputs": [
    {
     "data": {
      "text/html": [
       "<div>\n",
       "<style scoped>\n",
       "    .dataframe tbody tr th:only-of-type {\n",
       "        vertical-align: middle;\n",
       "    }\n",
       "\n",
       "    .dataframe tbody tr th {\n",
       "        vertical-align: top;\n",
       "    }\n",
       "\n",
       "    .dataframe thead th {\n",
       "        text-align: right;\n",
       "    }\n",
       "</style>\n",
       "<table border=\"1\" class=\"dataframe\">\n",
       "  <thead>\n",
       "    <tr style=\"text-align: right;\">\n",
       "      <th></th>\n",
       "      <th>person</th>\n",
       "      <th>title</th>\n",
       "      <th>date</th>\n",
       "      <th>text</th>\n",
       "      <th>tokens</th>\n",
       "      <th>ntokens</th>\n",
       "      <th>len_title</th>\n",
       "      <th>proportion_tokens_title</th>\n",
       "      <th>text_lower</th>\n",
       "      <th>text_upper</th>\n",
       "    </tr>\n",
       "  </thead>\n",
       "  <tbody>\n",
       "    <tr>\n",
       "      <th>0</th>\n",
       "      <td>Gerhard Schröder</td>\n",
       "      <td>Rede des Bundeskanzlers zur Eröffnung der 52. ...</td>\n",
       "      <td>2002-02-06</td>\n",
       "      <td>es ist angekündigt worden, man sollte im Beruf...</td>\n",
       "      <td>['es', 'ist', 'angekündigt', 'worden', 'man', ...</td>\n",
       "      <td>1911</td>\n",
       "      <td>86</td>\n",
       "      <td>22.220930</td>\n",
       "      <td>es ist angekündigt worden, man sollte im beruf...</td>\n",
       "      <td>ES IST ANGEKÜNDIGT WORDEN, MAN SOLLTE IM BERUF...</td>\n",
       "    </tr>\n",
       "    <tr>\n",
       "      <th>2</th>\n",
       "      <td>Gerhard Schröder</td>\n",
       "      <td>Interview mit Bundeskanzler Schröder in 'Berli...</td>\n",
       "      <td>2002-04-14</td>\n",
       "      <td>Frage (Peter Hahne): Bevor wir uns über den Au...</td>\n",
       "      <td>['Frage', 'Peter', 'Hahne', 'Bevor', 'wir', 'u...</td>\n",
       "      <td>1512</td>\n",
       "      <td>87</td>\n",
       "      <td>17.379310</td>\n",
       "      <td>frage (peter hahne): bevor wir uns über den au...</td>\n",
       "      <td>FRAGE (PETER HAHNE): BEVOR WIR UNS ÜBER DEN AU...</td>\n",
       "    </tr>\n",
       "    <tr>\n",
       "      <th>3</th>\n",
       "      <td>Gerhard Schröder</td>\n",
       "      <td>Rede von Bundeskanzler Gerhard Schröder bei de...</td>\n",
       "      <td>2005-03-08</td>\n",
       "      <td>Einen Satz von Ihnen, Herr Dr. Bernotat, habe ...</td>\n",
       "      <td>['Einen', 'Satz', 'von', 'Ihnen', 'Herr', 'Dr....</td>\n",
       "      <td>2515</td>\n",
       "      <td>71</td>\n",
       "      <td>35.422535</td>\n",
       "      <td>einen satz von ihnen, herr dr. bernotat, habe ...</td>\n",
       "      <td>EINEN SATZ VON IHNEN, HERR DR. BERNOTAT, HABE ...</td>\n",
       "    </tr>\n",
       "    <tr>\n",
       "      <th>4</th>\n",
       "      <td>Gerhard Schröder</td>\n",
       "      <td>Rede von Bundeskanzler Gerhard Schröder auf de...</td>\n",
       "      <td>2000-05-04</td>\n",
       "      <td>diese Jahresversammlung der Hochschulrektorenk...</td>\n",
       "      <td>['diese', 'Jahresversammlung', 'der', 'Hochsch...</td>\n",
       "      <td>768</td>\n",
       "      <td>178</td>\n",
       "      <td>4.314607</td>\n",
       "      <td>diese jahresversammlung der hochschulrektorenk...</td>\n",
       "      <td>DIESE JAHRESVERSAMMLUNG DER HOCHSCHULREKTORENK...</td>\n",
       "    </tr>\n",
       "    <tr>\n",
       "      <th>11</th>\n",
       "      <td>Gerhard Schröder</td>\n",
       "      <td>&amp;quot;In 10 Jahren an die Spitze&amp;quot; - Bunde...</td>\n",
       "      <td>2002-06-27</td>\n",
       "      <td>Die deutsche Öffentlichkeit ist sich, was selt...</td>\n",
       "      <td>['Die', 'deutsche', 'Öffentlichkeit', 'ist', '...</td>\n",
       "      <td>2262</td>\n",
       "      <td>129</td>\n",
       "      <td>17.534884</td>\n",
       "      <td>die deutsche öffentlichkeit ist sich, was selt...</td>\n",
       "      <td>DIE DEUTSCHE ÖFFENTLICHKEIT IST SICH, WAS SELT...</td>\n",
       "    </tr>\n",
       "  </tbody>\n",
       "</table>\n",
       "</div>"
      ],
      "text/plain": [
       "              person                                              title  \\\n",
       "0   Gerhard Schröder  Rede des Bundeskanzlers zur Eröffnung der 52. ...   \n",
       "2   Gerhard Schröder  Interview mit Bundeskanzler Schröder in 'Berli...   \n",
       "3   Gerhard Schröder  Rede von Bundeskanzler Gerhard Schröder bei de...   \n",
       "4   Gerhard Schröder  Rede von Bundeskanzler Gerhard Schröder auf de...   \n",
       "11  Gerhard Schröder  &quot;In 10 Jahren an die Spitze&quot; - Bunde...   \n",
       "\n",
       "         date                                               text  \\\n",
       "0  2002-02-06  es ist angekündigt worden, man sollte im Beruf...   \n",
       "2  2002-04-14  Frage (Peter Hahne): Bevor wir uns über den Au...   \n",
       "3  2005-03-08  Einen Satz von Ihnen, Herr Dr. Bernotat, habe ...   \n",
       "4  2000-05-04  diese Jahresversammlung der Hochschulrektorenk...   \n",
       "11 2002-06-27  Die deutsche Öffentlichkeit ist sich, was selt...   \n",
       "\n",
       "                                               tokens  ntokens  len_title  \\\n",
       "0   ['es', 'ist', 'angekündigt', 'worden', 'man', ...     1911         86   \n",
       "2   ['Frage', 'Peter', 'Hahne', 'Bevor', 'wir', 'u...     1512         87   \n",
       "3   ['Einen', 'Satz', 'von', 'Ihnen', 'Herr', 'Dr....     2515         71   \n",
       "4   ['diese', 'Jahresversammlung', 'der', 'Hochsch...      768        178   \n",
       "11  ['Die', 'deutsche', 'Öffentlichkeit', 'ist', '...     2262        129   \n",
       "\n",
       "    proportion_tokens_title  \\\n",
       "0                 22.220930   \n",
       "2                 17.379310   \n",
       "3                 35.422535   \n",
       "4                  4.314607   \n",
       "11                17.534884   \n",
       "\n",
       "                                           text_lower  \\\n",
       "0   es ist angekündigt worden, man sollte im beruf...   \n",
       "2   frage (peter hahne): bevor wir uns über den au...   \n",
       "3   einen satz von ihnen, herr dr. bernotat, habe ...   \n",
       "4   diese jahresversammlung der hochschulrektorenk...   \n",
       "11  die deutsche öffentlichkeit ist sich, was selt...   \n",
       "\n",
       "                                           text_upper  \n",
       "0   ES IST ANGEKÜNDIGT WORDEN, MAN SOLLTE IM BERUF...  \n",
       "2   FRAGE (PETER HAHNE): BEVOR WIR UNS ÜBER DEN AU...  \n",
       "3   EINEN SATZ VON IHNEN, HERR DR. BERNOTAT, HABE ...  \n",
       "4   DIESE JAHRESVERSAMMLUNG DER HOCHSCHULREKTORENK...  \n",
       "11  DIE DEUTSCHE ÖFFENTLICHKEIT IST SICH, WAS SELT...  "
      ]
     },
     "execution_count": 113,
     "metadata": {},
     "output_type": "execute_result"
    }
   ],
   "source": [
    "df_schroeder = df.loc[mask, :]\n",
    "df_schroeder.head()"
   ]
  },
  {
   "cell_type": "code",
   "execution_count": 114,
   "metadata": {},
   "outputs": [
    {
     "name": "stdout",
     "output_type": "stream",
     "text": [
      "(185, 10)\n"
     ]
    },
    {
     "data": {
      "text/html": [
       "<div>\n",
       "<style scoped>\n",
       "    .dataframe tbody tr th:only-of-type {\n",
       "        vertical-align: middle;\n",
       "    }\n",
       "\n",
       "    .dataframe tbody tr th {\n",
       "        vertical-align: top;\n",
       "    }\n",
       "\n",
       "    .dataframe thead th {\n",
       "        text-align: right;\n",
       "    }\n",
       "</style>\n",
       "<table border=\"1\" class=\"dataframe\">\n",
       "  <thead>\n",
       "    <tr style=\"text-align: right;\">\n",
       "      <th></th>\n",
       "      <th>person</th>\n",
       "      <th>title</th>\n",
       "      <th>date</th>\n",
       "      <th>text</th>\n",
       "      <th>tokens</th>\n",
       "      <th>ntokens</th>\n",
       "      <th>len_title</th>\n",
       "      <th>proportion_tokens_title</th>\n",
       "      <th>text_lower</th>\n",
       "      <th>text_upper</th>\n",
       "    </tr>\n",
       "  </thead>\n",
       "  <tbody>\n",
       "    <tr>\n",
       "      <th>7</th>\n",
       "      <td>Michael Naumann</td>\n",
       "      <td>Interview von Staatsminister Dr. Michael Nauma...</td>\n",
       "      <td>1999-02-24</td>\n",
       "      <td>Frage: Erstmals in der demokratischen Geschich...</td>\n",
       "      <td>['Frage', 'Erstmals', 'in', 'der', 'demokratis...</td>\n",
       "      <td>3797</td>\n",
       "      <td>128</td>\n",
       "      <td>29.664062</td>\n",
       "      <td>frage: erstmals in der demokratischen geschich...</td>\n",
       "      <td>FRAGE: ERSTMALS IN DER DEMOKRATISCHEN GESCHICH...</td>\n",
       "    </tr>\n",
       "    <tr>\n",
       "      <th>29</th>\n",
       "      <td>Otto Graf Lambsdorff</td>\n",
       "      <td>Rede von Dr. Otto Graf Lambsdorff vor dem Deut...</td>\n",
       "      <td>2000-04-14</td>\n",
       "      <td>vielen Dank, Herr Bundeskanzler, für die anerk...</td>\n",
       "      <td>['vielen', 'Dank', 'Herr', 'Bundeskanzler', 'f...</td>\n",
       "      <td>1522</td>\n",
       "      <td>168</td>\n",
       "      <td>9.059524</td>\n",
       "      <td>vielen dank, herr bundeskanzler, für die anerk...</td>\n",
       "      <td>VIELEN DANK, HERR BUNDESKANZLER, FÜR DIE ANERK...</td>\n",
       "    </tr>\n",
       "    <tr>\n",
       "      <th>114</th>\n",
       "      <td>Christina Weiss</td>\n",
       "      <td>Kulturstaatsministerin Weiss zu den kulturpoli...</td>\n",
       "      <td>2003-09-16</td>\n",
       "      <td>\"Jetzt, da Europa Wirklichkeit wird, scheint e...</td>\n",
       "      <td>['Jetzt', 'da', 'Europa', 'Wirklichkeit', 'wir...</td>\n",
       "      <td>4384</td>\n",
       "      <td>88</td>\n",
       "      <td>49.818182</td>\n",
       "      <td>\"jetzt, da europa wirklichkeit wird, scheint e...</td>\n",
       "      <td>\"JETZT, DA EUROPA WIRKLICHKEIT WIRD, SCHEINT E...</td>\n",
       "    </tr>\n",
       "    <tr>\n",
       "      <th>143</th>\n",
       "      <td>Christina Weiss</td>\n",
       "      <td>Kulturstaatsministerin Weiss zur Eröffnung der...</td>\n",
       "      <td>2005-04-27</td>\n",
       "      <td>Am 8. Mai 1945 endete der Zweite Weltkrieg - d...</td>\n",
       "      <td>['Am', '8.', 'Mai', '1945', 'endete', 'der', '...</td>\n",
       "      <td>1185</td>\n",
       "      <td>103</td>\n",
       "      <td>11.504854</td>\n",
       "      <td>am 8. mai 1945 endete der zweite weltkrieg - d...</td>\n",
       "      <td>AM 8. MAI 1945 ENDETE DER ZWEITE WELTKRIEG - D...</td>\n",
       "    </tr>\n",
       "    <tr>\n",
       "      <th>155</th>\n",
       "      <td>Gerhard Schröder</td>\n",
       "      <td>Rede von Bundeskanzler Gerhard Schröder vor de...</td>\n",
       "      <td>2000-12-06</td>\n",
       "      <td>Abgeordnete und Senatoren,meine Damen und Herr...</td>\n",
       "      <td>['Abgeordnete', 'und', 'Senatoren', 'meine', '...</td>\n",
       "      <td>2984</td>\n",
       "      <td>88</td>\n",
       "      <td>33.909091</td>\n",
       "      <td>abgeordnete und senatoren,meine damen und herr...</td>\n",
       "      <td>ABGEORDNETE UND SENATOREN,MEINE DAMEN UND HERR...</td>\n",
       "    </tr>\n",
       "  </tbody>\n",
       "</table>\n",
       "</div>"
      ],
      "text/plain": [
       "                   person                                              title  \\\n",
       "7         Michael Naumann  Interview von Staatsminister Dr. Michael Nauma...   \n",
       "29   Otto Graf Lambsdorff  Rede von Dr. Otto Graf Lambsdorff vor dem Deut...   \n",
       "114       Christina Weiss  Kulturstaatsministerin Weiss zu den kulturpoli...   \n",
       "143       Christina Weiss  Kulturstaatsministerin Weiss zur Eröffnung der...   \n",
       "155      Gerhard Schröder  Rede von Bundeskanzler Gerhard Schröder vor de...   \n",
       "\n",
       "          date                                               text  \\\n",
       "7   1999-02-24  Frage: Erstmals in der demokratischen Geschich...   \n",
       "29  2000-04-14  vielen Dank, Herr Bundeskanzler, für die anerk...   \n",
       "114 2003-09-16  \"Jetzt, da Europa Wirklichkeit wird, scheint e...   \n",
       "143 2005-04-27  Am 8. Mai 1945 endete der Zweite Weltkrieg - d...   \n",
       "155 2000-12-06  Abgeordnete und Senatoren,meine Damen und Herr...   \n",
       "\n",
       "                                                tokens  ntokens  len_title  \\\n",
       "7    ['Frage', 'Erstmals', 'in', 'der', 'demokratis...     3797        128   \n",
       "29   ['vielen', 'Dank', 'Herr', 'Bundeskanzler', 'f...     1522        168   \n",
       "114  ['Jetzt', 'da', 'Europa', 'Wirklichkeit', 'wir...     4384         88   \n",
       "143  ['Am', '8.', 'Mai', '1945', 'endete', 'der', '...     1185        103   \n",
       "155  ['Abgeordnete', 'und', 'Senatoren', 'meine', '...     2984         88   \n",
       "\n",
       "     proportion_tokens_title  \\\n",
       "7                  29.664062   \n",
       "29                  9.059524   \n",
       "114                49.818182   \n",
       "143                11.504854   \n",
       "155                33.909091   \n",
       "\n",
       "                                            text_lower  \\\n",
       "7    frage: erstmals in der demokratischen geschich...   \n",
       "29   vielen dank, herr bundeskanzler, für die anerk...   \n",
       "114  \"jetzt, da europa wirklichkeit wird, scheint e...   \n",
       "143  am 8. mai 1945 endete der zweite weltkrieg - d...   \n",
       "155  abgeordnete und senatoren,meine damen und herr...   \n",
       "\n",
       "                                            text_upper  \n",
       "7    FRAGE: ERSTMALS IN DER DEMOKRATISCHEN GESCHICH...  \n",
       "29   VIELEN DANK, HERR BUNDESKANZLER, FÜR DIE ANERK...  \n",
       "114  \"JETZT, DA EUROPA WIRKLICHKEIT WIRD, SCHEINT E...  \n",
       "143  AM 8. MAI 1945 ENDETE DER ZWEITE WELTKRIEG - D...  \n",
       "155  ABGEORDNETE UND SENATOREN,MEINE DAMEN UND HERR...  "
      ]
     },
     "execution_count": 114,
     "metadata": {},
     "output_type": "execute_result"
    }
   ],
   "source": [
    "mask = df.loc[:, 'text'].str.contains('Ukraine')\n",
    "df_ukraine = df.loc[mask, :]\n",
    "print(df_ukraine.shape)\n",
    "df_ukraine.head()"
   ]
  },
  {
   "cell_type": "code",
   "execution_count": 117,
   "metadata": {},
   "outputs": [
    {
     "data": {
      "text/html": [
       "<div>\n",
       "<style scoped>\n",
       "    .dataframe tbody tr th:only-of-type {\n",
       "        vertical-align: middle;\n",
       "    }\n",
       "\n",
       "    .dataframe tbody tr th {\n",
       "        vertical-align: top;\n",
       "    }\n",
       "\n",
       "    .dataframe thead th {\n",
       "        text-align: right;\n",
       "    }\n",
       "</style>\n",
       "<table border=\"1\" class=\"dataframe\">\n",
       "  <thead>\n",
       "    <tr style=\"text-align: right;\">\n",
       "      <th></th>\n",
       "      <th>date</th>\n",
       "      <th>title</th>\n",
       "    </tr>\n",
       "  </thead>\n",
       "  <tbody>\n",
       "    <tr>\n",
       "      <th>7</th>\n",
       "      <td>1999-02-24</td>\n",
       "      <td>Interview von Staatsminister Dr. Michael Naumann mit Frank Meyer in der Sendung &amp;quot;vis à vis&amp;quot; (3sat) am 24. Februar 1999</td>\n",
       "    </tr>\n",
       "    <tr>\n",
       "      <th>29</th>\n",
       "      <td>2000-04-14</td>\n",
       "      <td>Rede von Dr. Otto Graf Lambsdorff vor dem Deutschen Bundestag zum Entwurf eines Gesetzes zur Errichtung einer Stiftung &amp;quot;Erinnerung, Verantwortung und Zukunft&amp;quot;</td>\n",
       "    </tr>\n",
       "    <tr>\n",
       "      <th>114</th>\n",
       "      <td>2003-09-16</td>\n",
       "      <td>Kulturstaatsministerin Weiss zu den kulturpolitischen Perspektiven der EU-Osterweiterung</td>\n",
       "    </tr>\n",
       "  </tbody>\n",
       "</table>\n",
       "</div>"
      ],
      "text/plain": [
       "          date  \\\n",
       "7   1999-02-24   \n",
       "29  2000-04-14   \n",
       "114 2003-09-16   \n",
       "\n",
       "                                                                                                                                                                        title  \n",
       "7    Interview von Staatsminister Dr. Michael Naumann mit Frank Meyer in der Sendung &quot;vis à vis&quot; (3sat) am 24. Februar 1999                                          \n",
       "29   Rede von Dr. Otto Graf Lambsdorff vor dem Deutschen Bundestag zum Entwurf eines Gesetzes zur Errichtung einer Stiftung &quot;Erinnerung, Verantwortung und Zukunft&quot;  \n",
       "114  Kulturstaatsministerin Weiss zu den kulturpolitischen Perspektiven der EU-Osterweiterung                                                                                  "
      ]
     },
     "metadata": {},
     "output_type": "display_data"
    }
   ],
   "source": [
    "with pd.option_context('display.max_colwidth', -1):\n",
    "    display(df_ukraine.loc[:, ['date', 'title']].head(3))"
   ]
  },
  {
   "cell_type": "code",
   "execution_count": 148,
   "metadata": {},
   "outputs": [
    {
     "name": "stdout",
     "output_type": "stream",
     "text": [
      "(104, 10)\n"
     ]
    },
    {
     "data": {
      "text/html": [
       "<div>\n",
       "<style scoped>\n",
       "    .dataframe tbody tr th:only-of-type {\n",
       "        vertical-align: middle;\n",
       "    }\n",
       "\n",
       "    .dataframe tbody tr th {\n",
       "        vertical-align: top;\n",
       "    }\n",
       "\n",
       "    .dataframe thead th {\n",
       "        text-align: right;\n",
       "    }\n",
       "</style>\n",
       "<table border=\"1\" class=\"dataframe\">\n",
       "  <thead>\n",
       "    <tr style=\"text-align: right;\">\n",
       "      <th></th>\n",
       "      <th>person</th>\n",
       "      <th>title</th>\n",
       "      <th>date</th>\n",
       "      <th>text</th>\n",
       "      <th>tokens</th>\n",
       "      <th>ntokens</th>\n",
       "      <th>len_title</th>\n",
       "      <th>proportion_tokens_title</th>\n",
       "      <th>text_lower</th>\n",
       "      <th>text_upper</th>\n",
       "    </tr>\n",
       "  </thead>\n",
       "  <tbody>\n",
       "    <tr>\n",
       "      <th>2655</th>\n",
       "      <td>Helmut Kohl</td>\n",
       "      <td>: Rede vor der Parlamentarischen Versammlung d...</td>\n",
       "      <td>1995-09-28</td>\n",
       "      <td>Herr Präsident, Herr Generalsekretär, meine Da...</td>\n",
       "      <td>['Herr', 'Präsident', 'Herr', 'Generalsekretär...</td>\n",
       "      <td>3522</td>\n",
       "      <td>72</td>\n",
       "      <td>48.916667</td>\n",
       "      <td>herr präsident, herr generalsekretär, meine da...</td>\n",
       "      <td>HERR PRÄSIDENT, HERR GENERALSEKRETÄR, MEINE DA...</td>\n",
       "    </tr>\n",
       "    <tr>\n",
       "      <th>2659</th>\n",
       "      <td>Helmut Kohl</td>\n",
       "      <td>Rede zur Eröffnung der Hannover-Messe 1995 in ...</td>\n",
       "      <td>1995-04-02</td>\n",
       "      <td>Sehr geehrter Herr Staatspräsident Suharto,\\nH...</td>\n",
       "      <td>['Sehr', 'geehrter', 'Herr', 'Staatspräsident'...</td>\n",
       "      <td>2738</td>\n",
       "      <td>54</td>\n",
       "      <td>50.703704</td>\n",
       "      <td>sehr geehrter herr staatspräsident suharto,\\nh...</td>\n",
       "      <td>SEHR GEEHRTER HERR STAATSPRÄSIDENT SUHARTO,\\nH...</td>\n",
       "    </tr>\n",
       "    <tr>\n",
       "      <th>2661</th>\n",
       "      <td>Helmut Kohl</td>\n",
       "      <td>Rede anlässlich der Eröffnung der Schurman-Lec...</td>\n",
       "      <td>1992-05-26</td>\n",
       "      <td>Die CDU ist mit Helmut Kohl konstant für eine ...</td>\n",
       "      <td>['Die', 'CDU', 'ist', 'mit', 'Helmut', 'Kohl',...</td>\n",
       "      <td>4772</td>\n",
       "      <td>64</td>\n",
       "      <td>74.562500</td>\n",
       "      <td>die cdu ist mit helmut kohl konstant für eine ...</td>\n",
       "      <td>DIE CDU IST MIT HELMUT KOHL KONSTANT FÜR EINE ...</td>\n",
       "    </tr>\n",
       "    <tr>\n",
       "      <th>2805</th>\n",
       "      <td>Helmut Kohl</td>\n",
       "      <td>: Vortrag vor der Erasmus-Universität Rotterda...</td>\n",
       "      <td>1995-05-22</td>\n",
       "      <td>22. Mai 1995: Vortrag vor der Erasmus-Universi...</td>\n",
       "      <td>['22.', 'Mai', '1995', 'Vortrag', 'vor', 'der'...</td>\n",
       "      <td>2337</td>\n",
       "      <td>128</td>\n",
       "      <td>18.257812</td>\n",
       "      <td>22. mai 1995: vortrag vor der erasmus-universi...</td>\n",
       "      <td>22. MAI 1995: VORTRAG VOR DER ERASMUS-UNIVERSI...</td>\n",
       "    </tr>\n",
       "    <tr>\n",
       "      <th>2885</th>\n",
       "      <td>Helmut Kohl</td>\n",
       "      <td>Rede bei der 33. Münchner Konferenz für Sicher...</td>\n",
       "      <td>1996-02-03</td>\n",
       "      <td>Lieber Herr von Kleist,meine sehr verehrten Da...</td>\n",
       "      <td>['Lieber', 'Herr', 'von', 'Kleist', 'meine', '...</td>\n",
       "      <td>2933</td>\n",
       "      <td>69</td>\n",
       "      <td>42.507246</td>\n",
       "      <td>lieber herr von kleist,meine sehr verehrten da...</td>\n",
       "      <td>LIEBER HERR VON KLEIST,MEINE SEHR VEREHRTEN DA...</td>\n",
       "    </tr>\n",
       "  </tbody>\n",
       "</table>\n",
       "</div>"
      ],
      "text/plain": [
       "           person                                              title  \\\n",
       "2655  Helmut Kohl  : Rede vor der Parlamentarischen Versammlung d...   \n",
       "2659  Helmut Kohl  Rede zur Eröffnung der Hannover-Messe 1995 in ...   \n",
       "2661  Helmut Kohl  Rede anlässlich der Eröffnung der Schurman-Lec...   \n",
       "2805  Helmut Kohl  : Vortrag vor der Erasmus-Universität Rotterda...   \n",
       "2885  Helmut Kohl  Rede bei der 33. Münchner Konferenz für Sicher...   \n",
       "\n",
       "           date                                               text  \\\n",
       "2655 1995-09-28  Herr Präsident, Herr Generalsekretär, meine Da...   \n",
       "2659 1995-04-02  Sehr geehrter Herr Staatspräsident Suharto,\\nH...   \n",
       "2661 1992-05-26  Die CDU ist mit Helmut Kohl konstant für eine ...   \n",
       "2805 1995-05-22  22. Mai 1995: Vortrag vor der Erasmus-Universi...   \n",
       "2885 1996-02-03  Lieber Herr von Kleist,meine sehr verehrten Da...   \n",
       "\n",
       "                                                 tokens  ntokens  len_title  \\\n",
       "2655  ['Herr', 'Präsident', 'Herr', 'Generalsekretär...     3522         72   \n",
       "2659  ['Sehr', 'geehrter', 'Herr', 'Staatspräsident'...     2738         54   \n",
       "2661  ['Die', 'CDU', 'ist', 'mit', 'Helmut', 'Kohl',...     4772         64   \n",
       "2805  ['22.', 'Mai', '1995', 'Vortrag', 'vor', 'der'...     2337        128   \n",
       "2885  ['Lieber', 'Herr', 'von', 'Kleist', 'meine', '...     2933         69   \n",
       "\n",
       "      proportion_tokens_title  \\\n",
       "2655                48.916667   \n",
       "2659                50.703704   \n",
       "2661                74.562500   \n",
       "2805                18.257812   \n",
       "2885                42.507246   \n",
       "\n",
       "                                             text_lower  \\\n",
       "2655  herr präsident, herr generalsekretär, meine da...   \n",
       "2659  sehr geehrter herr staatspräsident suharto,\\nh...   \n",
       "2661  die cdu ist mit helmut kohl konstant für eine ...   \n",
       "2805  22. mai 1995: vortrag vor der erasmus-universi...   \n",
       "2885  lieber herr von kleist,meine sehr verehrten da...   \n",
       "\n",
       "                                             text_upper  \n",
       "2655  HERR PRÄSIDENT, HERR GENERALSEKRETÄR, MEINE DA...  \n",
       "2659  SEHR GEEHRTER HERR STAATSPRÄSIDENT SUHARTO,\\nH...  \n",
       "2661  DIE CDU IST MIT HELMUT KOHL KONSTANT FÜR EINE ...  \n",
       "2805  22. MAI 1995: VORTRAG VOR DER ERASMUS-UNIVERSI...  \n",
       "2885  LIEBER HERR VON KLEIST,MEINE SEHR VEREHRTEN DA...  "
      ]
     },
     "execution_count": 148,
     "metadata": {},
     "output_type": "execute_result"
    }
   ],
   "source": [
    "mask = (df.loc[:, 'text'].str.contains('Ukraine')) \\\n",
    "      & (df.loc[:, 'text'].str.contains('Russland'))\n",
    "df_uk_ru = df.loc[mask,:]\n",
    "print(df_uk_ru.shape)\n",
    "df_uk_ru.tail()\n"
   ]
  },
  {
   "cell_type": "code",
   "execution_count": 169,
   "metadata": {},
   "outputs": [
    {
     "name": "stdout",
     "output_type": "stream",
     "text": [
      "(26, 10)\n"
     ]
    }
   ],
   "source": [
    "mask = (df.loc[:, 'text'].str.contains('Ukraine')) \\\n",
    "      & (df.loc[:, 'text'].str.contains('Russland')) \\\n",
    "      & (df.loc[:, 'person'] == 'Angela Merkel') \\\n",
    "      & (df.loc[:, 'date'].dt.year == 2014)        \n",
    "df_uk_ru_2 = df.loc[mask,:]\n",
    "print(df_uk_ru_2.shape)"
   ]
  },
  {
   "cell_type": "code",
   "execution_count": 176,
   "metadata": {},
   "outputs": [
    {
     "data": {
      "text/html": [
       "<div>\n",
       "<style scoped>\n",
       "    .dataframe tbody tr th:only-of-type {\n",
       "        vertical-align: middle;\n",
       "    }\n",
       "\n",
       "    .dataframe tbody tr th {\n",
       "        vertical-align: top;\n",
       "    }\n",
       "\n",
       "    .dataframe thead th {\n",
       "        text-align: right;\n",
       "    }\n",
       "</style>\n",
       "<table border=\"1\" class=\"dataframe\">\n",
       "  <thead>\n",
       "    <tr style=\"text-align: right;\">\n",
       "      <th></th>\n",
       "      <th>date</th>\n",
       "      <th>text</th>\n",
       "    </tr>\n",
       "  </thead>\n",
       "  <tbody>\n",
       "    <tr>\n",
       "      <th>1815</th>\n",
       "      <td>2014-09-19</td>\n",
       "      <td>Sie haben dieses Jahr eine neue Imagekampagne mit dem Motto \"Die Welt war noch nie so unfertig. Pack mit an.\" – Wie immer ein sehr passendes Motto. Sie wollen damit gerade junge Menschen ansprechen und ihnen sagen: Bewegt etwas in unserer Gesellschaft und für unsere Gesellschaft. Das Handwerk ist auch wirklich ein Bereich, in dem junge Menschen sehr viele Chancen bekommen. Die Botschaft ist deshalb auch glaubwürdig.\\nDas traditionelle Markenzeichen des Handwerks sind Schaffenskraft, Kreativität und Mut, immer wieder Neues zu wagen. Damit bringen Sie sozusagen zum Ausdruck, was Selbständigkeit ausmacht, was die Bereitschaft ausmacht, auch Risiken einzugehen, und was letztendlich unsere Gesellschaft voranbringt. Dafür ein ganz herzliches Dankeschön. Soziale Marktwirtschaft in Deutschland ohne das deutsche Handwerk ist nicht vorstellbar. Damit sind Sie natürlich auch ein Aushängeschild unseres Landes und eine wichtige Säule der deutschen Wirtschaft.\\nDeutschland ist einer der Wachstumsmotoren insbesondere im Euroraum. Unser Wachstum wird im Augenblick im Wesentlichen von einer stabilen Binnenkonjunktur angetrieben. Wenn wir addieren, was wir in den vergangenen Jahren an Binnenkonsum hatten, dann stellen wir fest, dass das eine ganze Menge war. Ich weiß, dass Sie nicht jeden unserer konsumfördernden Schritte gutheißen. Aber zum Beispiel etwas wie die Mütterrente ist auch ein Beitrag zu neuen Konsummöglichkeiten und damit auch ein Beitrag zum Wachstum in der gesamten Eurozone.\\nDas anhaltend hohe Nachfrageniveau deutet darauf hin, dass der Arbeitsmarkt robust ist. Wir können davon ausgehen, dass die Arbeitslosenzahl im Jahresdurchschnitt wieder unter drei Millionen liegen wird. Ich sage allerdings auch: Wir sehen eine Verfestigung der Langzeitarbeitslosigkeit und müssen daher immer und immer wieder – wir haben auch entsprechende Programme des Bundesarbeitsministeriums – daran arbeiten, dass der Sockel der Langzeitarbeitslosigkeit noch ein wenig stärker abgebaut wird.\\nIch will nicht verhehlen, dass bei einem Bundeshaushalt von rund 300 Milliarden Euro deutlich über 30 Milliarden, also mehr als zehn Prozent, die wir für Hartz-IV-Empfänger ausgeben, ein Block im Haushalt sind, den wir ganz anders nutzen könnten, wenn wir die Langzeitarbeitslosigkeit senken könnten. Deswegen stellt mich das nach wie vor nicht zufrieden – ganz abgesehen davon, was es für eine größere Erfüllung der eigenen Möglichkeiten bedeutete, wenn Langzeitarbeitslose und ihre Kinder aus der Hilfs- und Unterstützungsbedürftigkeit herauskämen.\\nIm Handwerk eröffnen Sie gerade auch jungen Leuten viele Chancen. Deshalb leisten Sie auch einen Beitrag dazu, dass die Jugendarbeitslosigkeit in Deutschland die geringste in ganz Europa ist. Wir freuen uns, dass der Trend der Erwerbstätigenzahlen insgesamt weiter nach oben geht. Wir haben jetzt über 42 Millionen Erwerbstätige. Wir haben über 30 Millionen sozialversicherungspflichtig Beschäftigte. All das sind Rekordzahlen, die in vielerlei Hinsicht sehr gut sind.\\nDie gute Stimmung im Handwerk freut uns. Es zeigt sich, dass in Ihrem Bereich derzeit Konjunktur herrscht. Das Baugewerbe zum Beispiel weist volle Auftragsbücher und steigende Umsätze auf. Auch die Handwerke des gewerblichen Bedarfs und das Kraftfahrzeuggewerbe verbesserten sich im Vergleich zum Vorjahr deutlich. Zehn Prozent aller Handwerksbetriebe wollen mehr Personal einstellen – zusätzlich zu den über 5,3 Millionen Arbeitsplätzen, die das deutsche Handwerk heute schon bietet. 5,3 Millionen ist eine Zahl, die sich wirklich sehen lassen kann. Wenn man an die 30 Millionen sozialversicherungspflichtigen Arbeitsverhältnisse in Deutschland denkt, zeigt sich, welch großer Block das Handwerk ist.\\nDie Ausbildungsbereitschaft – auch dafür ein ganz herzliches Dankeschön – ist ungebrochen hoch. Mehr als ein Viertel aller Auszubildenden in Deutschland – das ist deutlich überproportional – findet seinen Ausbildungsplatz im Handwerk. Auch hierfür sind wir sehr, sehr dankbar. Deshalb will ich auch noch einmal ganz klar sagen: Wir werden uns nicht nur in Deutschland für den Erhalt des Meisterbriefs einsetzen, sondern auch in Europa. Denn der Meisterbrief ist Ausdruck einer Kultur; und das gesamte lokale Ausbildungssystem ist nicht wegzudenken. Wenn wir alle Regulierungen aufheben und sagen würden \"Jetzt herrscht hier freier Wettbewerb und nichts wird mehr reguliert\", dann hätten wir keine Industrie- und Handelskammern, dann hätten wir keine Handwerkskammern, dann hätten wir keine Meisterbriefe, dann hätten wir gewissermaßen keine Gesellen. Das würde die gesamte Qualität unserer Berufsausbildung unglaublich schmälern. Das werden wir als Bundesregierung nicht zulassen; darauf können Sie vertrauen, meine Damen und Herren. Als Bundesregierung werden wir dies, wenn die neue Europäische Kommission ab 1. November im Amt sein wird, auch gleich wieder deutlich machen und mit den zuständigen Kommissaren darüber sprechen.\\nDamit bin ich beim Thema duale Berufsausbildung. Auch ich möchte noch einmal sagen, dass man über die erwähnte OECD-Statistik nur den Kopf schütteln kann, in der bemängelt wird, dass Deutschland einen unterdurchschnittlichen Anteil an Hochschulabsolventen habe. In Europa werden im Augenblick Diskussionen darüber geführt, dass es in einigen Ländern zu viele Hochschulabsolventen gibt, die nicht die Eignung haben, in Bereichen eingesetzt zu werden, in denen dies notwendig wäre, und dass man das duale Berufsbildungssystem in die betreffenden Länder exportieren und dort installieren sollte. Gleichzeitig bezieht man sich einfach auf den Durchschnitt aller Hochschulabsolventen in den OECD-Ländern, um uns zu sagen, wir lägen darunter – aber ohne zu berücksichtigen, dass Deutschland eben die duale Berufsausbildung und deshalb sehr viele qualifizierte Personen auch ohne Hochschulabschluss hat. Weil wir deshalb unter dem OECD-Durchschnitt liegen, sind wir zukunftsausgerichtet. Das müsste die Schlussfolgerung sein; und nicht umgekehrt in dem Sinne, dass wir uns anpassen müssten.\\nWir haben in den letzten Jahren sehr viel dafür getan, dass mehr junge Menschen an Hochschulen und Fachhochschulen studieren. Mehr als die Hälfte der Schulabsolventen nimmt die Möglichkeit einer Hochschul- oder Fachhochschulausbildung wahr. Damit sind wir aber auch an einem Punkt angelangt, an dem wir die zweite Säule, nämlich die duale Berufsausbildung, wieder entschieden stärken müssen. Denn wenn Sie sich die Abschlüsse an den Hochschulen anschauen, stellen Sie fest, dass wir auch in der Hochschulausbildung in vielen Bereichen Menschen haben, die über keine abgeschlossene Berufsausbildung verfügen. Ich bin sehr dankbar dafür, dass Sie, Herr Wollseifer, hierzu gesagt haben, dass Sie im Handwerk auch offen dafür seien, denjenigen, die ihre Hochschulausbildung abbrechen, eine berufliche Ausbildung zukommen zu lassen. Das halte ich für ganz, ganz wichtig. Deshalb sind wir hierbei mit Nachdruck unterstützend tätig.\\nWir arbeiten an einem neuen Ausbildungspakt – möglichst unter Mitwirkung der Arbeitgeberverbände und Gewerkschaften. Das gestaltet sich noch schwierig. Aber ich glaube, gerade auch angesichts der Vielzahl von Aktivitäten, die Gewerkschaften im Bereich der beruflichen Ausbildung unternehmen, ist es sehr, sehr wünschenswert, zu einem neuen Ausbildungs- und Qualifizierungspakt zu kommen. Denn je breiter die Schultern sind, auf denen er ruht, umso besser ist dies für die jungen Menschen.\\nWir haben uns auch bereit erklärt, die Mobilität der Arbeitskräfte in Europa zu fördern. Dazu haben wir das Programm \"MobiPro-EU\" aufgelegt. Diejenigen, die im Bereich Gastronomieausbildung tätig sind, wissen, dass eine Vielzahl von Möglichkeiten genutzt wird. Ich weiß, dass auch das Handwerk zum Beispiel in meinem Wahlkreis – auf der Insel Rügen; also in Mecklenburg-Vorpommern, wo inzwischen ein großer Bedarf an Auszubildenden besteht – bereit ist und sich öffnen würde für junge Menschen aus anderen europäischen Ländern. Ich glaube, man braucht nicht nur einen Binnenmarkt, sondern es wäre auch sehr gut, eine Binnenbewegung der Arbeitskräfte haben. Das heißt, dass man sein Leben lang nicht nur in Deutschland bleiben muss. Die Wanderschaft von Gesellen war schon in früheren Jahrhunderten etwas, das zum Erfahrungsschatz gezählt und geschätzt wurde. Das könnte auch im heutigen Europa durchaus eine Möglichkeit sein.\\nMeine Damen und Herren, soweit also ein ganz herzliches Dankeschön. Sie dürfen davon ausgehen, dass die Bundesregierung das duale Ausbildungssystem für sehr geeignet und für einen Exportschlager hält, da wir eben auch die Verknüpfung mit hohen Qualitätsansprüchen sehen. Deshalb sind Meisterbrief, Handwerkskammern und vieles andere mehr eine wesentliche Voraussetzung dafür, dass dieses Engagement auch in der Berufsbildung existiert.\\nMeine Damen und Herren, wir werden uns in den nächsten Jahren weiter mit der Sicherung der Fachkräftebasis beschäftigen. Wir werden natürlich genauso im Bereich Forschung und Innovation unsere Hausaufgaben machen. Denn wir wissen, dass nur diejenigen, die wirklich Neues entwickeln und erfinden und die auch die Verbindung zwischen Grundlagenforschung und angewandter Forschung gut darstellen, auf den Weltmärkten in Zukunft Chancen haben. Unser hoher Lebensstandard hängt auch davon ab, dass wir innovativ sind. Deshalb geben wir in dieser Legislaturperiode neun Milliarden Euro zusätzlich für Bildung und Forschung aus. Wir unterstützen die Länder in vielfacher Weise – insbesondere bei den Aufwüchsen im Bereich der außeruniversitären Forschung und durch den Hochschulpakt. Wir werden als Bund von den Ländern die BAföG-Leistungen vollständig übernehmen. Damit werden in den Ländern Spielräume frei, sodass Fachhochschulen und Hochschulen finanziell besser ausgestattet werden können. Denn für das gesamte Forschungs- und Bildungssystem ist es ganz wichtig, dass nicht nur außeruniversitäre Forschungseinrichtungen wie Fraunhofer-Gesellschaft, Leibniz-Gemeinschaft oder Max-Planck-Gesellschaft finanziell prima ausgerüstet sind, sondern auch die Schlagkraft der Universitäten nicht weiter abnimmt.\\nWir können auch durch die Änderung des Grundgesetzes, die wir vornehmen werden, die Kooperation zwischen den Hochschulen und den Forschungsinstitutionen sehr viel besser gestalten. Auch das ist ganz wichtig. Wir wissen aus der internationalen Szene, dass man Cluster braucht und hierbei nicht mit föderalen Grenzen operieren kann. Ich glaube, dass das auch für Sie von großer Bedeutung ist.\\nWir haben die Hightech-Strategie weiterentwickelt als eine Strategie, die sich allen Forschungsvorhaben der Bundesregierung zuwendet. Wir achten auch darauf, dass in dieser Hightech-Strategie die Verbindung zur Innovation in mittelständischen Unternehmen deutlicher gezogen wird. Zum Beispiel fördert das \"Zentrale Innovationsprogramm Mittelstand\" technologieoffene Forschungs- und Innovationsprojekte von Firmen, die zumeist auch mit Forschungseinrichtungen kooperieren.\\nSie haben darauf hingewiesen – ich komme später noch einmal darauf zu sprechen –, dass es im Bereich Digitalisierung der Fertigung, die mit dem Internet der Dinge zusammenhängt, rund 50.000 Betriebe gibt. Dieser Hinweis zeigt, wie innovativ Handwerksbetriebe sind und wie sehr sie auch auf eine Kooperation mit der Forschung angewiesen sind. Deshalb wollen wir ihnen den Zugang verbessern.\\nSie haben das Thema Energieeffizienz angesprochen – ein klassisches Innovationsfeld, vom Handwerk seit vielen Jahren hochgehalten. Die steuerliche Vergünstigung will ich heute nicht wieder aufrufen. – \"Ja, doch\", sagt Herr Schwannecke. Ja, klar. – Ich will Ihnen nur sagen, wir werden im Herbst noch einmal Aktivitäten zur Energieeffizienz entfalten. Wir müssen hierbei auch unsere europäischen Hausaufgaben machen. Das Thema Gebäudesanierung wird in diesem Zusammenhang eine große Rolle spielen. Wir werden auch das KfW-Programm zur energetischen Gebäudesanierung – im Rahmen des finanziell Machbaren; das sage ich gleich dazu – ausbauen. Wir sehen, dass wir hierbei Nachholbedarf haben. Wir schätzen Ihre Leistungen sehr hoch ein, insbesondere das, was Sie im Baubereich an energie- und ressourcensparenden Konzepten vorlegen, was Sie mit neuen Materialien, mit neuen Technologien im Heizbereich und in vielen anderen Bereichen für mehr Nachhaltigkeit tun. Hierzu gibt es auch die \"Forschungsinitiative Zukunft Bau\". Damit bündeln wir die Gewinnung neuer Erkenntnisse rund um energieeffizientes und nachhaltiges Bauen.\\nWir freuen uns, dass im öffentlichen und im privaten Bau insgesamt kräftig investiert wird. Die Bundesregierung rechnet mit einem Anstieg der realen Bauinvestitionen in Höhe von vier Prozent im Jahr 2014, der also deutlich über dem allgemeinen Wirtschaftswachstum liegt. Die Voraussetzungen für eine solche Konjunkturentwicklung sind gut. Die Realeinkommen sind gestiegen. Die Zinsen bewegen sich auf einem historischen Tiefstand; das hat durchaus Licht und Schatten, aber in diesem Bereich hat es eben auch günstige konjunkturelle Auswirkungen. Die Finanzlage hat sich zwar nicht in allen, aber in vielen Kommunen deutlich verbessert, was auch damit zu tun hat, dass die Bundesregierung die Kommunen ganz bewusst fördert – sei es durch die Übernahme der Grundsicherung, sei es durch Zuschüsse, die im Bereich Wiedereingliederung von Behinderten gegeben werden. Damit werden wir unserer Verantwortung gerecht.\\nWir haben in vielen Städten Bedarf an neuem Wohnraum. Aber es ist auch anderer Wohnraum gefragt. Auch darauf müssen wir reagieren. Wir sind ein Land im demografischen Wandel. Altersgerechtes Umbauen ist sehr wichtig. Es wird in Zukunft darauf ankommen, bei Sanierungen die Dinge möglichst zusammenzudenken – altersgerechter Wohnraum und gleichzeitig energieeffizienter Wohnraum –, also nicht darauf, dass man zwei Sanierungswellen initiieren muss, zunächst eine zur Verbesserung der Energieeffizienz und erst anschließend eine zur Umsetzung von altersgerechtem Bauen. Hierzu bedarf es vernünftiger Anreize und Zuschüsse. Zur Zuschussförderung von altersgerechtem Umbauen wird auch ein neues KfW-Programm eingeführt. Wir werden darauf achten, dass sich die KfW-Programme vernünftig ergänzen.\\nDie Verkehrsanbindung ist natürlich auch ein zentrales Thema. In einigen Teilen Deutschlands leben wir von der Substanz. Deshalb wird auch die Frage der Nutzerfinanzierung eine Rolle spielen. Wir weiten die Lkw-Maut in einem ersten Schritt auf die vierstreifigen Bundesstraßen und später dann auf die Bundesstraßen insgesamt aus. Dabei sollen auch die Luftverschmutzungskosten berücksichtigt und Anreize gesetzt werden, sich schadstoffarme Lkw zuzulegen. Und wir arbeiten an einem Gesetzentwurf, wie Sie wissen, zur Einführung einer Pkw-Maut, die inländische Autofahrer nicht zusätzlich belasten, aber ausländische Autofahrer einbeziehen wird. Das Ganze muss europarechtlich kompatibel ausgestaltet werden. Wir sind, glaube ich, auf einem vernünftigen Weg.\\nVerkehrsinfrastruktur und Gebäudesanierung sind zwei Investitionsbereiche. Mit dem Energiebereich befassen wir uns auch bereits sehr intensiv. Natürlich sind da neue Netze dringend notwendig. Darauf will ich heute aber nicht vertieft eingehen, sondern stattdessen ein Wort zur Versorgung mit Breitbandanschlüssen im ländlichen Raum sagen, die sich noch als ein riesiges Problem, das uns unter den Nägeln brennt, darstellt. Wir haben jetzt flächendeckend einen Zugang zum Internet mit einem Megabit pro Sekunde. Aber wenn Sie bewegte Bilder brauchen, kommen Sie mit diesem einen Megabit nicht weit. Deshalb ist es wichtig, ja unabdingbar, dass wir unser Ziel erreichen, bis 2018 überall, also für jeden Haushalt, eine Breitbandanbindung mit mindestens 50 Megabit zu haben – je schneller, desto besser. Ich kann gut verstehen, dass ein Drittel Ihrer Betriebe sagt: Wir sind mit den Anbindungen bis heute nicht zufrieden.\\nEs wird darauf ankommen, die Investitionsanreize richtig zu setzen. Es ist klar: Der Run auf die Ballungsgebiete ist groß; es gibt mehrere Anbieter. Daher ist das Thema Verfügbarkeit von schnellem Internet da kaum mehr ein Thema oder wird es in Kürze nicht mehr sein. Doch wie schafft man es, private Investitionen so zu gestalten, dass auch die ländlichen Gebiete erschlossen werden? Daher machen wir uns Gedanken über eine vernünftige Regulierung, damit Investitionen in allen Bereichen erfolgen können.\\nIch bin sehr froh – ich will das hier ausdrücklich sagen –, dass Günther Oettinger das Ressort Digitalisierung in Europa bekommen hat. Denn für ein Industrieland wie Deutschland mit über 20 Prozent Wertschöpfung im industriellen Bereich ist die Frage \"Wie schnell schaffen wir die Kombination von Handwerk, Mittelstand, Industrie insgesamt und Digitalisierung?\" sehr wichtig. Da müssten europäische Rahmenbedingungen mit dem zusammenspielen, was wir in Deutschland machen. Insofern ist das ein Ressort, das uns geradezu auf den Leib geschneidert ist. Er hat auch eine sehr gute Kompetenzstruktur. Denn bisher hat Europa daran gekrankt, dass auf der einen Seite die digitale Agenda von Kommissarin Kroes und auf der anderen Seite der gesamte Verbraucheraspekt von Kommissarin Reding bearbeitet wurde, was regelmäßig dazu geführt hat, dass man sich zwar um niedrige Preise für die Nutzer gekümmert hat, aber zu wenig um die Frage: Wie viel Kapital ist überhaupt noch für Investitionen in die Zukunft verfügbar? Wenn beides jetzt aus einer Hand gesteuert werden kann, setzen wir sehr große Erwartungen darauf, dass auch der Investitionsaspekt eine viel größere Rolle spielen wird.\\nIm Vergleich stellen wir fest: Die großen Unternehmen der Telekommunikation in Amerika und Asien haben sehr viel mehr Investitionskapazitäten als die europäischen Unternehmen. Der europäische Markt ist zudem viel zu zersplittert, als dass wir hier wirklich schlagkräftige Weltchampions werden können. Wir müssen also auch schauen, was wir in Europa im Wettbewerbsrecht machen können.\\nSie sehen also, wir mühen uns mit der digitalen Agenda, sowohl in den Bereichen Breitbandausbau und digitale Wirtschaft als auch im Bereich Datensicherheit die richtigen Angebote zu machen. Ich denke, auch im Handwerk spielt das Thema Sicherheit der Daten eine große Rolle. Wir brauchen ein vernünftiges Cloud-Management; wir brauchen Angebote, bei denen sich Ihre Unternehmen sicher fühlen. Wir werden sehr schnell dazu kommen müssen, das Management von großen Datenmengen – Big Data als Stichwort – in Europa möglichst vernünftig zu gestalten, also die richtige Balance von Sicherheit und Freiheit zu finden. Denn die zukünftige Wertschöpfung – das werden Sie sehen, wenn Sie mehr und mehr Betriebe haben, die sich im Internet der Dinge tummeln – wird vor allem auch aus der Interaktion der Maschinen erfolgen. Es werden Datenmengen entstehen, die wieder zu neuen Produkten führen. Wenn man in dieser Phase der Verschmelzung von digitalem Wirtschaften und realem Wirtschaften nicht mit dabei ist, kann Europa stark ins Hintertreffen geraten. Allerdings haben wir eine gute realwirtschaftliche Ausgangsbasis, um Zukunft mit schreiben zu können. Die nächsten Jahre sind aus meiner Sicht für die weitere Zukunft europäischer Wirtschaftsstärke absolut entscheidend.\\nMeine Damen und Herren, ich bin dankbar dafür, dass Herr Wollseifer gesagt hat: Es ist richtig, dass wir einen ausgeglichen Haushalt haben. Wir haben dieses Jahr einen strukturell ausgeglichenen Haushalt. Unser Anspruch ist, nächstes Jahr eine schwarze Null zu schreiben. Manchmal wird das, kaum dass es realisierbar erscheint, gleich wieder ein bisschen kleingeredet. Ein Land, das wie Deutschland einen demografischen Wandel hat, das in den nächsten Jahren erfreulicherweise mehr Menschen mit höherem Lebensalter, aber auch sehr viel weniger junge Menschen haben wird – mit all den Problemen, die damit verbunden sind –, muss dafür Sorge tragen, dass der Schuldenberg nicht immer weiter wächst. Wir machen derzeit nichts weiter – wir bauen ja noch keine Schulden ab –, als dafür zu sorgen, dass keine neuen Schulden hinzukommen. Wir sind jetzt – es wurde auch heute wieder veröffentlicht – bei über zwei Billionen Euro Schulden. Deshalb ist der beste Beitrag zur Generationengerechtigkeit, wenn wir unseren jungen Leuten sagen: Wir geben euch die Zusicherung, dass der Schuldenberg wenigstens nicht weiter wächst. Deshalb wird die Bundesregierung hierfür auch weiter eintreten und dies als wirklich wichtigen Beitrag benennen.\\nSteuerpolitisch, haben Sie gesagt, bleibt die Eindämmung der kalten Progression auf der Agenda. Das ist ein Thema, bei dem es überhaupt keine sachlichen Unterschiede, weder zwischen den Sozialdemokraten noch der CDU und der CSU, gibt. Wir können es aber erst ins Auge fassen, wenn wir auch wirklich sicher sind, dass der ausgeglichene Haushalt damit nicht infrage gestellt wird. Da bitte ich um Verständnis.\\nIch bin auf Ihrer Seite, wenn es um die Frage der Erbschaftsteuer geht und wir mit Interesse auf das Bundesverfassungsgericht schauen. Wir erinnern uns an die langen Diskussionen, als wir damals in der ersten Großen Koalition, die ich geführt habe, alles darangesetzt haben, den Übergang von Betrieben von einer Generation auf die andere möglichst attraktiv zu gestalten. Das ist für die Zukunft der Familienunternehmen und der Kultur der Selbständigkeit essenziell. Deshalb hat die Bundesregierung beim Bundesverfassungsgericht auch sehr deutlich gemacht, dass wir die Regelung der Erbschaftsteuer für richtig halten. Jetzt warten wir mit dem gebotenen Respekt dessen Beurteilung ab.\\nMeine Damen und Herren, Sie haben es am Anfang gesagt, Herr Wollseifer: \"Die Welt war noch nie so unfertig.\" Ihr Motto spricht nicht nur für das, was im Internet der Dinge, in der Digitalisierung usw. vor allem auch von jungen Menschen heute gemacht werden kann, sondern es spricht auch die geopolitische Lage und die damit verbundenen erheblichen Risiken an – Herausforderungen, denen wir uns um unserer eigenen Sicherheit willen stellen müssen, wenn ich zum Beispiel an die Terrororganisation Islamischer Staat denke. Wir sehen gerade bei so einer Herausforderung, dass man nicht sagen kann: Ach, das ist doch weit weg von uns. Im Gegenteil, wir müssen sehen, dass ein beträchtlicher Teil der Kämpfer bei der Organisation Islamischer Staat aus europäischen Ländern und eben auch aus Deutschland kommt. Deshalb sind auch wir gefordert, den Kampf gegen diese Terrororganisation zu unterstützen. Wir haben sowohl mit humanitären Hilfen als auch mit Waffenlieferungen reagiert.\\nWir haben Auseinandersetzungen mit Russland über die Frage: Darf ein Land wie die Ukraine frei darüber entscheiden, in welchen Bindungen es zur Europäischen Union und zu Russland leben möchte? Wir haben in den vergangenen Monaten bittere Erfahrungen machen müssen. Aber ich glaube, unsere Doppelstrategie ist richtig, einerseits Verletzungen des Völkerrechts mit Wirtschaftssanktionen zu beantworten und gleichzeitig zu sagen, dass militärisches Eingreifen für uns nicht in Betracht kommt, da es aus unserer Sicht keine militärische Lösung dieses Konflikts geben kann, und andererseits die Tür für Gespräche immer offen zu halten, um vernünftige Lösungen zu finden. Diesen Weg wird die Bundesregierung weitergehen. Solche Probleme hätten wir lieber nicht; das ist gar keine Frage. Aber die Welt ist so, wie sie ist; wir müssen die Probleme lösen, die sich ergeben.\\nWir haben nicht nur Verhandlungen über Freihandelsabkommen zwischen der Ukraine, Georgien oder Moldau und der Europäischen Union. Die Europäische Union führt eine Vielzahl von Freihandelsverhandlungen, im Augenblick zum Beispiel mit Japan. Die mit Südkorea sind schon abgeschlossen, die mit Indien sind es noch nicht. Ich will darauf hinweisen, dass wir auch mit lateinamerikanischen Ländern bereits Handelsabkommen haben, zum Beispiel mit Peru und Kolumbien. Wir sind in der Endphase, was ein Freihandelsabkommen mit Kanada anbelangt. Und besonders intensiv diskutiert wird über ein Freihandelsabkommen mit den Vereinigten Staaten von Amerika – TTIP.\\nIch kann auch angesichts der hohen Arbeitslosigkeit in Europa nur sagen: Ein Freihandel zwischen den beiden großen Wirtschaftsräumen der Welt, den Vereinigten Staaten von Amerika und dem europäischen Binnenmarkt, ist von unschätzbarem Wert. Für mich ist klar, dass die Vorteile die vermeintlichen Nachteile weit übersteigen werden. Aber wir sagen den Menschen auch: Rote Linien werden nicht überschritten. All das, was da an Horror- und Schreckensszenarien ausgebreitet wird, wird es nicht geben. Weder wird das Chlorhühnchen Einzug halten noch werden in Zukunft gentechnisch veränderte Lebensmittel in die Europäische Union importiert werden können.\\nAber Sie alle wissen, wenn man sich zum Beispiel den gesamten Kfz-Bereich anschaut, was wir teilweise an Zollhandelshemmnissen, aber auch an nichttarifären Handelshemmnissen haben. Alle Tests zur Zulassung von Beleuchtungen, Bremsen, Sicherheitsapparaturen usw. werden doppelt und dreifach durchgeführt. Das kostet und bindet unendlich viel Kapital, das man stattdessen in Forschung und Innovation investieren könnte. Wir wissen doch, in welch intensivem Wettbewerbsfeld wir uns international befinden. Wenn zum Beispiel heute der Börsengang von Alibaba stattfindet, dann zeigt sich doch, dass die Welt nicht schläft, dass große chinesische Unternehmen inzwischen Global Player sind.\\nWir haben allen Anlass, wenn wir unseren sozialen Wohlstand erhalten wollen, so viel wie möglich zu tun, um Innovationen und Investitionen in die Zukunft möglich zu machen. Deshalb war und ist es richtig, dass der Bundeswirtschaftsminister einen Beirat zusammengestellt hat, in dem auch gesellschaftliche Gruppen an den Verhandlungen beteiligt und informiert werden, in dem Transparenz – soweit man das kann, ohne seine eigenen Verhandlungspositionen zu schwächen – angewandt wird. Und ich bitte Sie, uns auch hierbei zu unterstützen und zu sagen: Alles, was der Wirtschaft dient, ist sinnvoll – immer auch im Auge habend, dass wir weder Verbraucherschutz noch Umweltschutz abschwächen wollen und da unsere roten Linien liegen.\\n\"Die Welt war noch nie so unfertig\" – ein Motto, das von mir als Bundeskanzlerin sofort übernommen werden könnte, aber ich will ja keinen Plagiatsverdacht erzeugen. Insofern: Führen Sie Ihre Kampagne weiter; und ich werde dieses Motto nur auf Ihrem Handwerkstag nutzen und es ansonsten verinnerlichen. Machen wir sie besser, diese Welt. Stellen wir uns dem internationalen und nationalen Wettbewerb. Danke dafür, dass Sie dies jeden Tag mit Ihren Produkten und Leistungen tun. Danke dafür, dass Sie jeden Tag daran arbeiten, Menschen Arbeit und Beschäftigung zu geben. Und ganz besonders danke ich dafür, dass Sie die junge Generation so ins Herz geschlossen haben und sie fit machen für eine Welt, die hoffentlich friedlicher sowie offener und demokratischer wird. Herzlichen Dank und alles Gute.</td>\n",
       "    </tr>\n",
       "    <tr>\n",
       "      <th>1840</th>\n",
       "      <td>2014-01-29</td>\n",
       "      <td>Herr Präsident! Liebe Kolleginnen und Kollegen! Meine sehr geehrten Damen und Herren! Angesichts der aktuellen Ereignisse lassen Sie mich bitte zu Beginn einige Worte zur Lage in der Ukraine sagen. Durch den Druck der Demonstrationen werden jetzt ganz offensichtlich ernsthafte Gespräche zwischen dem Präsidenten und der Opposition über notwendige politische Reformen möglich. Der Bundesaußenminister, das Kanzleramt und die deutsche Botschaft in Kiew unterstützen die Bemühungen um eine friedliche Lösung des Konflikts und die berechtigten Anliegen der Opposition mit allen uns zur Verfügung stehenden Mitteln. Wir stehen dazu auch in engem Kontakt mit der Hohen Beauftragten Lady Ashton und werden unsere Bemühungen in den nächsten Stunden und Tagen fortsetzen.\\nViele Menschen in der Ukraine haben seit dem EU-Gipfel zur Östlichen Partnerschaft Ende November in Vilnius in mutigen Demonstrationen gezeigt, dass sie nicht gewillt sind, sich von Europa abzukehren.\\nIm Gegenteil: Sie setzen sich für die gleichen Werte ein, die auch uns in der Europäischen Union leiten, und deshalb müssen sie Gehör finden.\\nUnverändert gilt, dass die Tür für die Unterzeichnung des EU-Assoziierungsabkommens durch die Ukraine weiter offen steht. Und unverändert gilt, dass die Gefahr eines Entweder-oder im Hinblick auf das Verhältnis der Länder der Östlichen Partnerschaft zu Europa oder zu Russland überwunden werden muss und – davon bin ich überzeugt – in geduldigen Verhandlungen auch überwunden werden kann. Genau dies haben auch der EU-Ratspräsident Van Rompuy und EU-Kommissionspräsident Barroso gestern beim EU-Russland-Gipfel gegenüber dem russischen Präsidenten Putin noch einmal zum Ausdruck gebracht. Auch die Bundesregierung wird dies gegenüber Russland unvermindert zum Ausdruck bringen, zum Wohle aller in der Region.\\nMeine Damen und Herren, bevor wir nun auf die nächsten Jahre schauen, sollten wir kurz zurückblicken: auf den Beginn dieses Jahrhunderts. Damals galt Deutschland als der kranke Mann Europas. Die soziale Marktwirtschaft, die unser Land im 20. Jahrhundert nachhaltig geprägt hat, wurde national wie international fast schon als Auslaufmodell angesehen. Manche meinten, dass unsere Wirtschafts- und Sozialordnung zu behäbig, zu altmodisch für die Anforderungen der Globalisierung im 21. Jahrhundert geworden sei. Und heute, zehn Jahre später? Heute können wir feststellen: Deutschland geht es so gut wie lange nicht. Die Wirtschaft wächst, die Beschäftigung ist auf dem höchsten Niveau seit der Wiedervereinigung, die Menschen schauen so optimistisch in die Zukunft wie seit dem Fall der Mauer nicht mehr, und von der sozialen Marktwirtschaft als Auslaufmodell spricht keiner mehr, von Deutschland als krankem Mann Europas erst recht nicht.\\nIm Gegenteil: Deutschland ist Wachstumsmotor in Europa, Deutschland ist Stabilitätsanker in Europa. Wir sind rascher und stärker aus der weltweiten Wirtschafts- und Finanzkrise herausgekommen als andere. Wir tragen maßgeblich dazu bei, dass die europäische Staatsschuldenkrise überwunden werden kann. Für diese Erfolgsgeschichte ist das Zusammenspiel der Sozialpartner ganz entscheidend, das Zusammenspiel der Arbeitgeber und der Gewerkschaften, das unserem Land gemeinsam mit klugen politischen Entscheidungen die Stabilität und Stärke gibt, die heute notwendig sind. Sie sind notwendig, wenn wir den Anspruch haben, nicht einfach irgendwie die Krisen und Herausforderungen unserer Zeit zu meistern, sondern so, dass sich die Werte und Interessen Deutschlands und Europas auch in Zukunft im harten weltweiten Wettbewerb behaupten können. Ich habe diesen Anspruch, die Regierung der Großen Koalition hat diesen Anspruch.\\nWir haben den Anspruch, nicht einfach irgendwie aus den weltweiten und europäischen Finanz- und Schuldenkrisen herauszukommen, sondern stärker, als wir in sie hineingegangen sind. Wir haben den Anspruch, nicht einfach irgendwie mit den großen Herausforderungen unserer Zeit beim Schutz unseres Klimas, beim Zugang zu Energie oder beim Kampf gegen die asymmetrischen Bedrohungen fertigzuwerden, sondern so, dass wir unseren Werten und unseren Interessen gerecht werden.\\nDas, liebe Kolleginnen und Kollegen, ist wichtiger denn je. Längst hat die Globalisierung unsere Welt auch im Kleinen erfasst. Heute leben über 7 Milliarden Menschen auf der Erde. Sie alle wollen am Wohlstand teilhaben. Als Exportnation sind wir auf vielfältige Weise mit anderen Nationen verflochten. Niemand kann sich mehr darauf beschränken, nur seine eigenen Belange im Blick zu haben, und wenn er es doch tut, dann schadet er über kurz oder lang sich selbst.\\nIn den 50er-Jahren hatte nur 1 Prozent der Weltbevölkerung eine Lebenserwartung von über 70 Jahren. Heute wird über die Hälfte aller Menschen über 70 Jahre alt. Schon diese eine Zahl gibt uns eine Ahnung vom Ausmaß der demografischen Entwicklung, mit der ja auch gerade Deutschland umzugehen lernen muss.\\nDie digitalen Möglichkeiten und das Internet verändern unser Leben rasant. Sie schaffen schier unendliche Kommunikations- und Informationsformen, haben aber auch eine kaum absehbare Wirkung auf den Schutz dessen, was privat und persönlich sein und bleiben sollte.\\nEs versteht sich von selbst: Mit der globalen und digitalen Dynamik unserer Zeit müssen wir Schritt halten. Mehr noch: Ein Land wie Deutschland, größte und stärkste Volkswirtschaft Europas, muss an ihrer Spitze stehen und auch stehen wollen, und zwar nicht um uns ihr zu unterwerfen, sondern um die Chancen erkennen und auch nutzen zu können, die ohne jeden Zweifel in ihr stecken. Das gilt für unsere Forscher und Entwickler, das gilt für unser Bildungssystem, das gilt für unsere Unternehmen und Arbeitnehmer, und das gilt für unsere Art der Energieversorgung.\\nMit dieser Dynamik Schritt zu halten, an der Spitze der Entwicklung zu stehen, das ist eine der großen politischen wie ethischen Gestaltungsaufgaben unserer Generation. Sie kann nur mit einem Kompass gelingen. Dieser Kompass ist die soziale Marktwirtschaft, weil sie immer mehr war als eine Wirtschaftsordnung, weil sie als Wirtschafts- und Sozialordnung wirtschaftliche Kraft und sozialen Ausgleich miteinander verbindet. Die soziale Marktwirtschaft ist unser Kompass, weil ihre Prinzipien zeitlos gültig sind und sie doch mit der Zeit gehen und weiterentwickelt werden können, wie dies mit der ökologischen und der internationalen Dimension unseres Lebens gelungen ist.\\nDie soziale Marktwirtschaft ist unser Kompass, weil sie wie keine zweite Wirtschafts- und Sozialordnung den Menschen in den Mittelpunkt stellt. Genau darum hat es zu gehen: um den Menschen im Mittelpunkt unseres Handelns.\\nDas leitet mich seit meinem Amtsantritt im November 2005 in meinem Verständnis als Kanzlerin aller Deutschen und aller in Deutschland lebenden Menschen, gleich welcher Herkunft, das leitet mich auch in Zukunft, und das leitet die Regierung der Großen Koalition von CDU, CSU und SPD.\\nEine Politik, die nicht den Staat, nicht Verbände, nicht Partikularinteressen, sondern den Menschen in den Mittelpunkt ihres Handelns stellt, eine solche Politik kann die Grundlagen für ein gutes Leben in Deutschland und Europa schaffen.\\nDie Quellen des guten Lebens sind Freiheit, Rechtsstaatlichkeit, politische Stabilität, wirtschaftliche Stärke und Gerechtigkeit. Die Regierung der Großen Koalition will die Quellen des guten Lebens allen zugänglich machen, das bedeutet, allen bestmögliche Chancen zu eröffnen.\\nIm Zweifel handeln wir für den Menschen. Bei jeder Abwägung von großen und kleinen Interessen, bei jedem Ermessen: Die Entscheidung fällt für den Menschen.\\nSo dienen wir den Menschen und unserem Land. Wir gestalten Deutschlands Zukunft – um es mit dem ebenso einfachen wie klaren Motto des Koalitionsvertrages von CDU, CSU und SPD zu sagen.\\nDabei setzen wir erstens auf solide Finanzen, zweitens auf Investitionen in die Zukunft unseres Landes, drittens auf die Stärkung unseres gesellschaftlichen Zusammenhalts, viertens auf die Fähigkeit Deutschlands, Verantwortung in Europa und der Welt zu übernehmen. Diese vier Punkte sind nicht hierarchisch gegliedert. Sie stehen gleichrangig nebeneinander. Ohne solide Finanzen könnten wir keine Zukunft gestalten. Ohne gezielte Investitionen in die Zukunft unseres Landes bliebe Sparen Selbstzweck. Ohne die Stärkung unseres gesellschaftlichen Zusammenhalts ginge unserem Land vieles von seiner sozialen Stabilität verloren, die ja gerade ein Garant unseres wirtschaftlichen Erfolgs ist. Ohne die Fähigkeit Deutschlands, Verantwortung in Europa und der Welt zu übernehmen, schadeten wir unseren Partnern wie uns selbst, unseren Werten und Interessen, wir schadeten uns politisch und ökonomisch.\\nEs ist doch gerade erst etwas mehr als fünf Jahre her, dass wir erlebt haben, wohin die verantwortungslosen Exzesse der Märkte, Überschuldung und eine mangelhafte Regulierung der internationalen Finanzmärkte führen können. Wir haben erlebt, dass dies mit einem Schlag gravierende Auswirkungen auf alle Staaten dieser Erde hatte, auch auf Deutschland. Wir mussten damals einen der schlimmsten Wirtschaftseinbrüche, den schlimmsten Wirtschaftseinbruch in der Geschichte der Bundesrepublik Deutschland, verkraften. Es ist das bleibende Verdienst der damaligen Koalition von CDU, CSU und SPD, Deutschland 2009 gemeinsam mit den Sozialpartnern so rasch, so erfolgreich durch diese Krise geführt zu haben.\\nEinen nachhaltigen Erfolg kann Deutschland aber nicht alleine haben. Eine Politik, die den Menschen in den Mittelpunkt ihres Handelns stellt, setzt deshalb alles daran, dass alle, dass die ganze Welt die Lektionen aus dieser damaligen Krise lernt. Eine davon ist und bleibt: Kein Finanzmarktakteur, kein Finanzprodukt und kein Finanzplatz darf ohne angemessene Regulierung bleiben; Finanzakteure müssen durch die Finanztransaktionsteuer zur Verantwortung gezogen werden.\\nAuch in der internationalen sozialen Marktwirtschaft ist nämlich der Staat der Hüter der Ordnung. Deutschland übernimmt Verantwortung in Europa und der Welt, damit sich genau diese Einsicht, dass der Staat Hüter der Ordnung ist, durchsetzen kann.\\nDazu sind Fortschritte bei der Regulierung der Finanzmärkte unverzichtbar, und zwar Fortschritte, die diesen Namen auch wirklich verdienen, wenn wir das Versprechen einhalten wollen, das wir den Menschen gegeben haben. Das ist das Versprechen, dass sich eine solch verheerende weltweite Finanzkrise nicht wiederholen darf. Das bedeutet, in einem Satz gesagt: Wer ein Risiko eingeht, der haftet auch für die Verluste, und nicht mehr der Steuerzahler.\\nManches ist erreicht. Vieles ist zu tun. Deshalb sind die Regelungen für eine Bankenunion in Europa so wichtig; denn bei der Sanierung und Abwicklung von Banken hat für uns die Einhaltung einer klaren Haftungskaskade eine zentrale Bedeutung.\\nMeine Damen und Herren, wir alle müssen verstehen, dass es mehr denn je nicht mehr ausreicht, nur auf die eigene Kraft und Stärke zu setzen. Konkret heißt das: Auch Deutschland ist auf Dauer nur stark, wenn auch Europa stark ist; auch Deutschland geht es auf Dauer nur gut, wenn es auch Europa gut geht. Doch ich kann uns auch heute nicht ersparen, darauf hinzuweisen: Auch wenn die europäische Staatsschuldenkrise nicht mehr täglich die Schlagzeilen bestimmt, müssen wir doch sehen, dass sie allenfalls unter Kontrolle ist. Dauerhaft und nachhaltig überwunden ist sie damit noch nicht. Wir haben zwar eine Wirtschafts- und Währungsunion, in der nationale Entscheidungen jeweils Auswirkungen auf alle anderen Mitgliedstaaten der Währungsunion haben, aber wir haben auch eine Währungsunion, deren wirtschaftspolitische Koordinierung nach wie vor überaus mangelhaft gestaltet ist. Ohne entscheidende Fortschritte, ohne einen Quantensprung hier werden wir die europäische Staatsschuldenkrise nicht überwinden. Wir werden vielleicht irgendwie mit ihr zu leben lernen, aber unseren Platz an der Spitze der globalen Entwicklung werden wir so nicht halten können. So werden wir nicht stärker aus der Krise herauskommen, als wir in sie hineingegangen sind. Doch nur das kann Europas Anspruch sein: nach der Krise stärker zu sein als vor der Krise; und weil das so ist, dürfen wir der trügerischen Ruhe jetzt nicht trauen. Ja, es ist wahr: Europa ist auf dem Weg zu Stabilität und Wachstum bereits ein gutes Stück vorangekommen. Wahr ist aber auch, dass wir uns unvermindert anstrengen müssen, um Vorsorge für die Zukunft zu treffen.\\nDafür müssen wir die Wirtschafts- und Währungsunion vertiefen und damit das nachholen, was bei ihrer Gründung versäumt wurde: der Währungsunion eine echte Wirtschaftsunion zur Seite zu stellen.\\nHierfür müssen wir auch die europäischen Institutionen stärken. In einer echten Wirtschaftsunion werden wir um ein Mehr an Verbindlichkeit nicht herumkommen. Ich bin überzeugt: Dazu müssen auch die EU-Verträge weiterentwickelt werden.\\nDas Ziel ist ein Europa, das seine Kräfte bündelt und das sich auf die großen Herausforderungen konzentriert. Alle europäischen Politiken, die Energie- und Klimapolitik, die Gestaltung des Binnenmarktes, die Außenhandelsbeziehungen, müssen sich daran messen lassen, ob sie zur Stärkung der europäischen Wirtschaftskraft und damit auch zu Wohlstand und Beschäftigung beitragen oder nicht. Denn sie bilden zusammen mit den nationalen Reformanstrengungen die Grundlage, um neues Wachstum und dauerhafte Beschäftigung für die Bürgerinnen und Bürger Europas zu schaffen.\\nAuch die europäische Politik muss den Menschen in den Mittelpunkt des Handelns stellen. Sie soll den Alltag der Menschen einfacher machen und nicht schwerer. Sie soll die Rahmenbedingungen für Engagement, Eigeninitiative und Unternehmertum verbessern und nicht beeinträchtigen. Deshalb muss gelten: Wer Europa will und wer will, dass es Europa gut geht, der muss bereit sein, Europa stabiler, bürgernäher, stärker, einiger und gerechter zu machen, und der muss natürlich zu Hause seine Hausaufgaben machen.\\nDeutschland macht seine Hausaufgaben. Der Bund hat bereits seit 2012 – und damit früher als vorgesehen – die Vorgaben der Schuldenbremse eingehalten. Für 2014 ist ein strukturell ausgeglichener Haushalt vorgesehen. Ab 2015 wollen wir ganz ohne Nettoneuverschuldung auskommen. Solch ein Ende der Neuverschuldung nach Jahrzehnten, in denen wir geradezu selbstverständlich Jahr für Jahr immer neue Schulden gemacht haben, ist nicht nur Ausdruck solider Finanzen, es ist vielmehr ein zentrales Gebot der Gerechtigkeit und damit gelebte soziale Marktwirtschaft.\\nDas ist nur zu schaffen, wenn wir bei unseren Ausgaben klare Prioritäten setzen und konsequent in die Zukunft investieren. Wir müssen uns dabei immer wieder vor Augen führen, dass die Bürgerinnen und Bürger unseres Landes unser Gemeinwesen nur dann akzeptieren, wenn sie sich auch vor Ort auf funktionierende Strukturen verlassen können. Deshalb entlastet der Bund die Kommunen auch in Zukunft: in diesem Jahr, indem er nunmehr vollständig die Grundsicherung für ältere Menschen übernimmt, und in den Folgejahren, indem er sich schrittweise an der Eingliederungshilfe bis zu einer Höhe von 5 Milliarden Euro beteiligt.\\nDie Gespräche mit den Ländern in den Koalitionsverhandlungen haben im Übrigen einmal mehr deutlich gemacht, dass die Bund-Länder-Finanzbeziehungen ganz grundsätzlich einer Neuordnung bedürfen, und zwar verbunden mit einer klaren Aufgabenzuordnung an Bund, Länder und Kommunen.\\nDie Bundesregierung wird bis zum Sommer einen Vorschlag machen, wie die dazu notwendigen Gespräche geführt werden können.\\nMeine Damen und Herren, dass unsere Haushaltslage so gut ist, verdanken wir natürlich ganz entscheidend auch der guten wirtschaftlichen Entwicklung und den Millionen Beschäftigten, Selbstständigen und Unternehmen, die zu dieser wirtschaftlichen Entwicklung beigetragen haben. Das hat zu einem neuen Rekord an Steuereinnahmen geführt. Auch deshalb ist die Politik es den Menschen schuldig, zu zeigen, dass wir mit dem auskommen, was wir einnehmen, und dass wir keine Steuern erhöhen oder neue einführen.\\nTrotz aller Erfolge dürfen wir aber unsere Hände nicht in den Schoß legen.\\nDenn unser Land braucht auch in Zukunft eine starke Wirtschaft und eine hohe Beschäftigungsrate. Dafür schafft die Regierung der Großen Koalition die notwendigen Voraussetzungen, zum Beispiel indem wir die Struktur der Bundesregierung an einer zentralen Stelle verändert haben: Wir haben die Kompetenzen von Wirtschaft und Energie in einem Ministerium gebündelt. Wir haben uns dazu entschieden, weil wir überzeugt sind, dass unser Wohlstand nur mit einem starken industriellen Fundament aus großen und mittelständischen Unternehmen gesichert werden kann, dessen unabdingbare Voraussetzung eine umweltfreundliche, sichere und bezahlbare Energieversorgung ist – für unsere Unternehmen genauso wie für die Bürgerinnen und Bürger.\\nDeutschland hat den Weg der Energiewende eingeschlagen. Deutschland hat sich entschieden, eine Abkehr vom jahrzehntelangen Energiemix – einem Energiemix aus vornehmlich fossilen Energieträgern und Kernenergie – zu vollziehen. Es gibt kein weiteres vergleichbares Land auf dieser Welt, das eine solch radikale Veränderung seiner Energieversorgung anpackt. Diese Entscheidung wird von der überwältigenden Mehrheit der Deutschen unterstützt.\\nDoch machen wir uns nichts vor: Die Welt schaut mit einer Mischung aus Unverständnis und Neugier darauf, ob und wie uns diese Energiewende gelingen wird. Wenn sie uns gelingt, dann wird sie – davon bin ich überzeugt – zu einem weiteren deutschen Exportschlager. Und auch davon bin ich überzeugt: Wenn diese Energiewende einem Land gelingen kann, dann ist das Deutschland.\\nBis 2050 wollen wir 80 Prozent unseres Stroms aus erneuerbaren Energien erzeugen. Schon heute haben die erneuerbaren Energien an der Stromerzeugung einen Anteil von 25 Prozent, der bis 2025 auf 40 bis 45 Prozent und bis 2035 auf 55 bis 60 Prozent ansteigen soll. Mit diesem Ausbaukorridor können wir ganz harmonisch das Ausbauziel von 80 Prozent erreichen – allerdings nur, wenn gleichzeitig unsere Industrie im weltweiten Wettbewerb bestehen kann und Strom für alle erschwinglich bleibt.\\nMit einem Anteil von 25 Prozent an der Stromerzeugung haben die erneuerbaren Energien heute ihr Nischendasein verlassen. Bis dahin war es sinnvoll, sie durch die Umweltpolitik zu fördern. Jetzt aber müssen sie als zunehmend tragende Säule der Stromerzeugung in den Gesamtenergiemarkt integriert werden. Maßstab für den Ausbau der erneuerbaren Energien müssen Planbarkeit und Kosteneffizienz sein. Deshalb muss der Ausbaukorridor auch verbindlich festgeschrieben werden. Die einzelnen Formen der erneuerbaren Energien müssen so schnell wie möglich marktfähig werden; ihr Ausbau und der Ausbau der Transportnetze müssen Hand in Hand gehen.\\nWir sehen: Das ist eine Herkulesaufgabe; das bedarf einer nationalen Kraftanstrengung. Gerade auch deshalb habe ich davon gesprochen, dass die Große Koalition eine Koalition für große Aufgaben ist. Und wenn es eine politische Aufgabe gibt, bei der nicht Partikularinteressen im Mittelpunkt zu stehen haben, sondern der Mensch, dann ist das die Energiewende.\\nSie kann nur gelingen, wenn alle – Bund, Länder, Gemeinden, Verbände, jeder Einzelne – über ihren Schatten springen und nur eines im Blick haben: das Gemeinwohl. Aber dann – davon bin ich überzeugt – wird die Energiewende auch gelingen; dann wird sie ein weiteres Beispiel gelebter ökologischer und sozialer Marktwirtschaft sein.\\nDas Kabinett hat die dazu vom Bundeswirtschaftsminister vorgelegten Eckpunkte beschlossen. Sie sind Grundlage für den Gesetzentwurf zur Novelle des Erneuerbare-Energien-Gesetzes, die am 9. April im Kabinett verabschiedet und bis zur Sommerpause auch in Bundestag und Bundesrat verabschiedet werden soll. Zusammen mit dem Netzausbau und mit Entscheidungen über Kraftwerksreserven zur Sicherung der Energieversorgung entsteht daraus der Rahmen zur Umsetzung der Energiewende.\\nDie Bundesregierung wird sich in den anstehenden sicherlich nicht einfachen Beratungen um eine breite Mehrheit bemühen; denn ich bin davon überzeugt: Je größer die Mehrheit, desto größer ist auch die Akzeptanz bei den Bürgerinnen und Bürgern. Zeit haben wir allerdings nicht zu verlieren: Wir müssen parallel alles dafür tun, dass unsere Entscheidungen auch in Brüssel akzeptiert werden. Gleichzeitig müssen wir die Energiewende in eine anspruchsvolle nationale und europäische Klimastrategie einbetten. Es ist gut, dass die Kommission mit dem ambitionierten 40-Prozent-CO2-Reduktionsziel die Vorreiterrolle Europas im internationalen Klimaschutz noch einmal unmissverständlich unterstrichen hat.\\nDeutschland wird sich auch mit ganzer Kraft für die Verabschiedung einer international verbindlichen Klimakonvention einsetzen. Gemeinsam mit Frankreich arbeiten wir für einen Erfolg der internationalen KlimakonferenzEnde 2015 in Paris, damit am Ende eine verbindliche Regelung für die weltweite Reduktion von Treibhausgasen ab 2020 gefunden wird.\\nWir setzen uns auch für einen funktionierenden Emissionshandel in Europa ein, damit umweltfreundliche Kraftwerke wie zum Beispiel moderne Gaskraftwerke endlich wieder eine faire Chance auf den Märkten erhalten.\\nUm im Baubereich zu einer Gesamtstrategie zu kommen, in die auch der Klimaschutz integriert ist, hat die Bundesregierung den Umweltschutz und den Baubereich in einem Ministerium gebündelt. So können wir unsere nationalen Klimaziele auch in den Bereichen der Energieeffizienz und der Gebäudesanierung erreichen. Im Übrigen können unsere Wirtschaft und unser Handwerk davon profitieren. Umweltschutz, die ökologische und soziale Marktwirtschaft schafft Arbeitsplätze.\\nMeine Damen und Herren, vor einem Jahrzehnt, als 5 Millionen Menschen in Deutschland arbeitslos waren, hatten viele Zweifel, ob und inwieweit eine der jahrzehntelangen großen Gewissheiten der sozialen Marktwirtschaft auch in Zukunft noch ihre Berechtigung haben würde, nämlich die Gewissheit, dass es den Arbeitnehmern dann gut geht, wenn es dem eigenen Betrieb auch gut geht. Die Auswirkungen der Globalisierung hatten dieses Grundvertrauen ins Wanken gebracht. Reformen, zuvor jahrelang verzögert oder vermieden, wurden unumgänglich. Es folgte die Agenda 2010 der Regierung Schröder, auf die dann weitere Reformen der Großen Koalition von 2005 bis 2009 und der anschließend christlich-liberalen Bundesregierung fußten. Das Ergebnis dieser Reformen: Heute hat unser Land mehr Beschäftigte als je zuvor.\\nDie Arbeitslosigkeit liegt unter 3 Millionen; die Jugendarbeitslosigkeit ist die geringste in Europa.\\nAber es gibt auch Schattenseiten. Aus der unverzichtbaren Flexibilisierung des Arbeitsrechts sind neue Möglichkeiten des Missbrauchs entstanden. Schon die christlich-liberale Bundesregierung hat einige davon beseitigt, aber die Große Koalition wird weitere Korrekturen vornehmen müssen.\\nKonkret geschieht das in der Leiharbeit, deren Dauer auf maximal 18 Monate beschränkt wird. Die gleiche Bezahlung eines Leiharbeiters wie die eines Beschäftigten der Stammbelegschaft hat jetzt nach spätestens 9 Monaten zu erfolgen, und beim Abschluss von Werkverträgen ist in Zukunft der Betriebsrat zu informieren.\\nEs ist die gemeinsame Überzeugung von CDU, CSU und SPD, dass derjenige, der voll arbeitet, mehr haben muss, als wenn er nicht arbeitet.\\nNiemand, der ein Herz hat, ist deshalb schnell bei der Hand damit, das Instrument eines Mindestlohns rundweg abzulehnen. Doch jeder, der ein Herz hat, muss aber genauso sicherstellen, dass der so nachvollziehbare Wunsch nach würdiger Bezahlung nicht Menschen, die heute Arbeit haben, in die Arbeitslosigkeit führt.\\nDie Koalitionsverhandlungen um einen gesetzlichen Mindestlohn in Höhe von 8,50 Euro ab 2015 haben alle Facetten dieses Dilemmas behandelt. Das Ergebnis ist ein Kompromiss, bei dem – das sage ich aus voller Überzeugung – die Vorteile die Nachteile überwiegen.\\nDer Mindestlohn von 8,50 Euro wird ab Anfang 2015 gelten. Allerdings haben wir vereinbart, dass Tarifverträge, die mit einer Lohnuntergrenze von weniger als 8,50 Euro vereinbart wurden, bis Ende 2016 weitergelten können. Im Laufe dieses Jahres können solche Tarifverträge noch abgeschlossen werden. Ich sage ganz ausdrücklich: Arbeitgeber und Gewerkschaften haben damit alle Freiheit und Möglichkeit, genau davon dort Gebrauch zu machen, wo immer dies zum Erhalt von Arbeitsplätzen notwendig ist.\\nDerartige Tarifverträge können in Zukunft in einem vereinfachten Verfahren für allgemeinverbindlich erklärt werden, da sie im öffentlichen Interesse sind. Dadurch wird im Übrigen auch die Tarifpartnerschaft, ein Wesensmerkmal der sozialen Marktwirtschaft, wieder gestärkt, und sie muss in einigen Bereichen gestärkt werden.\\nEine starke soziale Marktwirtschaft braucht international wettbewerbsfähige Unternehmen. Wir wissen aus unseren Erfahrungen, dass das besonders gut funktioniert, wenn Frauen und Männer gleiche Chancen haben.\\nDeshalb werden wir für Aufsichtsräte von voll mitbestimmungspflichtigen und börsennotierten Unternehmen, die ab 2016 neu besetzt werden, eine Quote von mindestens 30 Prozent Frauen einführen. Jahrelanges gutes Zureden hat nicht geholfen. Deshalb müssen wir diesen Schritt jetzt gehen.\\nMeine Damen und Herren, unsere sozialen Sicherungssysteme gehören zu den besten der Welt. Damit dies auch in Zukunft so bleibt, müssen sie sowohl den Erwartungen der heutigen Generation als auch den Anforderungen zukünftiger Generationen entsprechen. Sie müssen also der demografischen Entwicklung unseres Landes standhalten. Diesem Ziel dient die schrittweise Einführung der Rente mit 67 bis zum Jahr 2029. Heute haben bereits deutlich mehr Menschen im Alter zwischen 55 und 65 Jahren eine Chance auf dem Arbeitsmarkt als noch vor wenigen Jahren. Diese Entwicklung muss fortgesetzt werden.\\nDennoch – das sollten wir nicht vergessen – haben wir bei der Einführung der Rente mit 67 bereits diejenigen vom Anstieg der Lebensarbeitszeit ausgenommen, die 45 Jahre lang Beiträge in die Rentenversicherung gezahlt haben. Diese Regelung werden wir jetzt modifizieren. Wir werden für Menschen mit 45 Beitragsjahren inklusive des Bezugs von Arbeitslosengeld I eine abschlagsfreie Rente mit 63 Jahren, aufwachsend dann bis Anfang der 30er-Jahre auf 65 Jahre, einführen. Ich füge hinzu: In der Zwischenzeit müssen wir dafür Sorge tragen, dass sich auch die Beschäftigungschancen langjährig Beschäftigter weiter deutlich verbessern.\\nWir wollen im Übrigen nicht länger die Augen davor verschließen, dass viele Frauen eine gerechte Anerkennung der Leistungen für die Erziehung der Kinder anmahnen. Wie ist die Lage heute? Heute werden für die nach 1992 geborenen Kinder drei Jahre im Rentenrecht anerkannt, für die davor geborenen Kinder nur ein Jahr. Das ist in den Augen vieler nicht gerecht.\\nEine Politik, die den Menschen in den Mittelpunkt ihres Handelns stellt, muss und will das verändern. Wir haben in den letzten Jahren große Anstrengungen für die Vereinbarkeit von Familie und Beruf unternommen: den Ausbau der Kitaplätze, verbesserte Möglichkeiten für flexible Arbeitszeiten, die Einführung des Elterngelds mit Vätermonaten. In dieser Legislaturperiode werden wir die Teilzeitarbeit der Eltern durch das ElterngeldPlus erleichtern und den Ausbau der Kitaplätze fortsetzen. Mütter, die vor 1992 ihre Kinder geboren haben, hatten nicht annähernd so gute Bedingungen für die Vereinbarkeit von Beruf und Familie. Deshalb wollen wir diesen Müttern, über 9 Millionen Frauen, im Rentenrecht wenigstens ein Jahr mehr für die Anerkennung ihrer Erziehungsleistung anrechnen lassen.\\nWegen der guten Beschäftigungssituation kann die Rentenversicherung diese Aufgabe zurzeit erfüllen. Wir wissen aber: Mittelfristig werden wir einen Teil durch weitere Steuerzuschüsse aus dem Bundeshaushalt ergänzen.\\nAußerdem werden wir die Renten im Falle von Erwerbsunfähigkeit verbessern. Das ist unerlässlich. Denn Erwerbsunfähigkeit ist heute eine der Hauptursachen für Altersarmut. Sie wissen: Wir haben heute genau dieses Gesetzespaket auf den Weg gebracht und zur parlamentarischen Beratung überwiesen.\\nDie Menschlichkeit einer Gesellschaft zeigt sich vor allem an ihrem Umgang mit Schwachen.\\nSie zeigt sich in den Situationen, in denen Menschen auf Schutz und Hilfe angewiesen sind: wenn sie alt sind und wenn sie krank sind. Der medizinische Fortschritt ermöglicht immer neue Heilungs- und Behandlungsmöglichkeiten. Unsere Lebenserwartung steigt stetig an, und gleichzeitig sind immer mehr Menschen auf Pflege angewiesen. Jeder muss die medizinische Versorgung bekommen, die er braucht, und jeder Mensch muss in Würde sterben können. Das sind die zentralen Aufgaben der Politik für unser Gesundheits- und Pflegesystem.\\nDie Bundesregierung will dafür Sorge tragen, dass die medizinische Versorgung verbessert wird, insbesondere bei der Versorgung mit Fachärzten. Jeder muss schnell und gut behandelt werden. Die hohe Qualität unserer medizinischen Versorgung muss auch in Zukunft gerade im ländlichen Raum gesichert werden. Dabei spielt die Entwicklung der Telemedizin im Übrigen eine zentrale Rolle.\\nFür die Pflege werden wir die Leistungen in den nächsten vier Jahren um insgesamt 25 Prozent gegenüber heute steigern. Die zusätzlichen Mittel werden wir insbesondere erstens für die Verbesserung der pflegerischen Leistungen einsetzen – dabei werden wir gleichzeitig die Bürokratie mindern –, zweitens für eine bessere Ausbildung und Bezahlung der Pflegekräfte nutzen, um den vielerorts herrschenden Pflegenotstand abzubauen, und drittens für den Aufbau einer demografischen Reserve verwenden, um zukünftige Generationen vor zu hohen Belastungen zu schützen.\\nAuch werden wir Hospize und die Palliativmedizin stärken.\\nDoch bei allem dürfen wir zu keiner Zeit vergessen: Immer noch leisten Familienangehörige die meiste Pflegearbeit. Sie gehen dabei oft bis an die Grenzen ihrer Kräfte, nicht selten darüber hinaus. Sie sind die stillen Helden unserer Gesellschaft.\\nDas zeigt einmal mehr: Die Familien sind das Herzstück unserer Gesellschaft. Deshalb arbeiten wir für verlässliche und gute Rahmenbedingungen.\\nLiebe Kolleginnen und Kollegen, angesichts der Veränderung des Altersaufbaus unserer Gesellschaft garantieren auf Dauer nur Investitionen in Forschung und Bildung die Leistungsfähigkeit und den Wohlstand unseres Landes im globalen Wettbewerb. Wir müssen in vielen Bereichen zu den Besten der Welt gehören. Deshalb investieren wir 3 Prozent unseres Bruttoinlandsprodukts in Forschung und Entwicklung und gehören damit in Europa, allerdings nicht unbedingt immer weltweit, zu den führenden Ländern.\\nUnsere Hightech-Strategie setzt Maßstäbe für die Spitzenforschung. Der Bund will seinen Anteil von 3 Prozent für die Forschung auch in den nächsten Jahren halten. Der Bund wird aber zusätzlich auch die Länder entlasten, indem wir den Aufwuchs bei den Mitteln für die außeruniversitäre Forschung voll übernehmen, also auch den Länderanteil, und uns erstmalig auch an der Grundfinanzierung der Universitäten beteiligen werden, um den Abstand zwischen außeruniversitärer Forschung und universitärer Bildung und Forschung nicht zu groß werden zu lassen.\\nIn den letzten Jahren ist die Zahl derer, die ein Hochschulstudium aufnehmen, auf über 50 Prozent gestiegen. Das ist erfreulich. Aber die Bundesregierung wird in dieser Legislaturperiode gerade auch der anderen Säule unseres Bildungssystems, der dualen Berufsausbildung, besonderes Augenmerk zukommen lassen. Sie ist ein Markenzeichen unserer sozialen Marktwirtschaft.\\nWir wollen den Ausbildungspakt zu einem Pakt für Aus- und Weiterbildung fortentwickeln, an dem sich neben den Arbeitgebern in Zukunft auch die Gewerkschaften wieder beteiligen sollen. Ohne hervorragend ausgebildete Menschen ist Deutschland kein wirtschaftlich starkes Land.\\nIn den nächsten Jahren werden immer weniger junge Menschen in Deutschland ins Berufsleben eintreten. Das heißt, wir müssen jedem jungen Menschen die Chance auf eine gute Bildung sichern. Das beginnt beim Ausbau der Kindertagesstätten, an dem der Bund sich weiter beteiligen wird. Das setzt sich fort mit unserer Initiative \"Chance Beruf\", die der Bund zu einem flächendeckenden Angebot ausweiten will. Wir führen den Hochschulpakt fort. Studienabbrecher bekommen in Zukunft die Chance, auch eine duale Berufsausbildung zu machen. Junge Menschen über 25, die noch keine abgeschlossene Berufsausbildung haben, sollen eine zweite Chance bekommen.\\nDies ist auch eine zentrale Aufgabe unserer Integrationspolitik. Auf dem Integrationsgipfel in diesem Jahr – so haben wir es besprochen – werden wir uns schwerpunktmäßig mit der Ausbildung von Migrantinnen und Migranten befassen. Auch werden wir jungen Menschen mit Migrationshintergrund unser Willkommen in Deutschland dadurch verdeutlichen, dass wir bei der Staatsbürgerschaft die Optionspflicht für in Deutschland geborene und aufgewachsene Jugendliche abschaffen.\\nEs ist im Übrigen ein Gebot unserer sozialen Marktwirtschaft, dass gerade die Jüngeren der ja immer noch fast 3 Millionen Arbeitslosen eine berufliche Perspektive bekommen; denn wenn sie das in jungen Jahren nicht bekommen, wird es über Jahrzehnte schwierig für sie. In diesem Zusammenhang möchte ich sagen, dass es mir schon Sorge bereitet, dass die Zahl der Langzeitarbeitslosen wieder steigt. Dem müssen wir zusammen mit der Bundesagentur für Arbeit entgegenwirken. Der Bund verwendet jährlich mehr als 30 Milliarden Euro für die Bekämpfung der Langzeitarbeitslosigkeit. Jeder hier nicht benötigte Euro kann für Zukunftsprojekte verwendet werden.\\nZusätzlich müssen wir natürlich weiter offen für Fachkräfte aus dem Ausland sein. Deutschland wird die Möglichkeiten nutzen und nutzen müssen, die die Freizügigkeit in Europa bietet.\\nDennoch – auch das gehört hierher – dürfen wir die Augen vor ihrem möglichen Missbrauch nicht verschließen.\\nEs bedarf einer Klärung, wer aus dem europäischen Ausland unter welchen Bedingungen Anspruch auf Sozialleistungen hat. Angesichts völlig unterschiedlicher Sozialsysteme in den Mitgliedstaaten der Europäischen Union darf es durch das Prinzip der Freizügigkeit nicht zu einer faktischen Einwanderung in die Sozialsysteme kommen.\\nOb sich hier aus der Rechtsprechung des Europäischen Gerichtshofs nationaler oder europäischer Handlungsbedarf ergibt, ist derzeit noch nicht abzusehen. Dies ist aber auch nicht auszuschließen, weil deutsche Gerichte Vorlagen in dieser Sache an den Europäischen Gerichtshof gegeben haben. Deshalb hat die Bundesregierung einen Staatssekretärsausschuss unter Federführung des Innen- und des Sozialministeriums gebildet, der die offenen Fragen klären wird und mit heute schon besonders betroffenen Kommunen Hilfsmöglichkeiten des Bundes bespricht.\\nAls Land in der Mitte Europas ist Deutschland auf eine funktionierende Infrastruktur zwingend angewiesen. Wir haben entschieden, das Verkehrsministerium zu einem Infrastrukturministerium auszubauen. Wir werden in die klassischen Verkehrsstrukturen allein aus Bundesmitteln bis 2017 5 Milliarden Euro mehr investieren. Wir werden die streckenbezogene Nutzungsgebühr für Lkw ausweiten. Für ausländische Pkw werden wir eine Gebühr auf Autobahnen einführen, ohne dass der deutsche Fahrzeughalter stärker als heute belastet wird.\\nErweitert werden die Zuständigkeiten des Verkehrsministeriums um die Aufgaben der digitalen Infrastruktur. 2018 soll jeder Deutsche Zugang zum schnellen Internet haben. Hier geht es nicht einfach um ein technisches Ziel, hier geht es gerade für Menschen im ländlichen Raum um gleichwertige Chancen zur Teilhabe an Bildung, medizinischer Versorgung und wirtschaftlicher Tätigkeit.\\nDazu werden wir alle Kräfte zum Netzausbau in einer Netzallianz bündeln. Die europäischen und internationalen Investitionsbedingungen müssen verbessert werden. Dies ist unerlässlich, wenn wir uns klarmachen, welch technologischer Unterschied schon heute in vielen Bereichen zwischen den Vereinigten Staaten von Amerika, asiatischen Ländern und Europa besteht.\\nLiebe Kolleginnen und Kollegen, wir spüren immer mehr, welch tiefgreifendem Wandel unsere Gesellschaft durch die Digitalisierung ausgesetzt ist. Bildung, Ausbildung, der Arbeitsalltag, die industrielle Produktion verändern sich. Informationen aus der ganzen Welt sind in Sekunden verfügbar. Die Kommunikation der Menschen ist schier grenzenlos. Daten über jeden Einzelnen können in beliebigem Umfang gespeichert werden. Wir wollen, dass das Internet eine Verheißung bleibt; deshalb wollen wir es schützen.\\nAllerdings heißt das: Wir wollen es schützen vor Zerstörung von innen durch kriminellen Missbrauch und durch intransparente, allumfassende Kontrolle von außen.\\nDer bisherige rechtliche Rahmen für eine vernünftige Balance von Freiheit und Sicherheit – das ist offensichtlich geworden – reicht nicht mehr aus. Einen internationalen Rechtsrahmen gibt es noch nicht. Das heißt, wir betreten Neuland.\\nJeder Einzelne von uns ist davon betroffen.\\nDeshalb wird die Bundesregierung in diesem Jahr unter der gemeinsamen Federführung des Innen-, des Wirtschafts- und des Infrastrukturministeriums eine digitale Agenda erstellen und im Laufe der Legislaturperiode umsetzen. Wir arbeiten an einer europäischen Datenschutzgrundverordnung mit Hochdruck. Aber wir achten dabei sehr darauf, dass der deutsche Datenschutz durch die Vereinheitlichung des europäischen Datenschutzes nicht unverhältnismäßig geschwächt wird.\\nMit großer Wucht sind wir vor einem halben Jahr durch Informationen von Edward Snowden über die Arbeitsweise der amerikanischen Nachrichtendienste mit Fragen der Datensicherheit konfrontiert worden. Niemand, der politische Verantwortung trägt, kann ernsthaft bestreiten, dass die Arbeit der Nachrichtendienste für unsere Sicherheit, für den Schutz unserer Bürgerinnen und Bürger unverzichtbar ist. Niemand, der politische Verantwortung trägt, kann ernsthaft bestreiten, dass die Arbeit der Nachrichtendienste im Zeitalter asymmetrischer Bedrohung, für die der 11. September exemplarisch steht, noch wichtiger als ohnehin schon geworden ist. Gerade um diese Gefahren bannen zu können, ist nicht nur die Arbeit unserer eigenen Dienste von großer Bedeutung für uns, sondern ebenso die Zusammenarbeit mit Nachrichtendiensten unserer Verbündeten und Partner.\\nEs kann gar nicht oft genug betont werden, dass wir gerade unseren amerikanischen Partnern wertvolle Informationen verdanken. Umgekehrt leisten innerhalb dieser internationalen Kooperation auch unsere eigenen Dienste wertvolle Beiträge. Das Parlamentarische Kontrollgremium wird jeweils darüber unterrichtet. Aber niemand, der politische Verantwortung trägt, kann auch ernsthaft bestreiten, dass das, was wir seit einem halben Jahr über die Arbeit insbesondere der amerikanischen Nachrichtendienste zur Kenntnis nehmen müssen, ganz grundsätzliche Fragen aufwirft.\\nEs geht um die Frage der Verhältnismäßigkeit. Es geht darum, in welchem Verhältnis zur Gefahr die Mittel stehen, die wir dann wählen, um dieser Gefahr zu begegnen. Die Bundesregierung trägt Verantwortung für den Schutz unserer Bürgerinnen und Bürger vor Anschlägen und Kriminalität, und sie trägt Verantwortung für den Schutz unserer Bürgerinnen und Bürger vor Angriffen auf ihre Privatsphäre. Sie trägt Verantwortung für unsere Freiheit und Sicherheit. Seit jeher stehen Freiheit und Sicherheit in einem gewissen Konflikt zueinander. Sie müssen durch Recht und Gesetz immer wieder in der Balance gehalten werden.\\nWir kennen das in Deutschland ja zu gut aus unseren langen Diskussionen um Wohnraumüberwachung und Vorratsdatenspeicherung. Kann es also richtig sein, dass unsere engsten Partner wie die Vereinigten Staaten von Amerika oder Großbritannien sich Zugang zu allen denkbaren Daten mit der Begründung verschaffen, dies diene der eigenen Sicherheit und der Sicherheit der Partner? Wir hätten also auch etwas davon. Kann es richtig sein, dass man auch deshalb so handele, weil andere auf der Welt es genauso machten? Kann es richtig sein, wenn es zum Schluss gar nicht mehr allein um die Abwehr terroristischer Gefahren geht, sondern darum, sich auch gegenüber Verbündeten, zum Beispiel für Verhandlungen bei G-20-Gipfeln oder UN-Sitzungen, Vorteile zu verschaffen – Vorteile, die nach meiner jahrelangen Erfahrung sowieso völlig zu vernachlässigen sind?\\nUnsere Antwort kann nur lauten: Nein, das kann nicht richtig sein.\\nDenn es berührt den Kern dessen, was die Zusammenarbeit befreundeter und verbündeter Staaten ausmacht: Vertrauen. Vertrauen ist die Grundlage für Frieden und Freundschaft zwischen den Völkern. Vertrauen ist erst recht die Grundlage für die Zusammenarbeit verbündeter Staaten. Ein Vorgehen, bei dem der Zweck die Mittel heiligt, bei dem alles, was technisch machbar ist, auch gemacht wird, verletzt Vertrauen; es sät Misstrauen. Am Ende gibt es nicht mehr, sondern weniger Sicherheit.\\nDarüber reden wir mit den Vereinigten Staaten von Amerika. Ich bin überzeugt, dass Freunde und Verbündete in der Lage und willens sein müssen, Grundsätze ihrer Zusammenarbeit auch auf dem Gebiet der Abwehr von Bedrohungen zu vereinbaren, und zwar in ihrem jeweils eigenen Interesse.\\nDie Vorstellungen sind heute weit auseinander. Viele sagen, die Versuche für eine solche Vereinbarung seien von vornherein zum Scheitern verurteilt, ein unrealistisches Unterfangen. Mag sein. Mit Sicherheit wird das Problem nicht schon durch eine Reise von mir gelöst und abgeschlossen sein.\\nMit Sicherheit wäre auch der Abbruch von Gesprächen in anderen Bereichen, wie etwa denen über ein transatlantisches Freihandelsabkommen, nicht wirklich hilfreich. Auch andere sogenannte Hebel, wie es in diesen Tagen so oft heißt, die Amerika zum Umdenken zwingen könnten, gibt es nach meiner Auffassung nicht. Trotzhaltungen haben im Übrigen noch nie zum Erfolg geführt.\\nIch führe – und das mit allem Nachdruck – diese Gespräche mit der Kraft unserer Argumente, nicht mehr und nicht weniger. Aber ich glaube, wir haben davon gute.\\nHerzlichen Dank.\\nDie neue Bundesregierung will dazu beitragen, dieses Glück zu schützen und zu wahren, indem wir die Quellen guten Lebens allen zugänglich machen: Freiheit, politische Stabilität, Rechtsstaatlichkeit, wirtschaftliche Stärke, Gerechtigkeit. Das ist unser Auftrag, und dafür bitte ich Sie um Ihre Unterstützung.\\nVor 65 Jahren wurde die Bundesrepublik Deutschland gegründet. Vor 25 Jahren fiel die Mauer. Vor 10 Jahren erlebten wir den Beginn der EU-Osterweiterung. Weitere Grenzen in Europa konnten abgebaut werden. Wir Deutschen und wir Europäer, wir sind heute zu unserem Glück vereint.\\nDie anschließend folgende europäische Einigung, die uns Frieden, Freiheit und Wohlstand gebracht hat, erscheint aus dieser Perspektive wie ein Wunder. Wir leben heute in einer politischen Ordnung, in der nicht wie vor 100 Jahren wenige in geheimer Diplomatie die Geschicke Europas bestimmen, sondern in der alle 28 Mitgliedstaaten gleichberechtigt und im Zusammenwirken mit den europäischen Institutionen die Dinge zum Wohl der Bürgerinnen und Bürger gemeinsam gestalten. Das Europäische Parlament, das gut 375 Millionen Menschen im Mai neu wählen werden, und die nationalen Parlamente sorgen für die notwendige demokratische Legitimität und Öffentlichkeit.\\nEs ist in diesem Jahr 100 Jahre her, dass der Erste Weltkrieg ausbrach. Er war die erste große Katastrophe des 20. Jahrhunderts, der alsbald die zweite folgen sollte: der Zivilisationsbruch der Schoah und der Beginn des Zweiten Weltkriegs vor 75 Jahren.\\nUnser Kompass ist die soziale Marktwirtschaft. Damit setzen wir auf solide Finanzen, Investitionen in die Zukunft, die Stärkung des gesellschaftlichen Zusammenhalts und Deutschlands Fähigkeit, Verantwortung in Europa und der Welt zu übernehmen – für unsere Werte und für unsere Interessen und in dem Bewusstsein, dass sie sich weltweit stets aufs Neue behaupten müssen.\\nHerr Präsident, meine Damen und Herren, nicht Partikularinteressen stehen im Mittelpunkt unseres Handelns, sondern der Mensch steht im Mittelpunkt.\\n2015 übernimmt Deutschland die G-8-Präsidentschaft.In dem Jahr werden die Vereinten Nationen neue Entwicklungsziele festlegen. Unsere Präsidentschaft wird deshalb auch im Zeichen dieser Neuausrichtung der Entwicklungsziele stehen.\\nImmer gilt: Kein Konflikt kann allein militärisch gelöst werden. Das leitet die Bundesregierung. Deutsche Außen- und Sicherheitspolitik setzt auf die Vernetzung militärischer und ziviler Mittel, und darin sehen wir uns in den letzten Jahren noch mehr bestärkt.\\nHinzu kommt die Frage, wie Deutschland seinen Verbündeten Frankreich gegebenenfalls bei der europäischen Überbrückungsmission in der Zentralafrikanischen Republik unterstützen kann; ich sage: gegebenenfalls. Hierbei geht es nicht um einen deutschen Kampfeinsatz, sondern allenfalls um unsere Fähigkeit zur Rettung und Behandlung Verwundeter.\\nDeutschland beteiligt sich an Einsätzen im Kosovo, vor den Küsten Somalias und des Libanon oder in Mali. Das Mandat in Mali zur Ausbildung malischer Sicherheitskräfte wollen wir nicht nur fortsetzen, sondern auch verstärken.\\nZusammen sind wir in Afghanistan im Einsatz. Deutschland ist bereit, sich auch nach 2014 an der Ausbildung der Sicherheitskräfte und am wirtschaftlichen Aufbau des Landes zu beteiligen. Voraussetzung ist, dass Präsident Karzai – das sage ich allerdings mit allem Nachdruck; ich habe es neulich auch persönlich dem Präsidenten gesagt – das Sicherheitsabkommen mit den USA und der NATO unterzeichnet.\\nDoch bei allen Konflikten, bei allen Enttäuschungen, bei allen Interessenunterschieden werde ich wieder und wieder deutlich machen: Deutschland kann sich keinen besseren Partner wünschen als die Vereinigten Staaten von Amerika. Die deutsch-amerikanische und die transatlantische Partnerschaft sind und bleiben für uns von überragender Bedeutung.\\nDer Weg ist lang; aber lohnend ist er allemal. Denn die Möglichkeiten der digitalen Rundumerfassung der Menschen berühren unser Leben im Kern. Es handelt sich deshalb um eine ethische Aufgabe, die weit über die sicherheitspolitische Komponente hinausweist. Milliarden Menschen, die in undemokratischen Staaten leben, schauen heute sehr genau, wie die demokratische Welt auf Bedrohungen ihrer Sicherheit reagiert, ob sie in souveräner Selbstsicherheit umsichtig handelt oder ob sie an jenem Ast sägt, der sie in den Augen genau dieser Milliarden Menschen so attraktiv macht – an der Freiheit und der Würde des einzelnen Menschen.</td>\n",
       "    </tr>\n",
       "    <tr>\n",
       "      <th>1861</th>\n",
       "      <td>2014-11-26</td>\n",
       "      <td>Herzlichen Dank für die Einladung zu Ihrem diesjährigen Versicherungstag. Der Hauptgrund dafür, dass ich mich wirklich freue, heute dabei zu sein, ist auch das spezielle Motto, das Sie sich gegeben haben, das hinter mir zu sehen ist. Sie versichern \"Werte\". Sie übernehmen \"Verantwortung\" für das Gemeinwohl. Und dafür wird Ihnen auch viel \"Vertrauen\" entgegengebracht.\\nDafür, dass Ihnen das immer wieder gelingt, spricht schon allein die Tatsache, dass die deutschen Versicherer mit rund 460 Millionen Verträgen Risiken von Privatpersonen und Unternehmen unseres Landes übernehmen. Hätte ich raten müssen, wäre ich nicht auf 460 Millionen gekommen. Die Bedeutung der Versicherungsbranche für Wirtschaft und Gesellschaft ist also unbestritten. Als Branche selbst stellen Sie ein wirtschaftliches Schwergewicht dar: rund 550.000 Erwerbstätige und eine Kapitalanlage in Höhe von rund 1,4 Billionen Euro, etwa die Hälfte davon in Deutschland. Damit zählt unser Land zu den wichtigsten Versicherungsmärkten weltweit.\\nSie sind gut durch das Geschäftsjahr 2013 gekommen, stehen aber, wie eben schon angeklungen war, vor erheblichen Herausforderungen. Dazu gehört nicht zuletzt das anhaltend niedrige Zinsniveau, das ganz besonders die Lebensversicherer auf die Probe stellt. Deshalb waren auch gesetzgeberische Maßnahmen wichtig und angezeigt. Sonst wäre zu befürchten gewesen, dass der zugesagte Garantiezins mittel- bis langfristig nicht mehr erwirtschaftet werden könnte. Mit dem im Sommer verabschiedeten Lebensversicherungsreformgesetz dürfte nun aber die Zukunftsfähigkeit des Produkts Lebensversicherung sichergestellt sein. Aber es ist mir auch wichtig hervorzuheben, dass hierzu alle an der Versicherung Beteiligten einen angemessenen Beitrag leisten müssen. – Mir fliegt hier gerade eine Uhr entgegen. Ist das Ihre? Nein. Jemand hat hier seine Armbanduhr auf dem Pult liegen lassen. Herr Hoffmann? Gut, ich bringe sie Ihnen mit. Das ist dann gut gelebte Partnerschaft. –\\nWir stehen auch vor einer grundlegenden Reform der Versicherungsaufsicht. Wie Sie wissen, befinden wir uns nun auf der Zielgeraden zur Umsetzung des europäischen Regelwerks unter den Stichworten \"Solvabilität II\" oder \"Solvency II\" – ich muss sagen, der englische Begriff kommt einem besser über die Lippen. Das deutsche Umsetzungsgesetz, das \"Gesetz zur Modernisierung der Finanzaufsicht über Versicherungen\", wird derzeit im parlamentarischen Verfahren beraten. Die neuen Anforderungen sollen die Krisenresistenz der Versicherer erhöhen. Das hilft auch dementsprechend, den Ansprüchen der Versicherten gerecht zu werden.\\nSolvency II ist ein Teil der umfassenden Reformagenda zur Stabilisierung der Finanzmärkte. Sie wissen, wir haben uns zu Beginn der Finanzkrise vorgenommen: Kein Finanzmarktakteur, kein Finanzprodukt und kein Finanzmarkt ohne angemessene Regulierung. Hierbei haben wir sowohl auf europäischer Ebene – Deutschland teilweise als Vorreiter – als auch auf internationaler Ebene schon eine ganze Menge erreicht und die Rahmenbedingungen verändert.\\nWir haben in der Europäischen Union einiges vorangebracht. Sie wissen, dass Anfang dieses Monats die Europäische Zentralbank die Aufsicht über die bedeutendsten Banken im Euroraum übernommen hat. Dem vorangegangen sind Stresstests, um den Zustand dieser Banken deutlich zu machen. Es ist gelungen, gemeinsame Regeln sowohl für die Sanierung als auch für die Abwicklung von Banken in Europa zu schaffen. Die Umsetzung in deutsches Recht hat der Deutsche Bundestag Anfang dieses Monats beschlossen.\\nVorangegangen waren schwierige und langwierige Verhandlungen. Aber sie haben dazu geführt, dass in Europa nun nicht mehr zuerst der Steuerzahler einspringen muss, wenn eine Bank in Schieflage gerät. Das ist den Steuerzahlern nicht zuzumuten; und es wäre ihnen auf gar keinen Fall ein zweites Mal zuzumuten. Insofern ist es sehr wichtig, dass wir endlich auch einige sichtbare Erfolge haben. Das heißt, in Zukunft werden zuerst die Eigentümer und Bankgläubiger haften. Die Möglichkeit der Abwicklung wird im Vordergrund stehen. Das kann viel Geld kosten, weshalb ab 2015 EU-weit ein Sicherheitsnetz aus Bankenabgaben fällig wird. Wir in Deutschland praktizieren das bereits seit 2011. Das heißt, künftig müssen sich alle Banken an den Kosten einer etwaigen Abwicklung systemrelevanter Banken beteiligen.\\nNeben der guten Nachricht für die Steuerzahler gibt es auch eine für die Kontoinhaber. Denn wir haben auch die Weichen gestellt, um die Einlagensicherungssysteme in Europa zu verbessern. Damit werden Entschädigungen schneller und einfacher möglich. Das deutsche Umsetzungsgesetz haben wir vorige Woche im Kabinett beschlossen. Jetzt beginnen die parlamentarischen Arbeiten.\\nAuch bei der Beseitigung falscher Vergütungsanreize sind wir ein Stück weit vorangekommen. Wir haben Banken und Versicherer dazu verpflichtet, Vergütungssysteme einzuführen, die das Risikobewusstsein schärfen und auf eine nachhaltige Entwicklung ausgerichtet sind. Zudem werden seit Anfang dieses Jahres in der Europäischen Union die neuen und strengeren Regelungen für das Eigenkapital nach \"Basel III\" stufenweise eingeführt. Mit einem größeren Eigenkapitalpolster kann im Notfall Schlimmeres abgefedert werden. In diesem Zusammenhang werde ich allerdings nicht müde zu betonen: Dass Europa das macht, ist schön; es wäre gut, es würde auch weltweit in ähnlicher Weise passieren.\\nGroßes Kopfzerbrechen machen uns allerdings noch die Überwachung und Regulierung des Schattenbankensektors. Dieser Sektor birgt aber nicht nur Risiken, sondern auch Chancen, weil zum Beispiel der Realwirtschaft mit der Kreditfinanzierung durch Nichtbanken neben der klassischen Bankenfinanzierung immer auch eine Alternative zur Verfügung steht. Aber die Risiken sind nicht beiseite zu wischen. Vor allen Dingen müssen wir zwischen Banken und den sogenannten Schattenbanken vergleichbare Regelungen haben. Ansonsten gibt es natürlich Ausweichbewegungen in Bereiche, die nicht der Aufsicht unterliegen. Die Umschichtung in andere Formen der Anlage aber könnte sehr risikobehaftet sein. Das muss international geregelt werden – so wie es uns in der G20 auch bei systemrelevanten Banken gelungen ist. Deshalb bin ich froh darüber, dass wir beim G20-Gipfel in Australien zumindest den Arbeitsplan bis 2016 fortgeschrieben und uns fest vorgenommen haben, bis dahin auch im Schattenbankensektor eine Regulierung zu haben. Aber ich sage: Es geht langsam voran. Wir dürfen nicht vergessen: Es werden dann bereits acht Jahre nach der Finanzkrise vergangen sein. Da kann man nicht mehr von Eiltempo sprechen, obwohl man sich vor Augen führen sollte, was damals weltweit los war.\\nWir sind aber vorangekommen, nicht nur auf europäischer, sondern auch auf internationaler Ebene. Auch für das sogenannte \"too big to fail\"-Problem – eine Bank ist zu groß, als dass man sie straucheln lassen könnte – haben wir Vereinbarungen getroffen. Wir müssen sie jetzt aber auch entschlossen umsetzen.\\nMeine Damen und Herren, sehr erfreulich ist auch, dass wir im Rahmen der G20 und durch exzellente Arbeiten der OECD auch im Bereich Steuern – sowohl bei der Frage der Steuergestaltungsmöglichkeiten multinationaler Konzerne also auch bei der Frage der Steuergerechtigkeit und Steuertransparenz – vorangekommen sind. Die automatische Informationspflicht wird ab 2017 eingeführt. In Berlin hat Wolfgang Schäuble diesbezüglich eine Tagung durchgeführt, auf der bereits 50 Länder unterzeichnet haben. Das wäre vor ein paar Jahren noch gar nicht vorstellbar gewesen. Daher bin ich mit den Ergebnissen sehr zufrieden.\\nZum Thema Steuergerechtigkeit: Es läuft ein Projekt, das in Fachkreisen als \"BEPS\"-Projekt – \"Base Erosion and Profit Shifting\" – bekannt ist, das sich dagegen wendet, dass immer wieder versucht wird, multinationale Konzerne ohne Steuerzahlungen davonkommen zu lassen. Das war auch eines der Themen in Australien. Bis Ende 2015 wollen wir das Projekt abschließen. Auch hierbei ist Europa Vorreiter. Deutschland hat mit Großbritannien als einem Land, das hierbei gewisse Erfahrungen hat – gerade was sogenannte Patentboxen anbelangt –, Einigkeit darin erzielt, dass wir diese Art von Tricks wirklich sein lassen müssen und wir eine gemeinsame Plattform für den Ausgangspunkt von Steuerzahlungen schrittweise erarbeiten müssen.\\nNatürlich war Wachstum das zentrale Thema auf dem Gipfel in Brisbane. Die australische Regierung hat als Gastgeber eine globale Infrastrukturinitiative ins Leben gerufen. Damit bin ich auch beim Thema Investitionen in Europa. Sie haben vollkommen recht: Wir brauchen Strukturreformen in Europa; wir brauchen mehr Investitionen. Wenn man private Investitionen haben möchte, muss auch das Umfeld stimmen, in dem Investoren zu investieren bereit sind. Deshalb brauchen wir auch ein entschiedenes Vorgehen beim Überwinden der Staatsschuldenkrise. Wir haben diese Krise noch nicht überwunden. Wir haben sie im Griff, aber wir haben sie noch nicht überwunden. Die Phänomene, die Ihnen Sorgen bereiten, sind ja auch genau darauf zurückzuführen.\\nWir haben mit Irland, Portugal und Spanien drei von fünf Programmländern, die ihre Programme erfolgreich abschließen konnten. Wir haben jetzt bemerkenswerte Wachstumsraten in Irland. Wir haben auch in Portugal und Spanien wieder Wirtschaftswachstum. Wir haben die ersten Anzeichen dafür, dass auch die Arbeitslosigkeit zurückgeht. Aber, meine Damen und Herren, sie ist noch viel zu hoch. Wenn man sich die Jugendarbeitslosigkeit in diesen Ländern anschaut, dann stellt man fest, dass es teils fast die Hälfte der jungen Menschen eines Jahrgangs ist, die keine Arbeit hat. Wenn Finanzinvestoren Interesse an einem Kontinent haben sollen, dann muss die Arbeitslosigkeit bekämpft werden. Das ist unsere große Aufgabe.\\nJetzt stellt sich die Frage: Wo entstehen Jobs; und wie entstehen Jobs? Heute wird, parallel zu unseren Haushaltsberatungen im Deutschen Bundestag, über eine Initiative im Europäischen Parlament beraten. Jean-Claude Juncker hat mit seiner neuen Kommission ein 300-Milliarden-Euro-Paket vorgestellt, das durch die Europäische Investitionsbank verwaltet werden muss und wird. Aber, meine Damen und Herren, auch dabei wird sich die Aufgabe stellen, Projekte zu identifizieren, die wirklich investitionsreif sind. Hierbei geht es nicht nur um Verkehrsprojekte, sondern vor allen Dingen auch um Forschungsprojekte und Projekte im Zusammenhang mit der Digitalen Agenda, zum Beispiel Breitbandausbau.\\nIch bin der festen Überzeugung, dass wir mit dem Dreiklang aus soliden Haushalten, Strukturreformen und Investitionen in zukunftsfähige Projekte aus der Krise, in der die Eurozone ist, herauskommen können, wenn wir aber auch bereit sind, das zu tun, was eine gemeinsame Währung noch dazu verlangt. Ein Stabilitäts- und Wachstumspakt ist gut; gemeinsame Regeln einzuhalten, was Neuverschuldung und Gesamtverschuldung anbelangt, ist okay. Aber ich bin der festen Überzeugung – im Übrigen hat das schon Jacques Delors geschrieben, bevor der Euro überhaupt eingeführt wurde –: Länder, die eine gemeinsame Währung haben, müssen sich auch wirtschaftspolitisch besser abstimmen. Sie sollten sich im Hinblick auf ihre Wettbewerbsfähigkeit nicht auseinanderentwickeln, sondern kohärenter werden. Das heißt nicht, dass jeder das Gleiche machen muss. Aber es muss eine bestimmte gemeinsame Grundhaltung da sein.\\nDaher ist so wichtig für Europa, dass wir Verlässlichkeit und damit Vertrauen entwickeln. Wir haben in der Europäischen Union und in der Eurozone an die 90 Indikatoren, die wir uns schon vorgenommen haben – an die 90 Indikatoren, die wahrscheinlich kaum einer alle aufzählen kann. Kaum einen von diesen Indikatoren, die wir uns vorgenommen haben, halten wir auch wirklich ein – ob es nun darum geht, dass man im Jahr 2000 gesagt hat, Europa soll der wettbewerbsfähigste Kontinent der Welt werden, oder um die Zusage, dass drei Prozent des jeweiligen Bruttoinlandsprodukts für Forschung und Entwicklung ausgegeben werden. Der eine macht es, der andere macht es nicht. So kann man in einer Währungsunion nicht vernünftig miteinander wirtschaften. Das ist ein Problem in Europa, das wir bewältigen müssen. Meine Damen und Herren, das heißt also: Investitionen in Bildung, in Forschung, in zukunftsfähige Projekte.\\nIch muss Ihnen auch noch berichten, auch wenn es für Sie nichts Neues ist: Das Selbstbewusstsein, mit dem die asiatischen Staaten auf dem G20-Gipfel aufgetreten sind, die Dynamik in dieser Region und die Bereitschaft, sich durch Freihandelsabkommen enger zu vernetzen, sind zum Teil atemberaubend. Vor dem G20-Gipfel fand der APEC-Gipfel in Peking statt. Das Transpazifische Partnerschaftsabkommen – das Pendant zum Transatlantischen Partnerschaftsabkommen – wird wahrscheinlich im ersten Halbjahr 2015 fertig verhandelt sein. Der chinesische Präsident hat in Australien ein Freihandelsabkommen zwischen China und Australien unterzeichnet. Wir müssen uns in Europa wirklich anstrengen, dass wir nicht abgehängt werden; und zwar – ich habe das auch heute im Deutschen Bundestag gesagt – aus zwei Gründen: zum einen, um als Exportnation Deutschland nicht abgehängt zu werden, und zum anderen, um Standards für Freihandelsabkommen setzen zu können. Wenn andere ihre bilateralen Freihandelsabkommen fertigverhandelt haben, brauchen wir ihnen mit unseren Standards nicht mehr kommen. Das heißt, wenn es um Verbraucherschutz, wenn es um Umweltschutz und Ähnliches geht, dann können wir jetzt noch Standards setzen. Aber das muss eben so geschehen, dass wir auch rechtzeitig fertig werden.\\nIch will kurz etwas zu den innenpolitischen Rahmenbedingungen sagen, denn nicht nur Sie haben Herausforderungen zu bewältigen, sondern auch wir. Wir haben sehr klar gesagt, wir brauchen berechenbare Bedingungen; das heißt, keine Steuererhöhungen. Dabei wird es in dieser Legislaturperiode auch bleiben.\\nDes Weiteren haben wir es in diesem Jahr zum ersten Mal nach 46 Jahren geschafft bzw. werden es am Freitag schaffen, einen Bundeshaushalt zu verabschieden, der keine neuen Schulden vorsieht. Das ist nun auch so eine Sache: Solange wir das nicht erreicht hatten, hatte jeder gesagt, dass man das erst einmal erreichen müsste; in dem Moment aber, in dem wir kurz davor sind, es zu erreichen, wird das Ziel, das jahrelang ein zentrales war, als nicht mehr ganz so wichtig empfunden. Ich glaube, im Hinblick auf unsere demografische Entwicklung ist es ein wichtiges Zeichen, dass wir bei robuster Wirtschaftslage in der Lage sind zu sagen: Wir wollen nächstes Jahr mit dem auskommen, das wir einnehmen. Wir geben damit der jungen Generation ein Signal, dass zumindest keine neuen Schulden dazukommen sollen, was ja noch nicht bedeutet, dass irgendein Euro alter Schulden abgezahlt ist.\\nDie zweite große Herausforderung, vor der wir stehen, ist die Energiewende. Wir haben uns in Deutschland für einen anspruchsvollen Weg entschieden. Wir haben eine Wirtschaft, die natürlich nicht nur Versorgungssicherheit braucht, sondern auch bezahlbaren Strom. Gleichzeitig wollen wir den Weg zu mehr Umweltfreundlichkeit durch Erhöhung des Anteils erneuerbarer Energien gehen. Wir haben in der Koalition durch die Veränderung des Erneuerbare-Energien-Gesetzes Berechenbarkeit geschaffen. Das ist aber nur ein Aspekt der Energiewende, denn wir brauchen jetzt auch neue Leitungssysteme – natürlich auch ein Gegenstand großer Diskussionen. Wir brauchen natürlich auch die Möglichkeit, Strom zu speichern. Und wir brauchen ein Versorgungssicherheitssystem – \"Kapazitätsmärkte\" genannt. Darüber, wie wir das genau gestalten, müssen wir nachdenken. Und wir müssen uns mit der Frage auseinandersetzen: Wollen wir eigentlich einen gemeinsamen europäischen Markt im Energiebereich erreichen oder aber gestaltet jedes Land oder vielleicht sogar jedes Bundesland seine eigene Energiepolitik? Auch darüber gibt es noch interessante Diskussionen zu führen.\\nMeine Damen und Herren, wir haben eine ganze Reihe von Projekten beschlossen, die durchaus auch Bürokratie und neue Berichtspflichten verursachen oder der Wirtschaft Lasten zumuten, zum Beispiel den Mindestlohn. Wir wollen als Gegenmaßnahme aber auch danach fragen: Wo können wir an anderer Stelle Bürokratie abbauen? Wir wollen versuchen – nach dem Motto \"One-in, One-out\" –, immer dann, wenn wir ein neues Gesetz mit Belastungen für die Wirtschaft angehen, an anderer Stelle Belastungen für die Wirtschaft abzubauen. Wir haben damit noch keine Erfahrungen, aber wir können durchaus Ermutigung brauchen. Sie glauben es mir noch nicht ganz – das würde ich auch nicht tun, sondern würde auch erst einmal abwarten, was passiert. Aber Ermutigung ist herzlich willkommen.\\nMeine Damen und Herren, was ich noch erwähnen möchte, ist das Thema Digitalisierung. Die Digitalisierung ist die große Herausforderung der nächsten Jahre; und zwar im Hinblick auf ihre Verschmelzung mit der realen Wirtschaft, in der Deutschland klassischerweise stark ist. Hierbei haben sich die Gewichte auf der Welt erheblich verschoben. Wir sind zwar realwirtschaftlich sehr stark. Wir haben mit der BASF das größte Chemieunternehmen der Welt. Wir sind herausragend im Automobilbau und Maschinenbau. Wir haben viele \"Hidden Champions\" unter den Familienbetrieben und mittelständischen Betrieben. Aber wenn wir uns einmal ansehen, wo die Wertschöpfung im digitalen Bereich stattfindet, dann stellen wir fest, dass das nahezu ausnahmslos in großen Unternehmen aus den Vereinigten Staaten von Amerika oder aus Asien geschieht. Die Frage, wer das Auto der Zukunft baut, wird sich in den nächsten Jahren entscheiden – vielleicht schneller, als wir denken. Daher geht es jetzt darum, mit unseren gewachsenen, großen Qualitäten in der Realwirtschaft wirklich Schritt zu halten mit der zunehmenden Digitalisierung – Stichwort Industrie 4.0. Wir befinden uns jetzt quasi in einer revolutionären Phase, in der sich Weltmarktführer neu sortieren; und es ist unsere Aufgabe, wieder vorne mit dabei zu sein.\\nIch bin dankbar dafür, dass Herr Hoffmann gerade hier ist, denn die Frage nach der Arbeit der Zukunft ist von den Gewerkschaften aufgeworfen worden und hat seit Jahren zu einem Diskussionsprozess zwischen den Gewerkschaften, der Wirtschaft und der Regierung geführt. Wir sehen den Herausforderungen sehr nüchtern ins Auge und versuchen, Lösungen zu finden. Es bewährt sich einmal mehr das, was wir unter Sozialpartnerschaft in Deutschland verstehen und womit wir so gut durch die Krise gekommen sind. Dies sollten wir stärken, um jetzt die Zukunft richtig zu gestalten.\\nMeine Damen und Herren, wir wirtschaften nicht nur unter dem Eindruck der Euro-Schuldenkrise und der gerade überwundenen Finanzmarktkrise, sondern es hat sich in diesem Jahr auch eine Reihe globaler Risiken hinzugesellt, die nicht unbedingt zu erwarten waren. Wir hatten in diesem Jahr den 100. Jahrestag des Beginns des Ersten Weltkriegs und den 75. Jahrestag des Beginns des Zweiten Weltkriegs. Als wir vor einem Jahr darüber diskutiert haben, wie wir ein solches Gedenkjahr gestalten, hatten wir eigentlich nicht gedacht, dass wir uns auch mit militärischen Auseinandersetzungen in unserer nächsten Nähe beschäftigen müssen, wie sie zwischen Russland und der Ukraine leider stattgefunden haben und trotz Waffenstillstand täglich noch stattfinden.\\nIch weiß, dass viele auch auf deutscher Seite unter den Sanktionen leiden und dass sie auch auf die deutsche wirtschaftliche Entwicklung eine dämpfende Wirkung haben. Aber, meine Damen und Herren, es geht hierbei um sehr grundsätzliche Prinzipen. Es geht im Grunde um die Frage, ob das, was Europa jahrzehntelang Frieden eingebracht hat – nämlich die Akzeptanz der territorialen Integrität der einzelnen Länder –, infrage gestellt wird, einfach weil man stärker ist. Es geht darum, sich an das Rechtssystem zu halten und auch wirklich einzuhalten. Das ist keine Nebensächlichkeit und auch keine Frage, die man mal je nach Situation entscheiden kann, sondern es sagt etwas über das friedliche Zusammenleben in Europa aus.\\nDeshalb muss ich an dieser Stelle noch einmal daran erinnern: Die Ukraine ist Anfang der 90er Jahre unabhängig geworden. Sie hat darüber im Übrigen ein Referendum stattfinden lassen. Sie hat sich 1994 dazu bereit erklärt, ihre Nuklearwaffen abzugeben. Im Gegenzug haben sich Staaten dazu verpflichtet, die territoriale Integrität der Ukraine zu garantieren – das waren Großbritannien, die Vereinigten Staaten von Amerika und Russland. Dass das nicht eingehalten wurde, dass die Krim annektiert wurde, dass es auch russische Beteiligungen in Donezk und Lugansk gibt, ist deshalb etwas, auf das wir reagieren müssen. Wir haben von Anfang an gesagt: Wir reagieren darauf nicht militärisch. Diese Option hat es nie gegeben. Aber wenn wir reagieren wollen, dann sind Sanktionen ein Mittel. Sie sind kein Selbstzweck, aber sie sollen deutlich machen, dass wir mit den Geschehnissen nicht einverstanden sind.\\nMeine Damen und Herren, deshalb danke ich auch der Wirtschaft, die die Sanktionen alles in allem mitträgt. Ich hoffe, dass das, was unsere Erfahrung vor 25 Jahren war – dass nach Jahrzehnten der Kalte Krieg zu Ende ging, dass man einen langen Atem brauchte, aber dass es gelungen ist, die Diktaturen zu überwinden –, dass diese Erfahrung, dass alles möglich ist, uns auch die Kraft gibt, diesen Konflikt zu überwinden, von dem ich glaube, dass wir ihn überwinden können, wenn wir uns an unsere Prinzipen halten. Dazu brauchen wir – kein Land kann das alleine – ein entschlossenes und geschlossenes Europa.\\nGerade auch bei den G20-Treffen mit den Ländern Indien und China, die jeweils über eine Milliarde Einwohner haben, zeigt es sich, wie wichtig es ist, dass wir mit 500 Millionen Menschen unsere Stimme als Europäer erheben. Da spielt auch die Versicherungswirtschaft eine ganz wichtige Rolle, um Vertrauen in die Zukunft herzustellen. Deshalb finde ich es bemerkenswert, dass Sie sich auch zum Beispiel mit Herrn Huber und mit den Gewerkschaften – also nicht nur aus der Perspektive der Versicherungswirtschaft, sondern auch mit dem Blick anderer auf Ihre Branche – mit diesem Thema auseinandersetzen.\\nIch wünsche Ihnen – gerade auch in einem nicht ganz einfachen Umfeld – Erfolg. Ich wünsche Ihnen, dass Sie interessante Produkte anbieten. Ich biete an, dass wir über die weitere Entwicklung im Gespräch bleiben. Zum Abschluss möchte ich noch sagen: Herzlichen Glückwunsch, Herr Erdland, zu Ihrer Wiederwahl. Diese ist ist auch ein Stück Kontinuität. Lassen Sie uns konstruktiv, manchmal auch strittig, aber im Sinne des Ganzen zusammenarbeiten. Herzlichen Dank dafür, dass ich heute hier dabei sein durfte.</td>\n",
       "    </tr>\n",
       "  </tbody>\n",
       "</table>\n",
       "</div>"
      ],
      "text/plain": [
       "           date  \\\n",
       "1815 2014-09-19   \n",
       "1840 2014-01-29   \n",
       "1861 2014-11-26   \n",
       "\n",
       "                                                                                                                                                                                                                                                                                                                                                                                                                                                                                                                                                                                                                                                                                                                                                                                                                                                                                                                                                                                                                                                                                                                                                                                                                                                                                                                                                                                                                                                                                                                                                                                                                                                                                                                                                                                                                                                                                                                                                                                                                                                                                                                                                                                                                                                                                                                                                                                                                                                                                                                                                                                                                                                                                                                                                                                                                                                                                                                                                                                                                                                                                                                                                                                                                                                                                                                                                                                                                                                                                                                                                                                                                                                                                                                                                                                                                                                                                                                                                                                                                                                                                                                                                                                                                                                                                                                                                                                                                                                                                                                                                                                                                                                                                                                                                                                                                                                                                                                                                                                                                                                                                                                                                                                                                                                                                                                                                                                                                                                                                                                                                                                                                                                                                                                                                                                                                                                                                                                                                                                                                                                                                                                                                                                                                                                                                                                                                                                                                                                                                                                                                                                                                                                                                                                                                                                                                                                                                                                                                                                                                                                                                                                                                                                                                                                                                                                                                                                                                                                                                                                                                                                                                                                                                                                                                                                                                                                                                                                                                                                                                                                                                                                                                                                                                                                                                                                                                                                                                                                                                                                                                                                                                                                                                                                                                                                                                                                                                                                                                                                                                                                                                                                                                                                                                                                                                                                                                                                                                                                                                                                                                                                                                                                                                                                                                                                                                                                                                                                                                                                                                                                                                                                                                                                                                                                                                                                                                                                                                                                                                                                                                                                                                                                                                                                                                                                                                                                                                                                                                                                                                                                                                                                                                                                                                                                                                                                                                                                                                                                                                                                                                                                                                                                                                                                                                                                                                                                                                                                                                                                                                                                                                                                                                                                                                                                                                                                                                                                                                                                                                                                                                                                                                                                                                                                                                                                                                                                                                                                                                                                                                                                                                                                                                                                                                                                                                                                                                                                                                                                                                                                                                                                                                                                                                                                                                                                                                                                                                                                                                                                                                                                                                                                                                                                                                                                                                                                                                                                                                                                                                                                                                                                                                                                                                                                                                                                                                                                                                                                                                                                                                                                                                                                                                                                                                                                                                                                                                                                                                                                                                                                                                                                                                                                                                                                                                                                                                                                                                                                                                                                                                                                                                                                                                                                                                                                                                                                                                                                                                                                                                                                                                                                                                                                                                                                                                                                                                                                                                                                                                                                                                                                                                                                                                                                                                                                                                                                                                                                                                                                                                                                                                                                                                                                                                                                                                                                                                                                                                                                                                                                                                                                                                                                                                                                                                                                                                                                                                                                                                                                                                                                                                                                                                                                                                                                                                                                                                                                                                                                                                                                                                                                                                                                                                                                                                                                                                                                                                                                                                                                                                                                                                                                                                                                                                                                                                                                                                                                                                                                                                                                                                                                                                                                                                                                                                                                                                                                                                                                                                                                                                                                                                                                                                                                                                                                                                                                                                                                                                                                                                                                                                                                                                                                                                                                                                                                                                                                                                                                                                                                                                                                                                                                                                                                                                                                                                                                                                                                                                                                                                                                                                                                                                                                                                                                                                                                                                                                                                                                                                                                                                                                                                                                                                                                                                                                                                                                                                                                                                                                                                                                                                                                                                                                                                                                                                                                                                                                                                                                                                                                                                                                                                                                                                                                                                                                                                                                                                                                                                                                                                                                                                                                                                                                                                                                                                                                                                                                                                                                                                                                                                                                                                                                                                                                                                                                                                                                                                                                                                                                                                                                                                                                                                                                                                                                                                                                                                                                                                                                                                                                                                                                                                                                                                                                                                                                                                                                                                                                                                                                                                                                                                                                                                                                                                                                                                                                                                                                                                                                                                                                                                                                                                                                                                                                                                                                                                                                                                                                                                                                                                                                                                                                                                                                                                                                                                                                                                                                                                                                                                                                                                                                                                                                                                                                                                                                                                                                                                                                                                                                                                                                                                                                                                                                                                                                                                                                                                                                                                                                                                                                                                                                                                                                                                                                                                                                                                                                                                                                                                                                                                                                                                                                                                                                                                                                                                                                                                                                                                                                                                                                                                                                                                                                                                                                                                                                                                                                                                                                                                                                                                                                                                                                                                                                                                                                                                                                                                                                                                                                                                                                                                                                                                                                                                                                                                                                                                                                                                                                                                                                                                                                                                                                                                                                                                                                                                                                                                                                                                                                                                                                                                                                                                                                                                                                                                                                                                                                                                                                                                                                                                                                                                                                                                                                                                                                                                                                                                                                                                                                                                                                                                                                                                                                                                                                                                                                                                                                                                                                                                                                                                                                                                                                                                                                                                                                                                                                                                                                                                                                                                                                                                                                                                                                                                                                                                                                                                                                                                                                                                                                                                                                                                                                                                                                                                                                                                                                                                                                                                                                                                                                                                                                                                                                                                                                                                                                                                                                                                                                                                                                                                                                                                                                                                                                                                                                                                                                                                                                                                                                                                                                                                                                                                                                                                                                                                                                                                                                                                                                                                                                                                                                                                                                                                                                                                                                                                                                                                                                                                                                                                                                                                                                                                                                                                                                                                                                                                                                                                                                                                                                                                                                                                                                                                                                                                                                                                                                                                                                                                                                                                                                                                                                                                                                                                                                                                                                                                                                                                                                                                                                                                                                                                                                                                                                                                                                                                                                                                                                                                                                                                                                                                                                                                                                                                                                                                                                                                                                                                                                                                                                                                                                                                                                                                                                                                                                                                                                                                                                                                                                                                                                                                                                                                                                                                                                                                                                                                                                                                                                                                                                                                                                                                                                                                                                                                                                                                                                                                                                                                                                                                                                                                                                                                                                                                                                                                                                                                                                                                                                                                                                                                                                                                                                                                                                                                                                                                                                                                                                                                                                                                                                                                                                                                                                                                                                                                                                                                                                                                                                                                                                                                                                                                                                                                                                                                                                                                                                                                                                                                                                                                                                                                                                                                                                                                                                                                                                                                                                                                                                                                                                                                                                                                                                                                                                                                                                                                                                                                                                                                                                                                                                                                                                                                                                                                                                                                                                                                                                                                                                                                                                                                                                                                                                                                                                                                                                                                                                                                                                                                                                                                                                                                                                                                                                                                                                                                                                                                                                                                                                                                                                                                                                                                                                                                                                                                                                                                                                                                                                                                                                                                                                                                                                                                                                                                                                                                                                                                                                                                                                                                                                                                                                                                                                                                                                                                                                                                                                                                                                                                                                                                                                                                                                                                                                                                                                                                                                                                                                                                                                                                                                                                                                                                                                                                                                                                                                                                                                                                                                                                                                                                                                                                                                                                                                                                                                                                                                                                                                                                                                                                                                                                                                                                                                                                                                                                                                                                                                                                                                                                                   text  \n",
       "1815  Sie haben dieses Jahr eine neue Imagekampagne mit dem Motto \"Die Welt war noch nie so unfertig. Pack mit an.\" – Wie immer ein sehr passendes Motto. Sie wollen damit gerade junge Menschen ansprechen und ihnen sagen: Bewegt etwas in unserer Gesellschaft und für unsere Gesellschaft. Das Handwerk ist auch wirklich ein Bereich, in dem junge Menschen sehr viele Chancen bekommen. Die Botschaft ist deshalb auch glaubwürdig.\\nDas traditionelle Markenzeichen des Handwerks sind Schaffenskraft, Kreativität und Mut, immer wieder Neues zu wagen. Damit bringen Sie sozusagen zum Ausdruck, was Selbständigkeit ausmacht, was die Bereitschaft ausmacht, auch Risiken einzugehen, und was letztendlich unsere Gesellschaft voranbringt. Dafür ein ganz herzliches Dankeschön. Soziale Marktwirtschaft in Deutschland ohne das deutsche Handwerk ist nicht vorstellbar. Damit sind Sie natürlich auch ein Aushängeschild unseres Landes und eine wichtige Säule der deutschen Wirtschaft.\\nDeutschland ist einer der Wachstumsmotoren insbesondere im Euroraum. Unser Wachstum wird im Augenblick im Wesentlichen von einer stabilen Binnenkonjunktur angetrieben. Wenn wir addieren, was wir in den vergangenen Jahren an Binnenkonsum hatten, dann stellen wir fest, dass das eine ganze Menge war. Ich weiß, dass Sie nicht jeden unserer konsumfördernden Schritte gutheißen. Aber zum Beispiel etwas wie die Mütterrente ist auch ein Beitrag zu neuen Konsummöglichkeiten und damit auch ein Beitrag zum Wachstum in der gesamten Eurozone.\\nDas anhaltend hohe Nachfrageniveau deutet darauf hin, dass der Arbeitsmarkt robust ist. Wir können davon ausgehen, dass die Arbeitslosenzahl im Jahresdurchschnitt wieder unter drei Millionen liegen wird. Ich sage allerdings auch: Wir sehen eine Verfestigung der Langzeitarbeitslosigkeit und müssen daher immer und immer wieder – wir haben auch entsprechende Programme des Bundesarbeitsministeriums – daran arbeiten, dass der Sockel der Langzeitarbeitslosigkeit noch ein wenig stärker abgebaut wird.\\nIch will nicht verhehlen, dass bei einem Bundeshaushalt von rund 300 Milliarden Euro deutlich über 30 Milliarden, also mehr als zehn Prozent, die wir für Hartz-IV-Empfänger ausgeben, ein Block im Haushalt sind, den wir ganz anders nutzen könnten, wenn wir die Langzeitarbeitslosigkeit senken könnten. Deswegen stellt mich das nach wie vor nicht zufrieden – ganz abgesehen davon, was es für eine größere Erfüllung der eigenen Möglichkeiten bedeutete, wenn Langzeitarbeitslose und ihre Kinder aus der Hilfs- und Unterstützungsbedürftigkeit herauskämen.\\nIm Handwerk eröffnen Sie gerade auch jungen Leuten viele Chancen. Deshalb leisten Sie auch einen Beitrag dazu, dass die Jugendarbeitslosigkeit in Deutschland die geringste in ganz Europa ist. Wir freuen uns, dass der Trend der Erwerbstätigenzahlen insgesamt weiter nach oben geht. Wir haben jetzt über 42 Millionen Erwerbstätige. Wir haben über 30 Millionen sozialversicherungspflichtig Beschäftigte. All das sind Rekordzahlen, die in vielerlei Hinsicht sehr gut sind.\\nDie gute Stimmung im Handwerk freut uns. Es zeigt sich, dass in Ihrem Bereich derzeit Konjunktur herrscht. Das Baugewerbe zum Beispiel weist volle Auftragsbücher und steigende Umsätze auf. Auch die Handwerke des gewerblichen Bedarfs und das Kraftfahrzeuggewerbe verbesserten sich im Vergleich zum Vorjahr deutlich. Zehn Prozent aller Handwerksbetriebe wollen mehr Personal einstellen – zusätzlich zu den über 5,3 Millionen Arbeitsplätzen, die das deutsche Handwerk heute schon bietet. 5,3 Millionen ist eine Zahl, die sich wirklich sehen lassen kann. Wenn man an die 30 Millionen sozialversicherungspflichtigen Arbeitsverhältnisse in Deutschland denkt, zeigt sich, welch großer Block das Handwerk ist.\\nDie Ausbildungsbereitschaft – auch dafür ein ganz herzliches Dankeschön – ist ungebrochen hoch. Mehr als ein Viertel aller Auszubildenden in Deutschland – das ist deutlich überproportional – findet seinen Ausbildungsplatz im Handwerk. Auch hierfür sind wir sehr, sehr dankbar. Deshalb will ich auch noch einmal ganz klar sagen: Wir werden uns nicht nur in Deutschland für den Erhalt des Meisterbriefs einsetzen, sondern auch in Europa. Denn der Meisterbrief ist Ausdruck einer Kultur; und das gesamte lokale Ausbildungssystem ist nicht wegzudenken. Wenn wir alle Regulierungen aufheben und sagen würden \"Jetzt herrscht hier freier Wettbewerb und nichts wird mehr reguliert\", dann hätten wir keine Industrie- und Handelskammern, dann hätten wir keine Handwerkskammern, dann hätten wir keine Meisterbriefe, dann hätten wir gewissermaßen keine Gesellen. Das würde die gesamte Qualität unserer Berufsausbildung unglaublich schmälern. Das werden wir als Bundesregierung nicht zulassen; darauf können Sie vertrauen, meine Damen und Herren. Als Bundesregierung werden wir dies, wenn die neue Europäische Kommission ab 1. November im Amt sein wird, auch gleich wieder deutlich machen und mit den zuständigen Kommissaren darüber sprechen.\\nDamit bin ich beim Thema duale Berufsausbildung. Auch ich möchte noch einmal sagen, dass man über die erwähnte OECD-Statistik nur den Kopf schütteln kann, in der bemängelt wird, dass Deutschland einen unterdurchschnittlichen Anteil an Hochschulabsolventen habe. In Europa werden im Augenblick Diskussionen darüber geführt, dass es in einigen Ländern zu viele Hochschulabsolventen gibt, die nicht die Eignung haben, in Bereichen eingesetzt zu werden, in denen dies notwendig wäre, und dass man das duale Berufsbildungssystem in die betreffenden Länder exportieren und dort installieren sollte. Gleichzeitig bezieht man sich einfach auf den Durchschnitt aller Hochschulabsolventen in den OECD-Ländern, um uns zu sagen, wir lägen darunter – aber ohne zu berücksichtigen, dass Deutschland eben die duale Berufsausbildung und deshalb sehr viele qualifizierte Personen auch ohne Hochschulabschluss hat. Weil wir deshalb unter dem OECD-Durchschnitt liegen, sind wir zukunftsausgerichtet. Das müsste die Schlussfolgerung sein; und nicht umgekehrt in dem Sinne, dass wir uns anpassen müssten.\\nWir haben in den letzten Jahren sehr viel dafür getan, dass mehr junge Menschen an Hochschulen und Fachhochschulen studieren. Mehr als die Hälfte der Schulabsolventen nimmt die Möglichkeit einer Hochschul- oder Fachhochschulausbildung wahr. Damit sind wir aber auch an einem Punkt angelangt, an dem wir die zweite Säule, nämlich die duale Berufsausbildung, wieder entschieden stärken müssen. Denn wenn Sie sich die Abschlüsse an den Hochschulen anschauen, stellen Sie fest, dass wir auch in der Hochschulausbildung in vielen Bereichen Menschen haben, die über keine abgeschlossene Berufsausbildung verfügen. Ich bin sehr dankbar dafür, dass Sie, Herr Wollseifer, hierzu gesagt haben, dass Sie im Handwerk auch offen dafür seien, denjenigen, die ihre Hochschulausbildung abbrechen, eine berufliche Ausbildung zukommen zu lassen. Das halte ich für ganz, ganz wichtig. Deshalb sind wir hierbei mit Nachdruck unterstützend tätig.\\nWir arbeiten an einem neuen Ausbildungspakt – möglichst unter Mitwirkung der Arbeitgeberverbände und Gewerkschaften. Das gestaltet sich noch schwierig. Aber ich glaube, gerade auch angesichts der Vielzahl von Aktivitäten, die Gewerkschaften im Bereich der beruflichen Ausbildung unternehmen, ist es sehr, sehr wünschenswert, zu einem neuen Ausbildungs- und Qualifizierungspakt zu kommen. Denn je breiter die Schultern sind, auf denen er ruht, umso besser ist dies für die jungen Menschen.\\nWir haben uns auch bereit erklärt, die Mobilität der Arbeitskräfte in Europa zu fördern. Dazu haben wir das Programm \"MobiPro-EU\" aufgelegt. Diejenigen, die im Bereich Gastronomieausbildung tätig sind, wissen, dass eine Vielzahl von Möglichkeiten genutzt wird. Ich weiß, dass auch das Handwerk zum Beispiel in meinem Wahlkreis – auf der Insel Rügen; also in Mecklenburg-Vorpommern, wo inzwischen ein großer Bedarf an Auszubildenden besteht – bereit ist und sich öffnen würde für junge Menschen aus anderen europäischen Ländern. Ich glaube, man braucht nicht nur einen Binnenmarkt, sondern es wäre auch sehr gut, eine Binnenbewegung der Arbeitskräfte haben. Das heißt, dass man sein Leben lang nicht nur in Deutschland bleiben muss. Die Wanderschaft von Gesellen war schon in früheren Jahrhunderten etwas, das zum Erfahrungsschatz gezählt und geschätzt wurde. Das könnte auch im heutigen Europa durchaus eine Möglichkeit sein.\\nMeine Damen und Herren, soweit also ein ganz herzliches Dankeschön. Sie dürfen davon ausgehen, dass die Bundesregierung das duale Ausbildungssystem für sehr geeignet und für einen Exportschlager hält, da wir eben auch die Verknüpfung mit hohen Qualitätsansprüchen sehen. Deshalb sind Meisterbrief, Handwerkskammern und vieles andere mehr eine wesentliche Voraussetzung dafür, dass dieses Engagement auch in der Berufsbildung existiert.\\nMeine Damen und Herren, wir werden uns in den nächsten Jahren weiter mit der Sicherung der Fachkräftebasis beschäftigen. Wir werden natürlich genauso im Bereich Forschung und Innovation unsere Hausaufgaben machen. Denn wir wissen, dass nur diejenigen, die wirklich Neues entwickeln und erfinden und die auch die Verbindung zwischen Grundlagenforschung und angewandter Forschung gut darstellen, auf den Weltmärkten in Zukunft Chancen haben. Unser hoher Lebensstandard hängt auch davon ab, dass wir innovativ sind. Deshalb geben wir in dieser Legislaturperiode neun Milliarden Euro zusätzlich für Bildung und Forschung aus. Wir unterstützen die Länder in vielfacher Weise – insbesondere bei den Aufwüchsen im Bereich der außeruniversitären Forschung und durch den Hochschulpakt. Wir werden als Bund von den Ländern die BAföG-Leistungen vollständig übernehmen. Damit werden in den Ländern Spielräume frei, sodass Fachhochschulen und Hochschulen finanziell besser ausgestattet werden können. Denn für das gesamte Forschungs- und Bildungssystem ist es ganz wichtig, dass nicht nur außeruniversitäre Forschungseinrichtungen wie Fraunhofer-Gesellschaft, Leibniz-Gemeinschaft oder Max-Planck-Gesellschaft finanziell prima ausgerüstet sind, sondern auch die Schlagkraft der Universitäten nicht weiter abnimmt.\\nWir können auch durch die Änderung des Grundgesetzes, die wir vornehmen werden, die Kooperation zwischen den Hochschulen und den Forschungsinstitutionen sehr viel besser gestalten. Auch das ist ganz wichtig. Wir wissen aus der internationalen Szene, dass man Cluster braucht und hierbei nicht mit föderalen Grenzen operieren kann. Ich glaube, dass das auch für Sie von großer Bedeutung ist.\\nWir haben die Hightech-Strategie weiterentwickelt als eine Strategie, die sich allen Forschungsvorhaben der Bundesregierung zuwendet. Wir achten auch darauf, dass in dieser Hightech-Strategie die Verbindung zur Innovation in mittelständischen Unternehmen deutlicher gezogen wird. Zum Beispiel fördert das \"Zentrale Innovationsprogramm Mittelstand\" technologieoffene Forschungs- und Innovationsprojekte von Firmen, die zumeist auch mit Forschungseinrichtungen kooperieren.\\nSie haben darauf hingewiesen – ich komme später noch einmal darauf zu sprechen –, dass es im Bereich Digitalisierung der Fertigung, die mit dem Internet der Dinge zusammenhängt, rund 50.000 Betriebe gibt. Dieser Hinweis zeigt, wie innovativ Handwerksbetriebe sind und wie sehr sie auch auf eine Kooperation mit der Forschung angewiesen sind. Deshalb wollen wir ihnen den Zugang verbessern.\\nSie haben das Thema Energieeffizienz angesprochen – ein klassisches Innovationsfeld, vom Handwerk seit vielen Jahren hochgehalten. Die steuerliche Vergünstigung will ich heute nicht wieder aufrufen. – \"Ja, doch\", sagt Herr Schwannecke. Ja, klar. – Ich will Ihnen nur sagen, wir werden im Herbst noch einmal Aktivitäten zur Energieeffizienz entfalten. Wir müssen hierbei auch unsere europäischen Hausaufgaben machen. Das Thema Gebäudesanierung wird in diesem Zusammenhang eine große Rolle spielen. Wir werden auch das KfW-Programm zur energetischen Gebäudesanierung – im Rahmen des finanziell Machbaren; das sage ich gleich dazu – ausbauen. Wir sehen, dass wir hierbei Nachholbedarf haben. Wir schätzen Ihre Leistungen sehr hoch ein, insbesondere das, was Sie im Baubereich an energie- und ressourcensparenden Konzepten vorlegen, was Sie mit neuen Materialien, mit neuen Technologien im Heizbereich und in vielen anderen Bereichen für mehr Nachhaltigkeit tun. Hierzu gibt es auch die \"Forschungsinitiative Zukunft Bau\". Damit bündeln wir die Gewinnung neuer Erkenntnisse rund um energieeffizientes und nachhaltiges Bauen.\\nWir freuen uns, dass im öffentlichen und im privaten Bau insgesamt kräftig investiert wird. Die Bundesregierung rechnet mit einem Anstieg der realen Bauinvestitionen in Höhe von vier Prozent im Jahr 2014, der also deutlich über dem allgemeinen Wirtschaftswachstum liegt. Die Voraussetzungen für eine solche Konjunkturentwicklung sind gut. Die Realeinkommen sind gestiegen. Die Zinsen bewegen sich auf einem historischen Tiefstand; das hat durchaus Licht und Schatten, aber in diesem Bereich hat es eben auch günstige konjunkturelle Auswirkungen. Die Finanzlage hat sich zwar nicht in allen, aber in vielen Kommunen deutlich verbessert, was auch damit zu tun hat, dass die Bundesregierung die Kommunen ganz bewusst fördert – sei es durch die Übernahme der Grundsicherung, sei es durch Zuschüsse, die im Bereich Wiedereingliederung von Behinderten gegeben werden. Damit werden wir unserer Verantwortung gerecht.\\nWir haben in vielen Städten Bedarf an neuem Wohnraum. Aber es ist auch anderer Wohnraum gefragt. Auch darauf müssen wir reagieren. Wir sind ein Land im demografischen Wandel. Altersgerechtes Umbauen ist sehr wichtig. Es wird in Zukunft darauf ankommen, bei Sanierungen die Dinge möglichst zusammenzudenken – altersgerechter Wohnraum und gleichzeitig energieeffizienter Wohnraum –, also nicht darauf, dass man zwei Sanierungswellen initiieren muss, zunächst eine zur Verbesserung der Energieeffizienz und erst anschließend eine zur Umsetzung von altersgerechtem Bauen. Hierzu bedarf es vernünftiger Anreize und Zuschüsse. Zur Zuschussförderung von altersgerechtem Umbauen wird auch ein neues KfW-Programm eingeführt. Wir werden darauf achten, dass sich die KfW-Programme vernünftig ergänzen.\\nDie Verkehrsanbindung ist natürlich auch ein zentrales Thema. In einigen Teilen Deutschlands leben wir von der Substanz. Deshalb wird auch die Frage der Nutzerfinanzierung eine Rolle spielen. Wir weiten die Lkw-Maut in einem ersten Schritt auf die vierstreifigen Bundesstraßen und später dann auf die Bundesstraßen insgesamt aus. Dabei sollen auch die Luftverschmutzungskosten berücksichtigt und Anreize gesetzt werden, sich schadstoffarme Lkw zuzulegen. Und wir arbeiten an einem Gesetzentwurf, wie Sie wissen, zur Einführung einer Pkw-Maut, die inländische Autofahrer nicht zusätzlich belasten, aber ausländische Autofahrer einbeziehen wird. Das Ganze muss europarechtlich kompatibel ausgestaltet werden. Wir sind, glaube ich, auf einem vernünftigen Weg.\\nVerkehrsinfrastruktur und Gebäudesanierung sind zwei Investitionsbereiche. Mit dem Energiebereich befassen wir uns auch bereits sehr intensiv. Natürlich sind da neue Netze dringend notwendig. Darauf will ich heute aber nicht vertieft eingehen, sondern stattdessen ein Wort zur Versorgung mit Breitbandanschlüssen im ländlichen Raum sagen, die sich noch als ein riesiges Problem, das uns unter den Nägeln brennt, darstellt. Wir haben jetzt flächendeckend einen Zugang zum Internet mit einem Megabit pro Sekunde. Aber wenn Sie bewegte Bilder brauchen, kommen Sie mit diesem einen Megabit nicht weit. Deshalb ist es wichtig, ja unabdingbar, dass wir unser Ziel erreichen, bis 2018 überall, also für jeden Haushalt, eine Breitbandanbindung mit mindestens 50 Megabit zu haben – je schneller, desto besser. Ich kann gut verstehen, dass ein Drittel Ihrer Betriebe sagt: Wir sind mit den Anbindungen bis heute nicht zufrieden.\\nEs wird darauf ankommen, die Investitionsanreize richtig zu setzen. Es ist klar: Der Run auf die Ballungsgebiete ist groß; es gibt mehrere Anbieter. Daher ist das Thema Verfügbarkeit von schnellem Internet da kaum mehr ein Thema oder wird es in Kürze nicht mehr sein. Doch wie schafft man es, private Investitionen so zu gestalten, dass auch die ländlichen Gebiete erschlossen werden? Daher machen wir uns Gedanken über eine vernünftige Regulierung, damit Investitionen in allen Bereichen erfolgen können.\\nIch bin sehr froh – ich will das hier ausdrücklich sagen –, dass Günther Oettinger das Ressort Digitalisierung in Europa bekommen hat. Denn für ein Industrieland wie Deutschland mit über 20 Prozent Wertschöpfung im industriellen Bereich ist die Frage \"Wie schnell schaffen wir die Kombination von Handwerk, Mittelstand, Industrie insgesamt und Digitalisierung?\" sehr wichtig. Da müssten europäische Rahmenbedingungen mit dem zusammenspielen, was wir in Deutschland machen. Insofern ist das ein Ressort, das uns geradezu auf den Leib geschneidert ist. Er hat auch eine sehr gute Kompetenzstruktur. Denn bisher hat Europa daran gekrankt, dass auf der einen Seite die digitale Agenda von Kommissarin Kroes und auf der anderen Seite der gesamte Verbraucheraspekt von Kommissarin Reding bearbeitet wurde, was regelmäßig dazu geführt hat, dass man sich zwar um niedrige Preise für die Nutzer gekümmert hat, aber zu wenig um die Frage: Wie viel Kapital ist überhaupt noch für Investitionen in die Zukunft verfügbar? Wenn beides jetzt aus einer Hand gesteuert werden kann, setzen wir sehr große Erwartungen darauf, dass auch der Investitionsaspekt eine viel größere Rolle spielen wird.\\nIm Vergleich stellen wir fest: Die großen Unternehmen der Telekommunikation in Amerika und Asien haben sehr viel mehr Investitionskapazitäten als die europäischen Unternehmen. Der europäische Markt ist zudem viel zu zersplittert, als dass wir hier wirklich schlagkräftige Weltchampions werden können. Wir müssen also auch schauen, was wir in Europa im Wettbewerbsrecht machen können.\\nSie sehen also, wir mühen uns mit der digitalen Agenda, sowohl in den Bereichen Breitbandausbau und digitale Wirtschaft als auch im Bereich Datensicherheit die richtigen Angebote zu machen. Ich denke, auch im Handwerk spielt das Thema Sicherheit der Daten eine große Rolle. Wir brauchen ein vernünftiges Cloud-Management; wir brauchen Angebote, bei denen sich Ihre Unternehmen sicher fühlen. Wir werden sehr schnell dazu kommen müssen, das Management von großen Datenmengen – Big Data als Stichwort – in Europa möglichst vernünftig zu gestalten, also die richtige Balance von Sicherheit und Freiheit zu finden. Denn die zukünftige Wertschöpfung – das werden Sie sehen, wenn Sie mehr und mehr Betriebe haben, die sich im Internet der Dinge tummeln – wird vor allem auch aus der Interaktion der Maschinen erfolgen. Es werden Datenmengen entstehen, die wieder zu neuen Produkten führen. Wenn man in dieser Phase der Verschmelzung von digitalem Wirtschaften und realem Wirtschaften nicht mit dabei ist, kann Europa stark ins Hintertreffen geraten. Allerdings haben wir eine gute realwirtschaftliche Ausgangsbasis, um Zukunft mit schreiben zu können. Die nächsten Jahre sind aus meiner Sicht für die weitere Zukunft europäischer Wirtschaftsstärke absolut entscheidend.\\nMeine Damen und Herren, ich bin dankbar dafür, dass Herr Wollseifer gesagt hat: Es ist richtig, dass wir einen ausgeglichen Haushalt haben. Wir haben dieses Jahr einen strukturell ausgeglichenen Haushalt. Unser Anspruch ist, nächstes Jahr eine schwarze Null zu schreiben. Manchmal wird das, kaum dass es realisierbar erscheint, gleich wieder ein bisschen kleingeredet. Ein Land, das wie Deutschland einen demografischen Wandel hat, das in den nächsten Jahren erfreulicherweise mehr Menschen mit höherem Lebensalter, aber auch sehr viel weniger junge Menschen haben wird – mit all den Problemen, die damit verbunden sind –, muss dafür Sorge tragen, dass der Schuldenberg nicht immer weiter wächst. Wir machen derzeit nichts weiter – wir bauen ja noch keine Schulden ab –, als dafür zu sorgen, dass keine neuen Schulden hinzukommen. Wir sind jetzt – es wurde auch heute wieder veröffentlicht – bei über zwei Billionen Euro Schulden. Deshalb ist der beste Beitrag zur Generationengerechtigkeit, wenn wir unseren jungen Leuten sagen: Wir geben euch die Zusicherung, dass der Schuldenberg wenigstens nicht weiter wächst. Deshalb wird die Bundesregierung hierfür auch weiter eintreten und dies als wirklich wichtigen Beitrag benennen.\\nSteuerpolitisch, haben Sie gesagt, bleibt die Eindämmung der kalten Progression auf der Agenda. Das ist ein Thema, bei dem es überhaupt keine sachlichen Unterschiede, weder zwischen den Sozialdemokraten noch der CDU und der CSU, gibt. Wir können es aber erst ins Auge fassen, wenn wir auch wirklich sicher sind, dass der ausgeglichene Haushalt damit nicht infrage gestellt wird. Da bitte ich um Verständnis.\\nIch bin auf Ihrer Seite, wenn es um die Frage der Erbschaftsteuer geht und wir mit Interesse auf das Bundesverfassungsgericht schauen. Wir erinnern uns an die langen Diskussionen, als wir damals in der ersten Großen Koalition, die ich geführt habe, alles darangesetzt haben, den Übergang von Betrieben von einer Generation auf die andere möglichst attraktiv zu gestalten. Das ist für die Zukunft der Familienunternehmen und der Kultur der Selbständigkeit essenziell. Deshalb hat die Bundesregierung beim Bundesverfassungsgericht auch sehr deutlich gemacht, dass wir die Regelung der Erbschaftsteuer für richtig halten. Jetzt warten wir mit dem gebotenen Respekt dessen Beurteilung ab.\\nMeine Damen und Herren, Sie haben es am Anfang gesagt, Herr Wollseifer: \"Die Welt war noch nie so unfertig.\" Ihr Motto spricht nicht nur für das, was im Internet der Dinge, in der Digitalisierung usw. vor allem auch von jungen Menschen heute gemacht werden kann, sondern es spricht auch die geopolitische Lage und die damit verbundenen erheblichen Risiken an – Herausforderungen, denen wir uns um unserer eigenen Sicherheit willen stellen müssen, wenn ich zum Beispiel an die Terrororganisation Islamischer Staat denke. Wir sehen gerade bei so einer Herausforderung, dass man nicht sagen kann: Ach, das ist doch weit weg von uns. Im Gegenteil, wir müssen sehen, dass ein beträchtlicher Teil der Kämpfer bei der Organisation Islamischer Staat aus europäischen Ländern und eben auch aus Deutschland kommt. Deshalb sind auch wir gefordert, den Kampf gegen diese Terrororganisation zu unterstützen. Wir haben sowohl mit humanitären Hilfen als auch mit Waffenlieferungen reagiert.\\nWir haben Auseinandersetzungen mit Russland über die Frage: Darf ein Land wie die Ukraine frei darüber entscheiden, in welchen Bindungen es zur Europäischen Union und zu Russland leben möchte? Wir haben in den vergangenen Monaten bittere Erfahrungen machen müssen. Aber ich glaube, unsere Doppelstrategie ist richtig, einerseits Verletzungen des Völkerrechts mit Wirtschaftssanktionen zu beantworten und gleichzeitig zu sagen, dass militärisches Eingreifen für uns nicht in Betracht kommt, da es aus unserer Sicht keine militärische Lösung dieses Konflikts geben kann, und andererseits die Tür für Gespräche immer offen zu halten, um vernünftige Lösungen zu finden. Diesen Weg wird die Bundesregierung weitergehen. Solche Probleme hätten wir lieber nicht; das ist gar keine Frage. Aber die Welt ist so, wie sie ist; wir müssen die Probleme lösen, die sich ergeben.\\nWir haben nicht nur Verhandlungen über Freihandelsabkommen zwischen der Ukraine, Georgien oder Moldau und der Europäischen Union. Die Europäische Union führt eine Vielzahl von Freihandelsverhandlungen, im Augenblick zum Beispiel mit Japan. Die mit Südkorea sind schon abgeschlossen, die mit Indien sind es noch nicht. Ich will darauf hinweisen, dass wir auch mit lateinamerikanischen Ländern bereits Handelsabkommen haben, zum Beispiel mit Peru und Kolumbien. Wir sind in der Endphase, was ein Freihandelsabkommen mit Kanada anbelangt. Und besonders intensiv diskutiert wird über ein Freihandelsabkommen mit den Vereinigten Staaten von Amerika – TTIP.\\nIch kann auch angesichts der hohen Arbeitslosigkeit in Europa nur sagen: Ein Freihandel zwischen den beiden großen Wirtschaftsräumen der Welt, den Vereinigten Staaten von Amerika und dem europäischen Binnenmarkt, ist von unschätzbarem Wert. Für mich ist klar, dass die Vorteile die vermeintlichen Nachteile weit übersteigen werden. Aber wir sagen den Menschen auch: Rote Linien werden nicht überschritten. All das, was da an Horror- und Schreckensszenarien ausgebreitet wird, wird es nicht geben. Weder wird das Chlorhühnchen Einzug halten noch werden in Zukunft gentechnisch veränderte Lebensmittel in die Europäische Union importiert werden können.\\nAber Sie alle wissen, wenn man sich zum Beispiel den gesamten Kfz-Bereich anschaut, was wir teilweise an Zollhandelshemmnissen, aber auch an nichttarifären Handelshemmnissen haben. Alle Tests zur Zulassung von Beleuchtungen, Bremsen, Sicherheitsapparaturen usw. werden doppelt und dreifach durchgeführt. Das kostet und bindet unendlich viel Kapital, das man stattdessen in Forschung und Innovation investieren könnte. Wir wissen doch, in welch intensivem Wettbewerbsfeld wir uns international befinden. Wenn zum Beispiel heute der Börsengang von Alibaba stattfindet, dann zeigt sich doch, dass die Welt nicht schläft, dass große chinesische Unternehmen inzwischen Global Player sind.\\nWir haben allen Anlass, wenn wir unseren sozialen Wohlstand erhalten wollen, so viel wie möglich zu tun, um Innovationen und Investitionen in die Zukunft möglich zu machen. Deshalb war und ist es richtig, dass der Bundeswirtschaftsminister einen Beirat zusammengestellt hat, in dem auch gesellschaftliche Gruppen an den Verhandlungen beteiligt und informiert werden, in dem Transparenz – soweit man das kann, ohne seine eigenen Verhandlungspositionen zu schwächen – angewandt wird. Und ich bitte Sie, uns auch hierbei zu unterstützen und zu sagen: Alles, was der Wirtschaft dient, ist sinnvoll – immer auch im Auge habend, dass wir weder Verbraucherschutz noch Umweltschutz abschwächen wollen und da unsere roten Linien liegen.\\n\"Die Welt war noch nie so unfertig\" – ein Motto, das von mir als Bundeskanzlerin sofort übernommen werden könnte, aber ich will ja keinen Plagiatsverdacht erzeugen. Insofern: Führen Sie Ihre Kampagne weiter; und ich werde dieses Motto nur auf Ihrem Handwerkstag nutzen und es ansonsten verinnerlichen. Machen wir sie besser, diese Welt. Stellen wir uns dem internationalen und nationalen Wettbewerb. Danke dafür, dass Sie dies jeden Tag mit Ihren Produkten und Leistungen tun. Danke dafür, dass Sie jeden Tag daran arbeiten, Menschen Arbeit und Beschäftigung zu geben. Und ganz besonders danke ich dafür, dass Sie die junge Generation so ins Herz geschlossen haben und sie fit machen für eine Welt, die hoffentlich friedlicher sowie offener und demokratischer wird. Herzlichen Dank und alles Gute.                                                                                                                                                                                                                                                                                                                                                                                                                                                                                                                                                                                                                                                                                                                                                                                                                                                                                                                                                                                                                                                                                                                                                                                                                                                                                                                                                                                                                                                                                                                                                                                                                                                                                                                                                                                                                                                                                                                                                                                                                                                                                                                                                                                                                                                                                                                                                                                                                                                                                                                                                                                                                                                                                                                                                                                                                                                                                                                                                                                                                                                                                                                                                                                                                                                                                                                                                                                                                                                                                                                                                                                                                                                                                                                                                                                                                                                                                                                                                                                                                                                                                                                                                                                                                                                                                                                                                                                                                                                                                                                                                                                                                                                                                                                                                                                                                                                                                                                                                                                                                                                                                                                                                                                                                                                                                                                                                                                                                                                                                                                                                                                                                                                                                                                                                                                                                                                                                                                                                                                                                                                                                                                                                                                                                                                                                                                                                                                                                                                                                                                                                                                                                                                                                                                                                                                                                                                                                                                                                                                                                                                                                                                                                                                                                                                                                                                                                                                                                                                                                                                                                                                                                                                                                                                                                                                                                                                                                                                                                                                                                                                                                                                                                                                                                                                                                                                                                                                                                                                                                                                                                                                                                                                                                                                                                                                                                                                                                                                                                                                                                                                                                                                                                                                                                                                                                                                                                                                                                                                                                                                                                                                                                                                                                                                                                                                                                                                                                                                                                                                                                                                                                                                                                                                                                                                                                                                                                                                                                                                                                                                                                                                                                                                                                                                                                                                                                                                                                                                                                                                                                                                                                                                                                                                                                                                                                                                                                                                                                                                                                                                                                                                                                                                                                                                                                                                                                                                                                                                                                                                                                                                                                                                                                                                                                                                                                                                                                                                                                                                                                                                                                                                                                                                                                                                                                                                                                                                                                                                                                                                                                                                                                                                                                                                                                                                                                                                                                                                                                                                                                                                                                                                                                                                                                                                                                                                                                                                                                                                                                                                                                                                                                                                                                                                                                                                                                                                                                                                                                                                                                                                                                                                                                                                                                                                                                                                                                                                                                                                                                                                                                                                                                                                                                                                                                                                                                                                                                                                                                                                                                                                                                                                                                                                                                                                                                                                                                                                                                                                                                                                                                                                                                                                                                                                                                                                                                                                                                                                                                                                                                                                                                                                                                                                                                                                                                                                                                                                                                                                                                                                                                                                                                                                                                                                                                                                                                                                                                                                                                                                                                                                                                                                                                                                                                                                                                                                                                                                                                                                                                                                                                                                                                                                                                                                                                                                                                                                                                                                                                                                                                                                                                                                                                                                                                                                                                                                                                                                                                                                                                                                                                                                                                                                                                                                                                                                                                                                                                                                                                                                                                                                                                                                                                                                                                                                                                                                                                                                                                                                                                                                                                                                                                                                                                                                                                                                                                                                                              \n",
       "1840  Herr Präsident! Liebe Kolleginnen und Kollegen! Meine sehr geehrten Damen und Herren! Angesichts der aktuellen Ereignisse lassen Sie mich bitte zu Beginn einige Worte zur Lage in der Ukraine sagen. Durch den Druck der Demonstrationen werden jetzt ganz offensichtlich ernsthafte Gespräche zwischen dem Präsidenten und der Opposition über notwendige politische Reformen möglich. Der Bundesaußenminister, das Kanzleramt und die deutsche Botschaft in Kiew unterstützen die Bemühungen um eine friedliche Lösung des Konflikts und die berechtigten Anliegen der Opposition mit allen uns zur Verfügung stehenden Mitteln. Wir stehen dazu auch in engem Kontakt mit der Hohen Beauftragten Lady Ashton und werden unsere Bemühungen in den nächsten Stunden und Tagen fortsetzen.\\nViele Menschen in der Ukraine haben seit dem EU-Gipfel zur Östlichen Partnerschaft Ende November in Vilnius in mutigen Demonstrationen gezeigt, dass sie nicht gewillt sind, sich von Europa abzukehren.\\nIm Gegenteil: Sie setzen sich für die gleichen Werte ein, die auch uns in der Europäischen Union leiten, und deshalb müssen sie Gehör finden.\\nUnverändert gilt, dass die Tür für die Unterzeichnung des EU-Assoziierungsabkommens durch die Ukraine weiter offen steht. Und unverändert gilt, dass die Gefahr eines Entweder-oder im Hinblick auf das Verhältnis der Länder der Östlichen Partnerschaft zu Europa oder zu Russland überwunden werden muss und – davon bin ich überzeugt – in geduldigen Verhandlungen auch überwunden werden kann. Genau dies haben auch der EU-Ratspräsident Van Rompuy und EU-Kommissionspräsident Barroso gestern beim EU-Russland-Gipfel gegenüber dem russischen Präsidenten Putin noch einmal zum Ausdruck gebracht. Auch die Bundesregierung wird dies gegenüber Russland unvermindert zum Ausdruck bringen, zum Wohle aller in der Region.\\nMeine Damen und Herren, bevor wir nun auf die nächsten Jahre schauen, sollten wir kurz zurückblicken: auf den Beginn dieses Jahrhunderts. Damals galt Deutschland als der kranke Mann Europas. Die soziale Marktwirtschaft, die unser Land im 20. Jahrhundert nachhaltig geprägt hat, wurde national wie international fast schon als Auslaufmodell angesehen. Manche meinten, dass unsere Wirtschafts- und Sozialordnung zu behäbig, zu altmodisch für die Anforderungen der Globalisierung im 21. Jahrhundert geworden sei. Und heute, zehn Jahre später? Heute können wir feststellen: Deutschland geht es so gut wie lange nicht. Die Wirtschaft wächst, die Beschäftigung ist auf dem höchsten Niveau seit der Wiedervereinigung, die Menschen schauen so optimistisch in die Zukunft wie seit dem Fall der Mauer nicht mehr, und von der sozialen Marktwirtschaft als Auslaufmodell spricht keiner mehr, von Deutschland als krankem Mann Europas erst recht nicht.\\nIm Gegenteil: Deutschland ist Wachstumsmotor in Europa, Deutschland ist Stabilitätsanker in Europa. Wir sind rascher und stärker aus der weltweiten Wirtschafts- und Finanzkrise herausgekommen als andere. Wir tragen maßgeblich dazu bei, dass die europäische Staatsschuldenkrise überwunden werden kann. Für diese Erfolgsgeschichte ist das Zusammenspiel der Sozialpartner ganz entscheidend, das Zusammenspiel der Arbeitgeber und der Gewerkschaften, das unserem Land gemeinsam mit klugen politischen Entscheidungen die Stabilität und Stärke gibt, die heute notwendig sind. Sie sind notwendig, wenn wir den Anspruch haben, nicht einfach irgendwie die Krisen und Herausforderungen unserer Zeit zu meistern, sondern so, dass sich die Werte und Interessen Deutschlands und Europas auch in Zukunft im harten weltweiten Wettbewerb behaupten können. Ich habe diesen Anspruch, die Regierung der Großen Koalition hat diesen Anspruch.\\nWir haben den Anspruch, nicht einfach irgendwie aus den weltweiten und europäischen Finanz- und Schuldenkrisen herauszukommen, sondern stärker, als wir in sie hineingegangen sind. Wir haben den Anspruch, nicht einfach irgendwie mit den großen Herausforderungen unserer Zeit beim Schutz unseres Klimas, beim Zugang zu Energie oder beim Kampf gegen die asymmetrischen Bedrohungen fertigzuwerden, sondern so, dass wir unseren Werten und unseren Interessen gerecht werden.\\nDas, liebe Kolleginnen und Kollegen, ist wichtiger denn je. Längst hat die Globalisierung unsere Welt auch im Kleinen erfasst. Heute leben über 7 Milliarden Menschen auf der Erde. Sie alle wollen am Wohlstand teilhaben. Als Exportnation sind wir auf vielfältige Weise mit anderen Nationen verflochten. Niemand kann sich mehr darauf beschränken, nur seine eigenen Belange im Blick zu haben, und wenn er es doch tut, dann schadet er über kurz oder lang sich selbst.\\nIn den 50er-Jahren hatte nur 1 Prozent der Weltbevölkerung eine Lebenserwartung von über 70 Jahren. Heute wird über die Hälfte aller Menschen über 70 Jahre alt. Schon diese eine Zahl gibt uns eine Ahnung vom Ausmaß der demografischen Entwicklung, mit der ja auch gerade Deutschland umzugehen lernen muss.\\nDie digitalen Möglichkeiten und das Internet verändern unser Leben rasant. Sie schaffen schier unendliche Kommunikations- und Informationsformen, haben aber auch eine kaum absehbare Wirkung auf den Schutz dessen, was privat und persönlich sein und bleiben sollte.\\nEs versteht sich von selbst: Mit der globalen und digitalen Dynamik unserer Zeit müssen wir Schritt halten. Mehr noch: Ein Land wie Deutschland, größte und stärkste Volkswirtschaft Europas, muss an ihrer Spitze stehen und auch stehen wollen, und zwar nicht um uns ihr zu unterwerfen, sondern um die Chancen erkennen und auch nutzen zu können, die ohne jeden Zweifel in ihr stecken. Das gilt für unsere Forscher und Entwickler, das gilt für unser Bildungssystem, das gilt für unsere Unternehmen und Arbeitnehmer, und das gilt für unsere Art der Energieversorgung.\\nMit dieser Dynamik Schritt zu halten, an der Spitze der Entwicklung zu stehen, das ist eine der großen politischen wie ethischen Gestaltungsaufgaben unserer Generation. Sie kann nur mit einem Kompass gelingen. Dieser Kompass ist die soziale Marktwirtschaft, weil sie immer mehr war als eine Wirtschaftsordnung, weil sie als Wirtschafts- und Sozialordnung wirtschaftliche Kraft und sozialen Ausgleich miteinander verbindet. Die soziale Marktwirtschaft ist unser Kompass, weil ihre Prinzipien zeitlos gültig sind und sie doch mit der Zeit gehen und weiterentwickelt werden können, wie dies mit der ökologischen und der internationalen Dimension unseres Lebens gelungen ist.\\nDie soziale Marktwirtschaft ist unser Kompass, weil sie wie keine zweite Wirtschafts- und Sozialordnung den Menschen in den Mittelpunkt stellt. Genau darum hat es zu gehen: um den Menschen im Mittelpunkt unseres Handelns.\\nDas leitet mich seit meinem Amtsantritt im November 2005 in meinem Verständnis als Kanzlerin aller Deutschen und aller in Deutschland lebenden Menschen, gleich welcher Herkunft, das leitet mich auch in Zukunft, und das leitet die Regierung der Großen Koalition von CDU, CSU und SPD.\\nEine Politik, die nicht den Staat, nicht Verbände, nicht Partikularinteressen, sondern den Menschen in den Mittelpunkt ihres Handelns stellt, eine solche Politik kann die Grundlagen für ein gutes Leben in Deutschland und Europa schaffen.\\nDie Quellen des guten Lebens sind Freiheit, Rechtsstaatlichkeit, politische Stabilität, wirtschaftliche Stärke und Gerechtigkeit. Die Regierung der Großen Koalition will die Quellen des guten Lebens allen zugänglich machen, das bedeutet, allen bestmögliche Chancen zu eröffnen.\\nIm Zweifel handeln wir für den Menschen. Bei jeder Abwägung von großen und kleinen Interessen, bei jedem Ermessen: Die Entscheidung fällt für den Menschen.\\nSo dienen wir den Menschen und unserem Land. Wir gestalten Deutschlands Zukunft – um es mit dem ebenso einfachen wie klaren Motto des Koalitionsvertrages von CDU, CSU und SPD zu sagen.\\nDabei setzen wir erstens auf solide Finanzen, zweitens auf Investitionen in die Zukunft unseres Landes, drittens auf die Stärkung unseres gesellschaftlichen Zusammenhalts, viertens auf die Fähigkeit Deutschlands, Verantwortung in Europa und der Welt zu übernehmen. Diese vier Punkte sind nicht hierarchisch gegliedert. Sie stehen gleichrangig nebeneinander. Ohne solide Finanzen könnten wir keine Zukunft gestalten. Ohne gezielte Investitionen in die Zukunft unseres Landes bliebe Sparen Selbstzweck. Ohne die Stärkung unseres gesellschaftlichen Zusammenhalts ginge unserem Land vieles von seiner sozialen Stabilität verloren, die ja gerade ein Garant unseres wirtschaftlichen Erfolgs ist. Ohne die Fähigkeit Deutschlands, Verantwortung in Europa und der Welt zu übernehmen, schadeten wir unseren Partnern wie uns selbst, unseren Werten und Interessen, wir schadeten uns politisch und ökonomisch.\\nEs ist doch gerade erst etwas mehr als fünf Jahre her, dass wir erlebt haben, wohin die verantwortungslosen Exzesse der Märkte, Überschuldung und eine mangelhafte Regulierung der internationalen Finanzmärkte führen können. Wir haben erlebt, dass dies mit einem Schlag gravierende Auswirkungen auf alle Staaten dieser Erde hatte, auch auf Deutschland. Wir mussten damals einen der schlimmsten Wirtschaftseinbrüche, den schlimmsten Wirtschaftseinbruch in der Geschichte der Bundesrepublik Deutschland, verkraften. Es ist das bleibende Verdienst der damaligen Koalition von CDU, CSU und SPD, Deutschland 2009 gemeinsam mit den Sozialpartnern so rasch, so erfolgreich durch diese Krise geführt zu haben.\\nEinen nachhaltigen Erfolg kann Deutschland aber nicht alleine haben. Eine Politik, die den Menschen in den Mittelpunkt ihres Handelns stellt, setzt deshalb alles daran, dass alle, dass die ganze Welt die Lektionen aus dieser damaligen Krise lernt. Eine davon ist und bleibt: Kein Finanzmarktakteur, kein Finanzprodukt und kein Finanzplatz darf ohne angemessene Regulierung bleiben; Finanzakteure müssen durch die Finanztransaktionsteuer zur Verantwortung gezogen werden.\\nAuch in der internationalen sozialen Marktwirtschaft ist nämlich der Staat der Hüter der Ordnung. Deutschland übernimmt Verantwortung in Europa und der Welt, damit sich genau diese Einsicht, dass der Staat Hüter der Ordnung ist, durchsetzen kann.\\nDazu sind Fortschritte bei der Regulierung der Finanzmärkte unverzichtbar, und zwar Fortschritte, die diesen Namen auch wirklich verdienen, wenn wir das Versprechen einhalten wollen, das wir den Menschen gegeben haben. Das ist das Versprechen, dass sich eine solch verheerende weltweite Finanzkrise nicht wiederholen darf. Das bedeutet, in einem Satz gesagt: Wer ein Risiko eingeht, der haftet auch für die Verluste, und nicht mehr der Steuerzahler.\\nManches ist erreicht. Vieles ist zu tun. Deshalb sind die Regelungen für eine Bankenunion in Europa so wichtig; denn bei der Sanierung und Abwicklung von Banken hat für uns die Einhaltung einer klaren Haftungskaskade eine zentrale Bedeutung.\\nMeine Damen und Herren, wir alle müssen verstehen, dass es mehr denn je nicht mehr ausreicht, nur auf die eigene Kraft und Stärke zu setzen. Konkret heißt das: Auch Deutschland ist auf Dauer nur stark, wenn auch Europa stark ist; auch Deutschland geht es auf Dauer nur gut, wenn es auch Europa gut geht. Doch ich kann uns auch heute nicht ersparen, darauf hinzuweisen: Auch wenn die europäische Staatsschuldenkrise nicht mehr täglich die Schlagzeilen bestimmt, müssen wir doch sehen, dass sie allenfalls unter Kontrolle ist. Dauerhaft und nachhaltig überwunden ist sie damit noch nicht. Wir haben zwar eine Wirtschafts- und Währungsunion, in der nationale Entscheidungen jeweils Auswirkungen auf alle anderen Mitgliedstaaten der Währungsunion haben, aber wir haben auch eine Währungsunion, deren wirtschaftspolitische Koordinierung nach wie vor überaus mangelhaft gestaltet ist. Ohne entscheidende Fortschritte, ohne einen Quantensprung hier werden wir die europäische Staatsschuldenkrise nicht überwinden. Wir werden vielleicht irgendwie mit ihr zu leben lernen, aber unseren Platz an der Spitze der globalen Entwicklung werden wir so nicht halten können. So werden wir nicht stärker aus der Krise herauskommen, als wir in sie hineingegangen sind. Doch nur das kann Europas Anspruch sein: nach der Krise stärker zu sein als vor der Krise; und weil das so ist, dürfen wir der trügerischen Ruhe jetzt nicht trauen. Ja, es ist wahr: Europa ist auf dem Weg zu Stabilität und Wachstum bereits ein gutes Stück vorangekommen. Wahr ist aber auch, dass wir uns unvermindert anstrengen müssen, um Vorsorge für die Zukunft zu treffen.\\nDafür müssen wir die Wirtschafts- und Währungsunion vertiefen und damit das nachholen, was bei ihrer Gründung versäumt wurde: der Währungsunion eine echte Wirtschaftsunion zur Seite zu stellen.\\nHierfür müssen wir auch die europäischen Institutionen stärken. In einer echten Wirtschaftsunion werden wir um ein Mehr an Verbindlichkeit nicht herumkommen. Ich bin überzeugt: Dazu müssen auch die EU-Verträge weiterentwickelt werden.\\nDas Ziel ist ein Europa, das seine Kräfte bündelt und das sich auf die großen Herausforderungen konzentriert. Alle europäischen Politiken, die Energie- und Klimapolitik, die Gestaltung des Binnenmarktes, die Außenhandelsbeziehungen, müssen sich daran messen lassen, ob sie zur Stärkung der europäischen Wirtschaftskraft und damit auch zu Wohlstand und Beschäftigung beitragen oder nicht. Denn sie bilden zusammen mit den nationalen Reformanstrengungen die Grundlage, um neues Wachstum und dauerhafte Beschäftigung für die Bürgerinnen und Bürger Europas zu schaffen.\\nAuch die europäische Politik muss den Menschen in den Mittelpunkt des Handelns stellen. Sie soll den Alltag der Menschen einfacher machen und nicht schwerer. Sie soll die Rahmenbedingungen für Engagement, Eigeninitiative und Unternehmertum verbessern und nicht beeinträchtigen. Deshalb muss gelten: Wer Europa will und wer will, dass es Europa gut geht, der muss bereit sein, Europa stabiler, bürgernäher, stärker, einiger und gerechter zu machen, und der muss natürlich zu Hause seine Hausaufgaben machen.\\nDeutschland macht seine Hausaufgaben. Der Bund hat bereits seit 2012 – und damit früher als vorgesehen – die Vorgaben der Schuldenbremse eingehalten. Für 2014 ist ein strukturell ausgeglichener Haushalt vorgesehen. Ab 2015 wollen wir ganz ohne Nettoneuverschuldung auskommen. Solch ein Ende der Neuverschuldung nach Jahrzehnten, in denen wir geradezu selbstverständlich Jahr für Jahr immer neue Schulden gemacht haben, ist nicht nur Ausdruck solider Finanzen, es ist vielmehr ein zentrales Gebot der Gerechtigkeit und damit gelebte soziale Marktwirtschaft.\\nDas ist nur zu schaffen, wenn wir bei unseren Ausgaben klare Prioritäten setzen und konsequent in die Zukunft investieren. Wir müssen uns dabei immer wieder vor Augen führen, dass die Bürgerinnen und Bürger unseres Landes unser Gemeinwesen nur dann akzeptieren, wenn sie sich auch vor Ort auf funktionierende Strukturen verlassen können. Deshalb entlastet der Bund die Kommunen auch in Zukunft: in diesem Jahr, indem er nunmehr vollständig die Grundsicherung für ältere Menschen übernimmt, und in den Folgejahren, indem er sich schrittweise an der Eingliederungshilfe bis zu einer Höhe von 5 Milliarden Euro beteiligt.\\nDie Gespräche mit den Ländern in den Koalitionsverhandlungen haben im Übrigen einmal mehr deutlich gemacht, dass die Bund-Länder-Finanzbeziehungen ganz grundsätzlich einer Neuordnung bedürfen, und zwar verbunden mit einer klaren Aufgabenzuordnung an Bund, Länder und Kommunen.\\nDie Bundesregierung wird bis zum Sommer einen Vorschlag machen, wie die dazu notwendigen Gespräche geführt werden können.\\nMeine Damen und Herren, dass unsere Haushaltslage so gut ist, verdanken wir natürlich ganz entscheidend auch der guten wirtschaftlichen Entwicklung und den Millionen Beschäftigten, Selbstständigen und Unternehmen, die zu dieser wirtschaftlichen Entwicklung beigetragen haben. Das hat zu einem neuen Rekord an Steuereinnahmen geführt. Auch deshalb ist die Politik es den Menschen schuldig, zu zeigen, dass wir mit dem auskommen, was wir einnehmen, und dass wir keine Steuern erhöhen oder neue einführen.\\nTrotz aller Erfolge dürfen wir aber unsere Hände nicht in den Schoß legen.\\nDenn unser Land braucht auch in Zukunft eine starke Wirtschaft und eine hohe Beschäftigungsrate. Dafür schafft die Regierung der Großen Koalition die notwendigen Voraussetzungen, zum Beispiel indem wir die Struktur der Bundesregierung an einer zentralen Stelle verändert haben: Wir haben die Kompetenzen von Wirtschaft und Energie in einem Ministerium gebündelt. Wir haben uns dazu entschieden, weil wir überzeugt sind, dass unser Wohlstand nur mit einem starken industriellen Fundament aus großen und mittelständischen Unternehmen gesichert werden kann, dessen unabdingbare Voraussetzung eine umweltfreundliche, sichere und bezahlbare Energieversorgung ist – für unsere Unternehmen genauso wie für die Bürgerinnen und Bürger.\\nDeutschland hat den Weg der Energiewende eingeschlagen. Deutschland hat sich entschieden, eine Abkehr vom jahrzehntelangen Energiemix – einem Energiemix aus vornehmlich fossilen Energieträgern und Kernenergie – zu vollziehen. Es gibt kein weiteres vergleichbares Land auf dieser Welt, das eine solch radikale Veränderung seiner Energieversorgung anpackt. Diese Entscheidung wird von der überwältigenden Mehrheit der Deutschen unterstützt.\\nDoch machen wir uns nichts vor: Die Welt schaut mit einer Mischung aus Unverständnis und Neugier darauf, ob und wie uns diese Energiewende gelingen wird. Wenn sie uns gelingt, dann wird sie – davon bin ich überzeugt – zu einem weiteren deutschen Exportschlager. Und auch davon bin ich überzeugt: Wenn diese Energiewende einem Land gelingen kann, dann ist das Deutschland.\\nBis 2050 wollen wir 80 Prozent unseres Stroms aus erneuerbaren Energien erzeugen. Schon heute haben die erneuerbaren Energien an der Stromerzeugung einen Anteil von 25 Prozent, der bis 2025 auf 40 bis 45 Prozent und bis 2035 auf 55 bis 60 Prozent ansteigen soll. Mit diesem Ausbaukorridor können wir ganz harmonisch das Ausbauziel von 80 Prozent erreichen – allerdings nur, wenn gleichzeitig unsere Industrie im weltweiten Wettbewerb bestehen kann und Strom für alle erschwinglich bleibt.\\nMit einem Anteil von 25 Prozent an der Stromerzeugung haben die erneuerbaren Energien heute ihr Nischendasein verlassen. Bis dahin war es sinnvoll, sie durch die Umweltpolitik zu fördern. Jetzt aber müssen sie als zunehmend tragende Säule der Stromerzeugung in den Gesamtenergiemarkt integriert werden. Maßstab für den Ausbau der erneuerbaren Energien müssen Planbarkeit und Kosteneffizienz sein. Deshalb muss der Ausbaukorridor auch verbindlich festgeschrieben werden. Die einzelnen Formen der erneuerbaren Energien müssen so schnell wie möglich marktfähig werden; ihr Ausbau und der Ausbau der Transportnetze müssen Hand in Hand gehen.\\nWir sehen: Das ist eine Herkulesaufgabe; das bedarf einer nationalen Kraftanstrengung. Gerade auch deshalb habe ich davon gesprochen, dass die Große Koalition eine Koalition für große Aufgaben ist. Und wenn es eine politische Aufgabe gibt, bei der nicht Partikularinteressen im Mittelpunkt zu stehen haben, sondern der Mensch, dann ist das die Energiewende.\\nSie kann nur gelingen, wenn alle – Bund, Länder, Gemeinden, Verbände, jeder Einzelne – über ihren Schatten springen und nur eines im Blick haben: das Gemeinwohl. Aber dann – davon bin ich überzeugt – wird die Energiewende auch gelingen; dann wird sie ein weiteres Beispiel gelebter ökologischer und sozialer Marktwirtschaft sein.\\nDas Kabinett hat die dazu vom Bundeswirtschaftsminister vorgelegten Eckpunkte beschlossen. Sie sind Grundlage für den Gesetzentwurf zur Novelle des Erneuerbare-Energien-Gesetzes, die am 9. April im Kabinett verabschiedet und bis zur Sommerpause auch in Bundestag und Bundesrat verabschiedet werden soll. Zusammen mit dem Netzausbau und mit Entscheidungen über Kraftwerksreserven zur Sicherung der Energieversorgung entsteht daraus der Rahmen zur Umsetzung der Energiewende.\\nDie Bundesregierung wird sich in den anstehenden sicherlich nicht einfachen Beratungen um eine breite Mehrheit bemühen; denn ich bin davon überzeugt: Je größer die Mehrheit, desto größer ist auch die Akzeptanz bei den Bürgerinnen und Bürgern. Zeit haben wir allerdings nicht zu verlieren: Wir müssen parallel alles dafür tun, dass unsere Entscheidungen auch in Brüssel akzeptiert werden. Gleichzeitig müssen wir die Energiewende in eine anspruchsvolle nationale und europäische Klimastrategie einbetten. Es ist gut, dass die Kommission mit dem ambitionierten 40-Prozent-CO2-Reduktionsziel die Vorreiterrolle Europas im internationalen Klimaschutz noch einmal unmissverständlich unterstrichen hat.\\nDeutschland wird sich auch mit ganzer Kraft für die Verabschiedung einer international verbindlichen Klimakonvention einsetzen. Gemeinsam mit Frankreich arbeiten wir für einen Erfolg der internationalen KlimakonferenzEnde 2015 in Paris, damit am Ende eine verbindliche Regelung für die weltweite Reduktion von Treibhausgasen ab 2020 gefunden wird.\\nWir setzen uns auch für einen funktionierenden Emissionshandel in Europa ein, damit umweltfreundliche Kraftwerke wie zum Beispiel moderne Gaskraftwerke endlich wieder eine faire Chance auf den Märkten erhalten.\\nUm im Baubereich zu einer Gesamtstrategie zu kommen, in die auch der Klimaschutz integriert ist, hat die Bundesregierung den Umweltschutz und den Baubereich in einem Ministerium gebündelt. So können wir unsere nationalen Klimaziele auch in den Bereichen der Energieeffizienz und der Gebäudesanierung erreichen. Im Übrigen können unsere Wirtschaft und unser Handwerk davon profitieren. Umweltschutz, die ökologische und soziale Marktwirtschaft schafft Arbeitsplätze.\\nMeine Damen und Herren, vor einem Jahrzehnt, als 5 Millionen Menschen in Deutschland arbeitslos waren, hatten viele Zweifel, ob und inwieweit eine der jahrzehntelangen großen Gewissheiten der sozialen Marktwirtschaft auch in Zukunft noch ihre Berechtigung haben würde, nämlich die Gewissheit, dass es den Arbeitnehmern dann gut geht, wenn es dem eigenen Betrieb auch gut geht. Die Auswirkungen der Globalisierung hatten dieses Grundvertrauen ins Wanken gebracht. Reformen, zuvor jahrelang verzögert oder vermieden, wurden unumgänglich. Es folgte die Agenda 2010 der Regierung Schröder, auf die dann weitere Reformen der Großen Koalition von 2005 bis 2009 und der anschließend christlich-liberalen Bundesregierung fußten. Das Ergebnis dieser Reformen: Heute hat unser Land mehr Beschäftigte als je zuvor.\\nDie Arbeitslosigkeit liegt unter 3 Millionen; die Jugendarbeitslosigkeit ist die geringste in Europa.\\nAber es gibt auch Schattenseiten. Aus der unverzichtbaren Flexibilisierung des Arbeitsrechts sind neue Möglichkeiten des Missbrauchs entstanden. Schon die christlich-liberale Bundesregierung hat einige davon beseitigt, aber die Große Koalition wird weitere Korrekturen vornehmen müssen.\\nKonkret geschieht das in der Leiharbeit, deren Dauer auf maximal 18 Monate beschränkt wird. Die gleiche Bezahlung eines Leiharbeiters wie die eines Beschäftigten der Stammbelegschaft hat jetzt nach spätestens 9 Monaten zu erfolgen, und beim Abschluss von Werkverträgen ist in Zukunft der Betriebsrat zu informieren.\\nEs ist die gemeinsame Überzeugung von CDU, CSU und SPD, dass derjenige, der voll arbeitet, mehr haben muss, als wenn er nicht arbeitet.\\nNiemand, der ein Herz hat, ist deshalb schnell bei der Hand damit, das Instrument eines Mindestlohns rundweg abzulehnen. Doch jeder, der ein Herz hat, muss aber genauso sicherstellen, dass der so nachvollziehbare Wunsch nach würdiger Bezahlung nicht Menschen, die heute Arbeit haben, in die Arbeitslosigkeit führt.\\nDie Koalitionsverhandlungen um einen gesetzlichen Mindestlohn in Höhe von 8,50 Euro ab 2015 haben alle Facetten dieses Dilemmas behandelt. Das Ergebnis ist ein Kompromiss, bei dem – das sage ich aus voller Überzeugung – die Vorteile die Nachteile überwiegen.\\nDer Mindestlohn von 8,50 Euro wird ab Anfang 2015 gelten. Allerdings haben wir vereinbart, dass Tarifverträge, die mit einer Lohnuntergrenze von weniger als 8,50 Euro vereinbart wurden, bis Ende 2016 weitergelten können. Im Laufe dieses Jahres können solche Tarifverträge noch abgeschlossen werden. Ich sage ganz ausdrücklich: Arbeitgeber und Gewerkschaften haben damit alle Freiheit und Möglichkeit, genau davon dort Gebrauch zu machen, wo immer dies zum Erhalt von Arbeitsplätzen notwendig ist.\\nDerartige Tarifverträge können in Zukunft in einem vereinfachten Verfahren für allgemeinverbindlich erklärt werden, da sie im öffentlichen Interesse sind. Dadurch wird im Übrigen auch die Tarifpartnerschaft, ein Wesensmerkmal der sozialen Marktwirtschaft, wieder gestärkt, und sie muss in einigen Bereichen gestärkt werden.\\nEine starke soziale Marktwirtschaft braucht international wettbewerbsfähige Unternehmen. Wir wissen aus unseren Erfahrungen, dass das besonders gut funktioniert, wenn Frauen und Männer gleiche Chancen haben.\\nDeshalb werden wir für Aufsichtsräte von voll mitbestimmungspflichtigen und börsennotierten Unternehmen, die ab 2016 neu besetzt werden, eine Quote von mindestens 30 Prozent Frauen einführen. Jahrelanges gutes Zureden hat nicht geholfen. Deshalb müssen wir diesen Schritt jetzt gehen.\\nMeine Damen und Herren, unsere sozialen Sicherungssysteme gehören zu den besten der Welt. Damit dies auch in Zukunft so bleibt, müssen sie sowohl den Erwartungen der heutigen Generation als auch den Anforderungen zukünftiger Generationen entsprechen. Sie müssen also der demografischen Entwicklung unseres Landes standhalten. Diesem Ziel dient die schrittweise Einführung der Rente mit 67 bis zum Jahr 2029. Heute haben bereits deutlich mehr Menschen im Alter zwischen 55 und 65 Jahren eine Chance auf dem Arbeitsmarkt als noch vor wenigen Jahren. Diese Entwicklung muss fortgesetzt werden.\\nDennoch – das sollten wir nicht vergessen – haben wir bei der Einführung der Rente mit 67 bereits diejenigen vom Anstieg der Lebensarbeitszeit ausgenommen, die 45 Jahre lang Beiträge in die Rentenversicherung gezahlt haben. Diese Regelung werden wir jetzt modifizieren. Wir werden für Menschen mit 45 Beitragsjahren inklusive des Bezugs von Arbeitslosengeld I eine abschlagsfreie Rente mit 63 Jahren, aufwachsend dann bis Anfang der 30er-Jahre auf 65 Jahre, einführen. Ich füge hinzu: In der Zwischenzeit müssen wir dafür Sorge tragen, dass sich auch die Beschäftigungschancen langjährig Beschäftigter weiter deutlich verbessern.\\nWir wollen im Übrigen nicht länger die Augen davor verschließen, dass viele Frauen eine gerechte Anerkennung der Leistungen für die Erziehung der Kinder anmahnen. Wie ist die Lage heute? Heute werden für die nach 1992 geborenen Kinder drei Jahre im Rentenrecht anerkannt, für die davor geborenen Kinder nur ein Jahr. Das ist in den Augen vieler nicht gerecht.\\nEine Politik, die den Menschen in den Mittelpunkt ihres Handelns stellt, muss und will das verändern. Wir haben in den letzten Jahren große Anstrengungen für die Vereinbarkeit von Familie und Beruf unternommen: den Ausbau der Kitaplätze, verbesserte Möglichkeiten für flexible Arbeitszeiten, die Einführung des Elterngelds mit Vätermonaten. In dieser Legislaturperiode werden wir die Teilzeitarbeit der Eltern durch das ElterngeldPlus erleichtern und den Ausbau der Kitaplätze fortsetzen. Mütter, die vor 1992 ihre Kinder geboren haben, hatten nicht annähernd so gute Bedingungen für die Vereinbarkeit von Beruf und Familie. Deshalb wollen wir diesen Müttern, über 9 Millionen Frauen, im Rentenrecht wenigstens ein Jahr mehr für die Anerkennung ihrer Erziehungsleistung anrechnen lassen.\\nWegen der guten Beschäftigungssituation kann die Rentenversicherung diese Aufgabe zurzeit erfüllen. Wir wissen aber: Mittelfristig werden wir einen Teil durch weitere Steuerzuschüsse aus dem Bundeshaushalt ergänzen.\\nAußerdem werden wir die Renten im Falle von Erwerbsunfähigkeit verbessern. Das ist unerlässlich. Denn Erwerbsunfähigkeit ist heute eine der Hauptursachen für Altersarmut. Sie wissen: Wir haben heute genau dieses Gesetzespaket auf den Weg gebracht und zur parlamentarischen Beratung überwiesen.\\nDie Menschlichkeit einer Gesellschaft zeigt sich vor allem an ihrem Umgang mit Schwachen.\\nSie zeigt sich in den Situationen, in denen Menschen auf Schutz und Hilfe angewiesen sind: wenn sie alt sind und wenn sie krank sind. Der medizinische Fortschritt ermöglicht immer neue Heilungs- und Behandlungsmöglichkeiten. Unsere Lebenserwartung steigt stetig an, und gleichzeitig sind immer mehr Menschen auf Pflege angewiesen. Jeder muss die medizinische Versorgung bekommen, die er braucht, und jeder Mensch muss in Würde sterben können. Das sind die zentralen Aufgaben der Politik für unser Gesundheits- und Pflegesystem.\\nDie Bundesregierung will dafür Sorge tragen, dass die medizinische Versorgung verbessert wird, insbesondere bei der Versorgung mit Fachärzten. Jeder muss schnell und gut behandelt werden. Die hohe Qualität unserer medizinischen Versorgung muss auch in Zukunft gerade im ländlichen Raum gesichert werden. Dabei spielt die Entwicklung der Telemedizin im Übrigen eine zentrale Rolle.\\nFür die Pflege werden wir die Leistungen in den nächsten vier Jahren um insgesamt 25 Prozent gegenüber heute steigern. Die zusätzlichen Mittel werden wir insbesondere erstens für die Verbesserung der pflegerischen Leistungen einsetzen – dabei werden wir gleichzeitig die Bürokratie mindern –, zweitens für eine bessere Ausbildung und Bezahlung der Pflegekräfte nutzen, um den vielerorts herrschenden Pflegenotstand abzubauen, und drittens für den Aufbau einer demografischen Reserve verwenden, um zukünftige Generationen vor zu hohen Belastungen zu schützen.\\nAuch werden wir Hospize und die Palliativmedizin stärken.\\nDoch bei allem dürfen wir zu keiner Zeit vergessen: Immer noch leisten Familienangehörige die meiste Pflegearbeit. Sie gehen dabei oft bis an die Grenzen ihrer Kräfte, nicht selten darüber hinaus. Sie sind die stillen Helden unserer Gesellschaft.\\nDas zeigt einmal mehr: Die Familien sind das Herzstück unserer Gesellschaft. Deshalb arbeiten wir für verlässliche und gute Rahmenbedingungen.\\nLiebe Kolleginnen und Kollegen, angesichts der Veränderung des Altersaufbaus unserer Gesellschaft garantieren auf Dauer nur Investitionen in Forschung und Bildung die Leistungsfähigkeit und den Wohlstand unseres Landes im globalen Wettbewerb. Wir müssen in vielen Bereichen zu den Besten der Welt gehören. Deshalb investieren wir 3 Prozent unseres Bruttoinlandsprodukts in Forschung und Entwicklung und gehören damit in Europa, allerdings nicht unbedingt immer weltweit, zu den führenden Ländern.\\nUnsere Hightech-Strategie setzt Maßstäbe für die Spitzenforschung. Der Bund will seinen Anteil von 3 Prozent für die Forschung auch in den nächsten Jahren halten. Der Bund wird aber zusätzlich auch die Länder entlasten, indem wir den Aufwuchs bei den Mitteln für die außeruniversitäre Forschung voll übernehmen, also auch den Länderanteil, und uns erstmalig auch an der Grundfinanzierung der Universitäten beteiligen werden, um den Abstand zwischen außeruniversitärer Forschung und universitärer Bildung und Forschung nicht zu groß werden zu lassen.\\nIn den letzten Jahren ist die Zahl derer, die ein Hochschulstudium aufnehmen, auf über 50 Prozent gestiegen. Das ist erfreulich. Aber die Bundesregierung wird in dieser Legislaturperiode gerade auch der anderen Säule unseres Bildungssystems, der dualen Berufsausbildung, besonderes Augenmerk zukommen lassen. Sie ist ein Markenzeichen unserer sozialen Marktwirtschaft.\\nWir wollen den Ausbildungspakt zu einem Pakt für Aus- und Weiterbildung fortentwickeln, an dem sich neben den Arbeitgebern in Zukunft auch die Gewerkschaften wieder beteiligen sollen. Ohne hervorragend ausgebildete Menschen ist Deutschland kein wirtschaftlich starkes Land.\\nIn den nächsten Jahren werden immer weniger junge Menschen in Deutschland ins Berufsleben eintreten. Das heißt, wir müssen jedem jungen Menschen die Chance auf eine gute Bildung sichern. Das beginnt beim Ausbau der Kindertagesstätten, an dem der Bund sich weiter beteiligen wird. Das setzt sich fort mit unserer Initiative \"Chance Beruf\", die der Bund zu einem flächendeckenden Angebot ausweiten will. Wir führen den Hochschulpakt fort. Studienabbrecher bekommen in Zukunft die Chance, auch eine duale Berufsausbildung zu machen. Junge Menschen über 25, die noch keine abgeschlossene Berufsausbildung haben, sollen eine zweite Chance bekommen.\\nDies ist auch eine zentrale Aufgabe unserer Integrationspolitik. Auf dem Integrationsgipfel in diesem Jahr – so haben wir es besprochen – werden wir uns schwerpunktmäßig mit der Ausbildung von Migrantinnen und Migranten befassen. Auch werden wir jungen Menschen mit Migrationshintergrund unser Willkommen in Deutschland dadurch verdeutlichen, dass wir bei der Staatsbürgerschaft die Optionspflicht für in Deutschland geborene und aufgewachsene Jugendliche abschaffen.\\nEs ist im Übrigen ein Gebot unserer sozialen Marktwirtschaft, dass gerade die Jüngeren der ja immer noch fast 3 Millionen Arbeitslosen eine berufliche Perspektive bekommen; denn wenn sie das in jungen Jahren nicht bekommen, wird es über Jahrzehnte schwierig für sie. In diesem Zusammenhang möchte ich sagen, dass es mir schon Sorge bereitet, dass die Zahl der Langzeitarbeitslosen wieder steigt. Dem müssen wir zusammen mit der Bundesagentur für Arbeit entgegenwirken. Der Bund verwendet jährlich mehr als 30 Milliarden Euro für die Bekämpfung der Langzeitarbeitslosigkeit. Jeder hier nicht benötigte Euro kann für Zukunftsprojekte verwendet werden.\\nZusätzlich müssen wir natürlich weiter offen für Fachkräfte aus dem Ausland sein. Deutschland wird die Möglichkeiten nutzen und nutzen müssen, die die Freizügigkeit in Europa bietet.\\nDennoch – auch das gehört hierher – dürfen wir die Augen vor ihrem möglichen Missbrauch nicht verschließen.\\nEs bedarf einer Klärung, wer aus dem europäischen Ausland unter welchen Bedingungen Anspruch auf Sozialleistungen hat. Angesichts völlig unterschiedlicher Sozialsysteme in den Mitgliedstaaten der Europäischen Union darf es durch das Prinzip der Freizügigkeit nicht zu einer faktischen Einwanderung in die Sozialsysteme kommen.\\nOb sich hier aus der Rechtsprechung des Europäischen Gerichtshofs nationaler oder europäischer Handlungsbedarf ergibt, ist derzeit noch nicht abzusehen. Dies ist aber auch nicht auszuschließen, weil deutsche Gerichte Vorlagen in dieser Sache an den Europäischen Gerichtshof gegeben haben. Deshalb hat die Bundesregierung einen Staatssekretärsausschuss unter Federführung des Innen- und des Sozialministeriums gebildet, der die offenen Fragen klären wird und mit heute schon besonders betroffenen Kommunen Hilfsmöglichkeiten des Bundes bespricht.\\nAls Land in der Mitte Europas ist Deutschland auf eine funktionierende Infrastruktur zwingend angewiesen. Wir haben entschieden, das Verkehrsministerium zu einem Infrastrukturministerium auszubauen. Wir werden in die klassischen Verkehrsstrukturen allein aus Bundesmitteln bis 2017 5 Milliarden Euro mehr investieren. Wir werden die streckenbezogene Nutzungsgebühr für Lkw ausweiten. Für ausländische Pkw werden wir eine Gebühr auf Autobahnen einführen, ohne dass der deutsche Fahrzeughalter stärker als heute belastet wird.\\nErweitert werden die Zuständigkeiten des Verkehrsministeriums um die Aufgaben der digitalen Infrastruktur. 2018 soll jeder Deutsche Zugang zum schnellen Internet haben. Hier geht es nicht einfach um ein technisches Ziel, hier geht es gerade für Menschen im ländlichen Raum um gleichwertige Chancen zur Teilhabe an Bildung, medizinischer Versorgung und wirtschaftlicher Tätigkeit.\\nDazu werden wir alle Kräfte zum Netzausbau in einer Netzallianz bündeln. Die europäischen und internationalen Investitionsbedingungen müssen verbessert werden. Dies ist unerlässlich, wenn wir uns klarmachen, welch technologischer Unterschied schon heute in vielen Bereichen zwischen den Vereinigten Staaten von Amerika, asiatischen Ländern und Europa besteht.\\nLiebe Kolleginnen und Kollegen, wir spüren immer mehr, welch tiefgreifendem Wandel unsere Gesellschaft durch die Digitalisierung ausgesetzt ist. Bildung, Ausbildung, der Arbeitsalltag, die industrielle Produktion verändern sich. Informationen aus der ganzen Welt sind in Sekunden verfügbar. Die Kommunikation der Menschen ist schier grenzenlos. Daten über jeden Einzelnen können in beliebigem Umfang gespeichert werden. Wir wollen, dass das Internet eine Verheißung bleibt; deshalb wollen wir es schützen.\\nAllerdings heißt das: Wir wollen es schützen vor Zerstörung von innen durch kriminellen Missbrauch und durch intransparente, allumfassende Kontrolle von außen.\\nDer bisherige rechtliche Rahmen für eine vernünftige Balance von Freiheit und Sicherheit – das ist offensichtlich geworden – reicht nicht mehr aus. Einen internationalen Rechtsrahmen gibt es noch nicht. Das heißt, wir betreten Neuland.\\nJeder Einzelne von uns ist davon betroffen.\\nDeshalb wird die Bundesregierung in diesem Jahr unter der gemeinsamen Federführung des Innen-, des Wirtschafts- und des Infrastrukturministeriums eine digitale Agenda erstellen und im Laufe der Legislaturperiode umsetzen. Wir arbeiten an einer europäischen Datenschutzgrundverordnung mit Hochdruck. Aber wir achten dabei sehr darauf, dass der deutsche Datenschutz durch die Vereinheitlichung des europäischen Datenschutzes nicht unverhältnismäßig geschwächt wird.\\nMit großer Wucht sind wir vor einem halben Jahr durch Informationen von Edward Snowden über die Arbeitsweise der amerikanischen Nachrichtendienste mit Fragen der Datensicherheit konfrontiert worden. Niemand, der politische Verantwortung trägt, kann ernsthaft bestreiten, dass die Arbeit der Nachrichtendienste für unsere Sicherheit, für den Schutz unserer Bürgerinnen und Bürger unverzichtbar ist. Niemand, der politische Verantwortung trägt, kann ernsthaft bestreiten, dass die Arbeit der Nachrichtendienste im Zeitalter asymmetrischer Bedrohung, für die der 11. September exemplarisch steht, noch wichtiger als ohnehin schon geworden ist. Gerade um diese Gefahren bannen zu können, ist nicht nur die Arbeit unserer eigenen Dienste von großer Bedeutung für uns, sondern ebenso die Zusammenarbeit mit Nachrichtendiensten unserer Verbündeten und Partner.\\nEs kann gar nicht oft genug betont werden, dass wir gerade unseren amerikanischen Partnern wertvolle Informationen verdanken. Umgekehrt leisten innerhalb dieser internationalen Kooperation auch unsere eigenen Dienste wertvolle Beiträge. Das Parlamentarische Kontrollgremium wird jeweils darüber unterrichtet. Aber niemand, der politische Verantwortung trägt, kann auch ernsthaft bestreiten, dass das, was wir seit einem halben Jahr über die Arbeit insbesondere der amerikanischen Nachrichtendienste zur Kenntnis nehmen müssen, ganz grundsätzliche Fragen aufwirft.\\nEs geht um die Frage der Verhältnismäßigkeit. Es geht darum, in welchem Verhältnis zur Gefahr die Mittel stehen, die wir dann wählen, um dieser Gefahr zu begegnen. Die Bundesregierung trägt Verantwortung für den Schutz unserer Bürgerinnen und Bürger vor Anschlägen und Kriminalität, und sie trägt Verantwortung für den Schutz unserer Bürgerinnen und Bürger vor Angriffen auf ihre Privatsphäre. Sie trägt Verantwortung für unsere Freiheit und Sicherheit. Seit jeher stehen Freiheit und Sicherheit in einem gewissen Konflikt zueinander. Sie müssen durch Recht und Gesetz immer wieder in der Balance gehalten werden.\\nWir kennen das in Deutschland ja zu gut aus unseren langen Diskussionen um Wohnraumüberwachung und Vorratsdatenspeicherung. Kann es also richtig sein, dass unsere engsten Partner wie die Vereinigten Staaten von Amerika oder Großbritannien sich Zugang zu allen denkbaren Daten mit der Begründung verschaffen, dies diene der eigenen Sicherheit und der Sicherheit der Partner? Wir hätten also auch etwas davon. Kann es richtig sein, dass man auch deshalb so handele, weil andere auf der Welt es genauso machten? Kann es richtig sein, wenn es zum Schluss gar nicht mehr allein um die Abwehr terroristischer Gefahren geht, sondern darum, sich auch gegenüber Verbündeten, zum Beispiel für Verhandlungen bei G-20-Gipfeln oder UN-Sitzungen, Vorteile zu verschaffen – Vorteile, die nach meiner jahrelangen Erfahrung sowieso völlig zu vernachlässigen sind?\\nUnsere Antwort kann nur lauten: Nein, das kann nicht richtig sein.\\nDenn es berührt den Kern dessen, was die Zusammenarbeit befreundeter und verbündeter Staaten ausmacht: Vertrauen. Vertrauen ist die Grundlage für Frieden und Freundschaft zwischen den Völkern. Vertrauen ist erst recht die Grundlage für die Zusammenarbeit verbündeter Staaten. Ein Vorgehen, bei dem der Zweck die Mittel heiligt, bei dem alles, was technisch machbar ist, auch gemacht wird, verletzt Vertrauen; es sät Misstrauen. Am Ende gibt es nicht mehr, sondern weniger Sicherheit.\\nDarüber reden wir mit den Vereinigten Staaten von Amerika. Ich bin überzeugt, dass Freunde und Verbündete in der Lage und willens sein müssen, Grundsätze ihrer Zusammenarbeit auch auf dem Gebiet der Abwehr von Bedrohungen zu vereinbaren, und zwar in ihrem jeweils eigenen Interesse.\\nDie Vorstellungen sind heute weit auseinander. Viele sagen, die Versuche für eine solche Vereinbarung seien von vornherein zum Scheitern verurteilt, ein unrealistisches Unterfangen. Mag sein. Mit Sicherheit wird das Problem nicht schon durch eine Reise von mir gelöst und abgeschlossen sein.\\nMit Sicherheit wäre auch der Abbruch von Gesprächen in anderen Bereichen, wie etwa denen über ein transatlantisches Freihandelsabkommen, nicht wirklich hilfreich. Auch andere sogenannte Hebel, wie es in diesen Tagen so oft heißt, die Amerika zum Umdenken zwingen könnten, gibt es nach meiner Auffassung nicht. Trotzhaltungen haben im Übrigen noch nie zum Erfolg geführt.\\nIch führe – und das mit allem Nachdruck – diese Gespräche mit der Kraft unserer Argumente, nicht mehr und nicht weniger. Aber ich glaube, wir haben davon gute.\\nHerzlichen Dank.\\nDie neue Bundesregierung will dazu beitragen, dieses Glück zu schützen und zu wahren, indem wir die Quellen guten Lebens allen zugänglich machen: Freiheit, politische Stabilität, Rechtsstaatlichkeit, wirtschaftliche Stärke, Gerechtigkeit. Das ist unser Auftrag, und dafür bitte ich Sie um Ihre Unterstützung.\\nVor 65 Jahren wurde die Bundesrepublik Deutschland gegründet. Vor 25 Jahren fiel die Mauer. Vor 10 Jahren erlebten wir den Beginn der EU-Osterweiterung. Weitere Grenzen in Europa konnten abgebaut werden. Wir Deutschen und wir Europäer, wir sind heute zu unserem Glück vereint.\\nDie anschließend folgende europäische Einigung, die uns Frieden, Freiheit und Wohlstand gebracht hat, erscheint aus dieser Perspektive wie ein Wunder. Wir leben heute in einer politischen Ordnung, in der nicht wie vor 100 Jahren wenige in geheimer Diplomatie die Geschicke Europas bestimmen, sondern in der alle 28 Mitgliedstaaten gleichberechtigt und im Zusammenwirken mit den europäischen Institutionen die Dinge zum Wohl der Bürgerinnen und Bürger gemeinsam gestalten. Das Europäische Parlament, das gut 375 Millionen Menschen im Mai neu wählen werden, und die nationalen Parlamente sorgen für die notwendige demokratische Legitimität und Öffentlichkeit.\\nEs ist in diesem Jahr 100 Jahre her, dass der Erste Weltkrieg ausbrach. Er war die erste große Katastrophe des 20. Jahrhunderts, der alsbald die zweite folgen sollte: der Zivilisationsbruch der Schoah und der Beginn des Zweiten Weltkriegs vor 75 Jahren.\\nUnser Kompass ist die soziale Marktwirtschaft. Damit setzen wir auf solide Finanzen, Investitionen in die Zukunft, die Stärkung des gesellschaftlichen Zusammenhalts und Deutschlands Fähigkeit, Verantwortung in Europa und der Welt zu übernehmen – für unsere Werte und für unsere Interessen und in dem Bewusstsein, dass sie sich weltweit stets aufs Neue behaupten müssen.\\nHerr Präsident, meine Damen und Herren, nicht Partikularinteressen stehen im Mittelpunkt unseres Handelns, sondern der Mensch steht im Mittelpunkt.\\n2015 übernimmt Deutschland die G-8-Präsidentschaft.In dem Jahr werden die Vereinten Nationen neue Entwicklungsziele festlegen. Unsere Präsidentschaft wird deshalb auch im Zeichen dieser Neuausrichtung der Entwicklungsziele stehen.\\nImmer gilt: Kein Konflikt kann allein militärisch gelöst werden. Das leitet die Bundesregierung. Deutsche Außen- und Sicherheitspolitik setzt auf die Vernetzung militärischer und ziviler Mittel, und darin sehen wir uns in den letzten Jahren noch mehr bestärkt.\\nHinzu kommt die Frage, wie Deutschland seinen Verbündeten Frankreich gegebenenfalls bei der europäischen Überbrückungsmission in der Zentralafrikanischen Republik unterstützen kann; ich sage: gegebenenfalls. Hierbei geht es nicht um einen deutschen Kampfeinsatz, sondern allenfalls um unsere Fähigkeit zur Rettung und Behandlung Verwundeter.\\nDeutschland beteiligt sich an Einsätzen im Kosovo, vor den Küsten Somalias und des Libanon oder in Mali. Das Mandat in Mali zur Ausbildung malischer Sicherheitskräfte wollen wir nicht nur fortsetzen, sondern auch verstärken.\\nZusammen sind wir in Afghanistan im Einsatz. Deutschland ist bereit, sich auch nach 2014 an der Ausbildung der Sicherheitskräfte und am wirtschaftlichen Aufbau des Landes zu beteiligen. Voraussetzung ist, dass Präsident Karzai – das sage ich allerdings mit allem Nachdruck; ich habe es neulich auch persönlich dem Präsidenten gesagt – das Sicherheitsabkommen mit den USA und der NATO unterzeichnet.\\nDoch bei allen Konflikten, bei allen Enttäuschungen, bei allen Interessenunterschieden werde ich wieder und wieder deutlich machen: Deutschland kann sich keinen besseren Partner wünschen als die Vereinigten Staaten von Amerika. Die deutsch-amerikanische und die transatlantische Partnerschaft sind und bleiben für uns von überragender Bedeutung.\\nDer Weg ist lang; aber lohnend ist er allemal. Denn die Möglichkeiten der digitalen Rundumerfassung der Menschen berühren unser Leben im Kern. Es handelt sich deshalb um eine ethische Aufgabe, die weit über die sicherheitspolitische Komponente hinausweist. Milliarden Menschen, die in undemokratischen Staaten leben, schauen heute sehr genau, wie die demokratische Welt auf Bedrohungen ihrer Sicherheit reagiert, ob sie in souveräner Selbstsicherheit umsichtig handelt oder ob sie an jenem Ast sägt, der sie in den Augen genau dieser Milliarden Menschen so attraktiv macht – an der Freiheit und der Würde des einzelnen Menschen.  \n",
       "1861  Herzlichen Dank für die Einladung zu Ihrem diesjährigen Versicherungstag. Der Hauptgrund dafür, dass ich mich wirklich freue, heute dabei zu sein, ist auch das spezielle Motto, das Sie sich gegeben haben, das hinter mir zu sehen ist. Sie versichern \"Werte\". Sie übernehmen \"Verantwortung\" für das Gemeinwohl. Und dafür wird Ihnen auch viel \"Vertrauen\" entgegengebracht.\\nDafür, dass Ihnen das immer wieder gelingt, spricht schon allein die Tatsache, dass die deutschen Versicherer mit rund 460 Millionen Verträgen Risiken von Privatpersonen und Unternehmen unseres Landes übernehmen. Hätte ich raten müssen, wäre ich nicht auf 460 Millionen gekommen. Die Bedeutung der Versicherungsbranche für Wirtschaft und Gesellschaft ist also unbestritten. Als Branche selbst stellen Sie ein wirtschaftliches Schwergewicht dar: rund 550.000 Erwerbstätige und eine Kapitalanlage in Höhe von rund 1,4 Billionen Euro, etwa die Hälfte davon in Deutschland. Damit zählt unser Land zu den wichtigsten Versicherungsmärkten weltweit.\\nSie sind gut durch das Geschäftsjahr 2013 gekommen, stehen aber, wie eben schon angeklungen war, vor erheblichen Herausforderungen. Dazu gehört nicht zuletzt das anhaltend niedrige Zinsniveau, das ganz besonders die Lebensversicherer auf die Probe stellt. Deshalb waren auch gesetzgeberische Maßnahmen wichtig und angezeigt. Sonst wäre zu befürchten gewesen, dass der zugesagte Garantiezins mittel- bis langfristig nicht mehr erwirtschaftet werden könnte. Mit dem im Sommer verabschiedeten Lebensversicherungsreformgesetz dürfte nun aber die Zukunftsfähigkeit des Produkts Lebensversicherung sichergestellt sein. Aber es ist mir auch wichtig hervorzuheben, dass hierzu alle an der Versicherung Beteiligten einen angemessenen Beitrag leisten müssen. – Mir fliegt hier gerade eine Uhr entgegen. Ist das Ihre? Nein. Jemand hat hier seine Armbanduhr auf dem Pult liegen lassen. Herr Hoffmann? Gut, ich bringe sie Ihnen mit. Das ist dann gut gelebte Partnerschaft. –\\nWir stehen auch vor einer grundlegenden Reform der Versicherungsaufsicht. Wie Sie wissen, befinden wir uns nun auf der Zielgeraden zur Umsetzung des europäischen Regelwerks unter den Stichworten \"Solvabilität II\" oder \"Solvency II\" – ich muss sagen, der englische Begriff kommt einem besser über die Lippen. Das deutsche Umsetzungsgesetz, das \"Gesetz zur Modernisierung der Finanzaufsicht über Versicherungen\", wird derzeit im parlamentarischen Verfahren beraten. Die neuen Anforderungen sollen die Krisenresistenz der Versicherer erhöhen. Das hilft auch dementsprechend, den Ansprüchen der Versicherten gerecht zu werden.\\nSolvency II ist ein Teil der umfassenden Reformagenda zur Stabilisierung der Finanzmärkte. Sie wissen, wir haben uns zu Beginn der Finanzkrise vorgenommen: Kein Finanzmarktakteur, kein Finanzprodukt und kein Finanzmarkt ohne angemessene Regulierung. Hierbei haben wir sowohl auf europäischer Ebene – Deutschland teilweise als Vorreiter – als auch auf internationaler Ebene schon eine ganze Menge erreicht und die Rahmenbedingungen verändert.\\nWir haben in der Europäischen Union einiges vorangebracht. Sie wissen, dass Anfang dieses Monats die Europäische Zentralbank die Aufsicht über die bedeutendsten Banken im Euroraum übernommen hat. Dem vorangegangen sind Stresstests, um den Zustand dieser Banken deutlich zu machen. Es ist gelungen, gemeinsame Regeln sowohl für die Sanierung als auch für die Abwicklung von Banken in Europa zu schaffen. Die Umsetzung in deutsches Recht hat der Deutsche Bundestag Anfang dieses Monats beschlossen.\\nVorangegangen waren schwierige und langwierige Verhandlungen. Aber sie haben dazu geführt, dass in Europa nun nicht mehr zuerst der Steuerzahler einspringen muss, wenn eine Bank in Schieflage gerät. Das ist den Steuerzahlern nicht zuzumuten; und es wäre ihnen auf gar keinen Fall ein zweites Mal zuzumuten. Insofern ist es sehr wichtig, dass wir endlich auch einige sichtbare Erfolge haben. Das heißt, in Zukunft werden zuerst die Eigentümer und Bankgläubiger haften. Die Möglichkeit der Abwicklung wird im Vordergrund stehen. Das kann viel Geld kosten, weshalb ab 2015 EU-weit ein Sicherheitsnetz aus Bankenabgaben fällig wird. Wir in Deutschland praktizieren das bereits seit 2011. Das heißt, künftig müssen sich alle Banken an den Kosten einer etwaigen Abwicklung systemrelevanter Banken beteiligen.\\nNeben der guten Nachricht für die Steuerzahler gibt es auch eine für die Kontoinhaber. Denn wir haben auch die Weichen gestellt, um die Einlagensicherungssysteme in Europa zu verbessern. Damit werden Entschädigungen schneller und einfacher möglich. Das deutsche Umsetzungsgesetz haben wir vorige Woche im Kabinett beschlossen. Jetzt beginnen die parlamentarischen Arbeiten.\\nAuch bei der Beseitigung falscher Vergütungsanreize sind wir ein Stück weit vorangekommen. Wir haben Banken und Versicherer dazu verpflichtet, Vergütungssysteme einzuführen, die das Risikobewusstsein schärfen und auf eine nachhaltige Entwicklung ausgerichtet sind. Zudem werden seit Anfang dieses Jahres in der Europäischen Union die neuen und strengeren Regelungen für das Eigenkapital nach \"Basel III\" stufenweise eingeführt. Mit einem größeren Eigenkapitalpolster kann im Notfall Schlimmeres abgefedert werden. In diesem Zusammenhang werde ich allerdings nicht müde zu betonen: Dass Europa das macht, ist schön; es wäre gut, es würde auch weltweit in ähnlicher Weise passieren.\\nGroßes Kopfzerbrechen machen uns allerdings noch die Überwachung und Regulierung des Schattenbankensektors. Dieser Sektor birgt aber nicht nur Risiken, sondern auch Chancen, weil zum Beispiel der Realwirtschaft mit der Kreditfinanzierung durch Nichtbanken neben der klassischen Bankenfinanzierung immer auch eine Alternative zur Verfügung steht. Aber die Risiken sind nicht beiseite zu wischen. Vor allen Dingen müssen wir zwischen Banken und den sogenannten Schattenbanken vergleichbare Regelungen haben. Ansonsten gibt es natürlich Ausweichbewegungen in Bereiche, die nicht der Aufsicht unterliegen. Die Umschichtung in andere Formen der Anlage aber könnte sehr risikobehaftet sein. Das muss international geregelt werden – so wie es uns in der G20 auch bei systemrelevanten Banken gelungen ist. Deshalb bin ich froh darüber, dass wir beim G20-Gipfel in Australien zumindest den Arbeitsplan bis 2016 fortgeschrieben und uns fest vorgenommen haben, bis dahin auch im Schattenbankensektor eine Regulierung zu haben. Aber ich sage: Es geht langsam voran. Wir dürfen nicht vergessen: Es werden dann bereits acht Jahre nach der Finanzkrise vergangen sein. Da kann man nicht mehr von Eiltempo sprechen, obwohl man sich vor Augen führen sollte, was damals weltweit los war.\\nWir sind aber vorangekommen, nicht nur auf europäischer, sondern auch auf internationaler Ebene. Auch für das sogenannte \"too big to fail\"-Problem – eine Bank ist zu groß, als dass man sie straucheln lassen könnte – haben wir Vereinbarungen getroffen. Wir müssen sie jetzt aber auch entschlossen umsetzen.\\nMeine Damen und Herren, sehr erfreulich ist auch, dass wir im Rahmen der G20 und durch exzellente Arbeiten der OECD auch im Bereich Steuern – sowohl bei der Frage der Steuergestaltungsmöglichkeiten multinationaler Konzerne also auch bei der Frage der Steuergerechtigkeit und Steuertransparenz – vorangekommen sind. Die automatische Informationspflicht wird ab 2017 eingeführt. In Berlin hat Wolfgang Schäuble diesbezüglich eine Tagung durchgeführt, auf der bereits 50 Länder unterzeichnet haben. Das wäre vor ein paar Jahren noch gar nicht vorstellbar gewesen. Daher bin ich mit den Ergebnissen sehr zufrieden.\\nZum Thema Steuergerechtigkeit: Es läuft ein Projekt, das in Fachkreisen als \"BEPS\"-Projekt – \"Base Erosion and Profit Shifting\" – bekannt ist, das sich dagegen wendet, dass immer wieder versucht wird, multinationale Konzerne ohne Steuerzahlungen davonkommen zu lassen. Das war auch eines der Themen in Australien. Bis Ende 2015 wollen wir das Projekt abschließen. Auch hierbei ist Europa Vorreiter. Deutschland hat mit Großbritannien als einem Land, das hierbei gewisse Erfahrungen hat – gerade was sogenannte Patentboxen anbelangt –, Einigkeit darin erzielt, dass wir diese Art von Tricks wirklich sein lassen müssen und wir eine gemeinsame Plattform für den Ausgangspunkt von Steuerzahlungen schrittweise erarbeiten müssen.\\nNatürlich war Wachstum das zentrale Thema auf dem Gipfel in Brisbane. Die australische Regierung hat als Gastgeber eine globale Infrastrukturinitiative ins Leben gerufen. Damit bin ich auch beim Thema Investitionen in Europa. Sie haben vollkommen recht: Wir brauchen Strukturreformen in Europa; wir brauchen mehr Investitionen. Wenn man private Investitionen haben möchte, muss auch das Umfeld stimmen, in dem Investoren zu investieren bereit sind. Deshalb brauchen wir auch ein entschiedenes Vorgehen beim Überwinden der Staatsschuldenkrise. Wir haben diese Krise noch nicht überwunden. Wir haben sie im Griff, aber wir haben sie noch nicht überwunden. Die Phänomene, die Ihnen Sorgen bereiten, sind ja auch genau darauf zurückzuführen.\\nWir haben mit Irland, Portugal und Spanien drei von fünf Programmländern, die ihre Programme erfolgreich abschließen konnten. Wir haben jetzt bemerkenswerte Wachstumsraten in Irland. Wir haben auch in Portugal und Spanien wieder Wirtschaftswachstum. Wir haben die ersten Anzeichen dafür, dass auch die Arbeitslosigkeit zurückgeht. Aber, meine Damen und Herren, sie ist noch viel zu hoch. Wenn man sich die Jugendarbeitslosigkeit in diesen Ländern anschaut, dann stellt man fest, dass es teils fast die Hälfte der jungen Menschen eines Jahrgangs ist, die keine Arbeit hat. Wenn Finanzinvestoren Interesse an einem Kontinent haben sollen, dann muss die Arbeitslosigkeit bekämpft werden. Das ist unsere große Aufgabe.\\nJetzt stellt sich die Frage: Wo entstehen Jobs; und wie entstehen Jobs? Heute wird, parallel zu unseren Haushaltsberatungen im Deutschen Bundestag, über eine Initiative im Europäischen Parlament beraten. Jean-Claude Juncker hat mit seiner neuen Kommission ein 300-Milliarden-Euro-Paket vorgestellt, das durch die Europäische Investitionsbank verwaltet werden muss und wird. Aber, meine Damen und Herren, auch dabei wird sich die Aufgabe stellen, Projekte zu identifizieren, die wirklich investitionsreif sind. Hierbei geht es nicht nur um Verkehrsprojekte, sondern vor allen Dingen auch um Forschungsprojekte und Projekte im Zusammenhang mit der Digitalen Agenda, zum Beispiel Breitbandausbau.\\nIch bin der festen Überzeugung, dass wir mit dem Dreiklang aus soliden Haushalten, Strukturreformen und Investitionen in zukunftsfähige Projekte aus der Krise, in der die Eurozone ist, herauskommen können, wenn wir aber auch bereit sind, das zu tun, was eine gemeinsame Währung noch dazu verlangt. Ein Stabilitäts- und Wachstumspakt ist gut; gemeinsame Regeln einzuhalten, was Neuverschuldung und Gesamtverschuldung anbelangt, ist okay. Aber ich bin der festen Überzeugung – im Übrigen hat das schon Jacques Delors geschrieben, bevor der Euro überhaupt eingeführt wurde –: Länder, die eine gemeinsame Währung haben, müssen sich auch wirtschaftspolitisch besser abstimmen. Sie sollten sich im Hinblick auf ihre Wettbewerbsfähigkeit nicht auseinanderentwickeln, sondern kohärenter werden. Das heißt nicht, dass jeder das Gleiche machen muss. Aber es muss eine bestimmte gemeinsame Grundhaltung da sein.\\nDaher ist so wichtig für Europa, dass wir Verlässlichkeit und damit Vertrauen entwickeln. Wir haben in der Europäischen Union und in der Eurozone an die 90 Indikatoren, die wir uns schon vorgenommen haben – an die 90 Indikatoren, die wahrscheinlich kaum einer alle aufzählen kann. Kaum einen von diesen Indikatoren, die wir uns vorgenommen haben, halten wir auch wirklich ein – ob es nun darum geht, dass man im Jahr 2000 gesagt hat, Europa soll der wettbewerbsfähigste Kontinent der Welt werden, oder um die Zusage, dass drei Prozent des jeweiligen Bruttoinlandsprodukts für Forschung und Entwicklung ausgegeben werden. Der eine macht es, der andere macht es nicht. So kann man in einer Währungsunion nicht vernünftig miteinander wirtschaften. Das ist ein Problem in Europa, das wir bewältigen müssen. Meine Damen und Herren, das heißt also: Investitionen in Bildung, in Forschung, in zukunftsfähige Projekte.\\nIch muss Ihnen auch noch berichten, auch wenn es für Sie nichts Neues ist: Das Selbstbewusstsein, mit dem die asiatischen Staaten auf dem G20-Gipfel aufgetreten sind, die Dynamik in dieser Region und die Bereitschaft, sich durch Freihandelsabkommen enger zu vernetzen, sind zum Teil atemberaubend. Vor dem G20-Gipfel fand der APEC-Gipfel in Peking statt. Das Transpazifische Partnerschaftsabkommen – das Pendant zum Transatlantischen Partnerschaftsabkommen – wird wahrscheinlich im ersten Halbjahr 2015 fertig verhandelt sein. Der chinesische Präsident hat in Australien ein Freihandelsabkommen zwischen China und Australien unterzeichnet. Wir müssen uns in Europa wirklich anstrengen, dass wir nicht abgehängt werden; und zwar – ich habe das auch heute im Deutschen Bundestag gesagt – aus zwei Gründen: zum einen, um als Exportnation Deutschland nicht abgehängt zu werden, und zum anderen, um Standards für Freihandelsabkommen setzen zu können. Wenn andere ihre bilateralen Freihandelsabkommen fertigverhandelt haben, brauchen wir ihnen mit unseren Standards nicht mehr kommen. Das heißt, wenn es um Verbraucherschutz, wenn es um Umweltschutz und Ähnliches geht, dann können wir jetzt noch Standards setzen. Aber das muss eben so geschehen, dass wir auch rechtzeitig fertig werden.\\nIch will kurz etwas zu den innenpolitischen Rahmenbedingungen sagen, denn nicht nur Sie haben Herausforderungen zu bewältigen, sondern auch wir. Wir haben sehr klar gesagt, wir brauchen berechenbare Bedingungen; das heißt, keine Steuererhöhungen. Dabei wird es in dieser Legislaturperiode auch bleiben.\\nDes Weiteren haben wir es in diesem Jahr zum ersten Mal nach 46 Jahren geschafft bzw. werden es am Freitag schaffen, einen Bundeshaushalt zu verabschieden, der keine neuen Schulden vorsieht. Das ist nun auch so eine Sache: Solange wir das nicht erreicht hatten, hatte jeder gesagt, dass man das erst einmal erreichen müsste; in dem Moment aber, in dem wir kurz davor sind, es zu erreichen, wird das Ziel, das jahrelang ein zentrales war, als nicht mehr ganz so wichtig empfunden. Ich glaube, im Hinblick auf unsere demografische Entwicklung ist es ein wichtiges Zeichen, dass wir bei robuster Wirtschaftslage in der Lage sind zu sagen: Wir wollen nächstes Jahr mit dem auskommen, das wir einnehmen. Wir geben damit der jungen Generation ein Signal, dass zumindest keine neuen Schulden dazukommen sollen, was ja noch nicht bedeutet, dass irgendein Euro alter Schulden abgezahlt ist.\\nDie zweite große Herausforderung, vor der wir stehen, ist die Energiewende. Wir haben uns in Deutschland für einen anspruchsvollen Weg entschieden. Wir haben eine Wirtschaft, die natürlich nicht nur Versorgungssicherheit braucht, sondern auch bezahlbaren Strom. Gleichzeitig wollen wir den Weg zu mehr Umweltfreundlichkeit durch Erhöhung des Anteils erneuerbarer Energien gehen. Wir haben in der Koalition durch die Veränderung des Erneuerbare-Energien-Gesetzes Berechenbarkeit geschaffen. Das ist aber nur ein Aspekt der Energiewende, denn wir brauchen jetzt auch neue Leitungssysteme – natürlich auch ein Gegenstand großer Diskussionen. Wir brauchen natürlich auch die Möglichkeit, Strom zu speichern. Und wir brauchen ein Versorgungssicherheitssystem – \"Kapazitätsmärkte\" genannt. Darüber, wie wir das genau gestalten, müssen wir nachdenken. Und wir müssen uns mit der Frage auseinandersetzen: Wollen wir eigentlich einen gemeinsamen europäischen Markt im Energiebereich erreichen oder aber gestaltet jedes Land oder vielleicht sogar jedes Bundesland seine eigene Energiepolitik? Auch darüber gibt es noch interessante Diskussionen zu führen.\\nMeine Damen und Herren, wir haben eine ganze Reihe von Projekten beschlossen, die durchaus auch Bürokratie und neue Berichtspflichten verursachen oder der Wirtschaft Lasten zumuten, zum Beispiel den Mindestlohn. Wir wollen als Gegenmaßnahme aber auch danach fragen: Wo können wir an anderer Stelle Bürokratie abbauen? Wir wollen versuchen – nach dem Motto \"One-in, One-out\" –, immer dann, wenn wir ein neues Gesetz mit Belastungen für die Wirtschaft angehen, an anderer Stelle Belastungen für die Wirtschaft abzubauen. Wir haben damit noch keine Erfahrungen, aber wir können durchaus Ermutigung brauchen. Sie glauben es mir noch nicht ganz – das würde ich auch nicht tun, sondern würde auch erst einmal abwarten, was passiert. Aber Ermutigung ist herzlich willkommen.\\nMeine Damen und Herren, was ich noch erwähnen möchte, ist das Thema Digitalisierung. Die Digitalisierung ist die große Herausforderung der nächsten Jahre; und zwar im Hinblick auf ihre Verschmelzung mit der realen Wirtschaft, in der Deutschland klassischerweise stark ist. Hierbei haben sich die Gewichte auf der Welt erheblich verschoben. Wir sind zwar realwirtschaftlich sehr stark. Wir haben mit der BASF das größte Chemieunternehmen der Welt. Wir sind herausragend im Automobilbau und Maschinenbau. Wir haben viele \"Hidden Champions\" unter den Familienbetrieben und mittelständischen Betrieben. Aber wenn wir uns einmal ansehen, wo die Wertschöpfung im digitalen Bereich stattfindet, dann stellen wir fest, dass das nahezu ausnahmslos in großen Unternehmen aus den Vereinigten Staaten von Amerika oder aus Asien geschieht. Die Frage, wer das Auto der Zukunft baut, wird sich in den nächsten Jahren entscheiden – vielleicht schneller, als wir denken. Daher geht es jetzt darum, mit unseren gewachsenen, großen Qualitäten in der Realwirtschaft wirklich Schritt zu halten mit der zunehmenden Digitalisierung – Stichwort Industrie 4.0. Wir befinden uns jetzt quasi in einer revolutionären Phase, in der sich Weltmarktführer neu sortieren; und es ist unsere Aufgabe, wieder vorne mit dabei zu sein.\\nIch bin dankbar dafür, dass Herr Hoffmann gerade hier ist, denn die Frage nach der Arbeit der Zukunft ist von den Gewerkschaften aufgeworfen worden und hat seit Jahren zu einem Diskussionsprozess zwischen den Gewerkschaften, der Wirtschaft und der Regierung geführt. Wir sehen den Herausforderungen sehr nüchtern ins Auge und versuchen, Lösungen zu finden. Es bewährt sich einmal mehr das, was wir unter Sozialpartnerschaft in Deutschland verstehen und womit wir so gut durch die Krise gekommen sind. Dies sollten wir stärken, um jetzt die Zukunft richtig zu gestalten.\\nMeine Damen und Herren, wir wirtschaften nicht nur unter dem Eindruck der Euro-Schuldenkrise und der gerade überwundenen Finanzmarktkrise, sondern es hat sich in diesem Jahr auch eine Reihe globaler Risiken hinzugesellt, die nicht unbedingt zu erwarten waren. Wir hatten in diesem Jahr den 100. Jahrestag des Beginns des Ersten Weltkriegs und den 75. Jahrestag des Beginns des Zweiten Weltkriegs. Als wir vor einem Jahr darüber diskutiert haben, wie wir ein solches Gedenkjahr gestalten, hatten wir eigentlich nicht gedacht, dass wir uns auch mit militärischen Auseinandersetzungen in unserer nächsten Nähe beschäftigen müssen, wie sie zwischen Russland und der Ukraine leider stattgefunden haben und trotz Waffenstillstand täglich noch stattfinden.\\nIch weiß, dass viele auch auf deutscher Seite unter den Sanktionen leiden und dass sie auch auf die deutsche wirtschaftliche Entwicklung eine dämpfende Wirkung haben. Aber, meine Damen und Herren, es geht hierbei um sehr grundsätzliche Prinzipen. Es geht im Grunde um die Frage, ob das, was Europa jahrzehntelang Frieden eingebracht hat – nämlich die Akzeptanz der territorialen Integrität der einzelnen Länder –, infrage gestellt wird, einfach weil man stärker ist. Es geht darum, sich an das Rechtssystem zu halten und auch wirklich einzuhalten. Das ist keine Nebensächlichkeit und auch keine Frage, die man mal je nach Situation entscheiden kann, sondern es sagt etwas über das friedliche Zusammenleben in Europa aus.\\nDeshalb muss ich an dieser Stelle noch einmal daran erinnern: Die Ukraine ist Anfang der 90er Jahre unabhängig geworden. Sie hat darüber im Übrigen ein Referendum stattfinden lassen. Sie hat sich 1994 dazu bereit erklärt, ihre Nuklearwaffen abzugeben. Im Gegenzug haben sich Staaten dazu verpflichtet, die territoriale Integrität der Ukraine zu garantieren – das waren Großbritannien, die Vereinigten Staaten von Amerika und Russland. Dass das nicht eingehalten wurde, dass die Krim annektiert wurde, dass es auch russische Beteiligungen in Donezk und Lugansk gibt, ist deshalb etwas, auf das wir reagieren müssen. Wir haben von Anfang an gesagt: Wir reagieren darauf nicht militärisch. Diese Option hat es nie gegeben. Aber wenn wir reagieren wollen, dann sind Sanktionen ein Mittel. Sie sind kein Selbstzweck, aber sie sollen deutlich machen, dass wir mit den Geschehnissen nicht einverstanden sind.\\nMeine Damen und Herren, deshalb danke ich auch der Wirtschaft, die die Sanktionen alles in allem mitträgt. Ich hoffe, dass das, was unsere Erfahrung vor 25 Jahren war – dass nach Jahrzehnten der Kalte Krieg zu Ende ging, dass man einen langen Atem brauchte, aber dass es gelungen ist, die Diktaturen zu überwinden –, dass diese Erfahrung, dass alles möglich ist, uns auch die Kraft gibt, diesen Konflikt zu überwinden, von dem ich glaube, dass wir ihn überwinden können, wenn wir uns an unsere Prinzipen halten. Dazu brauchen wir – kein Land kann das alleine – ein entschlossenes und geschlossenes Europa.\\nGerade auch bei den G20-Treffen mit den Ländern Indien und China, die jeweils über eine Milliarde Einwohner haben, zeigt es sich, wie wichtig es ist, dass wir mit 500 Millionen Menschen unsere Stimme als Europäer erheben. Da spielt auch die Versicherungswirtschaft eine ganz wichtige Rolle, um Vertrauen in die Zukunft herzustellen. Deshalb finde ich es bemerkenswert, dass Sie sich auch zum Beispiel mit Herrn Huber und mit den Gewerkschaften – also nicht nur aus der Perspektive der Versicherungswirtschaft, sondern auch mit dem Blick anderer auf Ihre Branche – mit diesem Thema auseinandersetzen.\\nIch wünsche Ihnen – gerade auch in einem nicht ganz einfachen Umfeld – Erfolg. Ich wünsche Ihnen, dass Sie interessante Produkte anbieten. Ich biete an, dass wir über die weitere Entwicklung im Gespräch bleiben. Zum Abschluss möchte ich noch sagen: Herzlichen Glückwunsch, Herr Erdland, zu Ihrer Wiederwahl. Diese ist ist auch ein Stück Kontinuität. Lassen Sie uns konstruktiv, manchmal auch strittig, aber im Sinne des Ganzen zusammenarbeiten. Herzlichen Dank dafür, dass ich heute hier dabei sein durfte.                                                                                                                                                                                                                                                                                                                                                                                                                                                                                                                                                                                                                                                                                                                                                                                                                                                                                                                                                                                                                                                                                                                                                                                                                                                                                                                                                                                                                                                                                                                                                                                                                                                                                                                                                                                                                                                                                                                                                                                                                                                                                                                                                                                                                                                                                                                                                                                                                                                                                                                                                                                                                                                                                                                                                                                                                                                                                                                                                                                                                                                                                                                                                                                                                                                                                                                                                                                                                                                                                                                                                                                                                                                                                                                                                                                                                                                                                                                                                                                                                                                                                                                                                                                                                                                                                                                                                                                                                                                                                                                                                                                                                                                                                                                                                                                                                                                                                                                                                                                                                                                                                                                                                                                                                                                                                                                                                                                                                                                                                                                                                                                                                                                                                                                                                                                                                                                                                                                                                                                                                                                                                                                                                                                                                                                                                                                                                                                                                                                                                                                                                                                                                                                                                                                                                                                                                                                                                                                                                                                                                                                                                                                                                                                                                                                                                                                                                                                                                                                                                                                                                                                                                                                                                                                                                                                                                                                                                                                                                                                                                                                                                                                                                                                                                                                                                                                                                                                                                                                                                                                                                                                                                                                                                                                                                                                                                                                                                                                                                                                                                                                                                                                                                                                                                                                                                                                                                                                                                                                                                                                                                                                                                                                                                                                                                                                                                                                                                                                                                                                                                                                                                                                                                                                                                                                                                                                                                                                                                                                                                                                                                                                                                                                                                                                                                                                                                                                                                                                                                                                                                                                                                                                                                                                                                                                                                                                                                                                                                                                                                                                                                                                                                                                                                                                                                                                                                                                                                                                                                                                                                                                                                                                                                                                                                                                                                                                                                                                                                                                                                                                                                                                                                                                                                                                                                                                                                                                                                                                                                                                                                                                                                                                                                                                                                                                                                                                                                                                                                                                                                                                                                                                                                                                                                                                                                                                                                                                                                                                                                                                                                                                                                                                                                                                                                                                                                                                                                                                                                                                                                                                                                                                                                                                                                                                                                                                                                                                                                                                                                                                                                                                                                                                                                                                                                                                                                                                                                                                                                                                                                                                                                                                                                                                                                                                                                                                                                                                                                                                                                                                                                                                                                                                                                                                                                                                                                                                                                                                                                                                                                                                                                                                                                                                                                                                                                                                                                                                                                                                                                                                                                                                                                                                                                                                                                                                                                                                                                                                                                                                                                                                                                                                                                                                                                                                                                                                                                                                                                                                                                                                                                                                                                                                                                                                                                                                                                                                                                                                                                                                                                                                                                                                                                                                                                                                                                                                                                                                                                                                                                                                                                                                                                                                                                                                                                                                                                                                                                                                                                                                                                                                                                                                                                                                                                                                                                                                                                                                                                                                                                                                                                                                                                                                                                                                                                                                                                                                                                                                                                                                                                                                                                                                                                                                                                                                                                                                                                                                                                                                                                                                                                                                                                                                                                                                                                                                                                                                                                                                                                                                                                                                                                                                                                                                                                                                                                                                                                                                                                                                                                                                                                                                                                                                                                                                                                                                                                                                                                                                                                                                                                                                                                                                                                                                                                                                                                                                                                                                                                                                                                                                                                                                                                                                                                                                                                                                                                                                                                                                                                                                                                                                                                                                                                                                                                                                                                                                                                                                                                                                                                                                                                                                                                                                                                                                                                                                                                                                                                                                                                                                                                                                                                                                                                                                                                                                                                                                            "
      ]
     },
     "metadata": {},
     "output_type": "display_data"
    }
   ],
   "source": [
    "with pd.option_context('display.max_colwidth', -1):\n",
    "    display(df_uk_ru_2.loc[:, ['date', 'text']].head(3))"
   ]
  },
  {
   "cell_type": "markdown",
   "metadata": {},
   "source": [
    "### Aufgabe Abfrage\n",
    "\n",
    "* Ukraine und Russland\n",
    "* Gerhard Schröder \n",
    "* vor 2005"
   ]
  },
  {
   "cell_type": "code",
   "execution_count": 170,
   "metadata": {},
   "outputs": [
    {
     "name": "stdout",
     "output_type": "stream",
     "text": [
      "(8, 10)\n"
     ]
    }
   ],
   "source": [
    "mask = (df.loc[:, 'text'].str.contains('Ukraine')) \\\n",
    "      & (df.loc[:, 'text'].str.contains('Russland')) \\\n",
    "      & (df.loc[:, 'person'] == 'Gerhard Schröder') \\\n",
    "      & (df.loc[:, 'date'].dt.year <= 2005)        \n",
    "df_uk_ru_3 = df.loc[mask,:]\n",
    "print(df_uk_ru_3.shape)"
   ]
  }
 ],
 "metadata": {
  "interpreter": {
   "hash": "88af0ede569fe5c04062aeb490d0f03883bc9347bee31fbe08a2787a335dbcd5"
  },
  "kernelspec": {
   "display_name": "Python 3.8.12 ('base')",
   "language": "python",
   "name": "python3"
  },
  "language_info": {
   "codemirror_mode": {
    "name": "ipython",
    "version": 3
   },
   "file_extension": ".py",
   "mimetype": "text/x-python",
   "name": "python",
   "nbconvert_exporter": "python",
   "pygments_lexer": "ipython3",
   "version": "3.8.12"
  },
  "orig_nbformat": 4
 },
 "nbformat": 4,
 "nbformat_minor": 2
}
